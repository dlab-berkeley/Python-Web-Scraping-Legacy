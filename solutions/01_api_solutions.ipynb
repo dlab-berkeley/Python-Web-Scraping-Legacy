{
 "cells": [
  {
   "cell_type": "markdown",
   "id": "6caa532f-d502-4576-9ee6-5ad88ca0c550",
   "metadata": {},
   "source": [
    "# Accessing Data via Web APIs: Solutions"
   ]
  },
  {
   "cell_type": "code",
   "execution_count": null,
   "id": "b0379359-694d-491c-ba18-fa80ea3c65bc",
   "metadata": {},
   "outputs": [],
   "source": [
    "# Import required libraries\n",
    "import matplotlib.pyplot as plt\n",
    "import numpy as np\n",
    "import pandas as pd\n",
    "from datetime import datetime\n",
    "from pynytimes import NYTAPI"
   ]
  },
  {
   "cell_type": "code",
   "execution_count": null,
   "id": "5fbdc8b6-a91d-4f07-a98c-2ba3e8b01726",
   "metadata": {},
   "outputs": [],
   "source": [
    "# Put your API key here\n",
    "api_key = \"\""
   ]
  },
  {
   "cell_type": "code",
   "execution_count": null,
   "id": "087578c4",
   "metadata": {},
   "outputs": [],
   "source": [
    "# Or, read your key locally\n",
    "path_to_key = \"\"\n",
    "with open(path_to_key, \"r\") as f:\n",
    "    api_key = f.read()"
   ]
  },
  {
   "cell_type": "code",
   "execution_count": null,
   "id": "28113bf5-ef1c-4f29-9256-bc237804bdd4",
   "metadata": {},
   "outputs": [],
   "source": [
    "nyt = NYTAPI(api_key, parse_dates=True)"
   ]
  },
  {
   "cell_type": "markdown",
   "id": "cc28bc7d-d3dd-48ff-99d8-20b9db7046b0",
   "metadata": {},
   "source": [
    "### Challenge 1: Find the top stories for a section\n",
    "\n",
    "- Choose 2 sections. Grab their top stories and store them in two separate lists.\n",
    "- How many stories are each in section?\n",
    "- What is the title of the first story in each list?"
   ]
  },
  {
   "cell_type": "code",
   "execution_count": null,
   "id": "12c920bc-bf8c-48a4-a34e-d10e4a23476d",
   "metadata": {},
   "outputs": [],
   "source": [
    "# Sports\n",
    "section = \"sports\"\n",
    "top_sports_stories = nyt.top_stories(section=section)\n",
    "print(f\"There are {len(top_sports_stories)} {section} stories.\")"
   ]
  },
  {
   "cell_type": "code",
   "execution_count": null,
   "id": "69aa8254-618d-41a9-88ee-f3a2fde7ef8e",
   "metadata": {},
   "outputs": [],
   "source": [
    "# Grab first story\n",
    "top_sport_story = top_sports_stories[0]\n",
    "top_sport_story_title = top_sport_story[\"title\"]\n",
    "top_sport_story_title"
   ]
  },
  {
   "cell_type": "code",
   "execution_count": null,
   "id": "8c7eae7e-a977-4345-b73c-bf323c0220ba",
   "metadata": {},
   "outputs": [],
   "source": [
    "# Technology\n",
    "section = \"technology\"\n",
    "top_tech_stories = nyt.top_stories(section=section)\n",
    "print(f\"There are {len(top_tech_stories)} {section} stories\")"
   ]
  },
  {
   "cell_type": "code",
   "execution_count": null,
   "id": "0f3526fd-cef3-45a0-a536-36e407eff1f6",
   "metadata": {},
   "outputs": [],
   "source": [
    "# Grab first story\n",
    "top_tech_story = top_tech_stories[0]\n",
    "top_tech_story_title = top_tech_story[\"title\"]\n",
    "top_tech_story_title"
   ]
  },
  {
   "cell_type": "markdown",
   "id": "1784d2ab-b5f0-4fb0-8507-8cee3e52e71b",
   "metadata": {},
   "source": [
    "### Challenge 2: Most Shared Stories\n",
    "\n",
    "The `most_shared` method is similiar to `most_viewed` except that it has an argument called `method` which is used to show the most shared articles using `'email'` or `'facebook'`.\n",
    "\n",
    "- Grab the most shared articles for both methods for the past month.\n",
    "- How many articles show up in both lists? (Hint: use the `uri` key)\n",
    "- Bonus: Use the [Shared Article](https://developer.nytimes.com/docs/most-popular-product/1/types/SharedArticle) schema table to help you answer a question you may have about the data."
   ]
  },
  {
   "cell_type": "markdown",
   "id": "224416c5-1397-458a-a3e9-30a5dcc29f94",
   "metadata": {},
   "source": [
    "| Attribute      | Data Type | Definition      |\n",
    "| ----------- | ----------- | ----------- |\n",
    "| url      | string       | Article's URL.       |\n",
    "| adx_keywords   | string        | Semicolon separated list of keywords.        |\n",
    "| subsection   | string        | Article's subsection (e.g. Politics). Can be empty |\n",
    "| column   | string        | Deprecated. Set to null.        |\n",
    "| eta_id   | integer        | Deprecated. Set to 0.|\n",
    "| section   | string        | Article's section (e.g. Sports).        |\n",
    "| id   | integer        | Asset ID number (e.g. 100000007772696).        |\n",
    "| asset_id   | integer        | Asset ID number (e.g. 100000007772696).        |\n",
    "| nytdsection   | string        | Article's section|\n",
    "| byline   | string        | Article's byline (e.g. By Thomas L. Friedman).        |\n",
    "| type   | string        | Asset type (e.g. Article, Interactive, ...).        |\n",
    "| title   | string        | Article's headline (e.g. When the Cellos Play, the Cows Come Home).        |\n",
    "| abstract   | string        | Brief summary of the article.|\n",
    "| published_date   | string        | When the article was published on the web (e.g. 2021-04-19).        |\n",
    "| source   | string        | Publisher (e.g. New York Times).        |\n",
    "| updated   | string        | When the article was last updated (e.g. 2021-05-12 06:32:03).|\n",
    "| des_facet   | array        | Array of description facets (e.g. Quarantine (Life and Culture)).        |\n",
    "| org_facet   | array        | Array of organization facets (e.g. Sullivan Street Bakery).        |\n",
    "| per_facet   | array        | Array of person facets (e.g. Bittman, Mark).        |\n",
    "| geo_facet   | array        | Array of geographic facets (e.g. Canada).        |\n",
    "| media   | array        | Array of images.        |\n",
    "| media.type   | string        | Asset type (e.g. image).        |\n",
    "| media.subtype   | string        | Asset subtype (e.g. photo).        |\n",
    "| media.caption   | string        | Media caption        |\n",
    "| media.copyright   | string        | Media credit        |\n",
    "| media.approved_for_syndication   | boolean        | Whether media is approved for syndication.        |\n",
    "| media.media-metadata   | array        | Media metadata (url, width, height, ...).        |\n",
    "| media.media-metadata.url   | string        | Image's URL.        |\n",
    "| media.media-metadata.format   | string        | Image's crop name     |\n",
    "| media.media-metadata.height   | integer        | Image's height |\n",
    "| media.media-metadata.width   | integer        | Image's width      |\n",
    "| uri   | string        | An article's globally unique identifier.      |"
   ]
  },
  {
   "cell_type": "code",
   "execution_count": null,
   "id": "41af0f16-f672-4fd7-94cb-2664cb59a2dc",
   "metadata": {},
   "outputs": [],
   "source": [
    "# Get most shared stories\n",
    "email = nyt.most_shared(days=30, method = 'email')\n",
    "facebook = nyt.most_shared(days=30, method = 'facebook')"
   ]
  },
  {
   "cell_type": "code",
   "execution_count": null,
   "id": "7627f62a-fc7a-4860-a31f-c057bf856dca",
   "metadata": {},
   "outputs": [],
   "source": [
    "# Get unique identifier for each story\n",
    "email_ids = [story[\"uri\"] for story in email]\n",
    "facebook_ids = [story[\"uri\"] for story in facebook]"
   ]
  },
  {
   "cell_type": "code",
   "execution_count": null,
   "id": "70ab3c75-b281-49a4-88b3-df97d9c10d41",
   "metadata": {},
   "outputs": [],
   "source": [
    "# Calculate the intersection of unique IDs\n",
    "len(set(email_ids).intersection(set(facebook_ids)))"
   ]
  },
  {
   "cell_type": "markdown",
   "id": "c33ad4d2-d283-466b-a395-b56fd9817a3a",
   "metadata": {},
   "source": [
    "### Challenge 3: Article Searching\n",
    "\n",
    "- Retrieve a set of articles for a query of your choice.\n",
    "- Use a relevant time interval in constructing your `dates` dictionary\n",
    "- Use `type_of_material` and `section_name` as keys in your `options` dictionary.\n",
    "    - For `type_of_material` values refer to this [list](https://github.com/michadenheijer/pynytimes/blob/main/VALID_SEARCH_OPTIONS.md#type-of-material-values).\n",
    "    - For `section_name` values refer to this [list](https://github.com/michadenheijer/pynytimes/blob/main/VALID_SEARCH_OPTIONS.md#section-name-values)."
   ]
  },
  {
   "cell_type": "code",
   "execution_count": null,
   "id": "5dce99e3-4cf1-475e-a7a2-7f545f06d6e3",
   "metadata": {},
   "outputs": [],
   "source": [
    "# Example: query about COVID in the first 6 months of the pandemic\n",
    "query = \"COVID-19\"\n",
    "begin = datetime(2020, 2, 15)\n",
    "end = datetime(2020, 8, 15)\n",
    "date_dict = {\"begin\": begin, \"end\": end}\n",
    "\n",
    "options_dict = {\n",
    "    \"sort\": \"oldest\",\n",
    "    \"sources\": [\"New York Times\", \"AP\"],\n",
    "    \"type_of_material\": [\n",
    "        \"News Analysis\",\n",
    "        \"News\",\n",
    "        \"Article\",\n",
    "        \"Column\",\n",
    "        \"Editorial\",\n",
    "        \"Front Page\"\n",
    "    ]\n",
    "}\n",
    "\n",
    "articles = nyt.article_search(\n",
    "    query=query,\n",
    "    results=100,\n",
    "    dates=date_dict,\n",
    "    options=options_dict)"
   ]
  },
  {
   "cell_type": "code",
   "execution_count": null,
   "id": "0fad4c2a-2187-43f9-b820-0d3f9356de14",
   "metadata": {},
   "outputs": [],
   "source": [
    "print(f\"{len(articles)} articles about {query}.\")\n",
    "# Print first article title\n",
    "print(articles[0]['headline']['main'])"
   ]
  },
  {
   "cell_type": "markdown",
   "id": "65a407db-1bbf-4ae4-ad07-7a10bdaf2ae9",
   "metadata": {},
   "source": [
    "### Challenge 4. Additional Data Analysis\n",
    "\n",
    "- What are the 3 most positive and negative texts?\n",
    "- Using the VADER thresholds for positive, neutral, and negative, how many articles qualify for each of those labels?"
   ]
  },
  {
   "cell_type": "code",
   "execution_count": null,
   "id": "4a79529a-3211-4dd9-bcd5-60fb76ca1766",
   "metadata": {},
   "outputs": [],
   "source": [
    "from pyprojroot import here\n",
    "from vaderSentiment.vaderSentiment import SentimentIntensityAnalyzer\n",
    "df = pd.read_pickle(here(\"data/election2020_articles.pkl\"))\n",
    "# Initialize analyzer object\n",
    "analyzer = SentimentIntensityAnalyzer()\n",
    "# Calculate the polarity scores of the lead paragraph and save it in df\n",
    "df[\"sentiment\"] = df.lead_paragraph.apply(analyzer.polarity_scores)\n",
    "df[\"sentiment\"] = df[\"sentiment\"].apply(lambda x: x[\"compound\"])"
   ]
  },
  {
   "cell_type": "code",
   "execution_count": null,
   "id": "f667a3f5-64e0-490c-bd0f-ed291f977e12",
   "metadata": {},
   "outputs": [],
   "source": [
    "# Most positive texts\n",
    "df.sort_values(\"sentiment\", ascending = False)[\"headline.main\"].iloc[:3].tolist()"
   ]
  },
  {
   "cell_type": "code",
   "execution_count": null,
   "id": "9a90a0d3-e481-44b3-ac08-cf5af46db142",
   "metadata": {},
   "outputs": [],
   "source": [
    "# Most negative texts\n",
    "df.sort_values(\"sentiment\", ascending = True)[\"headline.main\"].iloc[:3].tolist()"
   ]
  },
  {
   "cell_type": "code",
   "execution_count": null,
   "id": "6ffec001-f59b-4f95-a7fc-acd9eb012e24",
   "metadata": {},
   "outputs": [],
   "source": [
    "# Proportion of positive, negative, and neutral texts\n",
    "def bin_func(x):\n",
    "    if x > 0.05:\n",
    "        return \"positive\"\n",
    "    elif x < -.05:\n",
    "        return \"negative\"\n",
    "    else:\n",
    "        return \"neutral\"\n",
    "# Calculate counts\n",
    "df.sentiment.apply(bin_func).value_counts()"
   ]
  }
 ],
 "metadata": {
  "kernelspec": {
   "display_name": "Python 3 (ipykernel)",
   "language": "python",
   "name": "python3"
  },
  "language_info": {
   "codemirror_mode": {
    "name": "ipython",
    "version": 3
   },
   "file_extension": ".py",
   "mimetype": "text/x-python",
   "name": "python",
   "nbconvert_exporter": "python",
   "pygments_lexer": "ipython3",
   "version": "3.8.12"
  }
 },
 "nbformat": 4,
 "nbformat_minor": 5
}
