{
 "cells": [
  {
   "cell_type": "markdown",
   "metadata": {},
   "source": [
    "# Webscraping with Beautiful Soup\n",
    "*****\n",
    "\n",
    "\n",
    "## Intro\n",
    "\n",
    "In this tutorial, we'll be scraping information on the state senators of Illinois, available [here](http://www.ilga.gov/senate), as well as the list of bills each senator has sponsored (e.g., [here](http://www.ilga.gov/senate/SenatorBills.asp?MemberID=1911&GA=98&Primary=True)."
   ]
  },
  {
   "cell_type": "markdown",
   "metadata": {},
   "source": [
    "## The Tools\n",
    "\n",
    "1. [Requests](http://docs.python-requests.org/en/latest/user/quickstart/)\n",
    "2. [Beautiful Soup](http://www.crummy.com/software/BeautifulSoup/bs4/doc/)"
   ]
  },
  {
   "cell_type": "code",
   "execution_count": 1,
   "metadata": {},
   "outputs": [],
   "source": [
    "# import required modules\n",
    "import requests\n",
    "from bs4 import BeautifulSoup\n",
    "from datetime import datetime\n",
    "import time\n",
    "import re\n",
    "import sys"
   ]
  },
  {
   "cell_type": "markdown",
   "metadata": {},
   "source": [
    "# Part 1: Using Beautiful Soup\n",
    "*****"
   ]
  },
  {
   "cell_type": "markdown",
   "metadata": {},
   "source": [
    "## 1.1 Make a Get Request and Read in HTML\n",
    "\n",
    "We use `requests` library to:\n",
    "1. make a GET request to the page\n",
    "2. read in the html of the page"
   ]
  },
  {
   "cell_type": "code",
   "execution_count": 2,
   "metadata": {},
   "outputs": [],
   "source": [
    "# make a GET request\n",
    "req = requests.get('http://www.ilga.gov/senate/default.asp')\n",
    "# read the content of the server’s response\n",
    "src = req.text"
   ]
  },
  {
   "cell_type": "markdown",
   "metadata": {},
   "source": [
    "## 1.2 Soup it\n",
    "\n",
    "Now we use the `BeautifulSoup` function to parse the reponse into an HTML tree. This returns an object (called a **soup object**) which contains all of the HTML in the original document."
   ]
  },
  {
   "cell_type": "code",
   "execution_count": 3,
   "metadata": {},
   "outputs": [
    {
     "name": "stdout",
     "output_type": "stream",
     "text": [
      "<html lang=\"en\">\n",
      " <!-- Trigger/Open The Modal -->\n",
      " <body>\n",
      "  <div style=\"position: fixed; z-index: 999; top: 5; left: 600; background-color: navy; display: block\">\n",
      "   <button id=\"myBtn\" style=\"color: white; background-color: navy; display: block\">\n",
      "    Translate Website\n",
      "   </button>\n",
      "  </div>\n",
      "  <!-- The Modal -->\n",
      "  <div class=\"modal\" id=\"myModal\" style=\"display: none\">\n",
      "   <!-- Modal content -->\n",
      "   <div class=\"modal-content\">\n",
      "    <div class=\"modal-header\">\n",
      "     <h3>\n",
      "      <span class=\"close\">\n",
      "       ×\n",
      "      </span>\n",
      "     </h3>\n",
      "    </div>\n",
      "    <p>\n",
      "     The Illinois General Assembly offers the Google Translate service for visitor convenience. In no way should it be considered accurate as to the translation of any content herein.\n",
      "    </p>\n",
      "    <p>\n",
      "     Visitors of the Illinois General Assembly website are encouraged to use other translation services available on the internet.\n",
      "    </p>\n",
      "    <p>\n",
      "     The English language version is always the official and authoritative version of this website.\n",
      "   \n"
     ]
    }
   ],
   "source": [
    "# parse the response into an HTML tree\n",
    "soup = BeautifulSoup(src, 'lxml')\n",
    "# take a look\n",
    "print(soup.prettify()[:1000])"
   ]
  },
  {
   "cell_type": "markdown",
   "metadata": {},
   "source": [
    "## 1.3 Find Elements\n",
    "\n",
    "BeautifulSoup has a number of functions to find things on a page. Like other webscraping tools, Beautiful Soup lets you find elements by their:\n",
    "\n",
    "1. HTML tags\n",
    "2. HTML Attributes\n",
    "3. CSS Selectors\n",
    "\n",
    "\n",
    "Let's search first for **HTML tags**. \n",
    "\n",
    "The function `find_all` searches the `soup` tree to find all the elements with an a particular HTML tag, and returns all of those elements.\n",
    "\n",
    "What does the example below do?"
   ]
  },
  {
   "cell_type": "code",
   "execution_count": 4,
   "metadata": {},
   "outputs": [
    {
     "data": {
      "text/plain": [
       "[<a class=\"goog-logo-link\" href=\"https://translate.google.com\" target=\"_blank\"><img alt=\"Google Translate\" height=\"14\" src=\"https://www.gstatic.com/images/branding/googlelogo/1x/googlelogo_color_42x16dp.png\" style=\"padding-right: 3px;\" width=\"37\"/>Translate</a>,\n",
       " <a href=\"/default.asp\"><img alt=\"Illinois General Assembly\" border=\"0\" height=\"49\" src=\"/images/logo_sm.gif\" width=\"462\"/></a>,\n",
       " <a class=\"mainmenu\" href=\"/\">Home</a>,\n",
       " <a class=\"mainmenu\" href=\"/legislation/\" onblur=\"HM_f_PopDown('elMenu1')\" onfocus=\"HM_f_PopUp('elMenu1',event)\" onmouseout=\"HM_f_PopDown('elMenu1')\" onmouseover=\"HM_f_PopUp('elMenu1',event)\">Legislation &amp; Laws</a>,\n",
       " <a class=\"mainmenu\" href=\"/senate/\" onblur=\"HM_f_PopDown('elMenu3')\" onfocus=\"HM_f_PopUp('elMenu3',event)\" onmouseout=\"HM_f_PopDown('elMenu3')\" onmouseover=\"HM_f_PopUp('elMenu3',event)\">Senate</a>,\n",
       " <a class=\"mainmenu\" href=\"/house/\" onblur=\"HM_f_PopDown('elMenu2')\" onfocus=\"HM_f_PopUp('elMenu2',event)\" onmouseout=\"HM_f_PopDown('elMenu2')\" onmouseover=\"HM_f_PopUp('elMenu2',event)\">House</a>,\n",
       " <a class=\"mainmenu\" href=\"/mylegislation/\" onblur=\"HM_f_PopDown('elMenu4')\" onfocus=\"HM_f_PopUp('elMenu4',event)\" onmouseout=\"HM_f_PopDown('elMenu4')\" onmouseover=\"HM_f_PopUp('elMenu4',event)\">My Legislation</a>,\n",
       " <a class=\"mainmenu\" href=\"/sitemap.asp\">Site Map</a>,\n",
       " <a class=\"sidemenu\" href=\"/senate/default.asp\">  Members  </a>,\n",
       " <a class=\"sidemenu\" href=\"/senate/committees/default.asp\">  Committees  </a>,\n",
       " <a class=\"sidemenu\" href=\"/senate/schedules/default.asp\">  Schedules  </a>,\n",
       " <a class=\"sidemenu\" href=\"/senate/journals/default.asp\">  Journals  </a>,\n",
       " <a class=\"sidemenu\" href=\"/senate/transcripts/default.asp\">  Transcripts  </a>,\n",
       " <a class=\"sidemenu\" href=\"/senate/rules.asp\">  Rules  </a>,\n",
       " <a class=\"sidemenu\" href=\"/senateaudvid.asp\">  Live Audio/Video  </a>,\n",
       " <a href=\"102nd_Senate_Leadership.pdf\">Leadership</a>,\n",
       " <a href=\"102nd_Senate_Officers.pdf\">Officers</a>,\n",
       " <a href=\"102nd_Senate_Seating_Chart.pdf\">Senate Seating Chart</a>,\n",
       " <a class=\"filetab\" href=\"javascript:Sort('LastName','',102);\" title=\"Sort by Senator\">Senator</a>,\n",
       " <a class=\"filetab\" href=\"javascript:Sort('DistrictNumber','',102);\" title=\"Sort by District\">District</a>,\n",
       " <a class=\"filetab\" href=\"javascript:Sort('Party','',102);\" title=\"Sort by Party\">Party</a>,\n",
       " <a class=\"notranslate\" href=\"/senate/Senator.asp?GA=102&amp;MemberID=2886\">Neil Anderson</a>,\n",
       " <a href=\"SenatorBills.asp?MemberID=2886\">Bills</a>,\n",
       " <a href=\"SenCommittees.asp?MemberID=2886\">Committees</a>,\n",
       " <a class=\"notranslate\" href=\"/senate/Senator.asp?GA=102&amp;MemberID=2894\">Omar Aquino</a>,\n",
       " <a href=\"SenatorBills.asp?MemberID=2894\">Bills</a>,\n",
       " <a href=\"SenCommittees.asp?MemberID=2894\">Committees</a>,\n",
       " <a class=\"notranslate\" href=\"/senate/Senator.asp?GA=102&amp;MemberID=2989\">Darren Bailey</a>,\n",
       " <a href=\"SenatorBills.asp?MemberID=2989\">Bills</a>,\n",
       " <a href=\"SenCommittees.asp?MemberID=2989\">Committees</a>,\n",
       " <a class=\"notranslate\" href=\"/senate/Senator.asp?GA=102&amp;MemberID=2846\">Jason A. Barickman</a>,\n",
       " <a href=\"SenatorBills.asp?MemberID=2846\">Bills</a>,\n",
       " <a href=\"SenCommittees.asp?MemberID=2846\">Committees</a>,\n",
       " <a class=\"notranslate\" href=\"/senate/Senator.asp?GA=102&amp;MemberID=2927\">Christopher Belt</a>,\n",
       " <a href=\"SenatorBills.asp?MemberID=2927\">Bills</a>,\n",
       " <a href=\"SenCommittees.asp?MemberID=2927\">Committees</a>,\n",
       " <a class=\"notranslate\" href=\"/senate/Senator.asp?GA=102&amp;MemberID=2887\">Scott M. Bennett</a>,\n",
       " <a href=\"SenatorBills.asp?MemberID=2887\">Bills</a>,\n",
       " <a href=\"SenCommittees.asp?MemberID=2887\">Committees</a>,\n",
       " <a class=\"notranslate\" href=\"/senate/Senator.asp?GA=102&amp;MemberID=2990\">Terri Bryant</a>,\n",
       " <a href=\"SenatorBills.asp?MemberID=2990\">Bills</a>,\n",
       " <a href=\"SenCommittees.asp?MemberID=2990\">Committees</a>,\n",
       " <a class=\"notranslate\" href=\"/senate/Senator.asp?GA=102&amp;MemberID=2848\">Melinda Bush</a>,\n",
       " <a href=\"SenatorBills.asp?MemberID=2848\">Bills</a>,\n",
       " <a href=\"SenCommittees.asp?MemberID=2848\">Committees</a>,\n",
       " <a class=\"notranslate\" href=\"/senate/Senator.asp?GA=102&amp;MemberID=2896\">Cristina Castro</a>,\n",
       " <a href=\"SenatorBills.asp?MemberID=2896\">Bills</a>,\n",
       " <a href=\"SenCommittees.asp?MemberID=2896\">Committees</a>,\n",
       " <a class=\"notranslate\" href=\"/senate/Senator.asp?GA=102&amp;MemberID=2804\">Jacqueline Y. Collins</a>,\n",
       " <a href=\"SenatorBills.asp?MemberID=2804\">Bills</a>,\n",
       " <a href=\"SenCommittees.asp?MemberID=2804\">Committees</a>,\n",
       " <a class=\"notranslate\" href=\"/senate/Senator.asp?GA=102&amp;MemberID=2988\">John Connor</a>,\n",
       " <a href=\"SenatorBills.asp?MemberID=2988\">Bills</a>,\n",
       " <a href=\"SenCommittees.asp?MemberID=2988\">Committees</a>,\n",
       " <a class=\"notranslate\" href=\"/senate/Senator.asp?GA=102&amp;MemberID=2928\">Rachelle Crowe</a>,\n",
       " <a href=\"SenatorBills.asp?MemberID=2928\">Bills</a>,\n",
       " <a href=\"SenCommittees.asp?MemberID=2928\">Committees</a>,\n",
       " <a class=\"notranslate\" href=\"/senate/Senator.asp?GA=102&amp;MemberID=2849\">Thomas Cullerton</a>,\n",
       " <a href=\"SenatorBills.asp?MemberID=2849\">Bills</a>,\n",
       " <a href=\"SenCommittees.asp?MemberID=2849\">Committees</a>,\n",
       " <a class=\"notranslate\" href=\"/senate/Senator.asp?GA=102&amp;MemberID=2850\">Bill Cunningham</a>,\n",
       " <a href=\"SenatorBills.asp?MemberID=2850\">Bills</a>,\n",
       " <a href=\"SenCommittees.asp?MemberID=2850\">Committees</a>,\n",
       " <a class=\"notranslate\" href=\"/senate/Senator.asp?GA=102&amp;MemberID=2915\">John F. Curran</a>,\n",
       " <a href=\"SenatorBills.asp?MemberID=2915\">Bills</a>,\n",
       " <a href=\"SenCommittees.asp?MemberID=2915\">Committees</a>,\n",
       " <a class=\"notranslate\" href=\"/senate/Senator.asp?GA=102&amp;MemberID=2923\">Donald P. DeWitte</a>,\n",
       " <a href=\"SenatorBills.asp?MemberID=2923\">Bills</a>,\n",
       " <a href=\"SenCommittees.asp?MemberID=2923\">Committees</a>,\n",
       " <a class=\"notranslate\" href=\"/senate/Senator.asp?GA=102&amp;MemberID=2930\">Laura Ellman</a>,\n",
       " <a href=\"SenatorBills.asp?MemberID=2930\">Bills</a>,\n",
       " <a href=\"SenCommittees.asp?MemberID=2930\">Committees</a>,\n",
       " <a class=\"notranslate\" href=\"/senate/Senator.asp?GA=102&amp;MemberID=2977\">Sara Feigenholtz</a>,\n",
       " <a href=\"SenatorBills.asp?MemberID=2977\">Bills</a>,\n",
       " <a href=\"SenCommittees.asp?MemberID=2977\">Committees</a>,\n",
       " <a class=\"notranslate\" href=\"/senate/Senator.asp?GA=102&amp;MemberID=2929\">Laura Fine</a>,\n",
       " <a href=\"SenatorBills.asp?MemberID=2929\">Bills</a>,\n",
       " <a href=\"SenCommittees.asp?MemberID=2929\">Committees</a>,\n",
       " <a class=\"notranslate\" href=\"/senate/Senator.asp?GA=102&amp;MemberID=2897\">Dale Fowler</a>,\n",
       " <a href=\"SenatorBills.asp?MemberID=2897\">Bills</a>,\n",
       " <a href=\"SenCommittees.asp?MemberID=2897\">Committees</a>,\n",
       " <a class=\"notranslate\" href=\"/senate/Senator.asp?GA=102&amp;MemberID=2931\">Ann Gillespie</a>,\n",
       " <a href=\"SenatorBills.asp?MemberID=2931\">Bills</a>,\n",
       " <a href=\"SenCommittees.asp?MemberID=2931\">Committees</a>,\n",
       " <a class=\"notranslate\" href=\"/senate/Senator.asp?GA=102&amp;MemberID=2932\">Suzy Glowiak Hilton</a>,\n",
       " <a href=\"SenatorBills.asp?MemberID=2932\">Bills</a>,\n",
       " <a href=\"SenCommittees.asp?MemberID=2932\">Committees</a>,\n",
       " <a class=\"notranslate\" href=\"/senate/Senator.asp?GA=102&amp;MemberID=2806\">Don Harmon</a>,\n",
       " <a href=\"SenatorBills.asp?MemberID=2806\">Bills</a>,\n",
       " <a href=\"SenCommittees.asp?MemberID=2806\">Committees</a>,\n",
       " <a class=\"notranslate\" href=\"/senate/Senator.asp?GA=102&amp;MemberID=2851\">Napoleon Harris, III</a>,\n",
       " <a href=\"SenatorBills.asp?MemberID=2851\">Bills</a>,\n",
       " <a href=\"SenCommittees.asp?MemberID=2851\">Committees</a>,\n",
       " <a class=\"notranslate\" href=\"/senate/Senator.asp?GA=102&amp;MemberID=2852\">Michael E. Hastings</a>,\n",
       " <a href=\"SenatorBills.asp?MemberID=2852\">Bills</a>,\n",
       " <a href=\"SenCommittees.asp?MemberID=2852\">Committees</a>,\n",
       " <a class=\"notranslate\" href=\"/senate/Senator.asp?GA=102&amp;MemberID=2813\">Linda Holmes</a>,\n",
       " <a href=\"SenatorBills.asp?MemberID=2813\">Bills</a>,\n",
       " <a href=\"SenCommittees.asp?MemberID=2813\">Committees</a>,\n",
       " <a class=\"notranslate\" href=\"/senate/Senator.asp?GA=102&amp;MemberID=2808\">Mattie Hunter</a>,\n",
       " <a href=\"SenatorBills.asp?MemberID=2808\">Bills</a>,\n",
       " <a href=\"SenCommittees.asp?MemberID=2808\">Committees</a>,\n",
       " <a class=\"notranslate\" href=\"/senate/Senator.asp?GA=102&amp;MemberID=2980\">Adriane Johnson</a>,\n",
       " <a href=\"SenatorBills.asp?MemberID=2980\">Bills</a>,\n",
       " <a href=\"SenCommittees.asp?MemberID=2980\">Committees</a>,\n",
       " <a class=\"notranslate\" href=\"/senate/Senator.asp?GA=102&amp;MemberID=2823\">Emil Jones, III</a>,\n",
       " <a href=\"SenatorBills.asp?MemberID=2823\">Bills</a>,\n",
       " <a href=\"SenCommittees.asp?MemberID=2823\">Committees</a>,\n",
       " <a class=\"notranslate\" href=\"/senate/Senator.asp?GA=102&amp;MemberID=2973\">Patrick J. Joyce</a>,\n",
       " <a href=\"SenatorBills.asp?MemberID=2973\">Bills</a>,\n",
       " <a href=\"SenCommittees.asp?MemberID=2973\">Committees</a>,\n",
       " <a class=\"notranslate\" href=\"/senate/Senator.asp?GA=102&amp;MemberID=2814\">David Koehler</a>,\n",
       " <a href=\"SenatorBills.asp?MemberID=2814\">Bills</a>,\n",
       " <a href=\"SenCommittees.asp?MemberID=2814\">Committees</a>,\n",
       " <a class=\"notranslate\" href=\"/senate/Senator.asp?GA=102&amp;MemberID=2839\">Steven M. Landek</a>,\n",
       " <a href=\"SenatorBills.asp?MemberID=2839\">Bills</a>,\n",
       " <a href=\"SenCommittees.asp?MemberID=2839\">Committees</a>,\n",
       " <a class=\"notranslate\" href=\"/senate/Senator.asp?GA=102&amp;MemberID=2795\">Kimberly A. Lightford</a>,\n",
       " <a href=\"SenatorBills.asp?MemberID=2795\">Bills</a>,\n",
       " <a href=\"SenCommittees.asp?MemberID=2795\">Committees</a>,\n",
       " <a class=\"notranslate\" href=\"/senate/Senator.asp?GA=102&amp;MemberID=2982\">Meg Loughran Cappel</a>,\n",
       " <a href=\"SenatorBills.asp?MemberID=2982\">Bills</a>,\n",
       " <a href=\"SenCommittees.asp?MemberID=2982\">Committees</a>,\n",
       " <a class=\"notranslate\" href=\"/senate/Senator.asp?GA=102&amp;MemberID=2970\">Robert F. Martwick</a>,\n",
       " <a href=\"SenatorBills.asp?MemberID=2970\">Bills</a>,\n",
       " <a href=\"SenCommittees.asp?MemberID=2970\">Committees</a>,\n",
       " <a class=\"notranslate\" href=\"/senate/Senator.asp?GA=102&amp;MemberID=2933\">Steve McClure</a>,\n",
       " <a href=\"SenatorBills.asp?MemberID=2933\">Bills</a>,\n",
       " <a href=\"SenCommittees.asp?MemberID=2933\">Committees</a>,\n",
       " <a class=\"notranslate\" href=\"/senate/Senator.asp?GA=102&amp;MemberID=2893\">Dan McConchie</a>,\n",
       " <a href=\"SenatorBills.asp?MemberID=2893\">Bills</a>,\n",
       " <a href=\"SenCommittees.asp?MemberID=2893\">Committees</a>,\n",
       " <a class=\"notranslate\" href=\"/senate/Senator.asp?GA=102&amp;MemberID=2854\">Julie A. Morrison</a>,\n",
       " <a href=\"SenatorBills.asp?MemberID=2854\">Bills</a>,\n",
       " <a href=\"SenCommittees.asp?MemberID=2854\">Committees</a>,\n",
       " <a class=\"notranslate\" href=\"/senate/Senator.asp?GA=102&amp;MemberID=2797\">Antonio Muñoz</a>,\n",
       " <a href=\"SenatorBills.asp?MemberID=2797\">Bills</a>,\n",
       " <a href=\"SenCommittees.asp?MemberID=2797\">Committees</a>,\n",
       " <a class=\"notranslate\" href=\"/senate/Senator.asp?GA=102&amp;MemberID=2890\">Laura M. Murphy</a>,\n",
       " <a href=\"SenatorBills.asp?MemberID=2890\">Bills</a>,\n",
       " <a href=\"SenCommittees.asp?MemberID=2890\">Committees</a>,\n",
       " <a class=\"notranslate\" href=\"/senate/Senator.asp?GA=102&amp;MemberID=2983\">Cristina H. Pacione-Zayas</a>,\n",
       " <a href=\"SenatorBills.asp?MemberID=2983\">Bills</a>,\n",
       " <a href=\"SenCommittees.asp?MemberID=2983\">Committees</a>,\n",
       " <a class=\"notranslate\" href=\"/senate/Senator.asp?GA=102&amp;MemberID=2934\">Robert Peters</a>,\n",
       " <a href=\"SenatorBills.asp?MemberID=2934\">Bills</a>,\n",
       " <a href=\"SenCommittees.asp?MemberID=2934\">Committees</a>,\n",
       " <a class=\"notranslate\" href=\"/senate/Senator.asp?GA=102&amp;MemberID=2935\">Jason Plummer</a>,\n",
       " <a href=\"SenatorBills.asp?MemberID=2935\">Bills</a>,\n",
       " <a href=\"SenCommittees.asp?MemberID=2935\">Committees</a>,\n",
       " <a class=\"notranslate\" href=\"/senate/Senator.asp?GA=102&amp;MemberID=2830\">Sue Rezin</a>,\n",
       " <a href=\"SenatorBills.asp?MemberID=2830\">Bills</a>,\n",
       " <a href=\"SenCommittees.asp?MemberID=2830\">Committees</a>,\n",
       " <a class=\"notranslate\" href=\"/senate/Senator.asp?GA=102&amp;MemberID=2856\">Chapin Rose</a>,\n",
       " <a href=\"SenatorBills.asp?MemberID=2856\">Bills</a>,\n",
       " <a href=\"SenCommittees.asp?MemberID=2856\">Committees</a>,\n",
       " <a class=\"notranslate\" href=\"/senate/Senator.asp?GA=102&amp;MemberID=3008\">Mike Simmons</a>,\n",
       " <a href=\"SenatorBills.asp?MemberID=3008\">Bills</a>,\n",
       " <a href=\"SenCommittees.asp?MemberID=3008\">Committees</a>,\n",
       " <a class=\"notranslate\" href=\"/senate/Senator.asp?GA=102&amp;MemberID=2918\">Elgie R. Sims, Jr.</a>,\n",
       " <a href=\"SenatorBills.asp?MemberID=2918\">Bills</a>,\n",
       " <a href=\"SenCommittees.asp?MemberID=2918\">Committees</a>,\n",
       " <a class=\"notranslate\" href=\"/senate/Senator.asp?GA=102&amp;MemberID=2857\">Steve Stadelman</a>,\n",
       " <a href=\"SenatorBills.asp?MemberID=2857\">Bills</a>,\n",
       " <a href=\"SenCommittees.asp?MemberID=2857\">Committees</a>,\n",
       " <a class=\"notranslate\" href=\"/senate/Senator.asp?GA=102&amp;MemberID=2926\">Brian W. Stewart</a>,\n",
       " <a href=\"SenatorBills.asp?MemberID=2926\">Bills</a>,\n",
       " <a href=\"SenCommittees.asp?MemberID=2926\">Committees</a>,\n",
       " <a class=\"notranslate\" href=\"/senate/Senator.asp?GA=102&amp;MemberID=2985\">Win Stoller</a>,\n",
       " <a href=\"SenatorBills.asp?MemberID=2985\">Bills</a>,\n",
       " <a href=\"SenCommittees.asp?MemberID=2985\">Committees</a>,\n",
       " <a class=\"notranslate\" href=\"/senate/Senator.asp?GA=102&amp;MemberID=2798\">Dave Syverson</a>,\n",
       " <a href=\"SenatorBills.asp?MemberID=2798\">Bills</a>,\n",
       " <a href=\"SenCommittees.asp?MemberID=2798\">Committees</a>,\n",
       " <a class=\"notranslate\" href=\"/senate/Senator.asp?GA=102&amp;MemberID=2899\">Jil Tracy</a>,\n",
       " <a href=\"SenatorBills.asp?MemberID=2899\">Bills</a>,\n",
       " <a href=\"SenCommittees.asp?MemberID=2899\">Committees</a>,\n",
       " <a class=\"notranslate\" href=\"/senate/Senator.asp?GA=102&amp;MemberID=3009\">Doris Turner</a>,\n",
       " <a href=\"SenatorBills.asp?MemberID=3009\">Bills</a>,\n",
       " <a href=\"SenCommittees.asp?MemberID=3009\">Committees</a>,\n",
       " <a class=\"notranslate\" href=\"/senate/Senator.asp?GA=102&amp;MemberID=3007\">Sally J. Turner</a>,\n",
       " <a href=\"SenatorBills.asp?MemberID=3007\">Bills</a>,\n",
       " <a href=\"SenCommittees.asp?MemberID=3007\">Committees</a>,\n",
       " <a class=\"notranslate\" href=\"/senate/Senator.asp?GA=102&amp;MemberID=2858\">Patricia Van Pelt</a>,\n",
       " <a href=\"SenatorBills.asp?MemberID=2858\">Bills</a>,\n",
       " <a href=\"SenCommittees.asp?MemberID=2858\">Committees</a>,\n",
       " <a class=\"notranslate\" href=\"/senate/Senator.asp?GA=102&amp;MemberID=2987\">Karina Villa</a>,\n",
       " <a href=\"SenatorBills.asp?MemberID=2987\">Bills</a>,\n",
       " <a href=\"SenCommittees.asp?MemberID=2987\">Committees</a>,\n",
       " <a class=\"notranslate\" href=\"/senate/Senator.asp?GA=102&amp;MemberID=2976\">Celina Villanueva</a>,\n",
       " <a href=\"SenatorBills.asp?MemberID=2976\">Bills</a>,\n",
       " <a href=\"SenCommittees.asp?MemberID=2976\">Committees</a>,\n",
       " <a class=\"notranslate\" href=\"/senate/Senator.asp?GA=102&amp;MemberID=2936\">Ram Villivalam</a>,\n",
       " <a href=\"SenatorBills.asp?MemberID=2936\">Bills</a>,\n",
       " <a href=\"SenCommittees.asp?MemberID=2936\">Committees</a>,\n",
       " <a class=\"notranslate\" href=\"/senate/Senator.asp?GA=102&amp;MemberID=2925\">Craig Wilcox</a>,\n",
       " <a href=\"SenatorBills.asp?MemberID=2925\">Bills</a>,\n",
       " <a href=\"SenCommittees.asp?MemberID=2925\">Committees</a>,\n",
       " <a class=\"filetab\" href=\"javascript:Sort('','LastName',102);\" title=\"Sort by Senator\">Senator</a>,\n",
       " <a class=\"filetab\" href=\"javascript:Sort('','DistrictNumber',102);\" title=\"Sort by District\">District</a>,\n",
       " <a class=\"filetab\" href=\"javascript:Sort('','Party',102);\" title=\"Sort by Party\">Party</a>,\n",
       " <a class=\"notranslate\" href=\"/senate/Senator.asp?GA=102&amp;MemberID=2853\">Andy Manar</a>,\n",
       " <a href=\"SenatorBills.asp?MemberID=2853\">Bills</a>,\n",
       " <a href=\"SenCommittees.asp?MemberID=2853\">Committees</a>,\n",
       " <a class=\"notranslate\" href=\"/senate/Senator.asp?GA=102&amp;MemberID=2818\">Heather A. Steans</a>,\n",
       " <a href=\"SenatorBills.asp?MemberID=2818\">Bills</a>,\n",
       " <a href=\"SenCommittees.asp?MemberID=2818\">Committees</a>,\n",
       " <a href=\"/reports/rptMemberList.asp?gaid=16&amp;ChamberId=S\" target=\"new\">click here</a>,\n",
       " <a class=\"footer\" href=\"/\" title=\"View the General Assembly web site home page\">Home</a>,\n",
       " <a class=\"footer\" href=\"/legislation/\" title=\"View Legislation and Laws\">Legislation &amp; Laws</a>,\n",
       " <a class=\"footer\" href=\"/house/default.asp\" title=\"View information regarding House of Representatives\">House</a>,\n",
       " <a class=\"footer\" href=\"/senate/default.asp\" title=\"View information regarding Senate\">Senate</a>,\n",
       " <a class=\"footer\" href=\"/mylegislation/default.asp\" title=\"Set up customized queries, create reports for tracking, etc.\">My Legislation</a>,\n",
       " <a class=\"footer\" href=\"/disclaimer.asp\" title=\"Disclaimers regarding the Illinois General Assembly web site\">Disclaimers</a>,\n",
       " <a class=\"footer\" href=\"/contact.asp\" title=\"Contact the Illinois General Assembly Web Support Staff\">Email</a>]"
      ]
     },
     "execution_count": 4,
     "metadata": {},
     "output_type": "execute_result"
    }
   ],
   "source": [
    "# find all elements in a certain tag\n",
    "# these two lines of code are equivilant\n",
    "\n",
    "soup.find_all(\"a\")"
   ]
  },
  {
   "cell_type": "markdown",
   "metadata": {},
   "source": [
    "**NB**: Because `find_all()` is the most popular method in the Beautiful Soup search API, you can use a shortcut for it. If you treat the BeautifulSoup object as though it were a function, then it’s the same as calling `find_all()` on that object. \n",
    "\n",
    "These two lines of code are equivalent:"
   ]
  },
  {
   "cell_type": "code",
   "execution_count": 5,
   "metadata": {},
   "outputs": [
    {
     "data": {
      "text/plain": [
       "[<a class=\"goog-logo-link\" href=\"https://translate.google.com\" target=\"_blank\"><img alt=\"Google Translate\" height=\"14\" src=\"https://www.gstatic.com/images/branding/googlelogo/1x/googlelogo_color_42x16dp.png\" style=\"padding-right: 3px;\" width=\"37\"/>Translate</a>,\n",
       " <a href=\"/default.asp\"><img alt=\"Illinois General Assembly\" border=\"0\" height=\"49\" src=\"/images/logo_sm.gif\" width=\"462\"/></a>,\n",
       " <a class=\"mainmenu\" href=\"/\">Home</a>,\n",
       " <a class=\"mainmenu\" href=\"/legislation/\" onblur=\"HM_f_PopDown('elMenu1')\" onfocus=\"HM_f_PopUp('elMenu1',event)\" onmouseout=\"HM_f_PopDown('elMenu1')\" onmouseover=\"HM_f_PopUp('elMenu1',event)\">Legislation &amp; Laws</a>,\n",
       " <a class=\"mainmenu\" href=\"/senate/\" onblur=\"HM_f_PopDown('elMenu3')\" onfocus=\"HM_f_PopUp('elMenu3',event)\" onmouseout=\"HM_f_PopDown('elMenu3')\" onmouseover=\"HM_f_PopUp('elMenu3',event)\">Senate</a>,\n",
       " <a class=\"mainmenu\" href=\"/house/\" onblur=\"HM_f_PopDown('elMenu2')\" onfocus=\"HM_f_PopUp('elMenu2',event)\" onmouseout=\"HM_f_PopDown('elMenu2')\" onmouseover=\"HM_f_PopUp('elMenu2',event)\">House</a>,\n",
       " <a class=\"mainmenu\" href=\"/mylegislation/\" onblur=\"HM_f_PopDown('elMenu4')\" onfocus=\"HM_f_PopUp('elMenu4',event)\" onmouseout=\"HM_f_PopDown('elMenu4')\" onmouseover=\"HM_f_PopUp('elMenu4',event)\">My Legislation</a>,\n",
       " <a class=\"mainmenu\" href=\"/sitemap.asp\">Site Map</a>,\n",
       " <a class=\"sidemenu\" href=\"/senate/default.asp\">  Members  </a>,\n",
       " <a class=\"sidemenu\" href=\"/senate/committees/default.asp\">  Committees  </a>,\n",
       " <a class=\"sidemenu\" href=\"/senate/schedules/default.asp\">  Schedules  </a>,\n",
       " <a class=\"sidemenu\" href=\"/senate/journals/default.asp\">  Journals  </a>,\n",
       " <a class=\"sidemenu\" href=\"/senate/transcripts/default.asp\">  Transcripts  </a>,\n",
       " <a class=\"sidemenu\" href=\"/senate/rules.asp\">  Rules  </a>,\n",
       " <a class=\"sidemenu\" href=\"/senateaudvid.asp\">  Live Audio/Video  </a>,\n",
       " <a href=\"102nd_Senate_Leadership.pdf\">Leadership</a>,\n",
       " <a href=\"102nd_Senate_Officers.pdf\">Officers</a>,\n",
       " <a href=\"102nd_Senate_Seating_Chart.pdf\">Senate Seating Chart</a>,\n",
       " <a class=\"filetab\" href=\"javascript:Sort('LastName','',102);\" title=\"Sort by Senator\">Senator</a>,\n",
       " <a class=\"filetab\" href=\"javascript:Sort('DistrictNumber','',102);\" title=\"Sort by District\">District</a>,\n",
       " <a class=\"filetab\" href=\"javascript:Sort('Party','',102);\" title=\"Sort by Party\">Party</a>,\n",
       " <a class=\"notranslate\" href=\"/senate/Senator.asp?GA=102&amp;MemberID=2886\">Neil Anderson</a>,\n",
       " <a href=\"SenatorBills.asp?MemberID=2886\">Bills</a>,\n",
       " <a href=\"SenCommittees.asp?MemberID=2886\">Committees</a>,\n",
       " <a class=\"notranslate\" href=\"/senate/Senator.asp?GA=102&amp;MemberID=2894\">Omar Aquino</a>,\n",
       " <a href=\"SenatorBills.asp?MemberID=2894\">Bills</a>,\n",
       " <a href=\"SenCommittees.asp?MemberID=2894\">Committees</a>,\n",
       " <a class=\"notranslate\" href=\"/senate/Senator.asp?GA=102&amp;MemberID=2989\">Darren Bailey</a>,\n",
       " <a href=\"SenatorBills.asp?MemberID=2989\">Bills</a>,\n",
       " <a href=\"SenCommittees.asp?MemberID=2989\">Committees</a>,\n",
       " <a class=\"notranslate\" href=\"/senate/Senator.asp?GA=102&amp;MemberID=2846\">Jason A. Barickman</a>,\n",
       " <a href=\"SenatorBills.asp?MemberID=2846\">Bills</a>,\n",
       " <a href=\"SenCommittees.asp?MemberID=2846\">Committees</a>,\n",
       " <a class=\"notranslate\" href=\"/senate/Senator.asp?GA=102&amp;MemberID=2927\">Christopher Belt</a>,\n",
       " <a href=\"SenatorBills.asp?MemberID=2927\">Bills</a>,\n",
       " <a href=\"SenCommittees.asp?MemberID=2927\">Committees</a>,\n",
       " <a class=\"notranslate\" href=\"/senate/Senator.asp?GA=102&amp;MemberID=2887\">Scott M. Bennett</a>,\n",
       " <a href=\"SenatorBills.asp?MemberID=2887\">Bills</a>,\n",
       " <a href=\"SenCommittees.asp?MemberID=2887\">Committees</a>,\n",
       " <a class=\"notranslate\" href=\"/senate/Senator.asp?GA=102&amp;MemberID=2990\">Terri Bryant</a>,\n",
       " <a href=\"SenatorBills.asp?MemberID=2990\">Bills</a>,\n",
       " <a href=\"SenCommittees.asp?MemberID=2990\">Committees</a>,\n",
       " <a class=\"notranslate\" href=\"/senate/Senator.asp?GA=102&amp;MemberID=2848\">Melinda Bush</a>,\n",
       " <a href=\"SenatorBills.asp?MemberID=2848\">Bills</a>,\n",
       " <a href=\"SenCommittees.asp?MemberID=2848\">Committees</a>,\n",
       " <a class=\"notranslate\" href=\"/senate/Senator.asp?GA=102&amp;MemberID=2896\">Cristina Castro</a>,\n",
       " <a href=\"SenatorBills.asp?MemberID=2896\">Bills</a>,\n",
       " <a href=\"SenCommittees.asp?MemberID=2896\">Committees</a>,\n",
       " <a class=\"notranslate\" href=\"/senate/Senator.asp?GA=102&amp;MemberID=2804\">Jacqueline Y. Collins</a>,\n",
       " <a href=\"SenatorBills.asp?MemberID=2804\">Bills</a>,\n",
       " <a href=\"SenCommittees.asp?MemberID=2804\">Committees</a>,\n",
       " <a class=\"notranslate\" href=\"/senate/Senator.asp?GA=102&amp;MemberID=2988\">John Connor</a>,\n",
       " <a href=\"SenatorBills.asp?MemberID=2988\">Bills</a>,\n",
       " <a href=\"SenCommittees.asp?MemberID=2988\">Committees</a>,\n",
       " <a class=\"notranslate\" href=\"/senate/Senator.asp?GA=102&amp;MemberID=2928\">Rachelle Crowe</a>,\n",
       " <a href=\"SenatorBills.asp?MemberID=2928\">Bills</a>,\n",
       " <a href=\"SenCommittees.asp?MemberID=2928\">Committees</a>,\n",
       " <a class=\"notranslate\" href=\"/senate/Senator.asp?GA=102&amp;MemberID=2849\">Thomas Cullerton</a>,\n",
       " <a href=\"SenatorBills.asp?MemberID=2849\">Bills</a>,\n",
       " <a href=\"SenCommittees.asp?MemberID=2849\">Committees</a>,\n",
       " <a class=\"notranslate\" href=\"/senate/Senator.asp?GA=102&amp;MemberID=2850\">Bill Cunningham</a>,\n",
       " <a href=\"SenatorBills.asp?MemberID=2850\">Bills</a>,\n",
       " <a href=\"SenCommittees.asp?MemberID=2850\">Committees</a>,\n",
       " <a class=\"notranslate\" href=\"/senate/Senator.asp?GA=102&amp;MemberID=2915\">John F. Curran</a>,\n",
       " <a href=\"SenatorBills.asp?MemberID=2915\">Bills</a>,\n",
       " <a href=\"SenCommittees.asp?MemberID=2915\">Committees</a>,\n",
       " <a class=\"notranslate\" href=\"/senate/Senator.asp?GA=102&amp;MemberID=2923\">Donald P. DeWitte</a>,\n",
       " <a href=\"SenatorBills.asp?MemberID=2923\">Bills</a>,\n",
       " <a href=\"SenCommittees.asp?MemberID=2923\">Committees</a>,\n",
       " <a class=\"notranslate\" href=\"/senate/Senator.asp?GA=102&amp;MemberID=2930\">Laura Ellman</a>,\n",
       " <a href=\"SenatorBills.asp?MemberID=2930\">Bills</a>,\n",
       " <a href=\"SenCommittees.asp?MemberID=2930\">Committees</a>,\n",
       " <a class=\"notranslate\" href=\"/senate/Senator.asp?GA=102&amp;MemberID=2977\">Sara Feigenholtz</a>,\n",
       " <a href=\"SenatorBills.asp?MemberID=2977\">Bills</a>,\n",
       " <a href=\"SenCommittees.asp?MemberID=2977\">Committees</a>,\n",
       " <a class=\"notranslate\" href=\"/senate/Senator.asp?GA=102&amp;MemberID=2929\">Laura Fine</a>,\n",
       " <a href=\"SenatorBills.asp?MemberID=2929\">Bills</a>,\n",
       " <a href=\"SenCommittees.asp?MemberID=2929\">Committees</a>,\n",
       " <a class=\"notranslate\" href=\"/senate/Senator.asp?GA=102&amp;MemberID=2897\">Dale Fowler</a>,\n",
       " <a href=\"SenatorBills.asp?MemberID=2897\">Bills</a>,\n",
       " <a href=\"SenCommittees.asp?MemberID=2897\">Committees</a>,\n",
       " <a class=\"notranslate\" href=\"/senate/Senator.asp?GA=102&amp;MemberID=2931\">Ann Gillespie</a>,\n",
       " <a href=\"SenatorBills.asp?MemberID=2931\">Bills</a>,\n",
       " <a href=\"SenCommittees.asp?MemberID=2931\">Committees</a>,\n",
       " <a class=\"notranslate\" href=\"/senate/Senator.asp?GA=102&amp;MemberID=2932\">Suzy Glowiak Hilton</a>,\n",
       " <a href=\"SenatorBills.asp?MemberID=2932\">Bills</a>,\n",
       " <a href=\"SenCommittees.asp?MemberID=2932\">Committees</a>,\n",
       " <a class=\"notranslate\" href=\"/senate/Senator.asp?GA=102&amp;MemberID=2806\">Don Harmon</a>,\n",
       " <a href=\"SenatorBills.asp?MemberID=2806\">Bills</a>,\n",
       " <a href=\"SenCommittees.asp?MemberID=2806\">Committees</a>,\n",
       " <a class=\"notranslate\" href=\"/senate/Senator.asp?GA=102&amp;MemberID=2851\">Napoleon Harris, III</a>,\n",
       " <a href=\"SenatorBills.asp?MemberID=2851\">Bills</a>,\n",
       " <a href=\"SenCommittees.asp?MemberID=2851\">Committees</a>,\n",
       " <a class=\"notranslate\" href=\"/senate/Senator.asp?GA=102&amp;MemberID=2852\">Michael E. Hastings</a>,\n",
       " <a href=\"SenatorBills.asp?MemberID=2852\">Bills</a>,\n",
       " <a href=\"SenCommittees.asp?MemberID=2852\">Committees</a>,\n",
       " <a class=\"notranslate\" href=\"/senate/Senator.asp?GA=102&amp;MemberID=2813\">Linda Holmes</a>,\n",
       " <a href=\"SenatorBills.asp?MemberID=2813\">Bills</a>,\n",
       " <a href=\"SenCommittees.asp?MemberID=2813\">Committees</a>,\n",
       " <a class=\"notranslate\" href=\"/senate/Senator.asp?GA=102&amp;MemberID=2808\">Mattie Hunter</a>,\n",
       " <a href=\"SenatorBills.asp?MemberID=2808\">Bills</a>,\n",
       " <a href=\"SenCommittees.asp?MemberID=2808\">Committees</a>,\n",
       " <a class=\"notranslate\" href=\"/senate/Senator.asp?GA=102&amp;MemberID=2980\">Adriane Johnson</a>,\n",
       " <a href=\"SenatorBills.asp?MemberID=2980\">Bills</a>,\n",
       " <a href=\"SenCommittees.asp?MemberID=2980\">Committees</a>,\n",
       " <a class=\"notranslate\" href=\"/senate/Senator.asp?GA=102&amp;MemberID=2823\">Emil Jones, III</a>,\n",
       " <a href=\"SenatorBills.asp?MemberID=2823\">Bills</a>,\n",
       " <a href=\"SenCommittees.asp?MemberID=2823\">Committees</a>,\n",
       " <a class=\"notranslate\" href=\"/senate/Senator.asp?GA=102&amp;MemberID=2973\">Patrick J. Joyce</a>,\n",
       " <a href=\"SenatorBills.asp?MemberID=2973\">Bills</a>,\n",
       " <a href=\"SenCommittees.asp?MemberID=2973\">Committees</a>,\n",
       " <a class=\"notranslate\" href=\"/senate/Senator.asp?GA=102&amp;MemberID=2814\">David Koehler</a>,\n",
       " <a href=\"SenatorBills.asp?MemberID=2814\">Bills</a>,\n",
       " <a href=\"SenCommittees.asp?MemberID=2814\">Committees</a>,\n",
       " <a class=\"notranslate\" href=\"/senate/Senator.asp?GA=102&amp;MemberID=2839\">Steven M. Landek</a>,\n",
       " <a href=\"SenatorBills.asp?MemberID=2839\">Bills</a>,\n",
       " <a href=\"SenCommittees.asp?MemberID=2839\">Committees</a>,\n",
       " <a class=\"notranslate\" href=\"/senate/Senator.asp?GA=102&amp;MemberID=2795\">Kimberly A. Lightford</a>,\n",
       " <a href=\"SenatorBills.asp?MemberID=2795\">Bills</a>,\n",
       " <a href=\"SenCommittees.asp?MemberID=2795\">Committees</a>,\n",
       " <a class=\"notranslate\" href=\"/senate/Senator.asp?GA=102&amp;MemberID=2982\">Meg Loughran Cappel</a>,\n",
       " <a href=\"SenatorBills.asp?MemberID=2982\">Bills</a>,\n",
       " <a href=\"SenCommittees.asp?MemberID=2982\">Committees</a>,\n",
       " <a class=\"notranslate\" href=\"/senate/Senator.asp?GA=102&amp;MemberID=2970\">Robert F. Martwick</a>,\n",
       " <a href=\"SenatorBills.asp?MemberID=2970\">Bills</a>,\n",
       " <a href=\"SenCommittees.asp?MemberID=2970\">Committees</a>,\n",
       " <a class=\"notranslate\" href=\"/senate/Senator.asp?GA=102&amp;MemberID=2933\">Steve McClure</a>,\n",
       " <a href=\"SenatorBills.asp?MemberID=2933\">Bills</a>,\n",
       " <a href=\"SenCommittees.asp?MemberID=2933\">Committees</a>,\n",
       " <a class=\"notranslate\" href=\"/senate/Senator.asp?GA=102&amp;MemberID=2893\">Dan McConchie</a>,\n",
       " <a href=\"SenatorBills.asp?MemberID=2893\">Bills</a>,\n",
       " <a href=\"SenCommittees.asp?MemberID=2893\">Committees</a>,\n",
       " <a class=\"notranslate\" href=\"/senate/Senator.asp?GA=102&amp;MemberID=2854\">Julie A. Morrison</a>,\n",
       " <a href=\"SenatorBills.asp?MemberID=2854\">Bills</a>,\n",
       " <a href=\"SenCommittees.asp?MemberID=2854\">Committees</a>,\n",
       " <a class=\"notranslate\" href=\"/senate/Senator.asp?GA=102&amp;MemberID=2797\">Antonio Muñoz</a>,\n",
       " <a href=\"SenatorBills.asp?MemberID=2797\">Bills</a>,\n",
       " <a href=\"SenCommittees.asp?MemberID=2797\">Committees</a>,\n",
       " <a class=\"notranslate\" href=\"/senate/Senator.asp?GA=102&amp;MemberID=2890\">Laura M. Murphy</a>,\n",
       " <a href=\"SenatorBills.asp?MemberID=2890\">Bills</a>,\n",
       " <a href=\"SenCommittees.asp?MemberID=2890\">Committees</a>,\n",
       " <a class=\"notranslate\" href=\"/senate/Senator.asp?GA=102&amp;MemberID=2983\">Cristina H. Pacione-Zayas</a>,\n",
       " <a href=\"SenatorBills.asp?MemberID=2983\">Bills</a>,\n",
       " <a href=\"SenCommittees.asp?MemberID=2983\">Committees</a>,\n",
       " <a class=\"notranslate\" href=\"/senate/Senator.asp?GA=102&amp;MemberID=2934\">Robert Peters</a>,\n",
       " <a href=\"SenatorBills.asp?MemberID=2934\">Bills</a>,\n",
       " <a href=\"SenCommittees.asp?MemberID=2934\">Committees</a>,\n",
       " <a class=\"notranslate\" href=\"/senate/Senator.asp?GA=102&amp;MemberID=2935\">Jason Plummer</a>,\n",
       " <a href=\"SenatorBills.asp?MemberID=2935\">Bills</a>,\n",
       " <a href=\"SenCommittees.asp?MemberID=2935\">Committees</a>,\n",
       " <a class=\"notranslate\" href=\"/senate/Senator.asp?GA=102&amp;MemberID=2830\">Sue Rezin</a>,\n",
       " <a href=\"SenatorBills.asp?MemberID=2830\">Bills</a>,\n",
       " <a href=\"SenCommittees.asp?MemberID=2830\">Committees</a>,\n",
       " <a class=\"notranslate\" href=\"/senate/Senator.asp?GA=102&amp;MemberID=2856\">Chapin Rose</a>,\n",
       " <a href=\"SenatorBills.asp?MemberID=2856\">Bills</a>,\n",
       " <a href=\"SenCommittees.asp?MemberID=2856\">Committees</a>,\n",
       " <a class=\"notranslate\" href=\"/senate/Senator.asp?GA=102&amp;MemberID=3008\">Mike Simmons</a>,\n",
       " <a href=\"SenatorBills.asp?MemberID=3008\">Bills</a>,\n",
       " <a href=\"SenCommittees.asp?MemberID=3008\">Committees</a>,\n",
       " <a class=\"notranslate\" href=\"/senate/Senator.asp?GA=102&amp;MemberID=2918\">Elgie R. Sims, Jr.</a>,\n",
       " <a href=\"SenatorBills.asp?MemberID=2918\">Bills</a>,\n",
       " <a href=\"SenCommittees.asp?MemberID=2918\">Committees</a>,\n",
       " <a class=\"notranslate\" href=\"/senate/Senator.asp?GA=102&amp;MemberID=2857\">Steve Stadelman</a>,\n",
       " <a href=\"SenatorBills.asp?MemberID=2857\">Bills</a>,\n",
       " <a href=\"SenCommittees.asp?MemberID=2857\">Committees</a>,\n",
       " <a class=\"notranslate\" href=\"/senate/Senator.asp?GA=102&amp;MemberID=2926\">Brian W. Stewart</a>,\n",
       " <a href=\"SenatorBills.asp?MemberID=2926\">Bills</a>,\n",
       " <a href=\"SenCommittees.asp?MemberID=2926\">Committees</a>,\n",
       " <a class=\"notranslate\" href=\"/senate/Senator.asp?GA=102&amp;MemberID=2985\">Win Stoller</a>,\n",
       " <a href=\"SenatorBills.asp?MemberID=2985\">Bills</a>,\n",
       " <a href=\"SenCommittees.asp?MemberID=2985\">Committees</a>,\n",
       " <a class=\"notranslate\" href=\"/senate/Senator.asp?GA=102&amp;MemberID=2798\">Dave Syverson</a>,\n",
       " <a href=\"SenatorBills.asp?MemberID=2798\">Bills</a>,\n",
       " <a href=\"SenCommittees.asp?MemberID=2798\">Committees</a>,\n",
       " <a class=\"notranslate\" href=\"/senate/Senator.asp?GA=102&amp;MemberID=2899\">Jil Tracy</a>,\n",
       " <a href=\"SenatorBills.asp?MemberID=2899\">Bills</a>,\n",
       " <a href=\"SenCommittees.asp?MemberID=2899\">Committees</a>,\n",
       " <a class=\"notranslate\" href=\"/senate/Senator.asp?GA=102&amp;MemberID=3009\">Doris Turner</a>,\n",
       " <a href=\"SenatorBills.asp?MemberID=3009\">Bills</a>,\n",
       " <a href=\"SenCommittees.asp?MemberID=3009\">Committees</a>,\n",
       " <a class=\"notranslate\" href=\"/senate/Senator.asp?GA=102&amp;MemberID=3007\">Sally J. Turner</a>,\n",
       " <a href=\"SenatorBills.asp?MemberID=3007\">Bills</a>,\n",
       " <a href=\"SenCommittees.asp?MemberID=3007\">Committees</a>,\n",
       " <a class=\"notranslate\" href=\"/senate/Senator.asp?GA=102&amp;MemberID=2858\">Patricia Van Pelt</a>,\n",
       " <a href=\"SenatorBills.asp?MemberID=2858\">Bills</a>,\n",
       " <a href=\"SenCommittees.asp?MemberID=2858\">Committees</a>,\n",
       " <a class=\"notranslate\" href=\"/senate/Senator.asp?GA=102&amp;MemberID=2987\">Karina Villa</a>,\n",
       " <a href=\"SenatorBills.asp?MemberID=2987\">Bills</a>,\n",
       " <a href=\"SenCommittees.asp?MemberID=2987\">Committees</a>,\n",
       " <a class=\"notranslate\" href=\"/senate/Senator.asp?GA=102&amp;MemberID=2976\">Celina Villanueva</a>,\n",
       " <a href=\"SenatorBills.asp?MemberID=2976\">Bills</a>,\n",
       " <a href=\"SenCommittees.asp?MemberID=2976\">Committees</a>,\n",
       " <a class=\"notranslate\" href=\"/senate/Senator.asp?GA=102&amp;MemberID=2936\">Ram Villivalam</a>,\n",
       " <a href=\"SenatorBills.asp?MemberID=2936\">Bills</a>,\n",
       " <a href=\"SenCommittees.asp?MemberID=2936\">Committees</a>,\n",
       " <a class=\"notranslate\" href=\"/senate/Senator.asp?GA=102&amp;MemberID=2925\">Craig Wilcox</a>,\n",
       " <a href=\"SenatorBills.asp?MemberID=2925\">Bills</a>,\n",
       " <a href=\"SenCommittees.asp?MemberID=2925\">Committees</a>,\n",
       " <a class=\"filetab\" href=\"javascript:Sort('','LastName',102);\" title=\"Sort by Senator\">Senator</a>,\n",
       " <a class=\"filetab\" href=\"javascript:Sort('','DistrictNumber',102);\" title=\"Sort by District\">District</a>,\n",
       " <a class=\"filetab\" href=\"javascript:Sort('','Party',102);\" title=\"Sort by Party\">Party</a>,\n",
       " <a class=\"notranslate\" href=\"/senate/Senator.asp?GA=102&amp;MemberID=2853\">Andy Manar</a>,\n",
       " <a href=\"SenatorBills.asp?MemberID=2853\">Bills</a>,\n",
       " <a href=\"SenCommittees.asp?MemberID=2853\">Committees</a>,\n",
       " <a class=\"notranslate\" href=\"/senate/Senator.asp?GA=102&amp;MemberID=2818\">Heather A. Steans</a>,\n",
       " <a href=\"SenatorBills.asp?MemberID=2818\">Bills</a>,\n",
       " <a href=\"SenCommittees.asp?MemberID=2818\">Committees</a>,\n",
       " <a href=\"/reports/rptMemberList.asp?gaid=16&amp;ChamberId=S\" target=\"new\">click here</a>,\n",
       " <a class=\"footer\" href=\"/\" title=\"View the General Assembly web site home page\">Home</a>,\n",
       " <a class=\"footer\" href=\"/legislation/\" title=\"View Legislation and Laws\">Legislation &amp; Laws</a>,\n",
       " <a class=\"footer\" href=\"/house/default.asp\" title=\"View information regarding House of Representatives\">House</a>,\n",
       " <a class=\"footer\" href=\"/senate/default.asp\" title=\"View information regarding Senate\">Senate</a>,\n",
       " <a class=\"footer\" href=\"/mylegislation/default.asp\" title=\"Set up customized queries, create reports for tracking, etc.\">My Legislation</a>,\n",
       " <a class=\"footer\" href=\"/disclaimer.asp\" title=\"Disclaimers regarding the Illinois General Assembly web site\">Disclaimers</a>,\n",
       " <a class=\"footer\" href=\"/contact.asp\" title=\"Contact the Illinois General Assembly Web Support Staff\">Email</a>]"
      ]
     },
     "execution_count": 5,
     "metadata": {},
     "output_type": "execute_result"
    }
   ],
   "source": [
    "soup.find_all(\"a\")\n",
    "soup(\"a\")"
   ]
  },
  {
   "cell_type": "markdown",
   "metadata": {},
   "source": [
    "That's a lot! Many elements on a page will have the same html tag. For instance, if you search for everything with the `a` tag, you're likely to get a lot of stuff, much of which you don't want. What if we wanted to search for HTML tags ONLY with certain attributes, like particular CSS classes? \n",
    "\n",
    "We can do this by adding an additional argument to the `find_all`\n",
    "\n",
    "In the example below, we are finding all the `a` tags, and then filtering those with `class = \"sidemenu\"`."
   ]
  },
  {
   "cell_type": "code",
   "execution_count": 6,
   "metadata": {},
   "outputs": [
    {
     "data": {
      "text/plain": [
       "[<a class=\"sidemenu\" href=\"/senate/default.asp\">  Members  </a>,\n",
       " <a class=\"sidemenu\" href=\"/senate/committees/default.asp\">  Committees  </a>,\n",
       " <a class=\"sidemenu\" href=\"/senate/schedules/default.asp\">  Schedules  </a>,\n",
       " <a class=\"sidemenu\" href=\"/senate/journals/default.asp\">  Journals  </a>,\n",
       " <a class=\"sidemenu\" href=\"/senate/transcripts/default.asp\">  Transcripts  </a>,\n",
       " <a class=\"sidemenu\" href=\"/senate/rules.asp\">  Rules  </a>,\n",
       " <a class=\"sidemenu\" href=\"/senateaudvid.asp\">  Live Audio/Video  </a>]"
      ]
     },
     "execution_count": 6,
     "metadata": {},
     "output_type": "execute_result"
    }
   ],
   "source": [
    "# Get only the 'a' tags in 'sidemenu' class\n",
    "soup(\"a\", class_=\"sidemenu\")"
   ]
  },
  {
   "cell_type": "markdown",
   "metadata": {},
   "source": [
    "Oftentimes a more efficient way to search and find things on a website is by **CSS selector.** For this we have to use a different method, `select()`. Just pass a string into the `.select()` to get all elements with that string as a valid CSS selector.\n",
    "\n",
    "In the example above, we can use \"a.sidemenu\" as a CSS selector, which returns all `a` tags with class `sidemenu`."
   ]
  },
  {
   "cell_type": "code",
   "execution_count": 7,
   "metadata": {},
   "outputs": [
    {
     "data": {
      "text/plain": [
       "[<a class=\"sidemenu\" href=\"/senate/default.asp\">  Members  </a>,\n",
       " <a class=\"sidemenu\" href=\"/senate/committees/default.asp\">  Committees  </a>,\n",
       " <a class=\"sidemenu\" href=\"/senate/schedules/default.asp\">  Schedules  </a>,\n",
       " <a class=\"sidemenu\" href=\"/senate/journals/default.asp\">  Journals  </a>,\n",
       " <a class=\"sidemenu\" href=\"/senate/transcripts/default.asp\">  Transcripts  </a>,\n",
       " <a class=\"sidemenu\" href=\"/senate/rules.asp\">  Rules  </a>,\n",
       " <a class=\"sidemenu\" href=\"/senateaudvid.asp\">  Live Audio/Video  </a>]"
      ]
     },
     "execution_count": 7,
     "metadata": {},
     "output_type": "execute_result"
    }
   ],
   "source": [
    "# get elements with \"a.sidemenu\" CSS Selector.\n",
    "soup.select(\"a.sidemenu\")"
   ]
  },
  {
   "cell_type": "markdown",
   "metadata": {},
   "source": [
    "## Challenge 1\n",
    "\n",
    "Find all the `<a>` elements in class `mainmenu`"
   ]
  },
  {
   "cell_type": "code",
   "execution_count": 8,
   "metadata": {},
   "outputs": [
    {
     "data": {
      "text/plain": [
       "[<a class=\"mainmenu\" href=\"/\">Home</a>,\n",
       " <a class=\"mainmenu\" href=\"/legislation/\" onblur=\"HM_f_PopDown('elMenu1')\" onfocus=\"HM_f_PopUp('elMenu1',event)\" onmouseout=\"HM_f_PopDown('elMenu1')\" onmouseover=\"HM_f_PopUp('elMenu1',event)\">Legislation &amp; Laws</a>,\n",
       " <a class=\"mainmenu\" href=\"/senate/\" onblur=\"HM_f_PopDown('elMenu3')\" onfocus=\"HM_f_PopUp('elMenu3',event)\" onmouseout=\"HM_f_PopDown('elMenu3')\" onmouseover=\"HM_f_PopUp('elMenu3',event)\">Senate</a>,\n",
       " <a class=\"mainmenu\" href=\"/house/\" onblur=\"HM_f_PopDown('elMenu2')\" onfocus=\"HM_f_PopUp('elMenu2',event)\" onmouseout=\"HM_f_PopDown('elMenu2')\" onmouseover=\"HM_f_PopUp('elMenu2',event)\">House</a>,\n",
       " <a class=\"mainmenu\" href=\"/mylegislation/\" onblur=\"HM_f_PopDown('elMenu4')\" onfocus=\"HM_f_PopUp('elMenu4',event)\" onmouseout=\"HM_f_PopDown('elMenu4')\" onmouseover=\"HM_f_PopUp('elMenu4',event)\">My Legislation</a>,\n",
       " <a class=\"mainmenu\" href=\"/sitemap.asp\">Site Map</a>]"
      ]
     },
     "execution_count": 8,
     "metadata": {},
     "output_type": "execute_result"
    }
   ],
   "source": [
    "# SOLUTION\n",
    "soup.select(\"a.mainmenu\")"
   ]
  },
  {
   "cell_type": "markdown",
   "metadata": {},
   "source": [
    "## 1.4 Get Attributes and Text of Elements\n",
    "\n",
    "Once we identify elements, we want the access information in that element. Oftentimes this means two things:\n",
    "\n",
    "1. Text\n",
    "2. Attributes\n",
    "\n",
    "Getting the text inside an element is easy. All we have to do is use the `text` member of a `tag` object:"
   ]
  },
  {
   "cell_type": "code",
   "execution_count": 9,
   "metadata": {},
   "outputs": [
    {
     "data": {
      "text/plain": [
       "bs4.element.Tag"
      ]
     },
     "execution_count": 9,
     "metadata": {},
     "output_type": "execute_result"
    }
   ],
   "source": [
    "# this is a list\n",
    "soup.select(\"a.sidemenu\")\n",
    "\n",
    "# we first want to get an individual tag object\n",
    "first_link = soup.select(\"a.sidemenu\")[0]\n",
    "\n",
    "# check out its class\n",
    "type(first_link)"
   ]
  },
  {
   "cell_type": "markdown",
   "metadata": {},
   "source": [
    "It's a tag! Which means it has a `text` member:"
   ]
  },
  {
   "cell_type": "code",
   "execution_count": 10,
   "metadata": {},
   "outputs": [
    {
     "name": "stdout",
     "output_type": "stream",
     "text": [
      "  Members  \n"
     ]
    }
   ],
   "source": [
    "print(first_link.text)"
   ]
  },
  {
   "cell_type": "markdown",
   "metadata": {},
   "source": [
    "Sometimes we want the value of certain attributes. This is particularly relevant for `a` tags, or links, where the `href` attribute tells us where the link goes.\n",
    "\n",
    "You can access a tag’s attributes by treating the tag like a dictionary:"
   ]
  },
  {
   "cell_type": "code",
   "execution_count": 11,
   "metadata": {},
   "outputs": [
    {
     "name": "stdout",
     "output_type": "stream",
     "text": [
      "/senate/default.asp\n"
     ]
    }
   ],
   "source": [
    "print(first_link['href'])"
   ]
  },
  {
   "cell_type": "markdown",
   "metadata": {},
   "source": [
    "## Challenge 2\n",
    "\n",
    "Find all the `href` attributes (url) from the mainmenu."
   ]
  },
  {
   "cell_type": "code",
   "execution_count": 12,
   "metadata": {},
   "outputs": [
    {
     "data": {
      "text/plain": [
       "['/',\n",
       " '/legislation/',\n",
       " '/senate/',\n",
       " '/house/',\n",
       " '/mylegislation/',\n",
       " '/sitemap.asp']"
      ]
     },
     "execution_count": 12,
     "metadata": {},
     "output_type": "execute_result"
    }
   ],
   "source": [
    "# SOLUTION\n",
    "[link['href'] for link in soup.select(\"a.mainmenu\")]"
   ]
  },
  {
   "cell_type": "markdown",
   "metadata": {},
   "source": [
    "# Part 2\n",
    "*****\n",
    "\n",
    "Believe it or not, that's all you need to scrape a website. Let's apply these skills to scrape http://www.ilga.gov/senate/default.asp?GA=98\n",
    "\n",
    "**NB: we're just going to scrape the 98th general assembly.**\n",
    "\n",
    "Our goal is to scrape information on each senator, including their:\n",
    "    - name\n",
    "    - district\n",
    "    - party\n",
    "\n",
    "## 2.1 First, make the get request and soup it."
   ]
  },
  {
   "cell_type": "code",
   "execution_count": 13,
   "metadata": {},
   "outputs": [],
   "source": [
    "# make a GET request\n",
    "req = requests.get('http://www.ilga.gov/senate/default.asp?GA=98')\n",
    "# read the content of the server’s response\n",
    "src = req.text\n",
    "# soup it\n",
    "soup = BeautifulSoup(src, \"lxml\")"
   ]
  },
  {
   "cell_type": "markdown",
   "metadata": {},
   "source": [
    "## 2.2 Find the right elements and text.\n",
    "\n",
    "Now let's try to get a list of rows in that table. Remember that rows are identified by the `tr` tag."
   ]
  },
  {
   "cell_type": "code",
   "execution_count": 14,
   "metadata": {},
   "outputs": [
    {
     "data": {
      "text/plain": [
       "73"
      ]
     },
     "execution_count": 14,
     "metadata": {},
     "output_type": "execute_result"
    }
   ],
   "source": [
    "# get all tr elements\n",
    "rows = soup.find_all(\"tr\")\n",
    "len(rows)"
   ]
  },
  {
   "cell_type": "markdown",
   "metadata": {},
   "source": [
    "But remember, `find_all` gets all the elements with the `tr` tag. We can use smart CSS selectors to get only the rows we want."
   ]
  },
  {
   "cell_type": "code",
   "execution_count": 15,
   "metadata": {},
   "outputs": [
    {
     "name": "stdout",
     "output_type": "stream",
     "text": [
      "<tr>\n",
      " <td bgcolor=\"white\" class=\"detail\" width=\"40%\">\n",
      "  <a class=\"notranslate\" href=\"/senate/Senator.asp?GA=98&amp;MemberID=1911\">\n",
      "   Pamela J. Althoff\n",
      "  </a>\n",
      " </td>\n",
      " <td align=\"center\" bgcolor=\"white\" class=\"detail\" width=\"15%\">\n",
      "  <a href=\"SenatorBills.asp?GA=98&amp;MemberID=1911\">\n",
      "   Bills\n",
      "  </a>\n",
      " </td>\n",
      " <td align=\"center\" bgcolor=\"white\" class=\"detail\" width=\"15%\">\n",
      "  <a href=\"SenCommittees.asp?GA=98&amp;MemberID=1911\">\n",
      "   Committees\n",
      "  </a>\n",
      " </td>\n",
      " <td align=\"center\" bgcolor=\"white\" class=\"detail\" width=\"15%\">\n",
      "  32\n",
      " </td>\n",
      " <td align=\"center\" bgcolor=\"white\" class=\"detail\" width=\"15%\">\n",
      "  R\n",
      " </td>\n",
      "</tr>\n",
      "\n"
     ]
    }
   ],
   "source": [
    "# returns every ‘tr tr tr’ css selector in the page\n",
    "rows = soup.select('tr tr tr')\n",
    "print(rows[2].prettify())"
   ]
  },
  {
   "cell_type": "markdown",
   "metadata": {},
   "source": [
    "We can use the `select` method on anything. Let's say we want to find everything with the CSS selector `td.detail` in an item of the list we created above."
   ]
  },
  {
   "cell_type": "code",
   "execution_count": 16,
   "metadata": {
    "scrolled": false
   },
   "outputs": [
    {
     "data": {
      "text/plain": [
       "[<td bgcolor=\"white\" class=\"detail\" width=\"40%\"><a class=\"notranslate\" href=\"/senate/Senator.asp?GA=98&amp;MemberID=1911\">Pamela J. Althoff</a></td>,\n",
       " <td align=\"center\" bgcolor=\"white\" class=\"detail\" width=\"15%\"><a href=\"SenatorBills.asp?GA=98&amp;MemberID=1911\">Bills</a></td>,\n",
       " <td align=\"center\" bgcolor=\"white\" class=\"detail\" width=\"15%\"><a href=\"SenCommittees.asp?GA=98&amp;MemberID=1911\">Committees</a></td>,\n",
       " <td align=\"center\" bgcolor=\"white\" class=\"detail\" width=\"15%\">32</td>,\n",
       " <td align=\"center\" bgcolor=\"white\" class=\"detail\" width=\"15%\">R</td>]"
      ]
     },
     "execution_count": 16,
     "metadata": {},
     "output_type": "execute_result"
    }
   ],
   "source": [
    "# select only those 'td' tags with class 'detail'\n",
    "row = rows[2]\n",
    "detailCells = row.select('td.detail')\n",
    "detailCells"
   ]
  },
  {
   "cell_type": "markdown",
   "metadata": {},
   "source": [
    "Most of the time, we're interested in the actual **text** of a website, not its tags. Remember, to get the text of an HTML element, use the `text` member."
   ]
  },
  {
   "cell_type": "code",
   "execution_count": 17,
   "metadata": {},
   "outputs": [],
   "source": [
    "# Keep only the text in each of those cells\n",
    "rowData = [cell.text for cell in detailCells]"
   ]
  },
  {
   "cell_type": "markdown",
   "metadata": {},
   "source": [
    "Now we can combine the beautifulsoup tools with our basic python skills to scrape an entire web page."
   ]
  },
  {
   "cell_type": "code",
   "execution_count": 18,
   "metadata": {},
   "outputs": [
    {
     "name": "stdout",
     "output_type": "stream",
     "text": [
      "Pamela J. Althoff\n",
      "32\n",
      "R\n"
     ]
    }
   ],
   "source": [
    "# check em out\n",
    "print(rowData[0]) # Name\n",
    "print(rowData[3]) # district\n",
    "print(rowData[4]) # party"
   ]
  },
  {
   "cell_type": "markdown",
   "metadata": {},
   "source": [
    "## 2.3 Loop it all together\n",
    "\n",
    "Let's use a for loop to get 'em all!"
   ]
  },
  {
   "cell_type": "code",
   "execution_count": 19,
   "metadata": {},
   "outputs": [],
   "source": [
    "# make a GET request\n",
    "req = requests.get('http://www.ilga.gov/senate/default.asp?GA=98')\n",
    "\n",
    "# read the content of the server’s response\n",
    "src = req.text\n",
    "\n",
    "# soup it\n",
    "soup = BeautifulSoup(src, \"lxml\")\n",
    "\n",
    "# Create empty list to store our data\n",
    "members = []\n",
    "\n",
    "# returns every ‘tr tr tr’ css selector in the page\n",
    "rows = soup.select('tr tr tr')\n",
    "\n",
    "# loop through all rows\n",
    "for row in rows:\n",
    "    # select only those 'td' tags with class 'detail'\n",
    "    detailCells = row.select('td.detail')\n",
    "    \n",
    "    # get rid of junk rows\n",
    "    if len(detailCells) is not 5: \n",
    "        continue\n",
    "        \n",
    "    # Keep only the text in each of those cells\n",
    "    rowData = [cell.text for cell in detailCells]\n",
    "    \n",
    "    # Collect information\n",
    "    name = rowData[0]\n",
    "    district = int(rowData[3])\n",
    "    party = rowData[4]\n",
    "    \n",
    "    # Store in a tuple\n",
    "    tup = (name,district,party)\n",
    "    \n",
    "    # Append to list\n",
    "    members.append(tup)"
   ]
  },
  {
   "cell_type": "code",
   "execution_count": 20,
   "metadata": {},
   "outputs": [
    {
     "data": {
      "text/plain": [
       "61"
      ]
     },
     "execution_count": 20,
     "metadata": {},
     "output_type": "execute_result"
    }
   ],
   "source": [
    "len(members)"
   ]
  },
  {
   "cell_type": "markdown",
   "metadata": {},
   "source": [
    "## Challege 3: Get HREF element pointing to members' bills. \n",
    "\n",
    "The code above retrieves information on:  \n",
    "\n",
    "    - the senator's name\n",
    "    - their district number\n",
    "    - and their party\n",
    "\n",
    "We now want to retrieve the URL for each senator's list of bills. The format for the list of bills for a given senator is:\n",
    "\n",
    "http://www.ilga.gov/senate/SenatorBills.asp + ? + GA=98 + &MemberID=**_memberID_** + &Primary=True\n",
    "\n",
    "to get something like:\n",
    "\n",
    "http://www.ilga.gov/senate/SenatorBills.asp?MemberID=1911&GA=98&Primary=True\n",
    "\n",
    "You should be able to see that, unfortunately, _memberID_ is not currently something pulled out in our scraping code.\n",
    "\n",
    "Your initial task is to modify the code above so that we also **retrieve the full URL which points to the corresponding page of primary-sponsored bills**, for each member, and return it along with their name, district, and party.\n",
    "\n",
    "Tips: \n",
    "\n",
    "* To do this, you will want to get the appropriate anchor element (`<a>`) in each legislator's row of the table. You can again use the `.select()` method on the `row` object in the loop to do this — similar to the command that finds all of the `td.detail` cells in the row. Remember that we only want the link to the legislator's bills, not the committees or the legislator's profile page.\n",
    "* The anchor elements' HTML will look like `<a href=\"/senate/Senator.asp/...\">Bills</a>`. The string in the `href` attribute contains the **relative** link we are after. You can access an attribute of a BeatifulSoup `Tag` object the same way you access a Python dictionary: `anchor['attributeName']`. (See the <a href=\"http://www.crummy.com/software/BeautifulSoup/bs4/doc/#tag\">documentation</a> for more details).\n",
    "* NOTE: There are a _lot_ of different ways to use BeautifulSoup to get things done; whatever you need to do to pull that HREF out is fine. Posting on the etherpad is recommended for discussing different strategies."
   ]
  },
  {
   "cell_type": "code",
   "execution_count": 21,
   "metadata": {},
   "outputs": [],
   "source": [
    "# SOLUTION\n",
    "\n",
    "# make a GET request\n",
    "req = requests.get('http://www.ilga.gov/senate/default.asp?GA=98')\n",
    "\n",
    "# read the content of the server’s response\n",
    "src = req.text\n",
    "\n",
    "# soup it\n",
    "soup = BeautifulSoup(src, \"lxml\")\n",
    "\n",
    "# Create empty list to store our data\n",
    "members = []\n",
    "\n",
    "# returns every ‘tr tr tr’ css selector in the page\n",
    "rows = soup.select('tr tr tr')\n",
    "\n",
    "# loop through all rows\n",
    "for row in rows:\n",
    "    # select only those 'td' tags with class 'detail'\n",
    "    detailCells = row.select('td.detail')\n",
    "    \n",
    "    # get rid of junk rows\n",
    "    if len(detailCells) is not 5: \n",
    "        continue\n",
    "        \n",
    "    # Keep only the text in each of those cells\n",
    "    rowData = [cell.text for cell in detailCells]\n",
    "    \n",
    "    # Collect information\n",
    "    name = rowData[0]\n",
    "    district = int(rowData[3])\n",
    "    party = rowData[4]\n",
    "    \n",
    "    # add href\n",
    "    href = row.select('a')[1]['href']\n",
    "    \n",
    "    # add full path\n",
    "    full_path = \"http://www.ilga.gov/senate/\" + href + \"&Primary=True\"\n",
    "    \n",
    "    # Store in a tuple\n",
    "    tup = (name,district,party, full_path)\n",
    "    \n",
    "    # Append to list\n",
    "    members.append(tup)"
   ]
  },
  {
   "cell_type": "code",
   "execution_count": 22,
   "metadata": {},
   "outputs": [
    {
     "data": {
      "text/plain": [
       "[('Pamela J. Althoff',\n",
       "  32,\n",
       "  'R',\n",
       "  'http://www.ilga.gov/senate/SenatorBills.asp?GA=98&MemberID=1911&Primary=True'),\n",
       " ('Jason A. Barickman',\n",
       "  53,\n",
       "  'R',\n",
       "  'http://www.ilga.gov/senate/SenatorBills.asp?GA=98&MemberID=2018&Primary=True'),\n",
       " ('Scott M Bennett',\n",
       "  52,\n",
       "  'D',\n",
       "  'http://www.ilga.gov/senate/SenatorBills.asp?GA=98&MemberID=2272&Primary=True'),\n",
       " ('Jennifer Bertino-Tarrant',\n",
       "  49,\n",
       "  'D',\n",
       "  'http://www.ilga.gov/senate/SenatorBills.asp?GA=98&MemberID=2022&Primary=True'),\n",
       " ('Daniel Biss',\n",
       "  9,\n",
       "  'D',\n",
       "  'http://www.ilga.gov/senate/SenatorBills.asp?GA=98&MemberID=2020&Primary=True')]"
      ]
     },
     "execution_count": 22,
     "metadata": {},
     "output_type": "execute_result"
    }
   ],
   "source": [
    "members[:5]"
   ]
  },
  {
   "cell_type": "markdown",
   "metadata": {},
   "source": [
    "## Challenge 4: Make a function\n",
    "\n",
    "Turn the code above into a function that accepts a URL, scrapes the URL for its senators, and returns a list of tuples containing information about each senator. "
   ]
  },
  {
   "cell_type": "code",
   "execution_count": 23,
   "metadata": {},
   "outputs": [],
   "source": [
    "# SOLUTION\n",
    "def get_members(url):\n",
    "    src = requests.get(url).text\n",
    "    soup = BeautifulSoup(src, \"lxml\")\n",
    "    rows = soup.select('tr')\n",
    "    members = []\n",
    "    for row in rows:\n",
    "        detailCells = row.select('td.detail')\n",
    "        if len(detailCells) is not 5:\n",
    "            continue\n",
    "        rowData = [cell.text for cell in detailCells]\n",
    "        name = rowData[0]\n",
    "        district = int(rowData[3])\n",
    "        party = rowData[4]\n",
    "        href = row.select('a')[1]['href']\n",
    "        full_path = \"http://www.ilga.gov/senate/\" + href + \"&Primary=True\"\n",
    "        tup = (name,district,party,full_path)\n",
    "        members.append(tup)\n",
    "    return(members)"
   ]
  },
  {
   "cell_type": "code",
   "execution_count": 24,
   "metadata": {},
   "outputs": [
    {
     "data": {
      "text/plain": [
       "61"
      ]
     },
     "execution_count": 24,
     "metadata": {},
     "output_type": "execute_result"
    }
   ],
   "source": [
    "# Test you code!\n",
    "senateMembers = get_members('http://www.ilga.gov/senate/default.asp?GA=98')\n",
    "len(senateMembers)"
   ]
  },
  {
   "cell_type": "markdown",
   "metadata": {},
   "source": [
    "# Part 3: Scrape Bills\n",
    "*****\n",
    "\n",
    "## 3.1 Writing a Scraper Function\n",
    "\n",
    "Now we want to scrape the webpages corresponding to bills sponsored by each bills.\n",
    "\n",
    "Write a function called `get_bills(url)` to parse a given Bills URL. This will involve:\n",
    "\n",
    "  - requesting the URL using the <a href=\"http://docs.python-requests.org/en/latest/\">`requests`</a> library\n",
    "  - using the features of the `BeautifulSoup` library to find all of the `<td>` elements with the class `billlist`\n",
    "  - return a _list_ of tuples, each with:\n",
    "      - description (2nd column)\n",
    "      - chamber (S or H) (3rd column)\n",
    "      - the last action (4th column)\n",
    "      - the last action date (5th column)\n",
    "      \n",
    "I've started the function for you. Fill in the rest."
   ]
  },
  {
   "cell_type": "code",
   "execution_count": 25,
   "metadata": {},
   "outputs": [],
   "source": [
    "# SOLUTION\n",
    "def get_bills(url):\n",
    "    src = requests.get(url).text\n",
    "    soup = BeautifulSoup(src, \"lxml\")\n",
    "    rows = soup.select('tr tr tr')\n",
    "    bills = []\n",
    "    rowData = []\n",
    "    for row in rows:\n",
    "        detailCells = row.select('td.billlist')\n",
    "        if len(detailCells) is not 5:\n",
    "            continue\n",
    "        rowData = [cell.text for cell in row]\n",
    "        bill_id = rowData[0]\n",
    "        description = rowData[2]\n",
    "        champber = rowData[3]\n",
    "        last_action = rowData[4]\n",
    "        last_action_date = rowData[5] \n",
    "        tup = (bill_id,description,champber,last_action,last_action_date)\n",
    "        bills.append(tup)\n",
    "    return(bills)"
   ]
  },
  {
   "cell_type": "code",
   "execution_count": 26,
   "metadata": {},
   "outputs": [
    {
     "data": {
      "text/plain": [
       "[('SB27', 'MEDICAID BUDGET NOTE ACT', 'S', 'Session Sine Die', '1/13/2015'),\n",
       " ('SB28',\n",
       "  'HOMELESS VETERANS SHELTER ACT',\n",
       "  'S',\n",
       "  'Session Sine Die',\n",
       "  '1/13/2015'),\n",
       " ('SB29', 'ROAD FUND-NO TRANSFERS', 'S', 'Session Sine Die', '1/13/2015'),\n",
       " ('SB33',\n",
       "  'EPA-RULES-DOCUMENT SUBMISSION',\n",
       "  'S',\n",
       "  'Public Act . . . . . . . . . 98-0072',\n",
       "  '7/15/2013'),\n",
       " ('SB104',\n",
       "  'MIN WAGE-OVERTIME-ALTERN SHIFT',\n",
       "  'S',\n",
       "  'Session Sine Die',\n",
       "  '1/13/2015')]"
      ]
     },
     "execution_count": 26,
     "metadata": {},
     "output_type": "execute_result"
    }
   ],
   "source": [
    "# uncomment to test your code:\n",
    "test_url = senateMembers[0][3]\n",
    "get_bills(test_url)[0:5]"
   ]
  },
  {
   "cell_type": "markdown",
   "metadata": {},
   "source": [
    "## 3.2 Get all the bills\n",
    "\n",
    "Finally, create a dictionary `bills_dict` which maps a district number (the key) onto a list_of_bills (the value) eminating from that district. You can do this by looping over all of the senate members in `members_dict` and calling `get_bills()` for each of their associated bill URLs.\n",
    "\n",
    "NOTE: please call the function `time.sleep(0.5)` for each iteration of the loop, so that we don't destroy the state's web site."
   ]
  },
  {
   "cell_type": "code",
   "execution_count": 27,
   "metadata": {},
   "outputs": [],
   "source": [
    "# SOLUTION\n",
    "bills_dict = {}\n",
    "for member in senateMembers[:5]:\n",
    "    bills_dict[member[1]] = get_bills(member[3])\n",
    "    time.sleep(1)"
   ]
  },
  {
   "cell_type": "code",
   "execution_count": 28,
   "metadata": {},
   "outputs": [
    {
     "data": {
      "text/plain": [
       "[('SR1730',\n",
       "  'MEMORIAL - THOMAS G. HAYS',\n",
       "  'S',\n",
       "  'Resolution Adopted',\n",
       "  '1/13/2015')]"
      ]
     },
     "execution_count": 28,
     "metadata": {},
     "output_type": "execute_result"
    }
   ],
   "source": [
    "bills_dict[52]"
   ]
  },
  {
   "cell_type": "code",
   "execution_count": null,
   "metadata": {
    "collapsed": true
   },
   "outputs": [],
   "source": []
  }
 ],
 "metadata": {
  "anaconda-cloud": {},
  "kernelspec": {
   "display_name": "Python 3",
   "language": "python",
   "name": "python3"
  },
  "language_info": {
   "codemirror_mode": {
    "name": "ipython",
    "version": 3
   },
   "file_extension": ".py",
   "mimetype": "text/x-python",
   "name": "python",
   "nbconvert_exporter": "python",
   "pygments_lexer": "ipython3",
   "version": "3.7.7"
  }
 },
 "nbformat": 4,
 "nbformat_minor": 1
}
