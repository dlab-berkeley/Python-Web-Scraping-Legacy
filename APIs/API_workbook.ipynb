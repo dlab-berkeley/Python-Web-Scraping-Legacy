{
 "cells": [
  {
   "cell_type": "markdown",
   "id": "6caa532f-d502-4576-9ee6-5ad88ca0c550",
   "metadata": {},
   "source": [
    "# Accessing Data via Web APIs\n"
   ]
  },
  {
   "cell_type": "code",
   "execution_count": 29,
   "id": "b0379359-694d-491c-ba18-fa80ea3c65bc",
   "metadata": {},
   "outputs": [],
   "source": [
    "# Import required libraries\n",
    "import matplotlib.pyplot as plt\n",
    "import numpy as np\n",
    "import pandas as pd\n",
    "from datetime import datetime"
   ]
  },
  {
   "cell_type": "markdown",
   "id": "8d2eeb34-dab0-464c-8fca-568624fe2cbb",
   "metadata": {},
   "source": [
    "## The New York Times API: All the Data Thats Fit to Query"
   ]
  },
  {
   "cell_type": "markdown",
   "id": "2168abb0-0e89-4f98-a677-eaa3683429bb",
   "metadata": {},
   "source": [
    "introduction here"
   ]
  },
  {
   "cell_type": "markdown",
   "id": "a639eb32-15e0-48fc-9cb5-3bd804fae0f9",
   "metadata": {},
   "source": [
    "## Step 1: Establishing the Connection"
   ]
  },
  {
   "cell_type": "markdown",
   "id": "da084101-19bc-46c1-9722-317d0514da5e",
   "metadata": {},
   "source": [
    "Put the API Key you just created in the `api_key` variable in the cell below"
   ]
  },
  {
   "cell_type": "code",
   "execution_count": 1,
   "id": "5fbdc8b6-a91d-4f07-a98c-2ba3e8b01726",
   "metadata": {},
   "outputs": [],
   "source": [
    "# Put your API key here\n",
    "api_key = \"\""
   ]
  },
  {
   "cell_type": "code",
   "execution_count": 2,
   "id": "a62d2d57",
   "metadata": {},
   "outputs": [],
   "source": [
    "#Save your key locally\n",
    "with open(\"nyt_api_key.txt\", \"w\") as f:\n",
    "    f.write(api_key)"
   ]
  },
  {
   "cell_type": "markdown",
   "id": "582ed0ad-ccad-4294-a50f-e1d4843217c6",
   "metadata": {},
   "source": [
    "To access the NYTimes' databases, we'll be using a third-party library called [pynytimes](https://github.com/michadenheijer/pynytimes). This package provides an easy to use tool for accessing the wealth of data hosted by the Times.\n",
    "\n",
    "To install the library, follow these instructions taken from their github repo."
   ]
  },
  {
   "cell_type": "markdown",
   "id": "5f5b395a-443f-4e40-91f7-8fcb5c33bbbe",
   "metadata": {},
   "source": [
    "### Installation\n",
    "\n",
    "There are multiple options to install `pynytimes`, but the easiest is by just installing it using `pip` in the Jupyter notebook itself, using a magic command:"
   ]
  },
  {
   "cell_type": "code",
   "execution_count": null,
   "id": "d1d80b96-2285-43ab-bbd6-090fd4a9c2d7",
   "metadata": {},
   "outputs": [],
   "source": [
    "!pip install pynytimes"
   ]
  },
  {
   "cell_type": "markdown",
   "id": "254a91bf-8626-46f8-acfc-163da0b862f2",
   "metadata": {},
   "source": [
    "You can also install it via the command line or Anaconda Navigator - whichever you're more comfortable with."
   ]
  },
  {
   "cell_type": "markdown",
   "id": "dc6d8416-3a3b-4641-954e-85519ca613ad",
   "metadata": {},
   "source": [
    "Once the package installed, let's go ahead import the library and initialize a connection to their servers using our api keys."
   ]
  },
  {
   "cell_type": "code",
   "execution_count": 3,
   "id": "dce57534-fe5d-45a4-bb97-f2df8dc3d9d6",
   "metadata": {},
   "outputs": [],
   "source": [
    "# Import the NYTAPI object which we'll use to access the API\n",
    "from pynytimes import NYTAPI"
   ]
  },
  {
   "cell_type": "code",
   "execution_count": 4,
   "id": "018a6dfa-9343-42b1-9014-165ae7507b0c",
   "metadata": {},
   "outputs": [],
   "source": [
    "# Intialize the NYT API class into an object using your API key\n",
    "nyt = NYTAPI(api_key, parse_dates=True)"
   ]
  },
  {
   "cell_type": "markdown",
   "id": "e13137c6-c776-4da0-b1a2-195726244be5",
   "metadata": {},
   "source": [
    "Ta-da! We are now ready to make some API calls!"
   ]
  },
  {
   "cell_type": "markdown",
   "id": "2a4a288c-8d6d-4774-bc84-822c9fedfaf0",
   "metadata": {},
   "source": [
    "## Step 2: Making API Calls\n",
    "\n",
    "Here's comes the fun part. Now that we've established a connection to New York Times' rich database, let's go over what kind of data and privileges we have access to."
   ]
  },
  {
   "cell_type": "markdown",
   "id": "deedf92b-e0bb-4d6a-996c-3c3b4078a7cf",
   "metadata": {},
   "source": [
    "### APIs\n",
    "\n",
    "[Here is the collection of the APIs the NYT gives us:](https://developer.nytimes.com/apis)\n",
    "\n",
    "- [Top stories](https://developer.nytimes.com/docs/top-stories-product/1/overview): Returns an array of articles currently on the specified section \n",
    "- [Most viewed/shared articles](https://developer.nytimes.com/docs/most-popular-product/1/overview): Provides services for getting the most popular articles on NYTimes.com based on emails, shares, or views.\n",
    "- [Article search](https://developer.nytimes.com/docs/articlesearch-product/1/overview): Look up articles by keyword. You can refine your search using filters and facets.\n",
    "- [Books](https://developer.nytimes.com/docs/books-product/1/overview): Provides information about book reviews and The New York Times Best Sellers lists.\n",
    "- [Movie reviews](https://developer.nytimes.com/docs/movie-reviews-api/1/overview): Search movie reviews by keyword and opening date and filter by Critics' Picks.\n",
    "- [Times Wire](https://developer.nytimes.com/docs/timeswire-product/1/overview): Get links and metadata for Times' articles as soon as they are published on NYTimes.com. The Times Newswire API provides an up-to-the-minute stream of published articles.\n",
    "- [Tag query (TimesTags)](https://developer.nytimes.com/docs/timestags-product/1/overview): Provide a string of characters and the service returns a ranked list of suggested terms.\n",
    "- [Archive metadata](https://developer.nytimes.com/docs/archive-product/1/overview): Returns an array of NYT articles for a given month, going back to 1851."
   ]
  },
  {
   "cell_type": "markdown",
   "id": "35c8345e-3c62-4b69-ac99-d15aeff7d5a3",
   "metadata": {},
   "source": [
    "In this workshop we go over a few of the APIs and do some light data analysis of the data we pull."
   ]
  },
  {
   "cell_type": "markdown",
   "id": "44a18eac-436d-43ef-8151-6bfc85a74a8d",
   "metadata": {},
   "source": [
    "### Top Stories API\n",
    "\n",
    "Let's look at the top stories of the day. All we have to do is call a single method on the `nyt` object:"
   ]
  },
  {
   "cell_type": "code",
   "execution_count": null,
   "id": "c6d14b2a-67f3-42b6-b383-1eb78962a05a",
   "metadata": {},
   "outputs": [],
   "source": [
    "# Get all the top stories from the home page\n",
    "top_stories = nyt.top_stories()\n",
    "\n",
    "print(f\"top_stories is a list of length {len(top_stories)}\")"
   ]
  },
  {
   "cell_type": "markdown",
   "id": "8eded794-5f47-4848-9c59-9ba325efecaf",
   "metadata": {},
   "source": [
    "The `top_stories` method has a single paramater called `section` parameter defaults to \"home\"."
   ]
  },
  {
   "cell_type": "code",
   "execution_count": null,
   "id": "b582b805-46fb-48f4-8b0c-fc5585b7b898",
   "metadata": {},
   "outputs": [],
   "source": [
    "# Preview the results\n",
    "top_stories[:3]"
   ]
  },
  {
   "cell_type": "markdown",
   "id": "5724e114-fe34-4471-9ffe-310f9d921a7e",
   "metadata": {},
   "source": [
    "This is pretty typical output for data pulled from an API. We are looking at a list of nested JSON dictionaries."
   ]
  },
  {
   "cell_type": "markdown",
   "id": "38b034d1-32f9-4a41-93c3-e76c90ebaa81",
   "metadata": {},
   "source": [
    "When working with a new API, a good way to establish an understanding of the data is to inspect a single object in the collection. Let's grab the first story in the array and inspect its attributes and data:"
   ]
  },
  {
   "cell_type": "code",
   "execution_count": null,
   "id": "f744cb9e-d991-4c2e-97bd-d12aa5912119",
   "metadata": {},
   "outputs": [],
   "source": [
    "top_story = top_stories[0]\n",
    "top_story"
   ]
  },
  {
   "cell_type": "markdown",
   "id": "08a0fa06-969c-4e20-b392-3e4adb298a7d",
   "metadata": {},
   "source": [
    "We are provided a diverse collection of data for the article ranging from the expected (title, author, section) and to NLP-derived information such as named entities. Notice that the full article itself is not included - the API does not provide that to us."
   ]
  },
  {
   "cell_type": "markdown",
   "id": "c7cc9364-4bb4-477c-989c-97ca2fe0815e",
   "metadata": {},
   "source": [
    "**Does anything about the data stand out to you? What bits of information could be useful to you and your research needs?**"
   ]
  },
  {
   "cell_type": "markdown",
   "id": "6169914c-9e61-459d-acad-67d579cb153d",
   "metadata": {},
   "source": [
    "If we are interested in a specific section, we can pass in one of the following tags into the `section` parameter:\n",
    "\n",
    "\n",
    "```arts```, ```automobiles```, ```books```, ```business```, ```fashion```, ```food```, ```health```, ```home```, ```insider```, ```magazine```, ```movies```, ```national```, ```nyregion```, ```obituaries```, ```opinion```, ```politics```, ```realestate```, ```science```, ```sports```, ```sundayreview```, ```technology```, ```theater```, ```tmagazine```, ```travel```, ```upshot```, and ```world```.\n"
   ]
  },
  {
   "cell_type": "code",
   "execution_count": null,
   "id": "df012cca-1573-4347-9e91-41e7c6178fcd",
   "metadata": {},
   "outputs": [],
   "source": [
    "top_arts_stories = nyt.top_stories(section='arts')\n",
    "print(top_arts_stories[0]['section'])\n",
    "top_arts_stories[0]"
   ]
  },
  {
   "cell_type": "markdown",
   "id": "cc28bc7d-d3dd-48ff-99d8-20b9db7046b0",
   "metadata": {},
   "source": [
    "### Challenge 1: Find the top stories for a section\n",
    "\n",
    "- Choose 2 sections. Grab their top stories and store them in two separate lists.\n",
    "- How many stories are each in section?\n",
    "- What is the title of the first story in each list?"
   ]
  },
  {
   "cell_type": "code",
   "execution_count": null,
   "id": "12c920bc-bf8c-48a4-a34e-d10e4a23476d",
   "metadata": {},
   "outputs": [],
   "source": [
    "# Challenge 1 solution here\n",
    "\n",
    "\n"
   ]
  },
  {
   "cell_type": "markdown",
   "id": "73610bbb-e547-4dac-9d55-be815fba4009",
   "metadata": {},
   "source": [
    "### Organizing the API Results into a `pandas` DataFrame\n",
    "\n",
    "In order to conduct subsequent data analysis, we need to convert the list of JSON data to a `pandas` DataFrame. `pandas` allows us to simply pass in the JSON list and produce a clean table in one line of code. "
   ]
  },
  {
   "cell_type": "markdown",
   "id": "cab0d546-3798-4ed9-bb8c-15bfd6ad5333",
   "metadata": {},
   "source": [
    "First, let's see what happens when we pass in `top_stories` to `pd.json_normalize`:"
   ]
  },
  {
   "cell_type": "code",
   "execution_count": 26,
   "id": "176bb5a8-53db-4244-a525-bd836b902ede",
   "metadata": {},
   "outputs": [
    {
     "data": {
      "text/html": [
       "<div>\n",
       "<style scoped>\n",
       "    .dataframe tbody tr th:only-of-type {\n",
       "        vertical-align: middle;\n",
       "    }\n",
       "\n",
       "    .dataframe tbody tr th {\n",
       "        vertical-align: top;\n",
       "    }\n",
       "\n",
       "    .dataframe thead th {\n",
       "        text-align: right;\n",
       "    }\n",
       "</style>\n",
       "<table border=\"1\" class=\"dataframe\">\n",
       "  <thead>\n",
       "    <tr style=\"text-align: right;\">\n",
       "      <th></th>\n",
       "      <th>section</th>\n",
       "      <th>subsection</th>\n",
       "      <th>title</th>\n",
       "      <th>abstract</th>\n",
       "      <th>url</th>\n",
       "      <th>uri</th>\n",
       "      <th>byline</th>\n",
       "      <th>item_type</th>\n",
       "      <th>updated_date</th>\n",
       "      <th>created_date</th>\n",
       "      <th>published_date</th>\n",
       "      <th>material_type_facet</th>\n",
       "      <th>kicker</th>\n",
       "      <th>des_facet</th>\n",
       "      <th>org_facet</th>\n",
       "      <th>per_facet</th>\n",
       "      <th>geo_facet</th>\n",
       "      <th>multimedia</th>\n",
       "      <th>short_url</th>\n",
       "    </tr>\n",
       "  </thead>\n",
       "  <tbody>\n",
       "    <tr>\n",
       "      <th>0</th>\n",
       "      <td>us</td>\n",
       "      <td>politics</td>\n",
       "      <td>Jan. 6 Inquiry Subpoenas Giuliani and Legal Te...</td>\n",
       "      <td>The House committee investigating the Capitol ...</td>\n",
       "      <td>https://www.nytimes.com/2022/01/18/us/politics...</td>\n",
       "      <td>nyt://article/84d52f73-2547-52ee-808b-4c0b39ba...</td>\n",
       "      <td>By Luke Broadwater</td>\n",
       "      <td>Article</td>\n",
       "      <td>2022-01-18 18:42:30-05:00</td>\n",
       "      <td>2022-01-18 17:25:25-05:00</td>\n",
       "      <td>2022-01-18 17:25:25-05:00</td>\n",
       "      <td></td>\n",
       "      <td></td>\n",
       "      <td>[Storming of the US Capitol (Jan, 2021), Voter...</td>\n",
       "      <td>[]</td>\n",
       "      <td>[Giuliani, Rudolph W, Ellis, Jenna (Attorney),...</td>\n",
       "      <td>[]</td>\n",
       "      <td>[{'url': 'https://static01.nyt.com/images/2022...</td>\n",
       "      <td>https://nyti.ms/3IlkFIz</td>\n",
       "    </tr>\n",
       "    <tr>\n",
       "      <th>1</th>\n",
       "      <td>us</td>\n",
       "      <td>politics</td>\n",
       "      <td>Prosecutors Said to Have Asked About Trump’s R...</td>\n",
       "      <td>A court filing by a defendant in a Capitol rio...</td>\n",
       "      <td>https://www.nytimes.com/2022/01/18/us/politics...</td>\n",
       "      <td>nyt://article/d46fd5ff-8171-5153-b9a4-d9935a16...</td>\n",
       "      <td>By Alan Feuer</td>\n",
       "      <td>Article</td>\n",
       "      <td>2022-01-18 18:31:57-05:00</td>\n",
       "      <td>2022-01-18 18:27:50-05:00</td>\n",
       "      <td>2022-01-18 18:27:50-05:00</td>\n",
       "      <td></td>\n",
       "      <td></td>\n",
       "      <td>[Storming of the US Capitol (Jan, 2021), Unite...</td>\n",
       "      <td>[House of Representatives, Justice Department]</td>\n",
       "      <td>[Trump, Donald J, Straka, Brandon]</td>\n",
       "      <td>[]</td>\n",
       "      <td>[{'url': 'https://static01.nyt.com/images/2022...</td>\n",
       "      <td>https://nyti.ms/3tCgd3M</td>\n",
       "    </tr>\n",
       "    <tr>\n",
       "      <th>2</th>\n",
       "      <td>us</td>\n",
       "      <td>politics</td>\n",
       "      <td>Blinken Will Meet With Russia as U.S. Pushes f...</td>\n",
       "      <td>Secretary of State Antony J. Blinken will meet...</td>\n",
       "      <td>https://www.nytimes.com/2022/01/18/us/politics...</td>\n",
       "      <td>nyt://article/9280bf9e-0806-5d68-8932-508ac450...</td>\n",
       "      <td>By Michael Crowley and Anton Troianovski</td>\n",
       "      <td>Article</td>\n",
       "      <td>2022-01-18 17:52:34-05:00</td>\n",
       "      <td>2022-01-18 13:15:07-05:00</td>\n",
       "      <td>2022-01-18 13:15:07-05:00</td>\n",
       "      <td></td>\n",
       "      <td></td>\n",
       "      <td>[United States International Relations, United...</td>\n",
       "      <td>[North Atlantic Treaty Organization, State Dep...</td>\n",
       "      <td>[Blinken, Antony J, Lavrov, Sergey V]</td>\n",
       "      <td>[Russia, Ukraine]</td>\n",
       "      <td>[{'url': 'https://static01.nyt.com/images/2022...</td>\n",
       "      <td>https://nyti.ms/3nBgTml</td>\n",
       "    </tr>\n",
       "    <tr>\n",
       "      <th>3</th>\n",
       "      <td>nyregion</td>\n",
       "      <td></td>\n",
       "      <td>New York City’s mayor says ‘we are winning’ ag...</td>\n",
       "      <td>The number of known cases is still much higher...</td>\n",
       "      <td>https://www.nytimes.com/2022/01/18/nyregion/er...</td>\n",
       "      <td>nyt://article/b9730ac3-f530-5c50-a15c-69dc7b7c...</td>\n",
       "      <td>By Emma G. Fitzsimmons and Sharon Otterman</td>\n",
       "      <td>Article</td>\n",
       "      <td>2022-01-18 17:57:48-05:00</td>\n",
       "      <td>2022-01-18 13:32:57-05:00</td>\n",
       "      <td>2022-01-18 13:32:57-05:00</td>\n",
       "      <td></td>\n",
       "      <td></td>\n",
       "      <td>[Vaccination and Immunization, Coronavirus (20...</td>\n",
       "      <td>[]</td>\n",
       "      <td>[Adams, Eric L]</td>\n",
       "      <td>[New York City]</td>\n",
       "      <td>[{'url': 'https://static01.nyt.com/images/2022...</td>\n",
       "      <td>https://nyti.ms/3GIlxGz</td>\n",
       "    </tr>\n",
       "    <tr>\n",
       "      <th>4</th>\n",
       "      <td>business</td>\n",
       "      <td></td>\n",
       "      <td>Microsoft will buy Activision Blizzard, bettin...</td>\n",
       "      <td>With the deal, the largest in the software mak...</td>\n",
       "      <td>https://www.nytimes.com/2022/01/18/business/mi...</td>\n",
       "      <td>nyt://article/c52eda4d-59d9-5db8-a1bd-9286203f...</td>\n",
       "      <td>By Karen Weise, Andrew Ross Sorkin, Kellen Bro...</td>\n",
       "      <td>Article</td>\n",
       "      <td>2022-01-18 17:39:36-05:00</td>\n",
       "      <td>2022-01-18 08:37:26-05:00</td>\n",
       "      <td>2022-01-18 08:37:26-05:00</td>\n",
       "      <td></td>\n",
       "      <td></td>\n",
       "      <td>[Computer and Video Games, Mergers, Acquisitio...</td>\n",
       "      <td>[Activision Blizzard Inc, Microsoft Corp]</td>\n",
       "      <td>[Kotick, Bobby, Nadella, Satya]</td>\n",
       "      <td>[]</td>\n",
       "      <td>[{'url': 'https://static01.nyt.com/images/2022...</td>\n",
       "      <td>https://nyti.ms/34Q2c8j</td>\n",
       "    </tr>\n",
       "  </tbody>\n",
       "</table>\n",
       "</div>"
      ],
      "text/plain": [
       "    section subsection                                              title  \\\n",
       "0        us   politics  Jan. 6 Inquiry Subpoenas Giuliani and Legal Te...   \n",
       "1        us   politics  Prosecutors Said to Have Asked About Trump’s R...   \n",
       "2        us   politics  Blinken Will Meet With Russia as U.S. Pushes f...   \n",
       "3  nyregion             New York City’s mayor says ‘we are winning’ ag...   \n",
       "4  business             Microsoft will buy Activision Blizzard, bettin...   \n",
       "\n",
       "                                            abstract  \\\n",
       "0  The House committee investigating the Capitol ...   \n",
       "1  A court filing by a defendant in a Capitol rio...   \n",
       "2  Secretary of State Antony J. Blinken will meet...   \n",
       "3  The number of known cases is still much higher...   \n",
       "4  With the deal, the largest in the software mak...   \n",
       "\n",
       "                                                 url  \\\n",
       "0  https://www.nytimes.com/2022/01/18/us/politics...   \n",
       "1  https://www.nytimes.com/2022/01/18/us/politics...   \n",
       "2  https://www.nytimes.com/2022/01/18/us/politics...   \n",
       "3  https://www.nytimes.com/2022/01/18/nyregion/er...   \n",
       "4  https://www.nytimes.com/2022/01/18/business/mi...   \n",
       "\n",
       "                                                 uri  \\\n",
       "0  nyt://article/84d52f73-2547-52ee-808b-4c0b39ba...   \n",
       "1  nyt://article/d46fd5ff-8171-5153-b9a4-d9935a16...   \n",
       "2  nyt://article/9280bf9e-0806-5d68-8932-508ac450...   \n",
       "3  nyt://article/b9730ac3-f530-5c50-a15c-69dc7b7c...   \n",
       "4  nyt://article/c52eda4d-59d9-5db8-a1bd-9286203f...   \n",
       "\n",
       "                                              byline item_type  \\\n",
       "0                                 By Luke Broadwater   Article   \n",
       "1                                      By Alan Feuer   Article   \n",
       "2           By Michael Crowley and Anton Troianovski   Article   \n",
       "3         By Emma G. Fitzsimmons and Sharon Otterman   Article   \n",
       "4  By Karen Weise, Andrew Ross Sorkin, Kellen Bro...   Article   \n",
       "\n",
       "                updated_date               created_date  \\\n",
       "0  2022-01-18 18:42:30-05:00  2022-01-18 17:25:25-05:00   \n",
       "1  2022-01-18 18:31:57-05:00  2022-01-18 18:27:50-05:00   \n",
       "2  2022-01-18 17:52:34-05:00  2022-01-18 13:15:07-05:00   \n",
       "3  2022-01-18 17:57:48-05:00  2022-01-18 13:32:57-05:00   \n",
       "4  2022-01-18 17:39:36-05:00  2022-01-18 08:37:26-05:00   \n",
       "\n",
       "              published_date material_type_facet kicker  \\\n",
       "0  2022-01-18 17:25:25-05:00                              \n",
       "1  2022-01-18 18:27:50-05:00                              \n",
       "2  2022-01-18 13:15:07-05:00                              \n",
       "3  2022-01-18 13:32:57-05:00                              \n",
       "4  2022-01-18 08:37:26-05:00                              \n",
       "\n",
       "                                           des_facet  \\\n",
       "0  [Storming of the US Capitol (Jan, 2021), Voter...   \n",
       "1  [Storming of the US Capitol (Jan, 2021), Unite...   \n",
       "2  [United States International Relations, United...   \n",
       "3  [Vaccination and Immunization, Coronavirus (20...   \n",
       "4  [Computer and Video Games, Mergers, Acquisitio...   \n",
       "\n",
       "                                           org_facet  \\\n",
       "0                                                 []   \n",
       "1     [House of Representatives, Justice Department]   \n",
       "2  [North Atlantic Treaty Organization, State Dep...   \n",
       "3                                                 []   \n",
       "4          [Activision Blizzard Inc, Microsoft Corp]   \n",
       "\n",
       "                                           per_facet          geo_facet  \\\n",
       "0  [Giuliani, Rudolph W, Ellis, Jenna (Attorney),...                 []   \n",
       "1                 [Trump, Donald J, Straka, Brandon]                 []   \n",
       "2              [Blinken, Antony J, Lavrov, Sergey V]  [Russia, Ukraine]   \n",
       "3                                    [Adams, Eric L]    [New York City]   \n",
       "4                    [Kotick, Bobby, Nadella, Satya]                 []   \n",
       "\n",
       "                                          multimedia                short_url  \n",
       "0  [{'url': 'https://static01.nyt.com/images/2022...  https://nyti.ms/3IlkFIz  \n",
       "1  [{'url': 'https://static01.nyt.com/images/2022...  https://nyti.ms/3tCgd3M  \n",
       "2  [{'url': 'https://static01.nyt.com/images/2022...  https://nyti.ms/3nBgTml  \n",
       "3  [{'url': 'https://static01.nyt.com/images/2022...  https://nyti.ms/3GIlxGz  \n",
       "4  [{'url': 'https://static01.nyt.com/images/2022...  https://nyti.ms/34Q2c8j  "
      ]
     },
     "execution_count": 26,
     "metadata": {},
     "output_type": "execute_result"
    }
   ],
   "source": [
    "# Convert to DataFrmae\n",
    "df = pd.json_normalize(top_stories)\n",
    "# View the first 5 rows\n",
    "df.head()"
   ]
  },
  {
   "cell_type": "code",
   "execution_count": 20,
   "id": "fa8e6202-f3f8-4d43-9601-c0fb0404ba85",
   "metadata": {},
   "outputs": [
    {
     "name": "stdout",
     "output_type": "stream",
     "text": [
      "<class 'pandas.core.frame.DataFrame'>\n",
      "RangeIndex: 60 entries, 0 to 59\n",
      "Data columns (total 19 columns):\n",
      " #   Column               Non-Null Count  Dtype \n",
      "---  ------               --------------  ----- \n",
      " 0   section              60 non-null     object\n",
      " 1   subsection           60 non-null     object\n",
      " 2   title                60 non-null     object\n",
      " 3   abstract             60 non-null     object\n",
      " 4   url                  60 non-null     object\n",
      " 5   uri                  60 non-null     object\n",
      " 6   byline               60 non-null     object\n",
      " 7   item_type            60 non-null     object\n",
      " 8   updated_date         60 non-null     object\n",
      " 9   created_date         60 non-null     object\n",
      " 10  published_date       60 non-null     object\n",
      " 11  material_type_facet  60 non-null     object\n",
      " 12  kicker               60 non-null     object\n",
      " 13  des_facet            60 non-null     object\n",
      " 14  org_facet            60 non-null     object\n",
      " 15  per_facet            60 non-null     object\n",
      " 16  geo_facet            60 non-null     object\n",
      " 17  multimedia           59 non-null     object\n",
      " 18  short_url            60 non-null     object\n",
      "dtypes: object(19)\n",
      "memory usage: 9.0+ KB\n"
     ]
    }
   ],
   "source": [
    "# Inspect the metadata\n",
    "df.info()"
   ]
  },
  {
   "cell_type": "markdown",
   "id": "a241d131-f695-4aaa-bcef-104f57761099",
   "metadata": {},
   "source": [
    "For the most part, `pandas` does a good job of producing a table where:\n",
    "\n",
    "- The columns correspond with the JSON dictionary keys from our API call.\n",
    "- The number of rows matches the number of articles.\n",
    "- Each cell holds the corresponding value found under that article's dictionary key.\n",
    "\n",
    "However, there is one issue and that can be found in the multimedia column:"
   ]
  },
  {
   "cell_type": "code",
   "execution_count": 21,
   "id": "90122393-6c7c-4cb4-8f7c-44b88cfabac4",
   "metadata": {},
   "outputs": [
    {
     "data": {
      "text/plain": [
       "0    [{'url': 'https://static01.nyt.com/images/2022...\n",
       "1    [{'url': 'https://static01.nyt.com/images/2022...\n",
       "2    [{'url': 'https://static01.nyt.com/images/2022...\n",
       "3    [{'url': 'https://static01.nyt.com/images/2022...\n",
       "4    [{'url': 'https://static01.nyt.com/images/2022...\n",
       "Name: multimedia, dtype: object"
      ]
     },
     "execution_count": 21,
     "metadata": {},
     "output_type": "execute_result"
    }
   ],
   "source": [
    "# Grab the multimedia column data\n",
    "multimedia = df[\"multimedia\"]\n",
    "multimedia.head()"
   ]
  },
  {
   "cell_type": "code",
   "execution_count": 23,
   "id": "967f966e-d27d-4184-96ce-36d8f72d4cb0",
   "metadata": {},
   "outputs": [
    {
     "data": {
      "text/plain": [
       "[{'url': 'https://static01.nyt.com/images/2022/01/18/us/politics/18dc-investigate-1/18dc-investigate-1-superJumbo.jpg',\n",
       "  'format': 'superJumbo',\n",
       "  'height': 1365,\n",
       "  'width': 2048,\n",
       "  'type': 'image',\n",
       "  'subtype': 'photo',\n",
       "  'caption': 'Rudolph W. Giuliani at a news conference in November 2020. The House committee investigating the Jan. 6 attack subpoenaed him on Tuesday.',\n",
       "  'copyright': 'Erin Schaff/The New York Times'}]"
      ]
     },
     "execution_count": 23,
     "metadata": {},
     "output_type": "execute_result"
    }
   ],
   "source": [
    "# Examine the first entry\n",
    "multimedia.iloc[0]"
   ]
  },
  {
   "cell_type": "markdown",
   "id": "1b048471-8567-441f-94ba-2a7bd80b8c14",
   "metadata": {},
   "source": [
    "The data in the multimedia column is what's referred to as a \"nested list\". An issue may arise if we'd like to treat attributes in an article's `multimedia` data as distinct columns. Luckily, the `json_normalize` method has parameters that get around this."
   ]
  },
  {
   "cell_type": "code",
   "execution_count": 27,
   "id": "45f834f0-3044-42ee-bebd-7498024f4ee8",
   "metadata": {},
   "outputs": [
    {
     "data": {
      "text/html": [
       "<div>\n",
       "<style scoped>\n",
       "    .dataframe tbody tr th:only-of-type {\n",
       "        vertical-align: middle;\n",
       "    }\n",
       "\n",
       "    .dataframe tbody tr th {\n",
       "        vertical-align: top;\n",
       "    }\n",
       "\n",
       "    .dataframe thead th {\n",
       "        text-align: right;\n",
       "    }\n",
       "</style>\n",
       "<table border=\"1\" class=\"dataframe\">\n",
       "  <thead>\n",
       "    <tr style=\"text-align: right;\">\n",
       "      <th></th>\n",
       "      <th>multimedia_url</th>\n",
       "      <th>multimedia_format</th>\n",
       "      <th>multimedia_height</th>\n",
       "      <th>multimedia_width</th>\n",
       "      <th>multimedia_type</th>\n",
       "      <th>multimedia_subtype</th>\n",
       "      <th>multimedia_caption</th>\n",
       "      <th>multimedia_copyright</th>\n",
       "      <th>section</th>\n",
       "      <th>subsection</th>\n",
       "      <th>...</th>\n",
       "      <th>created_date</th>\n",
       "      <th>published_date</th>\n",
       "      <th>material_type_facet</th>\n",
       "      <th>kicker</th>\n",
       "      <th>des_facet</th>\n",
       "      <th>org_facet</th>\n",
       "      <th>per_facet</th>\n",
       "      <th>geo_facet</th>\n",
       "      <th>multimedia</th>\n",
       "      <th>short_url</th>\n",
       "    </tr>\n",
       "  </thead>\n",
       "  <tbody>\n",
       "    <tr>\n",
       "      <th>0</th>\n",
       "      <td>https://static01.nyt.com/images/2022/01/18/us/...</td>\n",
       "      <td>superJumbo</td>\n",
       "      <td>1365</td>\n",
       "      <td>2048</td>\n",
       "      <td>image</td>\n",
       "      <td>photo</td>\n",
       "      <td>Rudolph W. Giuliani at a news conference in No...</td>\n",
       "      <td>Erin Schaff/The New York Times</td>\n",
       "      <td>us</td>\n",
       "      <td>politics</td>\n",
       "      <td>...</td>\n",
       "      <td>2022-01-18 17:25:25-05:00</td>\n",
       "      <td>2022-01-18 17:25:25-05:00</td>\n",
       "      <td></td>\n",
       "      <td></td>\n",
       "      <td>[Storming of the US Capitol (Jan, 2021), Voter...</td>\n",
       "      <td>[]</td>\n",
       "      <td>[Giuliani, Rudolph W, Ellis, Jenna (Attorney),...</td>\n",
       "      <td>[]</td>\n",
       "      <td>[{'url': 'https://static01.nyt.com/images/2022...</td>\n",
       "      <td>https://nyti.ms/3IlkFIz</td>\n",
       "    </tr>\n",
       "    <tr>\n",
       "      <th>1</th>\n",
       "      <td>https://static01.nyt.com/images/2022/01/18/us/...</td>\n",
       "      <td>superJumbo</td>\n",
       "      <td>1365</td>\n",
       "      <td>2048</td>\n",
       "      <td>image</td>\n",
       "      <td>photo</td>\n",
       "      <td>A new court filing said prosecutors had posed ...</td>\n",
       "      <td>Cooper Neill for The New York Times</td>\n",
       "      <td>us</td>\n",
       "      <td>politics</td>\n",
       "      <td>...</td>\n",
       "      <td>2022-01-18 18:27:50-05:00</td>\n",
       "      <td>2022-01-18 18:27:50-05:00</td>\n",
       "      <td></td>\n",
       "      <td></td>\n",
       "      <td>[Storming of the US Capitol (Jan, 2021), Unite...</td>\n",
       "      <td>[House of Representatives, Justice Department]</td>\n",
       "      <td>[Trump, Donald J, Straka, Brandon]</td>\n",
       "      <td>[]</td>\n",
       "      <td>[{'url': 'https://static01.nyt.com/images/2022...</td>\n",
       "      <td>https://nyti.ms/3tCgd3M</td>\n",
       "    </tr>\n",
       "    <tr>\n",
       "      <th>2</th>\n",
       "      <td>https://static01.nyt.com/images/2022/01/18/us/...</td>\n",
       "      <td>superJumbo</td>\n",
       "      <td>1397</td>\n",
       "      <td>2048</td>\n",
       "      <td>image</td>\n",
       "      <td>photo</td>\n",
       "      <td>Secretary of State Antony J. Blinken’s mission...</td>\n",
       "      <td>Pool photo by Andrew Harnik</td>\n",
       "      <td>us</td>\n",
       "      <td>politics</td>\n",
       "      <td>...</td>\n",
       "      <td>2022-01-18 13:15:07-05:00</td>\n",
       "      <td>2022-01-18 13:15:07-05:00</td>\n",
       "      <td></td>\n",
       "      <td></td>\n",
       "      <td>[United States International Relations, United...</td>\n",
       "      <td>[North Atlantic Treaty Organization, State Dep...</td>\n",
       "      <td>[Blinken, Antony J, Lavrov, Sergey V]</td>\n",
       "      <td>[Russia, Ukraine]</td>\n",
       "      <td>[{'url': 'https://static01.nyt.com/images/2022...</td>\n",
       "      <td>https://nyti.ms/3nBgTml</td>\n",
       "    </tr>\n",
       "    <tr>\n",
       "      <th>3</th>\n",
       "      <td>https://static01.nyt.com/images/2022/01/18/mul...</td>\n",
       "      <td>superJumbo</td>\n",
       "      <td>1365</td>\n",
       "      <td>2048</td>\n",
       "      <td>image</td>\n",
       "      <td>photo</td>\n",
       "      <td>Mayor Eric Adams expressed optimism as New Yor...</td>\n",
       "      <td>Brittainy Newman for The New York Times</td>\n",
       "      <td>nyregion</td>\n",
       "      <td></td>\n",
       "      <td>...</td>\n",
       "      <td>2022-01-18 13:32:57-05:00</td>\n",
       "      <td>2022-01-18 13:32:57-05:00</td>\n",
       "      <td></td>\n",
       "      <td></td>\n",
       "      <td>[Vaccination and Immunization, Coronavirus (20...</td>\n",
       "      <td>[]</td>\n",
       "      <td>[Adams, Eric L]</td>\n",
       "      <td>[New York City]</td>\n",
       "      <td>[{'url': 'https://static01.nyt.com/images/2022...</td>\n",
       "      <td>https://nyti.ms/3GIlxGz</td>\n",
       "    </tr>\n",
       "    <tr>\n",
       "      <th>4</th>\n",
       "      <td>https://static01.nyt.com/images/2022/01/18/bus...</td>\n",
       "      <td>superJumbo</td>\n",
       "      <td>1365</td>\n",
       "      <td>2048</td>\n",
       "      <td>image</td>\n",
       "      <td>photo</td>\n",
       "      <td>In buying Activision Blizzard, the maker of Ca...</td>\n",
       "      <td>Benoit Tessier/Reuters</td>\n",
       "      <td>business</td>\n",
       "      <td></td>\n",
       "      <td>...</td>\n",
       "      <td>2022-01-18 08:37:26-05:00</td>\n",
       "      <td>2022-01-18 08:37:26-05:00</td>\n",
       "      <td></td>\n",
       "      <td></td>\n",
       "      <td>[Computer and Video Games, Mergers, Acquisitio...</td>\n",
       "      <td>[Activision Blizzard Inc, Microsoft Corp]</td>\n",
       "      <td>[Kotick, Bobby, Nadella, Satya]</td>\n",
       "      <td>[]</td>\n",
       "      <td>[{'url': 'https://static01.nyt.com/images/2022...</td>\n",
       "      <td>https://nyti.ms/34Q2c8j</td>\n",
       "    </tr>\n",
       "  </tbody>\n",
       "</table>\n",
       "<p>5 rows × 27 columns</p>\n",
       "</div>"
      ],
      "text/plain": [
       "                                      multimedia_url multimedia_format  \\\n",
       "0  https://static01.nyt.com/images/2022/01/18/us/...        superJumbo   \n",
       "1  https://static01.nyt.com/images/2022/01/18/us/...        superJumbo   \n",
       "2  https://static01.nyt.com/images/2022/01/18/us/...        superJumbo   \n",
       "3  https://static01.nyt.com/images/2022/01/18/mul...        superJumbo   \n",
       "4  https://static01.nyt.com/images/2022/01/18/bus...        superJumbo   \n",
       "\n",
       "   multimedia_height  multimedia_width multimedia_type multimedia_subtype  \\\n",
       "0               1365              2048           image              photo   \n",
       "1               1365              2048           image              photo   \n",
       "2               1397              2048           image              photo   \n",
       "3               1365              2048           image              photo   \n",
       "4               1365              2048           image              photo   \n",
       "\n",
       "                                  multimedia_caption  \\\n",
       "0  Rudolph W. Giuliani at a news conference in No...   \n",
       "1  A new court filing said prosecutors had posed ...   \n",
       "2  Secretary of State Antony J. Blinken’s mission...   \n",
       "3  Mayor Eric Adams expressed optimism as New Yor...   \n",
       "4  In buying Activision Blizzard, the maker of Ca...   \n",
       "\n",
       "                      multimedia_copyright   section subsection  ...  \\\n",
       "0           Erin Schaff/The New York Times        us   politics  ...   \n",
       "1      Cooper Neill for The New York Times        us   politics  ...   \n",
       "2              Pool photo by Andrew Harnik        us   politics  ...   \n",
       "3  Brittainy Newman for The New York Times  nyregion             ...   \n",
       "4                   Benoit Tessier/Reuters  business             ...   \n",
       "\n",
       "                created_date             published_date material_type_facet  \\\n",
       "0  2022-01-18 17:25:25-05:00  2022-01-18 17:25:25-05:00                       \n",
       "1  2022-01-18 18:27:50-05:00  2022-01-18 18:27:50-05:00                       \n",
       "2  2022-01-18 13:15:07-05:00  2022-01-18 13:15:07-05:00                       \n",
       "3  2022-01-18 13:32:57-05:00  2022-01-18 13:32:57-05:00                       \n",
       "4  2022-01-18 08:37:26-05:00  2022-01-18 08:37:26-05:00                       \n",
       "\n",
       "  kicker                                          des_facet  \\\n",
       "0         [Storming of the US Capitol (Jan, 2021), Voter...   \n",
       "1         [Storming of the US Capitol (Jan, 2021), Unite...   \n",
       "2         [United States International Relations, United...   \n",
       "3         [Vaccination and Immunization, Coronavirus (20...   \n",
       "4         [Computer and Video Games, Mergers, Acquisitio...   \n",
       "\n",
       "                                           org_facet  \\\n",
       "0                                                 []   \n",
       "1     [House of Representatives, Justice Department]   \n",
       "2  [North Atlantic Treaty Organization, State Dep...   \n",
       "3                                                 []   \n",
       "4          [Activision Blizzard Inc, Microsoft Corp]   \n",
       "\n",
       "                                           per_facet          geo_facet  \\\n",
       "0  [Giuliani, Rudolph W, Ellis, Jenna (Attorney),...                 []   \n",
       "1                 [Trump, Donald J, Straka, Brandon]                 []   \n",
       "2              [Blinken, Antony J, Lavrov, Sergey V]  [Russia, Ukraine]   \n",
       "3                                    [Adams, Eric L]    [New York City]   \n",
       "4                    [Kotick, Bobby, Nadella, Satya]                 []   \n",
       "\n",
       "                                          multimedia                short_url  \n",
       "0  [{'url': 'https://static01.nyt.com/images/2022...  https://nyti.ms/3IlkFIz  \n",
       "1  [{'url': 'https://static01.nyt.com/images/2022...  https://nyti.ms/3tCgd3M  \n",
       "2  [{'url': 'https://static01.nyt.com/images/2022...  https://nyti.ms/3nBgTml  \n",
       "3  [{'url': 'https://static01.nyt.com/images/2022...  https://nyti.ms/3GIlxGz  \n",
       "4  [{'url': 'https://static01.nyt.com/images/2022...  https://nyti.ms/34Q2c8j  \n",
       "\n",
       "[5 rows x 27 columns]"
      ]
     },
     "execution_count": 27,
     "metadata": {},
     "output_type": "execute_result"
    }
   ],
   "source": [
    "# Call the json_normalize method by setting record_path to multimedia\n",
    "# Set record_prefix to \"multimedia_\" to identify the data under multimedia\n",
    "# Set meta to a list of columns from the original dataframe cols\n",
    "cols = df.columns.tolist()\n",
    "stories_df = pd.json_normalize(top_stories, record_path=\"multimedia\", record_prefix=\"multimedia_\", meta=cols)\n",
    "stories_df.head()"
   ]
  },
  {
   "cell_type": "markdown",
   "id": "51468d82-aaa9-44a7-91fb-9000d2a73769",
   "metadata": {},
   "source": [
    "All the information from multimedias has been restructed to be on the same level as the rest of the data."
   ]
  },
  {
   "cell_type": "code",
   "execution_count": 28,
   "id": "667ecda9-5d63-4f6d-a56e-26e389f66ecd",
   "metadata": {},
   "outputs": [],
   "source": [
    "# Save data to csv file\n",
    "stories_df.to_csv(\"top_nyt_articles.csv\")"
   ]
  },
  {
   "cell_type": "markdown",
   "id": "741048f9-1f01-434a-b5e8-fc51583c8d8e",
   "metadata": {},
   "source": [
    "### Most Viewed and Most Shared APIs"
   ]
  },
  {
   "cell_type": "markdown",
   "id": "4e8b137d-4365-4994-beee-04b8e06cc9cf",
   "metadata": {},
   "source": [
    "Retrieving the most viewed and shared articles is also quite simple. The `days` parameter returns the most popular articles based on the last $N$ days. Keep in mind, however, that `days` can only take on one of three values: 1, 7, or 30."
   ]
  },
  {
   "cell_type": "code",
   "execution_count": 37,
   "id": "959dc92b-c33f-41b5-b271-15eb17a5a669",
   "metadata": {},
   "outputs": [
    {
     "name": "stdout",
     "output_type": "stream",
     "text": [
      "Title: Who Is King of Florida? Tensions Rise Between Trump and a Former Acolyte.\n",
      "Section: U.S.\n"
     ]
    },
    {
     "data": {
      "text/plain": [
       "{'uri': 'nyt://article/f81238c5-d68e-54d9-a6ee-4f0ccb05bc9c',\n",
       " 'url': 'https://www.nytimes.com/2022/01/16/us/politics/trump-desantis.html',\n",
       " 'id': 100000008160622,\n",
       " 'asset_id': 100000008160622,\n",
       " 'source': 'New York Times',\n",
       " 'published_date': datetime.date(2022, 1, 16),\n",
       " 'updated': datetime.datetime(2022, 1, 18, 9, 0, 3),\n",
       " 'section': 'U.S.',\n",
       " 'subsection': 'Politics',\n",
       " 'nytdsection': 'u.s.',\n",
       " 'adx_keywords': 'Presidential Election of 2024;Politics and Government;Coronavirus (2019-nCoV);DeSantis, Ron;Trump, Donald J;Republican Party;Florida',\n",
       " 'column': None,\n",
       " 'byline': 'By Jonathan Martin and Maggie Haberman',\n",
       " 'type': 'Article',\n",
       " 'title': 'Who Is King of Florida? Tensions Rise Between Trump and a Former Acolyte.',\n",
       " 'abstract': 'A spat over Covid has exposed friction between the former president and a rising G.O.P. governor unwilling to curb his ambitions.',\n",
       " 'des_facet': ['Presidential Election of 2024',\n",
       "  'Politics and Government',\n",
       "  'Coronavirus (2019-nCoV)'],\n",
       " 'org_facet': ['Republican Party'],\n",
       " 'per_facet': ['DeSantis, Ron', 'Trump, Donald J'],\n",
       " 'geo_facet': ['Florida'],\n",
       " 'media': [{'type': 'image',\n",
       "   'subtype': 'photo',\n",
       "   'caption': 'Florida might be too small for Gov. Ron DeSantis, left, and former President Donald Trump, two self-assured and ambitious Republican politicians.',\n",
       "   'copyright': 'Samuel Corum for The New York Times',\n",
       "   'approved_for_syndication': 1,\n",
       "   'media-metadata': [{'url': 'https://static01.nyt.com/images/2022/01/14/us/politics/14trump-desantis-1/14trump-desantis-1-thumbStandard.jpg',\n",
       "     'format': 'Standard Thumbnail',\n",
       "     'height': 75,\n",
       "     'width': 75},\n",
       "    {'url': 'https://static01.nyt.com/images/2022/01/14/us/politics/14trump-desantis-1/merlin_174915642_f17ef0c3-527b-4898-8f5a-f7e59c66a6fd-mediumThreeByTwo210.jpg',\n",
       "     'format': 'mediumThreeByTwo210',\n",
       "     'height': 140,\n",
       "     'width': 210},\n",
       "    {'url': 'https://static01.nyt.com/images/2022/01/14/us/politics/14trump-desantis-1/merlin_174915642_f17ef0c3-527b-4898-8f5a-f7e59c66a6fd-mediumThreeByTwo440.jpg',\n",
       "     'format': 'mediumThreeByTwo440',\n",
       "     'height': 293,\n",
       "     'width': 440}]}],\n",
       " 'eta_id': 0}"
      ]
     },
     "execution_count": 37,
     "metadata": {},
     "output_type": "execute_result"
    }
   ],
   "source": [
    "# Retrieve the most viewed articles for today.\n",
    "# The days parameter defaults to 1\n",
    "most_viewed_today = nyt.most_viewed()\n",
    "print(f\"Title: {most_viewed_today[0]['title']}\")\n",
    "print(f\"Section: {most_viewed_today[0]['section']}\")\n",
    "most_viewed_today[0]"
   ]
  },
  {
   "cell_type": "markdown",
   "id": "3681696d-752e-4d11-8f67-af5ae03bb73b",
   "metadata": {},
   "source": [
    "How many stories are provided to us via this function call?"
   ]
  },
  {
   "cell_type": "code",
   "execution_count": 35,
   "id": "358187a6-420d-4317-9429-5a021edb1e6f",
   "metadata": {},
   "outputs": [
    {
     "data": {
      "text/plain": [
       "20"
      ]
     },
     "execution_count": 35,
     "metadata": {},
     "output_type": "execute_result"
    }
   ],
   "source": [
    "len(most_viewed_today)"
   ]
  },
  {
   "cell_type": "markdown",
   "id": "684faea3-9fab-499c-8869-b99747b04d86",
   "metadata": {},
   "source": [
    "For this piece of data, we can consult a guide or what's known as a schema to understand the information at our finger tips.\n",
    "\n",
    "The [Most Viewed Schema](https://developer.nytimes.com/docs/most-popular-product/1/types/ViewedArticle) can answer any questions we may have about this article's data:"
   ]
  },
  {
   "cell_type": "markdown",
   "id": "210bc5f1-037d-4c49-85e1-186bfbc946b1",
   "metadata": {},
   "source": [
    "| Attribute      | Data Type | Definition      |\n",
    "| ----------- | ----------- | ----------- |\n",
    "| url      | string       | Article's URL.       |\n",
    "| adx_keywords   | string        | Semicolon separated list of keywords.        |\n",
    "| column   | string        | Deprecated. Set to null.        |\n",
    "| section   | string        | Article's section (e.g. Sports).        |\n",
    "| byline   | string        | Article's byline (e.g. By Thomas L. Friedman).        |\n",
    "| type   | string        | Asset type (e.g. Article, Interactive, ...).        |\n",
    "| title   | string        | Article's headline (e.g. When the Cellos Play, the Cows Come Home).        |\n",
    "| abstract   | string        | Brief summary of the article.|\n",
    "| published_date   | string        | When the article was published on the web (e.g. 2021-04-19).        |\n",
    "| source   | string        | Publisher (e.g. New York Times).        |\n",
    "| id   | integer        | Asset ID number (e.g. 100000007772696).        |\n",
    "| asset_id   | integer        | Asset ID number (e.g. 100000007772696).        |\n",
    "| des_facet   | array        | Array of description facets (e.g. Quarantine (Life and Culture)).        |\n",
    "| org_facet   | array        | Array of organization facets (e.g. Sullivan Street Bakery).        |\n",
    "| per_facet   | array        | Array of person facets (e.g. Bittman, Mark).        |\n",
    "| geo_facet   | array        | Array of geographic facets (e.g. Canada).        |\n",
    "| media   | array        | Array of images.        |\n",
    "| media.type   | string        | Asset type (e.g. image).        |\n",
    "| media.subtype   | string        | Asset subtype (e.g. photo).        |\n",
    "| media.caption   | string        | Media caption        |\n",
    "| media.copyright   | string        | Media credit        |\n",
    "| media.approved_for_syndication   | boolean        | Whether media is approved for syndication.        |\n",
    "| media.media-metadata   | array        | Media metadata (url, width, height, ...).        |\n",
    "| media.media-metadata.url   | string        | Image's URL.        |\n",
    "| media.media-metadata.format   | string        | Image's crop name     |\n",
    "| media.media-metadata.height   | integer        | Image's height |\n",
    "| media.media-metadata.width   | integer        | Image's width      |"
   ]
  },
  {
   "cell_type": "markdown",
   "id": "fc33ce38-daf3-494a-9f0f-12d089321297",
   "metadata": {},
   "source": [
    "To pull most popular articles for the past weekend and month, we pass the numbers 7 or 30 into `days`"
   ]
  },
  {
   "cell_type": "code",
   "execution_count": 38,
   "id": "cf701a93-68c4-4c0c-ab6d-30487b4da504",
   "metadata": {},
   "outputs": [],
   "source": [
    "most_viewed_week = nyt.most_viewed(days=7)\n",
    "most_viewed_month = nyt.most_viewed(days=30)"
   ]
  },
  {
   "cell_type": "markdown",
   "id": "64a14916-a9fc-4826-a459-787780e26a41",
   "metadata": {},
   "source": [
    "What is the most viewed article of the last week?"
   ]
  },
  {
   "cell_type": "code",
   "execution_count": 41,
   "id": "e3e2f679-4660-4c03-84b8-5f9257473165",
   "metadata": {},
   "outputs": [
    {
     "data": {
      "text/plain": [
       "'Bob Saget, Comic Who Starred in the Sitcom ‘Full House,’ Dies at 65'"
      ]
     },
     "execution_count": 41,
     "metadata": {},
     "output_type": "execute_result"
    }
   ],
   "source": [
    "most_viewed_week[0]['title']"
   ]
  },
  {
   "cell_type": "markdown",
   "id": "174a91ba-c09f-4c16-b415-15d501cbb55a",
   "metadata": {},
   "source": [
    "What is the most viewed article of the last month?"
   ]
  },
  {
   "cell_type": "code",
   "execution_count": 42,
   "id": "74b269e1-d793-49cd-a3b5-2121eb7db26d",
   "metadata": {},
   "outputs": [
    {
     "data": {
      "text/plain": [
       "'What Are the Symptoms of Omicron?'"
      ]
     },
     "execution_count": 42,
     "metadata": {},
     "output_type": "execute_result"
    }
   ],
   "source": [
    "most_viewed_month[0]['title']"
   ]
  },
  {
   "cell_type": "markdown",
   "id": "1784d2ab-b5f0-4fb0-8507-8cee3e52e71b",
   "metadata": {},
   "source": [
    "### Challenge 2: Most Shared Stories\n",
    "\n",
    "The `most_shared` method is similiar to `most_viewed` except that it has an argument called `method` which is used to show the most shared articles using `'email'` or `'facebook'`.\n",
    "\n",
    "- Grab the most shared articles for both methods for the past month.\n",
    "- How many articles show up in both lists? (Hint: use the `uri` key)\n",
    "- Bonus: Use the [Shared Article](https://developer.nytimes.com/docs/most-popular-product/1/types/SharedArticle) schema table to help you answer a question you may have about the data."
   ]
  },
  {
   "cell_type": "markdown",
   "id": "224416c5-1397-458a-a3e9-30a5dcc29f94",
   "metadata": {},
   "source": [
    "| Attribute      | Data Type | Definition      |\n",
    "| ----------- | ----------- | ----------- |\n",
    "| url      | string       | Article's URL.       |\n",
    "| adx_keywords   | string        | Semicolon separated list of keywords.        |\n",
    "| subsection   | string        | Article's subsection (e.g. Politics). Can be empty |\n",
    "| column   | string        | Deprecated. Set to null.        |\n",
    "| eta_id   | integer        | Deprecated. Set to 0.|\n",
    "| section   | string        | Article's section (e.g. Sports).        |\n",
    "| id   | integer        | Asset ID number (e.g. 100000007772696).        |\n",
    "| asset_id   | integer        | Asset ID number (e.g. 100000007772696).        |\n",
    "| nytdsection   | string        | Article's section|\n",
    "| byline   | string        | Article's byline (e.g. By Thomas L. Friedman).        |\n",
    "| type   | string        | Asset type (e.g. Article, Interactive, ...).        |\n",
    "| title   | string        | Article's headline (e.g. When the Cellos Play, the Cows Come Home).        |\n",
    "| abstract   | string        | Brief summary of the article.|\n",
    "| published_date   | string        | When the article was published on the web (e.g. 2021-04-19).        |\n",
    "| source   | string        | Publisher (e.g. New York Times).        |\n",
    "| updated   | string        | When the article was last updated (e.g. 2021-05-12 06:32:03).|\n",
    "| des_facet   | array        | Array of description facets (e.g. Quarantine (Life and Culture)).        |\n",
    "| org_facet   | array        | Array of organization facets (e.g. Sullivan Street Bakery).        |\n",
    "| per_facet   | array        | Array of person facets (e.g. Bittman, Mark).        |\n",
    "| geo_facet   | array        | Array of geographic facets (e.g. Canada).        |\n",
    "| media   | array        | Array of images.        |\n",
    "| media.type   | string        | Asset type (e.g. image).        |\n",
    "| media.subtype   | string        | Asset subtype (e.g. photo).        |\n",
    "| media.caption   | string        | Media caption        |\n",
    "| media.copyright   | string        | Media credit        |\n",
    "| media.approved_for_syndication   | boolean        | Whether media is approved for syndication.        |\n",
    "| media.media-metadata   | array        | Media metadata (url, width, height, ...).        |\n",
    "| media.media-metadata.url   | string        | Image's URL.        |\n",
    "| media.media-metadata.format   | string        | Image's crop name     |\n",
    "| media.media-metadata.height   | integer        | Image's height |\n",
    "| media.media-metadata.width   | integer        | Image's width      |\n",
    "| uri   | string        | An article's globally unique identifier.      |"
   ]
  },
  {
   "cell_type": "code",
   "execution_count": 44,
   "id": "f5f49694-4e4d-40b9-a19f-e873c7107b56",
   "metadata": {},
   "outputs": [],
   "source": [
    "# Challenge 2 solution here\n",
    "\n",
    "\n"
   ]
  },
  {
   "cell_type": "markdown",
   "id": "eda97fb7-559e-4bb5-92b5-f15eb54db4b9",
   "metadata": {},
   "source": [
    "### Article Search API"
   ]
  },
  {
   "cell_type": "markdown",
   "id": "d60086e2-a79b-47f3-a480-e58339194f3f",
   "metadata": {},
   "source": [
    "Let's take it up a notch and use the search API to retrieve a set of articles about a particular topic in a chosen period of time.\n",
    "\n",
    "We'll use the `article_search` function. Two relevant parameters include:\n",
    "\n",
    "- `query`: The search query\n",
    "- `results`: Number of articles returned. The default is 10.\n",
    "\n",
    "Let's try pulling the 20 most recent articles about Berkeley:"
   ]
  },
  {
   "cell_type": "code",
   "execution_count": 61,
   "id": "b15ff11f-7049-488f-9d96-f689c430a576",
   "metadata": {},
   "outputs": [],
   "source": [
    "articles = nyt.article_search(query = \"Berkeley\", results = 20)"
   ]
  },
  {
   "cell_type": "markdown",
   "id": "b4c2f903-afb6-4f74-a542-711c5e3d149e",
   "metadata": {},
   "source": [
    "Let's look at the main headlines of these articles:"
   ]
  },
  {
   "cell_type": "code",
   "execution_count": 65,
   "id": "d25dd533-b471-44fa-8739-0e7e0c756255",
   "metadata": {},
   "outputs": [
    {
     "data": {
      "text/plain": [
       "['Victim of Berkeley Balcony Collapse Dies in Ireland',\n",
       " 'Rennie Davis, One of the Chicago Seven, Traded Activism for Inner Peace',\n",
       " 'Saturday’s Cal-U.S.C. game has been delayed by Covid.',\n",
       " '5 Things to Do This Weekend',\n",
       " 'What You Get for $1 Million in California',\n",
       " 'The Past and Future of People’s Park',\n",
       " '$1 Million Homes in California',\n",
       " 'Climate Exhibitions Look Beyond Declarations of Calamity',\n",
       " 'The Nobel in economics goes to three who find experiments in real life.',\n",
       " 'She Face-Planted Into Her Salad at the Country Club. Who Killed Her?',\n",
       " 'Charles Sellers, 98, Historian Who Upset the Postwar Consensus, Dies',\n",
       " 'What if Gavin Newsom resigned before the recall election?',\n",
       " '‘Gender Alchemy’ Is Transforming Art for the 21st Century',\n",
       " 'House Hunting: Is This Price Right?',\n",
       " 'How a Surprise Discovery of Photographs From the 1960s Meets the Moment',\n",
       " 'Robert Middlekauff, Historian of Washington and His War, Dies at 91',\n",
       " 'Gail Omvedt, 80, Dies; India Became Her Home, the Caste System Her Cause',\n",
       " 'What You Get for $2 Million in California',\n",
       " '$2 Million Homes in California',\n",
       " 'It’s Never Too Late to Record Your First Album']"
      ]
     },
     "execution_count": 65,
     "metadata": {},
     "output_type": "execute_result"
    }
   ],
   "source": [
    "headlines = [article['headline']['main'] for article in articles]\n",
    "headlines"
   ]
  },
  {
   "cell_type": "markdown",
   "id": "6cd24cf5-67c1-49fb-95fc-69aaddcc2702",
   "metadata": {},
   "source": [
    "We can also take a peek at the first article provided. We're going to remove the `multimedia` key in order to make it more easy to view:"
   ]
  },
  {
   "cell_type": "code",
   "execution_count": 66,
   "id": "0b780566-16a3-4a30-b016-a317cc213280",
   "metadata": {},
   "outputs": [
    {
     "data": {
      "text/plain": [
       "{'abstract': 'Aoife Beary, who was left with life-changing injuries after the 2015 accident, died on New Year’s Day, her family said.',\n",
       " 'web_url': 'https://www.nytimes.com/2022/01/03/world/europe/berkeley-balcony-collapse-death.html',\n",
       " 'snippet': 'Aoife Beary, who was left with life-changing injuries after the 2015 accident, died on New Year’s Day, her family said.',\n",
       " 'lead_paragraph': 'DUBLIN — A survivor of a balcony collapse that killed six students in Berkeley, Calif., in 2015 has died in a hospital in her native Dublin, her family said Monday. She was 27.',\n",
       " 'print_section': 'A',\n",
       " 'print_page': '7',\n",
       " 'source': 'The New York Times',\n",
       " 'headline': {'main': 'Victim of Berkeley Balcony Collapse Dies in Ireland',\n",
       "  'kicker': None,\n",
       "  'content_kicker': None,\n",
       "  'print_headline': 'Woman Who Survived 2015 Balcony Collapse Dies of Her Injuries at 27',\n",
       "  'name': None,\n",
       "  'seo': None,\n",
       "  'sub': None},\n",
       " 'keywords': [{'name': 'glocations',\n",
       "   'value': 'Berkeley (Calif)',\n",
       "   'rank': 1,\n",
       "   'major': 'N'},\n",
       "  {'name': 'subject',\n",
       "   'value': 'Accidents and Safety',\n",
       "   'rank': 2,\n",
       "   'major': 'N'},\n",
       "  {'name': 'subject',\n",
       "   'value': 'Balconies and Terraces',\n",
       "   'rank': 3,\n",
       "   'major': 'N'},\n",
       "  {'name': 'glocations', 'value': 'Ireland', 'rank': 4, 'major': 'N'},\n",
       "  {'name': 'subject', 'value': 'Falls', 'rank': 5, 'major': 'N'},\n",
       "  {'name': 'subject', 'value': 'Deaths (Fatalities)', 'rank': 6, 'major': 'N'},\n",
       "  {'name': 'subject',\n",
       "   'value': 'Suits and Litigation (Civil)',\n",
       "   'rank': 7,\n",
       "   'major': 'N'},\n",
       "  {'name': 'glocations', 'value': 'California', 'rank': 8, 'major': 'N'},\n",
       "  {'name': 'glocations',\n",
       "   'value': 'Dublin (Ireland)',\n",
       "   'rank': 9,\n",
       "   'major': 'N'}],\n",
       " 'pub_date': datetime.datetime(2022, 1, 3, 19, 53, 53, tzinfo=datetime.timezone.utc),\n",
       " 'document_type': 'article',\n",
       " 'news_desk': 'Foreign',\n",
       " 'section_name': 'World',\n",
       " 'subsection_name': 'Europe',\n",
       " 'byline': {'original': \"By Ed O'Loughlin\",\n",
       "  'person': [{'firstname': 'Ed',\n",
       "    'middlename': None,\n",
       "    'lastname': \"O'Loughlin\",\n",
       "    'qualifier': None,\n",
       "    'title': None,\n",
       "    'role': 'reported',\n",
       "    'organization': '',\n",
       "    'rank': 1}],\n",
       "  'organization': None},\n",
       " 'type_of_material': 'News',\n",
       " '_id': 'nyt://article/80d311f3-05e6-5514-9a74-6afbfad2281d',\n",
       " 'word_count': 592,\n",
       " 'uri': 'nyt://article/80d311f3-05e6-5514-9a74-6afbfad2281d'}"
      ]
     },
     "execution_count": 66,
     "metadata": {},
     "output_type": "execute_result"
    }
   ],
   "source": [
    "del articles[0]['multimedia']\n",
    "articles[0]"
   ]
  },
  {
   "cell_type": "markdown",
   "id": "34559fc2-0f44-4444-a19a-28817b103628",
   "metadata": {},
   "source": [
    "Notice that not all article data comes in the same format. Data from the search API is presented differently from that of the Most Viewed and Top Stories APIs.\n",
    "\n",
    "There are schemas for the above data. Unfortunately, they do not have definitions.\n",
    "\n",
    "- [Article Schema](https://developer.nytimes.com/docs/articlesearch-product/1/types/Article)\n",
    "- [Byline](https://developer.nytimes.com/docs/articlesearch-product/1/types/Byline)\n",
    "- [Headline](https://developer.nytimes.com/docs/articlesearch-product/1/types/Headline)\n",
    "- [Keyword](https://developer.nytimes.com/docs/articlesearch-product/1/types/Keyword)\n",
    "- [Multimedia](https://developer.nytimes.com/docs/articlesearch-product/1/types/Multimedia)\n",
    "- [Person](https://developer.nytimes.com/docs/articlesearch-product/1/types/Person)"
   ]
  },
  {
   "cell_type": "markdown",
   "id": "cb7fb990-96de-49dd-9611-4b798884321a",
   "metadata": {},
   "source": [
    "Let's try this again, but for a specific time period. \n",
    "\n",
    "For example, how would we retrieve all the articles about the first two months of the George Floyd protests?\n",
    "\n",
    "We need to pass a dictionary to the `dates` argument which contains keys named \"begin\" and \"end\". Those two keys point to `datetime` objects that we'll use as time markers. We're also going to use the `options` argument to filter and sort our results."
   ]
  },
  {
   "cell_type": "code",
   "execution_count": 67,
   "id": "5b86f60e-480f-4635-ba84-3dff7addfe17",
   "metadata": {},
   "outputs": [
    {
     "name": "stderr",
     "output_type": "stream",
     "text": [
      "/opt/homebrew/Caskroom/miniforge/base/envs/nlp/lib/python3.9/site-packages/pynytimes/helpers/article_search.py:16: UserWarning: Asking for a lot of results, because of rate limits it can take a while.\n",
      "  warnings.warn(\n"
     ]
    }
   ],
   "source": [
    "# Set up start and end date objects\n",
    "begin = datetime(2020, 5, 23) # May 23, 2020\n",
    "end = datetime(2020, 7, 23) # July 23, 2020\n",
    "\n",
    "# Create a dictionary containing the datetime objects\n",
    "date_dict = {\"begin\": begin, \"end\": end}\n",
    "\n",
    "# Create options dictionary\n",
    "options_dict = {\n",
    "    # Sort from earliest to latest\n",
    "    \"sort\": \"oldest\",\n",
    "    # Return only articles from New York Times (filters out other sources such as AP and Reuters)\n",
    "    \"sources\": [\"New York Times\"],\n",
    "    # Return only news, analyses, and articles\n",
    "    \"type_of_material\": [\"News Analysis\", \"News\", \"Article\"]\n",
    "}\n",
    "\n",
    "articles = nyt.article_search(\n",
    "    query=\"George Floyd protest\",\n",
    "    results=100,\n",
    "    dates=date_dict,\n",
    "    options=options_dict)"
   ]
  },
  {
   "cell_type": "code",
   "execution_count": 68,
   "id": "8c39a319-9185-4740-99c0-f34c437b6e47",
   "metadata": {},
   "outputs": [
    {
     "data": {
      "text/plain": [
       "{'abstract': '“Being black in America should not be a death sentence,” the city’s mayor said as video of the arrest was widely shared.',\n",
       " 'web_url': 'https://www.nytimes.com/2020/05/26/us/minneapolis-police-man-died.html',\n",
       " 'snippet': '“Being black in America should not be a death sentence,” the city’s mayor said as video of the arrest was widely shared.',\n",
       " 'lead_paragraph': 'The F.B.I. and Minnesota law enforcement authorities are investigating the arrest of a black man who died after being handcuffed and pinned to the ground by an officer’s knee, in an episode that was recorded on video by a bystander and that sparked large protests in Minneapolis on Tuesday.',\n",
       " 'print_section': 'A',\n",
       " 'print_page': '23',\n",
       " 'source': 'The New York Times',\n",
       " 'headline': {'main': '‘I Can’t Breathe’: 4 Minneapolis Officers Fired After Black Man Dies in Custody',\n",
       "  'kicker': None,\n",
       "  'content_kicker': None,\n",
       "  'print_headline': ' F.B.I. Investigating Arrest; 4 Police Officers Lose Jobs',\n",
       "  'name': None,\n",
       "  'seo': None,\n",
       "  'sub': None},\n",
       " 'keywords': [{'name': 'organizations',\n",
       "   'value': 'Police Department (Minneapolis, Minn)',\n",
       "   'rank': 1,\n",
       "   'major': 'N'},\n",
       "  {'name': 'organizations',\n",
       "   'value': 'Federal Bureau of Investigation',\n",
       "   'rank': 2,\n",
       "   'major': 'N'},\n",
       "  {'name': 'persons',\n",
       "   'value': 'Frey, Jacob (1981- )',\n",
       "   'rank': 3,\n",
       "   'major': 'N'},\n",
       "  {'name': 'glocations',\n",
       "   'value': 'Minneapolis (Minn)',\n",
       "   'rank': 4,\n",
       "   'major': 'N'},\n",
       "  {'name': 'persons',\n",
       "   'value': 'Floyd, George (d 2020)',\n",
       "   'rank': 5,\n",
       "   'major': 'N'},\n",
       "  {'name': 'subject', 'value': 'Black People', 'rank': 6, 'major': 'N'},\n",
       "  {'name': 'subject', 'value': 'Blacks', 'rank': 7, 'major': 'N'},\n",
       "  {'name': 'subject',\n",
       "   'value': 'Police Brutality, Misconduct and Shootings',\n",
       "   'rank': 8,\n",
       "   'major': 'N'},\n",
       "  {'name': 'subject',\n",
       "   'value': 'Video Recordings, Downloads and Streaming',\n",
       "   'rank': 9,\n",
       "   'major': 'N'},\n",
       "  {'name': 'subject',\n",
       "   'value': 'Demonstrations, Protests and Riots',\n",
       "   'rank': 10,\n",
       "   'major': 'N'},\n",
       "  {'name': 'subject',\n",
       "   'value': 'George Floyd Protests (2020)',\n",
       "   'rank': 11,\n",
       "   'major': 'N'},\n",
       "  {'name': 'subject',\n",
       "   'value': 'Black Lives Matter Movement',\n",
       "   'rank': 12,\n",
       "   'major': 'N'}],\n",
       " 'pub_date': datetime.datetime(2020, 5, 26, 14, 15, 53, tzinfo=datetime.timezone.utc),\n",
       " 'document_type': 'article',\n",
       " 'news_desk': 'Express',\n",
       " 'section_name': 'U.S.',\n",
       " 'byline': {'original': 'By Christine Hauser, Derrick Bryson Taylor and Neil Vigdor',\n",
       "  'person': [{'firstname': 'Christine',\n",
       "    'middlename': None,\n",
       "    'lastname': 'Hauser',\n",
       "    'qualifier': None,\n",
       "    'title': None,\n",
       "    'role': 'reported',\n",
       "    'organization': '',\n",
       "    'rank': 1},\n",
       "   {'firstname': 'Derrick',\n",
       "    'middlename': 'Bryson',\n",
       "    'lastname': 'Taylor',\n",
       "    'qualifier': None,\n",
       "    'title': None,\n",
       "    'role': 'reported',\n",
       "    'organization': '',\n",
       "    'rank': 2},\n",
       "   {'firstname': 'Neil',\n",
       "    'middlename': None,\n",
       "    'lastname': 'Vigdor',\n",
       "    'qualifier': None,\n",
       "    'title': None,\n",
       "    'role': 'reported',\n",
       "    'organization': '',\n",
       "    'rank': 3}],\n",
       "  'organization': None},\n",
       " 'type_of_material': 'News',\n",
       " '_id': 'nyt://article/6d905f40-f7db-5716-a1c6-18d2eb62c7c6',\n",
       " 'word_count': 1590,\n",
       " 'uri': 'nyt://article/6d905f40-f7db-5716-a1c6-18d2eb62c7c6'}"
      ]
     },
     "execution_count": 68,
     "metadata": {},
     "output_type": "execute_result"
    }
   ],
   "source": [
    "# Grab first article and drop the multimedia key to reduce clutter\n",
    "article = articles[0]\n",
    "del article[\"multimedia\"]\n",
    "\n",
    "# Check out results\n",
    "article"
   ]
  },
  {
   "cell_type": "markdown",
   "id": "c33ad4d2-d283-466b-a395-b56fd9817a3a",
   "metadata": {},
   "source": [
    "### Challenge 3: Article Searching\n",
    "\n",
    "- Retrieve a set of articles for a query of your choice.\n",
    "- Use a relevant time interval in constructing your `dates` dictionary\n",
    "- Use `type_of_material` and `section_name` as keys in your `options` dictionary.\n",
    "    - For `type_of_material` values refer to this [list](https://github.com/michadenheijer/pynytimes/blob/main/VALID_SEARCH_OPTIONS.md#type-of-material-values).\n",
    "    - For `section_name` values refer to this [list](https://github.com/michadenheijer/pynytimes/blob/main/VALID_SEARCH_OPTIONS.md#section-name-values)."
   ]
  },
  {
   "cell_type": "code",
   "execution_count": 70,
   "id": "5dce99e3-4cf1-475e-a7a2-7f545f06d6e3",
   "metadata": {},
   "outputs": [],
   "source": [
    "# Challenge 3 Solution\n",
    "\n",
    "\n"
   ]
  },
  {
   "cell_type": "markdown",
   "id": "49f4b3b3-2b4a-4a20-9a79-ca90d90262f8",
   "metadata": {},
   "source": [
    "## Step 3: Data Analysis\n",
    "\n",
    "Now, we'll perform a data analysis on many articles about the 2020 presidential election."
   ]
  },
  {
   "cell_type": "markdown",
   "id": "84d24acd-e050-424c-af03-67e708db4737",
   "metadata": {},
   "source": [
    "We are working with previously queried set of articles because making the API call will take too much time. The code used to queried the articles we'll analyze can be found in the following cell:"
   ]
  },
  {
   "cell_type": "markdown",
   "id": "9d1d5e83-a645-4b35-9084-fca5dd408363",
   "metadata": {},
   "source": [
    "### Query Using the Article Search API"
   ]
  },
  {
   "cell_type": "code",
   "execution_count": 10,
   "id": "3a4a7832-3186-45c6-8b43-e52c99486526",
   "metadata": {},
   "outputs": [
    {
     "name": "stderr",
     "output_type": "stream",
     "text": [
      "/opt/homebrew/Caskroom/miniforge/base/envs/nlp/lib/python3.9/site-packages/pynytimes/helpers/article_search.py:16: UserWarning: Asking for a lot of results, because of rate limits it can take a while.\n",
      "  warnings.warn(\n"
     ]
    },
    {
     "ename": "KeyboardInterrupt",
     "evalue": "",
     "output_type": "error",
     "traceback": [
      "\u001b[0;31m---------------------------------------------------------------------------\u001b[0m",
      "\u001b[0;31mKeyboardInterrupt\u001b[0m                         Traceback (most recent call last)",
      "\u001b[0;32m/var/folders/6h/ms_dpkl536d1w6qqd_wnckrw0000gn/T/ipykernel_3467/1850486075.py\u001b[0m in \u001b[0;36m<module>\u001b[0;34m\u001b[0m\n\u001b[1;32m     15\u001b[0m \u001b[0;34m\u001b[0m\u001b[0m\n\u001b[1;32m     16\u001b[0m \u001b[0;31m# Perform article search query\u001b[0m\u001b[0;34m\u001b[0m\u001b[0;34m\u001b[0m\u001b[0m\n\u001b[0;32m---> 17\u001b[0;31m articles = nyt.article_search(\n\u001b[0m\u001b[1;32m     18\u001b[0m      \u001b[0mquery\u001b[0m\u001b[0;34m=\u001b[0m\u001b[0;34m\"presidential election\"\u001b[0m\u001b[0;34m,\u001b[0m\u001b[0;34m\u001b[0m\u001b[0;34m\u001b[0m\u001b[0m\n\u001b[1;32m     19\u001b[0m      \u001b[0mresults\u001b[0m\u001b[0;34m=\u001b[0m\u001b[0mn_results\u001b[0m\u001b[0;34m,\u001b[0m\u001b[0;34m\u001b[0m\u001b[0;34m\u001b[0m\u001b[0m\n",
      "\u001b[0;32m/opt/homebrew/Caskroom/miniforge/base/envs/nlp/lib/python3.9/site-packages/pynytimes/api.py\u001b[0m in \u001b[0;36marticle_search\u001b[0;34m(self, query, dates, options, results)\u001b[0m\n\u001b[1;32m    674\u001b[0m \u001b[0;34m\u001b[0m\u001b[0m\n\u001b[1;32m    675\u001b[0m         \u001b[0;31m# Set result list and add request as much data as needed\u001b[0m\u001b[0;34m\u001b[0m\u001b[0;34m\u001b[0m\u001b[0m\n\u001b[0;32m--> 676\u001b[0;31m         \u001b[0mresult\u001b[0m \u001b[0;34m=\u001b[0m \u001b[0mself\u001b[0m\u001b[0;34m.\u001b[0m\u001b[0m__article_search_load_data\u001b[0m\u001b[0;34m(\u001b[0m\u001b[0mresults\u001b[0m\u001b[0;34m,\u001b[0m \u001b[0moptions\u001b[0m\u001b[0;34m)\u001b[0m\u001b[0;34m\u001b[0m\u001b[0;34m\u001b[0m\u001b[0m\n\u001b[0m\u001b[1;32m    677\u001b[0m \u001b[0;34m\u001b[0m\u001b[0m\n\u001b[1;32m    678\u001b[0m         \u001b[0;31m# Parse and return results\u001b[0m\u001b[0;34m\u001b[0m\u001b[0;34m\u001b[0m\u001b[0m\n",
      "\u001b[0;32m/opt/homebrew/Caskroom/miniforge/base/envs/nlp/lib/python3.9/site-packages/pynytimes/api.py\u001b[0m in \u001b[0;36m__article_search_load_data\u001b[0;34m(self, results, options)\u001b[0m\n\u001b[1;32m    613\u001b[0m             \u001b[0mlocation\u001b[0m \u001b[0;34m=\u001b[0m \u001b[0;34m[\u001b[0m\u001b[0;34m\"response\"\u001b[0m\u001b[0;34m]\u001b[0m\u001b[0;34m\u001b[0m\u001b[0;34m\u001b[0m\u001b[0m\n\u001b[1;32m    614\u001b[0m             \u001b[0;31m# Load data and raise error if there's and error status\u001b[0m\u001b[0;34m\u001b[0m\u001b[0;34m\u001b[0m\u001b[0m\n\u001b[0;32m--> 615\u001b[0;31m             res: dict[str, Any] = self.__load_data(  # type:ignore\n\u001b[0m\u001b[1;32m    616\u001b[0m                 \u001b[0murl\u001b[0m\u001b[0;34m=\u001b[0m\u001b[0mBASE_ARTICLE_SEARCH\u001b[0m\u001b[0;34m,\u001b[0m \u001b[0moptions\u001b[0m\u001b[0;34m=\u001b[0m\u001b[0moptions\u001b[0m\u001b[0;34m,\u001b[0m \u001b[0mlocation\u001b[0m\u001b[0;34m=\u001b[0m\u001b[0mlocation\u001b[0m\u001b[0;34m\u001b[0m\u001b[0;34m\u001b[0m\u001b[0m\n\u001b[1;32m    617\u001b[0m             )\n",
      "\u001b[0;32m/opt/homebrew/Caskroom/miniforge/base/envs/nlp/lib/python3.9/site-packages/pynytimes/api.py\u001b[0m in \u001b[0;36m__load_data\u001b[0;34m(self, url, options, location)\u001b[0m\n\u001b[1;32m    182\u001b[0m         \u001b[0;31m# Load the data from the API, raise error if there's an invalid status\u001b[0m\u001b[0;34m\u001b[0m\u001b[0;34m\u001b[0m\u001b[0m\n\u001b[1;32m    183\u001b[0m         \u001b[0;31m# code\u001b[0m\u001b[0;34m\u001b[0m\u001b[0;34m\u001b[0m\u001b[0m\n\u001b[0;32m--> 184\u001b[0;31m         res = self.session.get(\n\u001b[0m\u001b[1;32m    185\u001b[0m             \u001b[0;34mf\"{self.protocol}{url}\"\u001b[0m\u001b[0;34m,\u001b[0m\u001b[0;34m\u001b[0m\u001b[0;34m\u001b[0m\u001b[0m\n\u001b[1;32m    186\u001b[0m             \u001b[0mparams\u001b[0m\u001b[0;34m=\u001b[0m\u001b[0mparams\u001b[0m\u001b[0;34m,\u001b[0m\u001b[0;34m\u001b[0m\u001b[0;34m\u001b[0m\u001b[0m\n",
      "\u001b[0;32m/opt/homebrew/Caskroom/miniforge/base/envs/nlp/lib/python3.9/site-packages/requests/sessions.py\u001b[0m in \u001b[0;36mget\u001b[0;34m(self, url, **kwargs)\u001b[0m\n\u001b[1;32m    553\u001b[0m \u001b[0;34m\u001b[0m\u001b[0m\n\u001b[1;32m    554\u001b[0m         \u001b[0mkwargs\u001b[0m\u001b[0;34m.\u001b[0m\u001b[0msetdefault\u001b[0m\u001b[0;34m(\u001b[0m\u001b[0;34m'allow_redirects'\u001b[0m\u001b[0;34m,\u001b[0m \u001b[0;32mTrue\u001b[0m\u001b[0;34m)\u001b[0m\u001b[0;34m\u001b[0m\u001b[0;34m\u001b[0m\u001b[0m\n\u001b[0;32m--> 555\u001b[0;31m         \u001b[0;32mreturn\u001b[0m \u001b[0mself\u001b[0m\u001b[0;34m.\u001b[0m\u001b[0mrequest\u001b[0m\u001b[0;34m(\u001b[0m\u001b[0;34m'GET'\u001b[0m\u001b[0;34m,\u001b[0m \u001b[0murl\u001b[0m\u001b[0;34m,\u001b[0m \u001b[0;34m**\u001b[0m\u001b[0mkwargs\u001b[0m\u001b[0;34m)\u001b[0m\u001b[0;34m\u001b[0m\u001b[0;34m\u001b[0m\u001b[0m\n\u001b[0m\u001b[1;32m    556\u001b[0m \u001b[0;34m\u001b[0m\u001b[0m\n\u001b[1;32m    557\u001b[0m     \u001b[0;32mdef\u001b[0m \u001b[0moptions\u001b[0m\u001b[0;34m(\u001b[0m\u001b[0mself\u001b[0m\u001b[0;34m,\u001b[0m \u001b[0murl\u001b[0m\u001b[0;34m,\u001b[0m \u001b[0;34m**\u001b[0m\u001b[0mkwargs\u001b[0m\u001b[0;34m)\u001b[0m\u001b[0;34m:\u001b[0m\u001b[0;34m\u001b[0m\u001b[0;34m\u001b[0m\u001b[0m\n",
      "\u001b[0;32m/opt/homebrew/Caskroom/miniforge/base/envs/nlp/lib/python3.9/site-packages/requests/sessions.py\u001b[0m in \u001b[0;36mrequest\u001b[0;34m(self, method, url, params, data, headers, cookies, files, auth, timeout, allow_redirects, proxies, hooks, stream, verify, cert, json)\u001b[0m\n\u001b[1;32m    540\u001b[0m         }\n\u001b[1;32m    541\u001b[0m         \u001b[0msend_kwargs\u001b[0m\u001b[0;34m.\u001b[0m\u001b[0mupdate\u001b[0m\u001b[0;34m(\u001b[0m\u001b[0msettings\u001b[0m\u001b[0;34m)\u001b[0m\u001b[0;34m\u001b[0m\u001b[0;34m\u001b[0m\u001b[0m\n\u001b[0;32m--> 542\u001b[0;31m         \u001b[0mresp\u001b[0m \u001b[0;34m=\u001b[0m \u001b[0mself\u001b[0m\u001b[0;34m.\u001b[0m\u001b[0msend\u001b[0m\u001b[0;34m(\u001b[0m\u001b[0mprep\u001b[0m\u001b[0;34m,\u001b[0m \u001b[0;34m**\u001b[0m\u001b[0msend_kwargs\u001b[0m\u001b[0;34m)\u001b[0m\u001b[0;34m\u001b[0m\u001b[0;34m\u001b[0m\u001b[0m\n\u001b[0m\u001b[1;32m    543\u001b[0m \u001b[0;34m\u001b[0m\u001b[0m\n\u001b[1;32m    544\u001b[0m         \u001b[0;32mreturn\u001b[0m \u001b[0mresp\u001b[0m\u001b[0;34m\u001b[0m\u001b[0;34m\u001b[0m\u001b[0m\n",
      "\u001b[0;32m/opt/homebrew/Caskroom/miniforge/base/envs/nlp/lib/python3.9/site-packages/requests/sessions.py\u001b[0m in \u001b[0;36msend\u001b[0;34m(self, request, **kwargs)\u001b[0m\n\u001b[1;32m    653\u001b[0m \u001b[0;34m\u001b[0m\u001b[0m\n\u001b[1;32m    654\u001b[0m         \u001b[0;31m# Send the request\u001b[0m\u001b[0;34m\u001b[0m\u001b[0;34m\u001b[0m\u001b[0m\n\u001b[0;32m--> 655\u001b[0;31m         \u001b[0mr\u001b[0m \u001b[0;34m=\u001b[0m \u001b[0madapter\u001b[0m\u001b[0;34m.\u001b[0m\u001b[0msend\u001b[0m\u001b[0;34m(\u001b[0m\u001b[0mrequest\u001b[0m\u001b[0;34m,\u001b[0m \u001b[0;34m**\u001b[0m\u001b[0mkwargs\u001b[0m\u001b[0;34m)\u001b[0m\u001b[0;34m\u001b[0m\u001b[0;34m\u001b[0m\u001b[0m\n\u001b[0m\u001b[1;32m    656\u001b[0m \u001b[0;34m\u001b[0m\u001b[0m\n\u001b[1;32m    657\u001b[0m         \u001b[0;31m# Total elapsed time of the request (approximately)\u001b[0m\u001b[0;34m\u001b[0m\u001b[0;34m\u001b[0m\u001b[0m\n",
      "\u001b[0;32m/opt/homebrew/Caskroom/miniforge/base/envs/nlp/lib/python3.9/site-packages/requests/adapters.py\u001b[0m in \u001b[0;36msend\u001b[0;34m(self, request, stream, timeout, verify, cert, proxies)\u001b[0m\n\u001b[1;32m    437\u001b[0m         \u001b[0;32mtry\u001b[0m\u001b[0;34m:\u001b[0m\u001b[0;34m\u001b[0m\u001b[0;34m\u001b[0m\u001b[0m\n\u001b[1;32m    438\u001b[0m             \u001b[0;32mif\u001b[0m \u001b[0;32mnot\u001b[0m \u001b[0mchunked\u001b[0m\u001b[0;34m:\u001b[0m\u001b[0;34m\u001b[0m\u001b[0;34m\u001b[0m\u001b[0m\n\u001b[0;32m--> 439\u001b[0;31m                 resp = conn.urlopen(\n\u001b[0m\u001b[1;32m    440\u001b[0m                     \u001b[0mmethod\u001b[0m\u001b[0;34m=\u001b[0m\u001b[0mrequest\u001b[0m\u001b[0;34m.\u001b[0m\u001b[0mmethod\u001b[0m\u001b[0;34m,\u001b[0m\u001b[0;34m\u001b[0m\u001b[0;34m\u001b[0m\u001b[0m\n\u001b[1;32m    441\u001b[0m                     \u001b[0murl\u001b[0m\u001b[0;34m=\u001b[0m\u001b[0murl\u001b[0m\u001b[0;34m,\u001b[0m\u001b[0;34m\u001b[0m\u001b[0;34m\u001b[0m\u001b[0m\n",
      "\u001b[0;32m/opt/homebrew/Caskroom/miniforge/base/envs/nlp/lib/python3.9/site-packages/urllib3/connectionpool.py\u001b[0m in \u001b[0;36murlopen\u001b[0;34m(self, method, url, body, headers, retries, redirect, assert_same_host, timeout, pool_timeout, release_conn, chunked, body_pos, **response_kw)\u001b[0m\n\u001b[1;32m    844\u001b[0m             \u001b[0mretries\u001b[0m\u001b[0;34m.\u001b[0m\u001b[0msleep\u001b[0m\u001b[0;34m(\u001b[0m\u001b[0mresponse\u001b[0m\u001b[0;34m)\u001b[0m\u001b[0;34m\u001b[0m\u001b[0;34m\u001b[0m\u001b[0m\n\u001b[1;32m    845\u001b[0m             \u001b[0mlog\u001b[0m\u001b[0;34m.\u001b[0m\u001b[0mdebug\u001b[0m\u001b[0;34m(\u001b[0m\u001b[0;34m\"Retry: %s\"\u001b[0m\u001b[0;34m,\u001b[0m \u001b[0murl\u001b[0m\u001b[0;34m)\u001b[0m\u001b[0;34m\u001b[0m\u001b[0;34m\u001b[0m\u001b[0m\n\u001b[0;32m--> 846\u001b[0;31m             return self.urlopen(\n\u001b[0m\u001b[1;32m    847\u001b[0m                 \u001b[0mmethod\u001b[0m\u001b[0;34m,\u001b[0m\u001b[0;34m\u001b[0m\u001b[0;34m\u001b[0m\u001b[0m\n\u001b[1;32m    848\u001b[0m                 \u001b[0murl\u001b[0m\u001b[0;34m,\u001b[0m\u001b[0;34m\u001b[0m\u001b[0;34m\u001b[0m\u001b[0m\n",
      "\u001b[0;32m/opt/homebrew/Caskroom/miniforge/base/envs/nlp/lib/python3.9/site-packages/urllib3/connectionpool.py\u001b[0m in \u001b[0;36murlopen\u001b[0;34m(self, method, url, body, headers, retries, redirect, assert_same_host, timeout, pool_timeout, release_conn, chunked, body_pos, **response_kw)\u001b[0m\n\u001b[1;32m    844\u001b[0m             \u001b[0mretries\u001b[0m\u001b[0;34m.\u001b[0m\u001b[0msleep\u001b[0m\u001b[0;34m(\u001b[0m\u001b[0mresponse\u001b[0m\u001b[0;34m)\u001b[0m\u001b[0;34m\u001b[0m\u001b[0;34m\u001b[0m\u001b[0m\n\u001b[1;32m    845\u001b[0m             \u001b[0mlog\u001b[0m\u001b[0;34m.\u001b[0m\u001b[0mdebug\u001b[0m\u001b[0;34m(\u001b[0m\u001b[0;34m\"Retry: %s\"\u001b[0m\u001b[0;34m,\u001b[0m \u001b[0murl\u001b[0m\u001b[0;34m)\u001b[0m\u001b[0;34m\u001b[0m\u001b[0;34m\u001b[0m\u001b[0m\n\u001b[0;32m--> 846\u001b[0;31m             return self.urlopen(\n\u001b[0m\u001b[1;32m    847\u001b[0m                 \u001b[0mmethod\u001b[0m\u001b[0;34m,\u001b[0m\u001b[0;34m\u001b[0m\u001b[0;34m\u001b[0m\u001b[0m\n\u001b[1;32m    848\u001b[0m                 \u001b[0murl\u001b[0m\u001b[0;34m,\u001b[0m\u001b[0;34m\u001b[0m\u001b[0;34m\u001b[0m\u001b[0m\n",
      "\u001b[0;32m/opt/homebrew/Caskroom/miniforge/base/envs/nlp/lib/python3.9/site-packages/urllib3/connectionpool.py\u001b[0m in \u001b[0;36murlopen\u001b[0;34m(self, method, url, body, headers, retries, redirect, assert_same_host, timeout, pool_timeout, release_conn, chunked, body_pos, **response_kw)\u001b[0m\n\u001b[1;32m    842\u001b[0m \u001b[0;34m\u001b[0m\u001b[0m\n\u001b[1;32m    843\u001b[0m             \u001b[0mresponse\u001b[0m\u001b[0;34m.\u001b[0m\u001b[0mdrain_conn\u001b[0m\u001b[0;34m(\u001b[0m\u001b[0;34m)\u001b[0m\u001b[0;34m\u001b[0m\u001b[0;34m\u001b[0m\u001b[0m\n\u001b[0;32m--> 844\u001b[0;31m             \u001b[0mretries\u001b[0m\u001b[0;34m.\u001b[0m\u001b[0msleep\u001b[0m\u001b[0;34m(\u001b[0m\u001b[0mresponse\u001b[0m\u001b[0;34m)\u001b[0m\u001b[0;34m\u001b[0m\u001b[0;34m\u001b[0m\u001b[0m\n\u001b[0m\u001b[1;32m    845\u001b[0m             \u001b[0mlog\u001b[0m\u001b[0;34m.\u001b[0m\u001b[0mdebug\u001b[0m\u001b[0;34m(\u001b[0m\u001b[0;34m\"Retry: %s\"\u001b[0m\u001b[0;34m,\u001b[0m \u001b[0murl\u001b[0m\u001b[0;34m)\u001b[0m\u001b[0;34m\u001b[0m\u001b[0;34m\u001b[0m\u001b[0m\n\u001b[1;32m    846\u001b[0m             return self.urlopen(\n",
      "\u001b[0;32m/opt/homebrew/Caskroom/miniforge/base/envs/nlp/lib/python3.9/site-packages/urllib3/util/retry.py\u001b[0m in \u001b[0;36msleep\u001b[0;34m(self, response)\u001b[0m\n\u001b[1;32m    412\u001b[0m                 \u001b[0;32mreturn\u001b[0m\u001b[0;34m\u001b[0m\u001b[0;34m\u001b[0m\u001b[0m\n\u001b[1;32m    413\u001b[0m \u001b[0;34m\u001b[0m\u001b[0m\n\u001b[0;32m--> 414\u001b[0;31m         \u001b[0mself\u001b[0m\u001b[0;34m.\u001b[0m\u001b[0m_sleep_backoff\u001b[0m\u001b[0;34m(\u001b[0m\u001b[0;34m)\u001b[0m\u001b[0;34m\u001b[0m\u001b[0;34m\u001b[0m\u001b[0m\n\u001b[0m\u001b[1;32m    415\u001b[0m \u001b[0;34m\u001b[0m\u001b[0m\n\u001b[1;32m    416\u001b[0m     \u001b[0;32mdef\u001b[0m \u001b[0m_is_connection_error\u001b[0m\u001b[0;34m(\u001b[0m\u001b[0mself\u001b[0m\u001b[0;34m,\u001b[0m \u001b[0merr\u001b[0m\u001b[0;34m)\u001b[0m\u001b[0;34m:\u001b[0m\u001b[0;34m\u001b[0m\u001b[0;34m\u001b[0m\u001b[0m\n",
      "\u001b[0;32m/opt/homebrew/Caskroom/miniforge/base/envs/nlp/lib/python3.9/site-packages/urllib3/util/retry.py\u001b[0m in \u001b[0;36m_sleep_backoff\u001b[0;34m(self)\u001b[0m\n\u001b[1;32m    396\u001b[0m         \u001b[0;32mif\u001b[0m \u001b[0mbackoff\u001b[0m \u001b[0;34m<=\u001b[0m \u001b[0;36m0\u001b[0m\u001b[0;34m:\u001b[0m\u001b[0;34m\u001b[0m\u001b[0;34m\u001b[0m\u001b[0m\n\u001b[1;32m    397\u001b[0m             \u001b[0;32mreturn\u001b[0m\u001b[0;34m\u001b[0m\u001b[0;34m\u001b[0m\u001b[0m\n\u001b[0;32m--> 398\u001b[0;31m         \u001b[0mtime\u001b[0m\u001b[0;34m.\u001b[0m\u001b[0msleep\u001b[0m\u001b[0;34m(\u001b[0m\u001b[0mbackoff\u001b[0m\u001b[0;34m)\u001b[0m\u001b[0;34m\u001b[0m\u001b[0;34m\u001b[0m\u001b[0m\n\u001b[0m\u001b[1;32m    399\u001b[0m \u001b[0;34m\u001b[0m\u001b[0m\n\u001b[1;32m    400\u001b[0m     \u001b[0;32mdef\u001b[0m \u001b[0msleep\u001b[0m\u001b[0;34m(\u001b[0m\u001b[0mself\u001b[0m\u001b[0;34m,\u001b[0m \u001b[0mresponse\u001b[0m\u001b[0;34m=\u001b[0m\u001b[0;32mNone\u001b[0m\u001b[0;34m)\u001b[0m\u001b[0;34m:\u001b[0m\u001b[0;34m\u001b[0m\u001b[0;34m\u001b[0m\u001b[0m\n",
      "\u001b[0;31mKeyboardInterrupt\u001b[0m: "
     ]
    }
   ],
   "source": [
    "# Create datetime objects\n",
    "begin = datetime(2020, 9, 7) # September 7, 2020\n",
    "end = datetime(2020, 11, 7) # November 7, 2020\n",
    "date_dict = {\"begin\": begin, \"end\": end}\n",
    "\n",
    "options_dict = {\n",
    "    \"sort\": \"oldest\",\n",
    "    \"sources\": [\"New York Times\",],\n",
    "    \"type_of_material\": [\"News Analysis\", \"News\", \"Article\", \"Editorial\"]\n",
    "}\n",
    "\n",
    "# To get the dataset we use, set n_results to 2000\n",
    "n_results = 2000\n",
    "# n_results = 10\n",
    "\n",
    "# Perform article search query\n",
    "articles = nyt.article_search(\n",
    "     query=\"presidential election\",\n",
    "     results=n_results,\n",
    "     dates=date_dict,\n",
    "     options=options_dict)\n",
    "\n",
    "# Create DataFrame \n",
    "df = pd.json_normalize(articles)\n",
    "\n",
    "# Save DataFrame\n",
    "df.to_pickle(\"election2020_articles.pkl\")"
   ]
  },
  {
   "cell_type": "code",
   "execution_count": 12,
   "id": "8d2f8f73-6add-47ee-9f33-943ff24faf58",
   "metadata": {},
   "outputs": [],
   "source": [
    "df.to_pickle(\"election2020_articles.pkl\")"
   ]
  },
  {
   "cell_type": "markdown",
   "id": "4561fe76-6d07-46c5-bda7-9973e7631ed7",
   "metadata": {},
   "source": [
    "Load in the previously saved data"
   ]
  },
  {
   "cell_type": "code",
   "execution_count": 71,
   "id": "cb310d22-895a-4dff-8442-247aa8b02b42",
   "metadata": {},
   "outputs": [
    {
     "ename": "FileNotFoundError",
     "evalue": "[Errno 2] No such file or directory: 'election2020_articles.pkl'",
     "output_type": "error",
     "traceback": [
      "\u001b[0;31m---------------------------------------------------------------------------\u001b[0m",
      "\u001b[0;31mFileNotFoundError\u001b[0m                         Traceback (most recent call last)",
      "\u001b[0;32m/var/folders/6h/ms_dpkl536d1w6qqd_wnckrw0000gn/T/ipykernel_3058/2702837924.py\u001b[0m in \u001b[0;36m<module>\u001b[0;34m\u001b[0m\n\u001b[0;32m----> 1\u001b[0;31m \u001b[0mdf\u001b[0m \u001b[0;34m=\u001b[0m \u001b[0mpd\u001b[0m\u001b[0;34m.\u001b[0m\u001b[0mread_pickle\u001b[0m\u001b[0;34m(\u001b[0m\u001b[0;34m\"election2020_articles.pkl\"\u001b[0m\u001b[0;34m)\u001b[0m\u001b[0;34m\u001b[0m\u001b[0;34m\u001b[0m\u001b[0m\n\u001b[0m\u001b[1;32m      2\u001b[0m \u001b[0mdf\u001b[0m\u001b[0;34m.\u001b[0m\u001b[0mhead\u001b[0m\u001b[0;34m(\u001b[0m\u001b[0;34m)\u001b[0m\u001b[0;34m\u001b[0m\u001b[0;34m\u001b[0m\u001b[0m\n",
      "\u001b[0;32m/opt/homebrew/Caskroom/miniforge/base/envs/nlp/lib/python3.9/site-packages/pandas/io/pickle.py\u001b[0m in \u001b[0;36mread_pickle\u001b[0;34m(filepath_or_buffer, compression, storage_options)\u001b[0m\n\u001b[1;32m    194\u001b[0m     \"\"\"\n\u001b[1;32m    195\u001b[0m     \u001b[0mexcs_to_catch\u001b[0m \u001b[0;34m=\u001b[0m \u001b[0;34m(\u001b[0m\u001b[0mAttributeError\u001b[0m\u001b[0;34m,\u001b[0m \u001b[0mImportError\u001b[0m\u001b[0;34m,\u001b[0m \u001b[0mModuleNotFoundError\u001b[0m\u001b[0;34m,\u001b[0m \u001b[0mTypeError\u001b[0m\u001b[0;34m)\u001b[0m\u001b[0;34m\u001b[0m\u001b[0;34m\u001b[0m\u001b[0m\n\u001b[0;32m--> 196\u001b[0;31m     with get_handle(\n\u001b[0m\u001b[1;32m    197\u001b[0m         \u001b[0mfilepath_or_buffer\u001b[0m\u001b[0;34m,\u001b[0m\u001b[0;34m\u001b[0m\u001b[0;34m\u001b[0m\u001b[0m\n\u001b[1;32m    198\u001b[0m         \u001b[0;34m\"rb\"\u001b[0m\u001b[0;34m,\u001b[0m\u001b[0;34m\u001b[0m\u001b[0;34m\u001b[0m\u001b[0m\n",
      "\u001b[0;32m/opt/homebrew/Caskroom/miniforge/base/envs/nlp/lib/python3.9/site-packages/pandas/io/common.py\u001b[0m in \u001b[0;36mget_handle\u001b[0;34m(path_or_buf, mode, encoding, compression, memory_map, is_text, errors, storage_options)\u001b[0m\n\u001b[1;32m    709\u001b[0m         \u001b[0;32melse\u001b[0m\u001b[0;34m:\u001b[0m\u001b[0;34m\u001b[0m\u001b[0;34m\u001b[0m\u001b[0m\n\u001b[1;32m    710\u001b[0m             \u001b[0;31m# Binary mode\u001b[0m\u001b[0;34m\u001b[0m\u001b[0;34m\u001b[0m\u001b[0m\n\u001b[0;32m--> 711\u001b[0;31m             \u001b[0mhandle\u001b[0m \u001b[0;34m=\u001b[0m \u001b[0mopen\u001b[0m\u001b[0;34m(\u001b[0m\u001b[0mhandle\u001b[0m\u001b[0;34m,\u001b[0m \u001b[0mioargs\u001b[0m\u001b[0;34m.\u001b[0m\u001b[0mmode\u001b[0m\u001b[0;34m)\u001b[0m\u001b[0;34m\u001b[0m\u001b[0;34m\u001b[0m\u001b[0m\n\u001b[0m\u001b[1;32m    712\u001b[0m         \u001b[0mhandles\u001b[0m\u001b[0;34m.\u001b[0m\u001b[0mappend\u001b[0m\u001b[0;34m(\u001b[0m\u001b[0mhandle\u001b[0m\u001b[0;34m)\u001b[0m\u001b[0;34m\u001b[0m\u001b[0;34m\u001b[0m\u001b[0m\n\u001b[1;32m    713\u001b[0m \u001b[0;34m\u001b[0m\u001b[0m\n",
      "\u001b[0;31mFileNotFoundError\u001b[0m: [Errno 2] No such file or directory: 'election2020_articles.pkl'"
     ]
    }
   ],
   "source": [
    "df = pd.read_pickle(\"election2020_articles.pkl\")\n",
    "df.head()"
   ]
  },
  {
   "cell_type": "code",
   "execution_count": null,
   "id": "65e4aa87-5f4b-42c6-8f6a-c252e91cdc60",
   "metadata": {},
   "outputs": [],
   "source": [
    "# Inspect metadata\n",
    "df.info()"
   ]
  },
  {
   "cell_type": "markdown",
   "id": "3e46337e-600b-45a6-bf77-6a858efc1383",
   "metadata": {},
   "source": [
    "### Perform Sentiment Analysis\n",
    "\n",
    "Sentiment analysis is a common task when working with text data. Let's track the sentiment of articles about the election over the two month time period. We'll use the `vadersentiment` package to evaluate the sentiment of each article.\n",
    "\n",
    "According to the [VADER Github Repo](https://github.com/cjhutto/vaderSentiment), \"VADER (Valence Aware Dictionary and sEntiment Reasoner) is a lexicon and rule-based sentiment analysis tool that is *specifically attuned to sentiments expressed in social media*.\"\n",
    "\n",
    "We'll start by installing the `vadersentiment` library."
   ]
  },
  {
   "cell_type": "code",
   "execution_count": 72,
   "id": "b440d3fb-2ad2-4587-b395-2c862c5009aa",
   "metadata": {},
   "outputs": [
    {
     "name": "stdout",
     "output_type": "stream",
     "text": [
      "Collecting vadersentiment\n",
      "  Downloading vaderSentiment-3.3.2-py2.py3-none-any.whl (125 kB)\n",
      "     |████████████████████████████████| 125 kB 4.2 MB/s            \n",
      "\u001b[?25hRequirement already satisfied: requests in /opt/homebrew/Caskroom/miniforge/base/envs/nlp/lib/python3.9/site-packages (from vadersentiment) (2.26.0)\n",
      "Requirement already satisfied: urllib3<1.27,>=1.21.1 in /opt/homebrew/Caskroom/miniforge/base/envs/nlp/lib/python3.9/site-packages (from requests->vadersentiment) (1.26.7)\n",
      "Requirement already satisfied: idna<4,>=2.5 in /opt/homebrew/Caskroom/miniforge/base/envs/nlp/lib/python3.9/site-packages (from requests->vadersentiment) (3.1)\n",
      "Requirement already satisfied: certifi>=2017.4.17 in /opt/homebrew/Caskroom/miniforge/base/envs/nlp/lib/python3.9/site-packages (from requests->vadersentiment) (2021.10.8)\n",
      "Requirement already satisfied: charset-normalizer~=2.0.0 in /opt/homebrew/Caskroom/miniforge/base/envs/nlp/lib/python3.9/site-packages (from requests->vadersentiment) (2.0.9)\n",
      "Installing collected packages: vadersentiment\n",
      "Successfully installed vadersentiment-3.3.2\n"
     ]
    }
   ],
   "source": [
    "# Install the vadersentiment library\n",
    "!pip install vadersentiment"
   ]
  },
  {
   "cell_type": "code",
   "execution_count": 13,
   "id": "3477c354-ce11-478c-9f99-1a24c0fbc549",
   "metadata": {},
   "outputs": [],
   "source": [
    "# Import the SentimentIntensityAnalyzer object\n",
    "from vaderSentiment.vaderSentiment import SentimentIntensityAnalyzer"
   ]
  },
  {
   "cell_type": "code",
   "execution_count": 18,
   "id": "0a12840c-372b-4b5d-96cc-c8f33c6116ed",
   "metadata": {},
   "outputs": [],
   "source": [
    "# Initialize analyzer object\n",
    "analyzer = SentimentIntensityAnalyzer()\n",
    "# Calculate the polarity scores of the lead paragraph and save it in df\n",
    "df[\"sentiment\"] = df.lead_paragraph.apply(analyzer.polarity_scores)"
   ]
  },
  {
   "cell_type": "code",
   "execution_count": 19,
   "id": "f005cb19-9a18-4c99-9835-ec2801cb5519",
   "metadata": {},
   "outputs": [
    {
     "data": {
      "text/plain": [
       "0    {'neg': 0.143, 'neu': 0.738, 'pos': 0.119, 'co...\n",
       "1    {'neg': 0.108, 'neu': 0.828, 'pos': 0.063, 'co...\n",
       "2    {'neg': 0.0, 'neu': 0.924, 'pos': 0.076, 'comp...\n",
       "3    {'neg': 0.037, 'neu': 0.963, 'pos': 0.0, 'comp...\n",
       "4    {'neg': 0.202, 'neu': 0.736, 'pos': 0.062, 'co...\n",
       "Name: sentiment, dtype: object"
      ]
     },
     "execution_count": 19,
     "metadata": {},
     "output_type": "execute_result"
    }
   ],
   "source": [
    "# Inspect the sentiment column\n",
    "df.sentiment.head()"
   ]
  },
  {
   "cell_type": "code",
   "execution_count": 20,
   "id": "3bcf1b6c-b87d-40e6-a1ba-26ca80056ef8",
   "metadata": {},
   "outputs": [
    {
     "data": {
      "text/plain": [
       "{'neg': 0.143, 'neu': 0.738, 'pos': 0.119, 'compound': -0.296}"
      ]
     },
     "execution_count": 20,
     "metadata": {},
     "output_type": "execute_result"
    }
   ],
   "source": [
    "# View single row\n",
    "df.sentiment.iloc[0]"
   ]
  },
  {
   "cell_type": "markdown",
   "id": "3b774a12-732b-46a4-aabc-b4c29c8fdb3e",
   "metadata": {},
   "source": [
    "The `compound` score is computed by summing the valence scores of each word in the lexicon, adjusted according to the rules, and then normalized to be between -1 (most negative) and +1 (most positive). This is the most useful metric if you want a single unidimensional measure of sentiment for a given sentence. Calling it a \"normalized, weighted composite score\" is accurate. It is also useful for researchers who would like to set standardized thresholds for classifying sentences as either positive, neutral, or negative. \n",
    "\n",
    "Typical threshold values are:\n",
    "\n",
    "1. **Positive Sentiment**: compound score $\\geq 0.05$\n",
    " \n",
    "2. **Neutral  Sentiment**: $-0.05 <$ compound score $< 0.05$\n",
    " \n",
    "3. **Negative Sentiment**: compound score $\\leq -0.05$"
   ]
  },
  {
   "cell_type": "code",
   "execution_count": 21,
   "id": "6a4f20a8-96bc-4009-8424-d427e2b16755",
   "metadata": {},
   "outputs": [],
   "source": [
    "# Re-assign sentiment as the compound score\n",
    "df[\"sentiment\"] = df[\"sentiment\"].apply(lambda x: x[\"compound\"])"
   ]
  },
  {
   "cell_type": "markdown",
   "id": "574114c9-7261-4b7e-8494-8f7e962ac6c2",
   "metadata": {},
   "source": [
    "Let's get a sense of the distribution of scores by calculating some summary statistics and plotting a histogram:"
   ]
  },
  {
   "cell_type": "code",
   "execution_count": 23,
   "id": "dd45dbca-af6f-41fa-a70d-abd008b4ebbb",
   "metadata": {},
   "outputs": [
    {
     "data": {
      "text/plain": [
       "count    1803.000000\n",
       "mean        0.053598\n",
       "std         0.476783\n",
       "min        -0.984300\n",
       "25%        -0.296000\n",
       "50%         0.000000\n",
       "75%         0.458800\n",
       "max         0.980100\n",
       "Name: sentiment, dtype: float64"
      ]
     },
     "execution_count": 23,
     "metadata": {},
     "output_type": "execute_result"
    }
   ],
   "source": [
    "# Summary statistics\n",
    "df.sentiment.describe()"
   ]
  },
  {
   "cell_type": "code",
   "execution_count": 34,
   "id": "debbce8d-5e49-4b11-add9-0532b8cb2ee0",
   "metadata": {},
   "outputs": [
    {
     "data": {
      "text/plain": [
       "(-1.0, 1.0)"
      ]
     },
     "execution_count": 34,
     "metadata": {},
     "output_type": "execute_result"
    },
    {
     "data": {
      "image/png": "[encoded data removed]",
      "text/plain": [
       "<Figure size 648x504 with 1 Axes>"
      ]
     },
     "metadata": {
      "needs_background": "light"
     },
     "output_type": "display_data"
    }
   ],
   "source": [
    "bins = np.linspace(-1, 1, 17)\n",
    "df.sentiment.hist(bins=bins, figsize= (9, 7))\n",
    "plt.xlabel(\"Sentiment Score\")\n",
    "plt.ylabel(\"Frequency\")\n",
    "plt.xlim([-1.0, 1.0])"
   ]
  },
  {
   "cell_type": "markdown",
   "id": "65a407db-1bbf-4ae4-ad07-7a10bdaf2ae9",
   "metadata": {},
   "source": [
    "#### Challenge 4. Answer questions about the data\n",
    "\n",
    "- What are the 3 most positive and negative texts?\n",
    "- Using the vader threshold for positive, neutral, and negative, how many article qualify for each of those labels?\n"
   ]
  },
  {
   "cell_type": "code",
   "execution_count": null,
   "id": "e7a2ebef-41a7-4cc1-a553-a4fc33a3cc57",
   "metadata": {},
   "outputs": [],
   "source": [
    "# Challenge 4 solution here\n",
    "\n",
    "\n"
   ]
  },
  {
   "cell_type": "markdown",
   "id": "0fc1297f-70a1-48cf-bdac-5e251ee697c2",
   "metadata": {},
   "source": [
    "**How did sentiment fluctuate over the course of the campaign?**"
   ]
  },
  {
   "cell_type": "code",
   "execution_count": null,
   "id": "cdbdbe85-27c1-40a2-9693-48955352623d",
   "metadata": {},
   "outputs": [],
   "source": [
    "#Create a panda series using the publication dates as the index and sentiment scores as the values\n",
    "sentiment_ts = pd.Series(index= df.pub_date.tolist(), data = df.sentiment.tolist())"
   ]
  },
  {
   "cell_type": "code",
   "execution_count": null,
   "id": "8d6f9cb9-6c8d-4c6e-9596-2e7e0e2313ce",
   "metadata": {},
   "outputs": [],
   "source": [
    "#Resample aka groupby the data using d for daily and w for weekly\n",
    "daily = sentiment_ts.resample(\"d\").mean()\n",
    "weekly = sentiment_ts.resample(\"w\").mean()"
   ]
  },
  {
   "cell_type": "code",
   "execution_count": null,
   "id": "8d4394c7-ea1d-4583-8a59-8284022ad2fb",
   "metadata": {},
   "outputs": [],
   "source": [
    "#Daily average sentiment of articles.\n",
    "daily.plot(figsize = (11, 7))\n",
    "plt.xlabel(\"Dates\")\n",
    "plt.ylabel(\"Sentiment Score\");"
   ]
  },
  {
   "cell_type": "code",
   "execution_count": null,
   "id": "c7a741f8-d9a9-47a5-bbef-9c1e629b530f",
   "metadata": {},
   "outputs": [],
   "source": [
    "#Weekly average sentiment of articles.\n",
    "weekly.plot(figsize = (11, 7))\n",
    "plt.xlabel(\"Dates\")\n",
    "plt.ylabel(\"Sentiment Score\");"
   ]
  },
  {
   "cell_type": "code",
   "execution_count": null,
   "id": "08e2c3f0-14e1-4ab6-9d02-5149479a9728",
   "metadata": {},
   "outputs": [],
   "source": []
  },
  {
   "cell_type": "markdown",
   "id": "e1da9002-dfeb-4c44-bc7b-c358221ba931",
   "metadata": {},
   "source": [
    "## Bonus Section: Handling Nested Arrays of Keywords"
   ]
  },
  {
   "cell_type": "markdown",
   "id": "e66e600e-927b-41c4-a39a-1cd7decb8df0",
   "metadata": {},
   "source": [
    "The Times has done us a favor in providing the named entities in the articles, thus relieving us of having to do the tagging ourselves. However, the data structure that it comes in can be tricky to handle. Here, we provide a short tutorial showing one way to cleanly extract keyword data."
   ]
  },
  {
   "cell_type": "code",
   "execution_count": 7,
   "id": "3c743c86-6522-41fa-a4ca-50109b9c1b98",
   "metadata": {},
   "outputs": [
    {
     "data": {
      "text/plain": [
       "[{'name': 'subject',\n",
       "  'value': 'Demonstrations, Protests and Riots',\n",
       "  'rank': 1,\n",
       "  'major': 'N'},\n",
       " {'name': 'subject', 'value': 'Music', 'rank': 2, 'major': 'N'},\n",
       " {'name': 'subject', 'value': 'Pop and Rock Music', 'rank': 3, 'major': 'N'},\n",
       " {'name': 'persons',\n",
       "  'value': 'Lukashenko, Aleksandr G',\n",
       "  'rank': 4,\n",
       "  'major': 'N'},\n",
       " {'name': 'glocations', 'value': 'Belarus', 'rank': 5, 'major': 'N'},\n",
       " {'name': 'glocations', 'value': 'Minsk (Belarus)', 'rank': 6, 'major': 'N'},\n",
       " {'name': 'subject',\n",
       "  'value': 'Politics and Government',\n",
       "  'rank': 7,\n",
       "  'major': 'N'},\n",
       " {'name': 'subject', 'value': 'Elections', 'rank': 8, 'major': 'N'}]"
      ]
     },
     "execution_count": 7,
     "metadata": {},
     "output_type": "execute_result"
    }
   ],
   "source": [
    "# Refer to a sample article's set of keywords\n",
    "df.keywords.iloc[1]"
   ]
  },
  {
   "cell_type": "markdown",
   "id": "ada82a2d-ab47-40e5-9425-d86342a5df10",
   "metadata": {},
   "source": [
    "We see a number of things here:\n",
    "- Each article's keywords are laid out in a list of dictionaries.\n",
    "- A dictionary tell us the name, type, ranking, and major of the keyword.\n",
    "- The five types of keywords are: subject, persons, glocations, organizations, and creative_works\n",
    "- The ordering of the list corresponds to the ranking.\n",
    "- All articles do not all have the same number of rankings, ranges from 1 - 19."
   ]
  },
  {
   "cell_type": "markdown",
   "id": "4f8534e5-9097-427d-ba9b-1e04ce668064",
   "metadata": {},
   "source": [
    "We've created a function to extract keyword data based on the ranking. This function will be applied over the pandas series of keyword data."
   ]
  },
  {
   "cell_type": "code",
   "execution_count": null,
   "id": "04b1fede-fd8c-432c-b1e1-2a805a1e9b87",
   "metadata": {},
   "outputs": [],
   "source": [
    "\"\"\"Extracts keyword data based on ranking.\n",
    "\n",
    "Parameters\n",
    "----------\n",
    "data : pd.DataFrame\n",
    "    The dataframe containing the keywords.\n",
    "rank : \n",
    "\"\"\"\n",
    "def rank_extractor(data, rank):\n",
    "    # Empty list return non\n",
    "    if data == []:\n",
    "        return None\n",
    "    # Iterate over the list of keywords until you reach the keyword corresponding with the ranking.\n",
    "    for i in data:\n",
    "        if i[\"rank\"] == rank:\n",
    "            #return just keyword and its type in a dictionary form\n",
    "            return {\"name\":i[\"name\"], \"value\":i[\"value\"]}"
   ]
  },
  {
   "cell_type": "code",
   "execution_count": null,
   "id": "d701072e-8d36-4cab-9ee5-f58e8aed62b6",
   "metadata": {},
   "outputs": [],
   "source": [
    "# Extract the first, second, and third keywords\n",
    "rank1 = df.keywords.apply(lambda x: rank_extractor(x,1))\n",
    "rank2 = df.keywords.apply(lambda x: rank_extractor(x,2))\n",
    "rank3 = df.keywords.apply(lambda x: rank_extractor(x,3))"
   ]
  },
  {
   "cell_type": "code",
   "execution_count": null,
   "id": "e3f18704-1d57-4c70-9170-04f644b915dc",
   "metadata": {},
   "outputs": [],
   "source": [
    "#View results\n",
    "rank1.head()"
   ]
  },
  {
   "cell_type": "markdown",
   "id": "b7ec099e-b5d5-4e2c-b617-78043b28be1e",
   "metadata": {},
   "source": [
    "Convert the series containing dictionaries to a dataframe"
   ]
  },
  {
   "cell_type": "code",
   "execution_count": null,
   "id": "762ed380-57f2-4dec-8f31-210567a5057b",
   "metadata": {},
   "outputs": [],
   "source": [
    "rank1 = rank1.apply(pd.Series)\n",
    "rank2 = rank2.apply(pd.Series)\n",
    "rank3 = rank3.apply(pd.Series)\n",
    "rank1.head()"
   ]
  },
  {
   "cell_type": "markdown",
   "id": "49e9b4ab-7113-4321-8e3e-82b86effeb6c",
   "metadata": {},
   "source": [
    "Voila, nice clean format. Now can we conduct some light analysis."
   ]
  },
  {
   "cell_type": "code",
   "execution_count": null,
   "id": "311b066f-ce49-4aa4-889c-d79c919a3811",
   "metadata": {},
   "outputs": [],
   "source": [
    "#Most frequent type of keyword in ranking #1\n",
    "rank1.name.value_counts()\n"
   ]
  },
  {
   "cell_type": "code",
   "execution_count": null,
   "id": "131a13f9-d941-4787-aa24-2caa650eae96",
   "metadata": {},
   "outputs": [],
   "source": [
    "# Most common glocation in rank1\n",
    "rank1.query(\"name == 'glocations'\").value.value_counts().head()"
   ]
  }
 ],
 "metadata": {
  "kernelspec": {
   "display_name": "Python 3",
   "language": "python",
   "name": "python3"
  },
  "language_info": {
   "codemirror_mode": {
    "name": "ipython",
    "version": 3
   },
   "file_extension": ".py",
   "mimetype": "text/x-python",
   "name": "python",
   "nbconvert_exporter": "python",
   "pygments_lexer": "ipython3",
   "version": "3.7.7"
  }
 },
 "nbformat": 4,
 "nbformat_minor": 5
}
