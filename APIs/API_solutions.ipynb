{
 "cells": [
  {
   "cell_type": "markdown",
   "id": "6caa532f-d502-4576-9ee6-5ad88ca0c550",
   "metadata": {},
   "source": [
    "# Accessing Databases via Web APIs\n",
    "* * * * *"
   ]
  },
  {
   "cell_type": "code",
   "execution_count": 1,
   "id": "b0379359-694d-491c-ba18-fa80ea3c65bc",
   "metadata": {},
   "outputs": [],
   "source": [
    "# Import required libraries\n",
    "import matplotlib.pyplot as plt\n",
    "import pandas as pd\n",
    "from datetime import datetime"
   ]
  },
  {
   "cell_type": "markdown",
   "id": "8d2eeb34-dab0-464c-8fca-568624fe2cbb",
   "metadata": {},
   "source": [
    "## The New York Times API: All the Data Thats Fit to Query"
   ]
  },
  {
   "cell_type": "markdown",
   "id": "a639eb32-15e0-48fc-9cb5-3bd804fae0f9",
   "metadata": {},
   "source": [
    "### 1. Establishing the Connection"
   ]
  },
  {
   "cell_type": "markdown",
   "id": "da084101-19bc-46c1-9722-317d0514da5e",
   "metadata": {},
   "source": [
    "Put the API Key you just created in the `api_key` variable in the cell below"
   ]
  },
  {
   "cell_type": "code",
   "execution_count": 2,
   "id": "5fbdc8b6-a91d-4f07-a98c-2ba3e8b01726",
   "metadata": {},
   "outputs": [],
   "source": [
    "#put your key here\n",
    "api_key = \"\""
   ]
  },
  {
   "cell_type": "markdown",
   "id": "582ed0ad-ccad-4294-a50f-e1d4843217c6",
   "metadata": {},
   "source": [
    "To access the NYTimes' databases we'll be using a third-party library called [pynytimes](https://github.com/michadenheijer/pynytimes). This package provides an easy to use tool for accessing the wealth of data hosted by the Times.\n",
    "\n",
    "To install the library, follow these instructions taken from their github repo."
   ]
  },
  {
   "cell_type": "markdown",
   "id": "6c9a12d2-5628-4260-ac13-6dbce6f0f4b5",
   "metadata": {},
   "source": [
    "## Installation\n",
    "\n",
    "There are multiple options to install and ugprade pynytimes, but the easiest is by just installing it using ```pip``` (or ```pip3```).\n",
    "### Linux and Mac\n",
    "\n",
    "```bash\n",
    "pip install --upgrade pynytimes\n",
    "```\n",
    "\n",
    "### Windows\n",
    "\n",
    "```shell\n",
    "python -m pip install --upgrade pynytimes\n",
    "```\n",
    "\n",
    "### Development\n",
    "\n",
    "You can also install ```pynytimes``` manually from GitHub itself. This can be done by cloning this repository first, and then installing it using Python. *This might install an unreleased version, installation using this method is only advised if you want to modify the code or help maintain this library.*\n",
    "\n",
    "```bash\n",
    "git clone https://github.com/michadenheijer/pynytimes.git\n",
    "cd pynytimes\n",
    "python setup.py install\n",
    "```\n",
    "\n",
    "### Older Python versions\n",
    "\n",
    "The current version of ```pynytimes``` only supports the most recent Python versions (3.8, 3.9, and 3.10) however you still might be running older versions of Python. Luckily most of ```pynytimes``` features are still available. In the table below you can see which version of ```pynytimes``` still supports your Python version.\n",
    "\n",
    "| Python version | ```pynytimes``` version | Missing features                             |\n",
    "|----------------|-------------------------|----------------------------------------------|\n",
    "| 3.7            | ```0.7.0```             | Some type hints, small bugfixes              |\n",
    "| 3.6            | ```0.6.1```             | Type hints, small bugfixes, ```with``` usage |\n",
    "| 3.5            | ```0.4.2```             | Times Tags, no date parsing                  |\n",
    "\n",
    "You can install an older version by ```pip install --upgrade pynytimes==0.7.0```."
   ]
  },
  {
   "cell_type": "code",
   "execution_count": 3,
   "id": "746ef41c-9984-49d5-9ef8-efdac0102fb1",
   "metadata": {},
   "outputs": [
    {
     "name": "stdout",
     "output_type": "stream",
     "text": [
      "\u001b[33mWARNING: The directory '/home/jovyan/.cache/pip' or its parent directory is not owned or is not writable by the current user. The cache has been disabled. Check the permissions and owner of that directory. If executing pip with sudo, you should use sudo's -H flag.\u001b[0m\n",
      "Collecting pynytimes\n",
      "  Downloading pynytimes-0.8.0-py3-none-any.whl (21 kB)\n",
      "Requirement already satisfied: requests<3.0.0,>=2.10.0 in /opt/conda/lib/python3.9/site-packages (from pynytimes) (2.26.0)\n",
      "Requirement already satisfied: urllib3 in /opt/conda/lib/python3.9/site-packages (from pynytimes) (1.26.7)\n",
      "Requirement already satisfied: idna<4,>=2.5 in /opt/conda/lib/python3.9/site-packages (from requests<3.0.0,>=2.10.0->pynytimes) (3.1)\n",
      "Requirement already satisfied: charset-normalizer~=2.0.0 in /opt/conda/lib/python3.9/site-packages (from requests<3.0.0,>=2.10.0->pynytimes) (2.0.9)\n",
      "Requirement already satisfied: certifi>=2017.4.17 in /opt/conda/lib/python3.9/site-packages (from requests<3.0.0,>=2.10.0->pynytimes) (2021.10.8)\n",
      "Installing collected packages: pynytimes\n",
      "Successfully installed pynytimes-0.8.0\n",
      "\u001b[33mWARNING: Running pip as the 'root' user can result in broken permissions and conflicting behaviour with the system package manager. It is recommended to use a virtual environment instead: https://pip.pypa.io/warnings/venv\u001b[0m\n"
     ]
    }
   ],
   "source": [
    "!pip install pynytimes"
   ]
  },
  {
   "cell_type": "markdown",
   "id": "dc6d8416-3a3b-4641-954e-85519ca613ad",
   "metadata": {},
   "source": [
    "Once the package installed, let's go ahead import the library and initialize a connection to their servers using our api keys."
   ]
  },
  {
   "cell_type": "code",
   "execution_count": 37,
   "id": "dce57534-fe5d-45a4-bb97-f2df8dc3d9d6",
   "metadata": {},
   "outputs": [],
   "source": [
    "#Import the NYTAPI object which we'll use to access the API\n",
    "from pynytimes import NYTAPI"
   ]
  },
  {
   "cell_type": "code",
   "execution_count": 38,
   "id": "018a6dfa-9343-42b1-9014-165ae7507b0c",
   "metadata": {},
   "outputs": [],
   "source": [
    "#intialize nyt api class using your api key\n",
    "nyt = NYTAPI(api_key, parse_dates=True)"
   ]
  },
  {
   "cell_type": "code",
   "execution_count": null,
   "id": "815de801-a01c-46f0-8fed-5d400cdcb862",
   "metadata": {},
   "outputs": [],
   "source": []
  },
  {
   "cell_type": "markdown",
   "id": "e13137c6-c776-4da0-b1a2-195726244be5",
   "metadata": {},
   "source": [
    "Ta-da! We are now ready to make some API calls!!"
   ]
  },
  {
   "cell_type": "markdown",
   "id": "2a4a288c-8d6d-4774-bc84-822c9fedfaf0",
   "metadata": {},
   "source": [
    "### 2. Making API Calls\n",
    "*****\n",
    "\n",
    "Here's comes the fun part. Now that we've established a connection to New York Times' rich database, let's go over what kind of data and privileges we have access to."
   ]
  },
  {
   "cell_type": "markdown",
   "id": "deedf92b-e0bb-4d6a-996c-3c3b4078a7cf",
   "metadata": {},
   "source": [
    "### APIs\n",
    "\n",
    "[Here is the collection of the APIs the NYT gives us.](https://developer.nytimes.com/apis)\n",
    "\n",
    "- [Top stories](https://developer.nytimes.com/docs/top-stories-product/1/overview): Returns an array of articles currently on the specified section \n",
    "- [Most viewed/shared articles](https://developer.nytimes.com/docs/most-popular-product/1/overview): Provides services for getting the most popular articles on NYTimes.com based on emails, shares, or views.\n",
    "- [Article search](https://developer.nytimes.com/docs/articlesearch-product/1/overview): Look up articles by keyword. You can refine your search using filters and facets.\n",
    "- [Books](https://developer.nytimes.com/docs/books-product/1/overview): Provides information about book reviews and The New York Times Best Sellers lists.\n",
    "- [Movie reviews](https://developer.nytimes.com/docs/movie-reviews-api/1/overview): Search movie reviews by keyword and opening date and filter by Critics' Picks.\n",
    "- [Times Wire](https://developer.nytimes.com/docs/timeswire-product/1/overview): Get links and metadata for Times' articles as soon as they are published on NYTimes.com. The Times Newswire API provides an up-to-the-minute stream of published articles.\n",
    "- [Tag query (TimesTags)](https://developer.nytimes.com/docs/timestags-product/1/overview): Provide a string of characters and the service returns a ranked list of suggested terms.\n",
    "- [Archive metadata](https://developer.nytimes.com/docs/archive-product/1/overview): Returns an array of NYT articles for a given month, going back to 1851."
   ]
  },
  {
   "cell_type": "markdown",
   "id": "35c8345e-3c62-4b69-ac99-d15aeff7d5a3",
   "metadata": {},
   "source": [
    "In this workshop we go over a few of the APIs and do some light data analysis of the data we pull."
   ]
  },
  {
   "cell_type": "markdown",
   "id": "44a18eac-436d-43ef-8151-6bfc85a74a8d",
   "metadata": {},
   "source": [
    "**Top Stories**\n",
    "\n",
    "Let's see what are the top stories of the day. To do that all we have to do is call a single method on the `nyt` object"
   ]
  },
  {
   "cell_type": "code",
   "execution_count": 40,
   "id": "c6d14b2a-67f3-42b6-b383-1eb78962a05a",
   "metadata": {},
   "outputs": [
    {
     "name": "stdout",
     "output_type": "stream",
     "text": [
      "top_stories is a list of length 59\n"
     ]
    }
   ],
   "source": [
    "# Get all the top stories from the home page\n",
    "top_stories = nyt.top_stories()\n",
    "\n",
    "print(\"top_stories is a list of length {}\".format(len(top_stories)))"
   ]
  },
  {
   "cell_type": "markdown",
   "id": "8eded794-5f47-4848-9c59-9ba325efecaf",
   "metadata": {},
   "source": [
    "The `top_stories` method has a single paramater called `section` parameter defaults to \"home\"."
   ]
  },
  {
   "cell_type": "code",
   "execution_count": null,
   "id": "0925a2d7-94a4-4ce4-9731-782c4521238f",
   "metadata": {},
   "outputs": [],
   "source": []
  },
  {
   "cell_type": "code",
   "execution_count": 41,
   "id": "b582b805-46fb-48f4-8b0c-fc5585b7b898",
   "metadata": {},
   "outputs": [
    {
     "data": {
      "text/plain": [
       "[{'section': 'us',\n",
       "  'subsection': 'politics',\n",
       "  'title': 'The Next Big Lies: Jan. 6 Was No Big Deal, or a Left-Wing Plot',\n",
       "  'abstract': 'How revisionist histories of Jan. 6 picked up where the “stop the steal” campaign left off, warping beliefs about what transpired at the Capitol.',\n",
       "  'url': 'https://www.nytimes.com/2022/01/06/us/politics/jan-6-lies.html',\n",
       "  'uri': 'nyt://article/fd0133bf-981d-57c7-9ea9-ed8246dea671',\n",
       "  'byline': 'By Matthew Rosenberg, Jim Rutenberg and Michael M. Grynbaum',\n",
       "  'item_type': 'Article',\n",
       "  'updated_date': datetime.datetime(2022, 1, 6, 14, 15, 24, tzinfo=datetime.timezone(datetime.timedelta(days=-1, seconds=68400))),\n",
       "  'created_date': datetime.datetime(2022, 1, 6, 12, 56, 11, tzinfo=datetime.timezone(datetime.timedelta(days=-1, seconds=68400))),\n",
       "  'published_date': datetime.datetime(2022, 1, 6, 12, 56, 11, tzinfo=datetime.timezone(datetime.timedelta(days=-1, seconds=68400))),\n",
       "  'material_type_facet': '',\n",
       "  'kicker': '',\n",
       "  'des_facet': ['Storming of the US Capitol (Jan, 2021)',\n",
       "   'Rumors and Misinformation',\n",
       "   'News and News Media',\n",
       "   'Conspiracy Theories',\n",
       "   'Right-Wing Extremism and Alt-Right',\n",
       "   'Antifa Movement (US)',\n",
       "   'Fringe Groups and Movements'],\n",
       "  'org_facet': [],\n",
       "  'per_facet': ['Trump, Donald J'],\n",
       "  'geo_facet': [],\n",
       "  'multimedia': [{'url': 'https://static01.nyt.com/images/2022/01/06/multimedia/06jan6-history-5/merlin_199969818_b4550558-cc27-45d7-8913-7cee3938105f-superJumbo.jpg',\n",
       "    'format': 'superJumbo',\n",
       "    'height': 1365,\n",
       "    'width': 2048,\n",
       "    'type': 'image',\n",
       "    'subtype': 'photo',\n",
       "    'caption': '',\n",
       "    'copyright': 'Christopher Lee'}],\n",
       "  'short_url': 'https://nyti.ms/3n2z8AP'},\n",
       " {'section': 'us',\n",
       "  'subsection': 'politics',\n",
       "  'title': 'A Year Later, Jan. 6 Becomes Just Another Wedge in a Divided Nation',\n",
       "  'abstract': 'The nearly universal outrage after the assault on the Capitol has reverted to separate blue and red realities, and former President Donald J. Trump has remained the dominant force in his party.',\n",
       "  'url': 'https://www.nytimes.com/2022/01/06/us/politics/jan-6-capitol-riot-aftermath.html',\n",
       "  'uri': 'nyt://article/004bfebf-4f55-54ee-9804-f73413acc08c',\n",
       "  'byline': 'By Peter Baker',\n",
       "  'item_type': 'Article',\n",
       "  'updated_date': datetime.datetime(2022, 1, 6, 6, 10, 42, tzinfo=datetime.timezone(datetime.timedelta(days=-1, seconds=68400))),\n",
       "  'created_date': datetime.datetime(2022, 1, 6, 3, 0, 15, tzinfo=datetime.timezone(datetime.timedelta(days=-1, seconds=68400))),\n",
       "  'published_date': datetime.datetime(2022, 1, 6, 3, 0, 15, tzinfo=datetime.timezone(datetime.timedelta(days=-1, seconds=68400))),\n",
       "  'material_type_facet': '',\n",
       "  'kicker': 'news analysis',\n",
       "  'des_facet': ['Storming of the US Capitol (Jan, 2021)',\n",
       "   'United States Politics and Government',\n",
       "   'Rumors and Misinformation'],\n",
       "  'org_facet': ['Republican Party'],\n",
       "  'per_facet': ['Trump, Donald J'],\n",
       "  'geo_facet': [],\n",
       "  'multimedia': [{'url': 'https://static01.nyt.com/images/2022/01/06/us/politics/06dc-assess/merlin_199965939_42d55dc7-8497-439d-8f6c-5dcd4c21038b-superJumbo.jpg',\n",
       "    'format': 'superJumbo',\n",
       "    'height': 1365,\n",
       "    'width': 2048,\n",
       "    'type': 'image',\n",
       "    'subtype': 'photo',\n",
       "    'caption': 'The first anniversary of the assault on the Capitol serves as a chance to take stock of a country still trying to make sense of it all.',\n",
       "    'copyright': 'Al Drago for The New York Times'}],\n",
       "  'short_url': 'https://nyti.ms/3ETiFFe'},\n",
       " {'section': 'us',\n",
       "  'subsection': 'politics',\n",
       "  'title': 'Top Republicans, who have downplayed and denied the riot, are absent from the commemorative events.',\n",
       "  'abstract': '',\n",
       "  'url': 'https://www.nytimes.com/live/2022/01/06/us/jan-6-capitol-riot/top-republicans-who-have-downplayed-and-denied-the-riot-are-absent-from-the-commemorative-events',\n",
       "  'uri': 'nyt://article/e9627d47-50b2-5399-bd42-b2d232a9766f',\n",
       "  'byline': 'By Catie Edmondson',\n",
       "  'item_type': 'Article',\n",
       "  'updated_date': datetime.datetime(2022, 1, 6, 11, 0, 16, tzinfo=datetime.timezone(datetime.timedelta(days=-1, seconds=68400))),\n",
       "  'created_date': datetime.datetime(2022, 1, 6, 11, 0, 16, tzinfo=datetime.timezone(datetime.timedelta(days=-1, seconds=68400))),\n",
       "  'published_date': datetime.datetime(2022, 1, 6, 11, 0, 16, tzinfo=datetime.timezone(datetime.timedelta(days=-1, seconds=68400))),\n",
       "  'material_type_facet': '',\n",
       "  'kicker': '',\n",
       "  'des_facet': [],\n",
       "  'org_facet': [],\n",
       "  'per_facet': [],\n",
       "  'geo_facet': [],\n",
       "  'multimedia': [{'url': 'https://static01.nyt.com/images/2022/01/06/us/politics/06capitol-riot-gop-jan6-1/merlin_199957692_7f9a5270-13fd-461f-bc7a-85c924eda394-superJumbo.jpg',\n",
       "    'format': 'superJumbo',\n",
       "    'height': 1365,\n",
       "    'width': 2048,\n",
       "    'type': 'image',\n",
       "    'subtype': 'photo',\n",
       "    'caption': 'Senator Mitch McConnell will skip the ceremonies to attend the funeral of former Senator Johnny Isakson, a Georgia Republican.',\n",
       "    'copyright': 'Al Drago for The New York Times'}],\n",
       "  'short_url': 'https://nyti.ms/3G65It2'}]"
      ]
     },
     "execution_count": 41,
     "metadata": {},
     "output_type": "execute_result"
    }
   ],
   "source": [
    "#Preview the output\n",
    "top_stories[:3]"
   ]
  },
  {
   "cell_type": "code",
   "execution_count": null,
   "id": "bd439934-e440-4b22-80a2-5bdfa8d1c104",
   "metadata": {},
   "outputs": [],
   "source": []
  },
  {
   "cell_type": "markdown",
   "id": "5724e114-fe34-4471-9ffe-310f9d921a7e",
   "metadata": {},
   "source": [
    "This is pretty typical output for data pulled from an API. We are looking at a list of nested JSON dictionaries."
   ]
  },
  {
   "cell_type": "code",
   "execution_count": null,
   "id": "c3e48d5b-6726-46b5-8da0-5cb239431409",
   "metadata": {},
   "outputs": [],
   "source": []
  },
  {
   "cell_type": "markdown",
   "id": "38b034d1-32f9-4a41-93c3-e76c90ebaa81",
   "metadata": {},
   "source": [
    "When working with a new api, a good way to establish an understanding of the data is to inspect a single object in the collection. Let's grab the first story in the array and inspect it's attributes and data."
   ]
  },
  {
   "cell_type": "code",
   "execution_count": 7,
   "id": "f744cb9e-d991-4c2e-97bd-d12aa5912119",
   "metadata": {},
   "outputs": [
    {
     "data": {
      "text/plain": [
       "{'section': 'us',\n",
       " 'subsection': 'politics',\n",
       " 'title': 'For C.D.C.’s Walensky, a Steep Learning Curve on Messaging',\n",
       " 'abstract': 'Dr. Rochelle Walensky, the director of the Centers for Disease Control and Prevention, has stumbled in explaining her policy decisions.',\n",
       " 'url': 'https://www.nytimes.com/2022/01/05/us/politics/cdc-rochelle-walensky-covid-isolation-testing.html',\n",
       " 'uri': 'nyt://article/68c90eb8-f79e-5b62-8174-5aae8a4a256b',\n",
       " 'byline': 'By Sharon LaFraniere, Sheryl Gay Stolberg and Noah Weiland',\n",
       " 'item_type': 'Article',\n",
       " 'updated_date': datetime.datetime(2022, 1, 5, 21, 34, 5, tzinfo=datetime.timezone(datetime.timedelta(days=-1, seconds=68400))),\n",
       " 'created_date': datetime.datetime(2022, 1, 5, 18, 58, 47, tzinfo=datetime.timezone(datetime.timedelta(days=-1, seconds=68400))),\n",
       " 'published_date': datetime.datetime(2022, 1, 5, 18, 58, 47, tzinfo=datetime.timezone(datetime.timedelta(days=-1, seconds=68400))),\n",
       " 'material_type_facet': '',\n",
       " 'kicker': '',\n",
       " 'des_facet': ['Coronavirus (2019-nCoV)',\n",
       "  'Tests (Medical)',\n",
       "  'United States Politics and Government',\n",
       "  'Quarantines'],\n",
       " 'org_facet': ['Centers for Disease Control and Prevention'],\n",
       " 'per_facet': ['Biden, Joseph R Jr', 'Walensky, Rochelle'],\n",
       " 'geo_facet': [],\n",
       " 'multimedia': [{'url': 'https://static01.nyt.com/images/2022/01/05/us/politics/05DC-tests-1/merlin_199692267_d3d45f4b-f47c-423e-955e-babb1b59d9a1-superJumbo.jpg',\n",
       "   'format': 'superJumbo',\n",
       "   'height': 1367,\n",
       "   'width': 2048,\n",
       "   'type': 'image',\n",
       "   'subtype': 'photo',\n",
       "   'caption': 'Dr. Rochelle Walensky, left, was criticized for failing to fully explain her reasoning for halving the recommended isolation period for\\xa0people infected with the coronavirus.',\n",
       "   'copyright': 'Cheriss May for The New York Times'}],\n",
       " 'short_url': 'https://nyti.ms/332Q3fp'}"
      ]
     },
     "execution_count": 7,
     "metadata": {},
     "output_type": "execute_result"
    }
   ],
   "source": [
    "top_story = top_stories[0]\n",
    "top_story"
   ]
  },
  {
   "cell_type": "code",
   "execution_count": null,
   "id": "c2223762-6f38-4f69-9a34-e96e7e37451a",
   "metadata": {},
   "outputs": [],
   "source": []
  },
  {
   "cell_type": "markdown",
   "id": "08a0fa06-969c-4e20-b392-3e4adb298a7d",
   "metadata": {},
   "source": [
    "We are provided a diverse collection of data for the article ranging from the expected (title, author, section) and to NLP-derived information such as named entities. And FYI does not provide the full article in their API."
   ]
  },
  {
   "cell_type": "markdown",
   "id": "c7cc9364-4bb4-477c-989c-97ca2fe0815e",
   "metadata": {},
   "source": [
    "**Does anything about the data stand out to you? What bits of information could be useful to you and your research needs?**"
   ]
  },
  {
   "cell_type": "code",
   "execution_count": null,
   "id": "1ef3237e-9811-487d-be67-76475cdea8a4",
   "metadata": {},
   "outputs": [],
   "source": []
  },
  {
   "cell_type": "code",
   "execution_count": null,
   "id": "f956bd97-f4a8-400c-9e14-41d65e836fa0",
   "metadata": {},
   "outputs": [],
   "source": []
  },
  {
   "cell_type": "markdown",
   "id": "6169914c-9e61-459d-acad-67d579cb153d",
   "metadata": {},
   "source": [
    "If we are interested in a specific section then we can pass in one of the following tags into the `section` parameter:\n",
    "\n",
    "\n",
    "```arts```, ```automobiles```, ```books```, ```business```, ```fashion```, ```food```, ```health```, ```home```, ```insider```, ```magazine```, ```movies```, ```national```, ```nyregion```, ```obituaries```, ```opinion```, ```politics```, ```realestate```, ```science```, ```sports```, ```sundayreview```, ```technology```, ```theater```, ```tmagazine```, ```travel```, ```upshot```, and ```world```.\n"
   ]
  },
  {
   "cell_type": "code",
   "execution_count": null,
   "id": "df012cca-1573-4347-9e91-41e7c6178fcd",
   "metadata": {},
   "outputs": [],
   "source": []
  },
  {
   "cell_type": "markdown",
   "id": "cc28bc7d-d3dd-48ff-99d8-20b9db7046b0",
   "metadata": {},
   "source": [
    "#### Challenge 1: Find the top stories for a section\n",
    "\n",
    "- Choose 2 sections, grab their top stories and collect them into lists.\n",
    "- Tell us how many stories are each in section and what is the title of the first story in each list."
   ]
  },
  {
   "cell_type": "code",
   "execution_count": 8,
   "id": "12c920bc-bf8c-48a4-a34e-d10e4a23476d",
   "metadata": {},
   "outputs": [
    {
     "name": "stdout",
     "output_type": "stream",
     "text": [
      "There are 38 sports stories\n"
     ]
    }
   ],
   "source": [
    "# sports\n",
    "section = \"sports\"\n",
    "top_sports_stories = nyt.top_stories(section=section)\n",
    "print(\"There are {} {} stories\".format(len(top_sports_stories), section))"
   ]
  },
  {
   "cell_type": "code",
   "execution_count": 9,
   "id": "69aa8254-618d-41a9-88ee-f3a2fde7ef8e",
   "metadata": {},
   "outputs": [
    {
     "data": {
      "text/plain": [
       "'Novak Djokovic Is Refused Entry Into Australia Over Vaccine Exemption'"
      ]
     },
     "execution_count": 9,
     "metadata": {},
     "output_type": "execute_result"
    }
   ],
   "source": [
    "#grab first story\n",
    "top_sport_story = top_sports_stories[0]\n",
    "top_sport_story_title = top_sport_story[\"title\"]\n",
    "top_sport_story_title"
   ]
  },
  {
   "cell_type": "code",
   "execution_count": 10,
   "id": "8c7eae7e-a977-4345-b73c-bf323c0220ba",
   "metadata": {},
   "outputs": [
    {
     "name": "stdout",
     "output_type": "stream",
     "text": [
      "There are 29 technology stories\n"
     ]
    }
   ],
   "source": [
    "# technology\n",
    "section = \"technology\"\n",
    "top_tech_stories = nyt.top_stories(section=section)\n",
    "print(\"There are {} {} stories\".format(len(top_tech_stories), section))"
   ]
  },
  {
   "cell_type": "code",
   "execution_count": 11,
   "id": "0f3526fd-cef3-45a0-a536-36e407eff1f6",
   "metadata": {},
   "outputs": [
    {
     "data": {
      "text/plain": [
       "'Right-Wing Calls to Celebrate Jan. 6 Anniversary Draw a Muted Response'"
      ]
     },
     "execution_count": 11,
     "metadata": {},
     "output_type": "execute_result"
    }
   ],
   "source": [
    "#grab first story\n",
    "top_tech_story = top_tech_stories[0]\n",
    "top_tech_story_title = top_tech_story[\"title\"]\n",
    "top_tech_story_title"
   ]
  },
  {
   "cell_type": "code",
   "execution_count": null,
   "id": "79105173-3c50-432f-acbb-c73a91b94111",
   "metadata": {},
   "outputs": [],
   "source": []
  },
  {
   "cell_type": "markdown",
   "id": "73610bbb-e547-4dac-9d55-be815fba4009",
   "metadata": {},
   "source": [
    "#### Organizing the API results into a Pandas DataFrame\n",
    "\n",
    "In order to conduct any sort of analysis we need to convert the list of JSON data to a Pandas dataframe. Pandas allows use to simply pass in the array of article data and produce a nice clean table in one line of code. "
   ]
  },
  {
   "cell_type": "markdown",
   "id": "cab0d546-3798-4ed9-bb8c-15bfd6ad5333",
   "metadata": {},
   "source": [
    "First let's see what happens when we pass in `top_stories` to `pd.json_normalize`"
   ]
  },
  {
   "cell_type": "code",
   "execution_count": 43,
   "id": "176bb5a8-53db-4244-a525-bd836b902ede",
   "metadata": {},
   "outputs": [
    {
     "data": {
      "text/html": [
       "<div>\n",
       "<style scoped>\n",
       "    .dataframe tbody tr th:only-of-type {\n",
       "        vertical-align: middle;\n",
       "    }\n",
       "\n",
       "    .dataframe tbody tr th {\n",
       "        vertical-align: top;\n",
       "    }\n",
       "\n",
       "    .dataframe thead th {\n",
       "        text-align: right;\n",
       "    }\n",
       "</style>\n",
       "<table border=\"1\" class=\"dataframe\">\n",
       "  <thead>\n",
       "    <tr style=\"text-align: right;\">\n",
       "      <th></th>\n",
       "      <th>section</th>\n",
       "      <th>subsection</th>\n",
       "      <th>title</th>\n",
       "      <th>abstract</th>\n",
       "      <th>url</th>\n",
       "      <th>uri</th>\n",
       "      <th>byline</th>\n",
       "      <th>item_type</th>\n",
       "      <th>updated_date</th>\n",
       "      <th>created_date</th>\n",
       "      <th>published_date</th>\n",
       "      <th>material_type_facet</th>\n",
       "      <th>kicker</th>\n",
       "      <th>des_facet</th>\n",
       "      <th>org_facet</th>\n",
       "      <th>per_facet</th>\n",
       "      <th>geo_facet</th>\n",
       "      <th>multimedia</th>\n",
       "      <th>short_url</th>\n",
       "    </tr>\n",
       "  </thead>\n",
       "  <tbody>\n",
       "    <tr>\n",
       "      <th>0</th>\n",
       "      <td>us</td>\n",
       "      <td>politics</td>\n",
       "      <td>The Next Big Lies: Jan. 6 Was No Big Deal, or ...</td>\n",
       "      <td>How revisionist histories of Jan. 6 picked up ...</td>\n",
       "      <td>https://www.nytimes.com/2022/01/06/us/politics...</td>\n",
       "      <td>nyt://article/fd0133bf-981d-57c7-9ea9-ed8246de...</td>\n",
       "      <td>By Matthew Rosenberg, Jim Rutenberg and Michae...</td>\n",
       "      <td>Article</td>\n",
       "      <td>2022-01-06 14:15:24-05:00</td>\n",
       "      <td>2022-01-06 12:56:11-05:00</td>\n",
       "      <td>2022-01-06 12:56:11-05:00</td>\n",
       "      <td></td>\n",
       "      <td></td>\n",
       "      <td>[Storming of the US Capitol (Jan, 2021), Rumor...</td>\n",
       "      <td>[]</td>\n",
       "      <td>[Trump, Donald J]</td>\n",
       "      <td>[]</td>\n",
       "      <td>[{'url': 'https://static01.nyt.com/images/2022...</td>\n",
       "      <td>https://nyti.ms/3n2z8AP</td>\n",
       "    </tr>\n",
       "    <tr>\n",
       "      <th>1</th>\n",
       "      <td>us</td>\n",
       "      <td>politics</td>\n",
       "      <td>A Year Later, Jan. 6 Becomes Just Another Wedg...</td>\n",
       "      <td>The nearly universal outrage after the assault...</td>\n",
       "      <td>https://www.nytimes.com/2022/01/06/us/politics...</td>\n",
       "      <td>nyt://article/004bfebf-4f55-54ee-9804-f73413ac...</td>\n",
       "      <td>By Peter Baker</td>\n",
       "      <td>Article</td>\n",
       "      <td>2022-01-06 06:10:42-05:00</td>\n",
       "      <td>2022-01-06 03:00:15-05:00</td>\n",
       "      <td>2022-01-06 03:00:15-05:00</td>\n",
       "      <td></td>\n",
       "      <td>news analysis</td>\n",
       "      <td>[Storming of the US Capitol (Jan, 2021), Unite...</td>\n",
       "      <td>[Republican Party]</td>\n",
       "      <td>[Trump, Donald J]</td>\n",
       "      <td>[]</td>\n",
       "      <td>[{'url': 'https://static01.nyt.com/images/2022...</td>\n",
       "      <td>https://nyti.ms/3ETiFFe</td>\n",
       "    </tr>\n",
       "    <tr>\n",
       "      <th>2</th>\n",
       "      <td>us</td>\n",
       "      <td>politics</td>\n",
       "      <td>Top Republicans, who have downplayed and denie...</td>\n",
       "      <td></td>\n",
       "      <td>https://www.nytimes.com/live/2022/01/06/us/jan...</td>\n",
       "      <td>nyt://article/e9627d47-50b2-5399-bd42-b2d232a9...</td>\n",
       "      <td>By Catie Edmondson</td>\n",
       "      <td>Article</td>\n",
       "      <td>2022-01-06 11:00:16-05:00</td>\n",
       "      <td>2022-01-06 11:00:16-05:00</td>\n",
       "      <td>2022-01-06 11:00:16-05:00</td>\n",
       "      <td></td>\n",
       "      <td></td>\n",
       "      <td>[]</td>\n",
       "      <td>[]</td>\n",
       "      <td>[]</td>\n",
       "      <td>[]</td>\n",
       "      <td>[{'url': 'https://static01.nyt.com/images/2022...</td>\n",
       "      <td>https://nyti.ms/3G65It2</td>\n",
       "    </tr>\n",
       "    <tr>\n",
       "      <th>3</th>\n",
       "      <td>business</td>\n",
       "      <td></td>\n",
       "      <td>Lifesaving Covid Treatments Face Rationing as ...</td>\n",
       "      <td>Scarce supplies and surging Covid cases have c...</td>\n",
       "      <td>https://www.nytimes.com/2022/01/06/business/co...</td>\n",
       "      <td>nyt://article/799c7f3a-c482-5ae1-afc8-a24d25bc...</td>\n",
       "      <td>By Rebecca Robbins, Noah Weiland and Christina...</td>\n",
       "      <td>Article</td>\n",
       "      <td>2022-01-06 13:48:44-05:00</td>\n",
       "      <td>2022-01-06 11:13:30-05:00</td>\n",
       "      <td>2022-01-06 11:13:30-05:00</td>\n",
       "      <td></td>\n",
       "      <td></td>\n",
       "      <td>[Coronavirus Omicron Variant, Coronavirus (201...</td>\n",
       "      <td>[GlaxoSmithKline PLC, Pfizer Inc]</td>\n",
       "      <td>[]</td>\n",
       "      <td>[]</td>\n",
       "      <td>[{'url': 'https://static01.nyt.com/images/2022...</td>\n",
       "      <td>https://nyti.ms/3pYEwXn</td>\n",
       "    </tr>\n",
       "    <tr>\n",
       "      <th>4</th>\n",
       "      <td>travel</td>\n",
       "      <td></td>\n",
       "      <td>Cases Rise, Criticism Mounts, but Ships Keep C...</td>\n",
       "      <td>One day after the C.D.C. advised against all t...</td>\n",
       "      <td>https://www.nytimes.com/2022/01/06/travel/coro...</td>\n",
       "      <td>nyt://article/48fda516-911d-5d08-a3a9-09b35930...</td>\n",
       "      <td>By Ceylan Yeginsu</td>\n",
       "      <td>Article</td>\n",
       "      <td>2022-01-06 13:01:39-05:00</td>\n",
       "      <td>2022-01-06 05:00:16-05:00</td>\n",
       "      <td>2022-01-06 05:00:16-05:00</td>\n",
       "      <td></td>\n",
       "      <td></td>\n",
       "      <td>[Coronavirus Risks and Safety Concerns, Quaran...</td>\n",
       "      <td>[Carnival Cruise Lines, Celebrity Cruises Inc,...</td>\n",
       "      <td>[]</td>\n",
       "      <td>[]</td>\n",
       "      <td>[{'url': 'https://static01.nyt.com/images/2022...</td>\n",
       "      <td>https://nyti.ms/332GRYu</td>\n",
       "    </tr>\n",
       "  </tbody>\n",
       "</table>\n",
       "</div>"
      ],
      "text/plain": [
       "    section subsection                                              title  \\\n",
       "0        us   politics  The Next Big Lies: Jan. 6 Was No Big Deal, or ...   \n",
       "1        us   politics  A Year Later, Jan. 6 Becomes Just Another Wedg...   \n",
       "2        us   politics  Top Republicans, who have downplayed and denie...   \n",
       "3  business             Lifesaving Covid Treatments Face Rationing as ...   \n",
       "4    travel             Cases Rise, Criticism Mounts, but Ships Keep C...   \n",
       "\n",
       "                                            abstract  \\\n",
       "0  How revisionist histories of Jan. 6 picked up ...   \n",
       "1  The nearly universal outrage after the assault...   \n",
       "2                                                      \n",
       "3  Scarce supplies and surging Covid cases have c...   \n",
       "4  One day after the C.D.C. advised against all t...   \n",
       "\n",
       "                                                 url  \\\n",
       "0  https://www.nytimes.com/2022/01/06/us/politics...   \n",
       "1  https://www.nytimes.com/2022/01/06/us/politics...   \n",
       "2  https://www.nytimes.com/live/2022/01/06/us/jan...   \n",
       "3  https://www.nytimes.com/2022/01/06/business/co...   \n",
       "4  https://www.nytimes.com/2022/01/06/travel/coro...   \n",
       "\n",
       "                                                 uri  \\\n",
       "0  nyt://article/fd0133bf-981d-57c7-9ea9-ed8246de...   \n",
       "1  nyt://article/004bfebf-4f55-54ee-9804-f73413ac...   \n",
       "2  nyt://article/e9627d47-50b2-5399-bd42-b2d232a9...   \n",
       "3  nyt://article/799c7f3a-c482-5ae1-afc8-a24d25bc...   \n",
       "4  nyt://article/48fda516-911d-5d08-a3a9-09b35930...   \n",
       "\n",
       "                                              byline item_type  \\\n",
       "0  By Matthew Rosenberg, Jim Rutenberg and Michae...   Article   \n",
       "1                                     By Peter Baker   Article   \n",
       "2                                 By Catie Edmondson   Article   \n",
       "3  By Rebecca Robbins, Noah Weiland and Christina...   Article   \n",
       "4                                  By Ceylan Yeginsu   Article   \n",
       "\n",
       "                updated_date               created_date  \\\n",
       "0  2022-01-06 14:15:24-05:00  2022-01-06 12:56:11-05:00   \n",
       "1  2022-01-06 06:10:42-05:00  2022-01-06 03:00:15-05:00   \n",
       "2  2022-01-06 11:00:16-05:00  2022-01-06 11:00:16-05:00   \n",
       "3  2022-01-06 13:48:44-05:00  2022-01-06 11:13:30-05:00   \n",
       "4  2022-01-06 13:01:39-05:00  2022-01-06 05:00:16-05:00   \n",
       "\n",
       "              published_date material_type_facet         kicker  \\\n",
       "0  2022-01-06 12:56:11-05:00                                      \n",
       "1  2022-01-06 03:00:15-05:00                      news analysis   \n",
       "2  2022-01-06 11:00:16-05:00                                      \n",
       "3  2022-01-06 11:13:30-05:00                                      \n",
       "4  2022-01-06 05:00:16-05:00                                      \n",
       "\n",
       "                                           des_facet  \\\n",
       "0  [Storming of the US Capitol (Jan, 2021), Rumor...   \n",
       "1  [Storming of the US Capitol (Jan, 2021), Unite...   \n",
       "2                                                 []   \n",
       "3  [Coronavirus Omicron Variant, Coronavirus (201...   \n",
       "4  [Coronavirus Risks and Safety Concerns, Quaran...   \n",
       "\n",
       "                                           org_facet          per_facet  \\\n",
       "0                                                 []  [Trump, Donald J]   \n",
       "1                                 [Republican Party]  [Trump, Donald J]   \n",
       "2                                                 []                 []   \n",
       "3                  [GlaxoSmithKline PLC, Pfizer Inc]                 []   \n",
       "4  [Carnival Cruise Lines, Celebrity Cruises Inc,...                 []   \n",
       "\n",
       "  geo_facet                                         multimedia  \\\n",
       "0        []  [{'url': 'https://static01.nyt.com/images/2022...   \n",
       "1        []  [{'url': 'https://static01.nyt.com/images/2022...   \n",
       "2        []  [{'url': 'https://static01.nyt.com/images/2022...   \n",
       "3        []  [{'url': 'https://static01.nyt.com/images/2022...   \n",
       "4        []  [{'url': 'https://static01.nyt.com/images/2022...   \n",
       "\n",
       "                 short_url  \n",
       "0  https://nyti.ms/3n2z8AP  \n",
       "1  https://nyti.ms/3ETiFFe  \n",
       "2  https://nyti.ms/3G65It2  \n",
       "3  https://nyti.ms/3pYEwXn  \n",
       "4  https://nyti.ms/332GRYu  "
      ]
     },
     "execution_count": 43,
     "metadata": {},
     "output_type": "execute_result"
    }
   ],
   "source": [
    "#Convert to DataFrmae\n",
    "df = pd.json_normalize(top_stories)\n",
    "#View first 5 rows\n",
    "df.head()"
   ]
  },
  {
   "cell_type": "code",
   "execution_count": 44,
   "id": "fa8e6202-f3f8-4d43-9601-c0fb0404ba85",
   "metadata": {},
   "outputs": [
    {
     "name": "stdout",
     "output_type": "stream",
     "text": [
      "<class 'pandas.core.frame.DataFrame'>\n",
      "RangeIndex: 59 entries, 0 to 58\n",
      "Data columns (total 19 columns):\n",
      " #   Column               Non-Null Count  Dtype \n",
      "---  ------               --------------  ----- \n",
      " 0   section              59 non-null     object\n",
      " 1   subsection           59 non-null     object\n",
      " 2   title                59 non-null     object\n",
      " 3   abstract             59 non-null     object\n",
      " 4   url                  59 non-null     object\n",
      " 5   uri                  59 non-null     object\n",
      " 6   byline               59 non-null     object\n",
      " 7   item_type            59 non-null     object\n",
      " 8   updated_date         59 non-null     object\n",
      " 9   created_date         59 non-null     object\n",
      " 10  published_date       59 non-null     object\n",
      " 11  material_type_facet  59 non-null     object\n",
      " 12  kicker               59 non-null     object\n",
      " 13  des_facet            59 non-null     object\n",
      " 14  org_facet            59 non-null     object\n",
      " 15  per_facet            59 non-null     object\n",
      " 16  geo_facet            59 non-null     object\n",
      " 17  multimedia           59 non-null     object\n",
      " 18  short_url            59 non-null     object\n",
      "dtypes: object(19)\n",
      "memory usage: 8.9+ KB\n"
     ]
    }
   ],
   "source": [
    "#Inspect metadata\n",
    "df.info()"
   ]
  },
  {
   "cell_type": "markdown",
   "id": "a241d131-f695-4aaa-bcef-104f57761099",
   "metadata": {},
   "source": [
    "For the most part it does a good job of producing a table where\n",
    "- The columns correspond with the JSON dictionary keys from our API call.\n",
    "- The number of rows matches the number of articles.\n",
    "- Each cell holds the corresponding value found under that article's dictionary key.\n",
    "\n",
    "However there is one issue and that can be found in the multimedia column"
   ]
  },
  {
   "cell_type": "code",
   "execution_count": 45,
   "id": "90122393-6c7c-4cb4-8f7c-44b88cfabac4",
   "metadata": {},
   "outputs": [
    {
     "data": {
      "text/plain": [
       "0    [{'url': 'https://static01.nyt.com/images/2022...\n",
       "1    [{'url': 'https://static01.nyt.com/images/2022...\n",
       "2    [{'url': 'https://static01.nyt.com/images/2022...\n",
       "3    [{'url': 'https://static01.nyt.com/images/2022...\n",
       "4    [{'url': 'https://static01.nyt.com/images/2022...\n",
       "Name: multimedia, dtype: object"
      ]
     },
     "execution_count": 45,
     "metadata": {},
     "output_type": "execute_result"
    }
   ],
   "source": [
    "#Grab the multimedia column data\n",
    "multimedia = df[\"multimedia\"]\n",
    "multimedia.head()"
   ]
  },
  {
   "cell_type": "code",
   "execution_count": 46,
   "id": "967f966e-d27d-4184-96ce-36d8f72d4cb0",
   "metadata": {},
   "outputs": [
    {
     "data": {
      "text/plain": [
       "[{'url': 'https://static01.nyt.com/images/2022/01/06/multimedia/06jan6-history-5/merlin_199969818_b4550558-cc27-45d7-8913-7cee3938105f-superJumbo.jpg',\n",
       "  'format': 'superJumbo',\n",
       "  'height': 1365,\n",
       "  'width': 2048,\n",
       "  'type': 'image',\n",
       "  'subtype': 'photo',\n",
       "  'caption': '',\n",
       "  'copyright': 'Christopher Lee'}]"
      ]
     },
     "execution_count": 46,
     "metadata": {},
     "output_type": "execute_result"
    }
   ],
   "source": [
    "#first row\n",
    "multimedia.iloc[0]"
   ]
  },
  {
   "cell_type": "markdown",
   "id": "1b048471-8567-441f-94ba-2a7bd80b8c14",
   "metadata": {},
   "source": [
    "The data in the multimedia column is what's referred to as a nested list. An issue may arise if we'd like to treat attributes in an article's `multimedia` data as distinct columns. The `json_normalize` method has parameters that get around this."
   ]
  },
  {
   "cell_type": "code",
   "execution_count": 47,
   "id": "45f834f0-3044-42ee-bebd-7498024f4ee8",
   "metadata": {},
   "outputs": [
    {
     "data": {
      "text/html": [
       "<div>\n",
       "<style scoped>\n",
       "    .dataframe tbody tr th:only-of-type {\n",
       "        vertical-align: middle;\n",
       "    }\n",
       "\n",
       "    .dataframe tbody tr th {\n",
       "        vertical-align: top;\n",
       "    }\n",
       "\n",
       "    .dataframe thead th {\n",
       "        text-align: right;\n",
       "    }\n",
       "</style>\n",
       "<table border=\"1\" class=\"dataframe\">\n",
       "  <thead>\n",
       "    <tr style=\"text-align: right;\">\n",
       "      <th></th>\n",
       "      <th>multimedia_url</th>\n",
       "      <th>multimedia_format</th>\n",
       "      <th>multimedia_height</th>\n",
       "      <th>multimedia_width</th>\n",
       "      <th>multimedia_type</th>\n",
       "      <th>multimedia_subtype</th>\n",
       "      <th>multimedia_caption</th>\n",
       "      <th>multimedia_copyright</th>\n",
       "      <th>section</th>\n",
       "      <th>subsection</th>\n",
       "      <th>...</th>\n",
       "      <th>created_date</th>\n",
       "      <th>published_date</th>\n",
       "      <th>material_type_facet</th>\n",
       "      <th>kicker</th>\n",
       "      <th>des_facet</th>\n",
       "      <th>org_facet</th>\n",
       "      <th>per_facet</th>\n",
       "      <th>geo_facet</th>\n",
       "      <th>multimedia</th>\n",
       "      <th>short_url</th>\n",
       "    </tr>\n",
       "  </thead>\n",
       "  <tbody>\n",
       "    <tr>\n",
       "      <th>0</th>\n",
       "      <td>https://static01.nyt.com/images/2022/01/06/mul...</td>\n",
       "      <td>superJumbo</td>\n",
       "      <td>1365</td>\n",
       "      <td>2048</td>\n",
       "      <td>image</td>\n",
       "      <td>photo</td>\n",
       "      <td></td>\n",
       "      <td>Christopher Lee</td>\n",
       "      <td>us</td>\n",
       "      <td>politics</td>\n",
       "      <td>...</td>\n",
       "      <td>2022-01-06 12:56:11-05:00</td>\n",
       "      <td>2022-01-06 12:56:11-05:00</td>\n",
       "      <td></td>\n",
       "      <td></td>\n",
       "      <td>[Storming of the US Capitol (Jan, 2021), Rumor...</td>\n",
       "      <td>[]</td>\n",
       "      <td>[Trump, Donald J]</td>\n",
       "      <td>[]</td>\n",
       "      <td>{'url': 'https://static01.nyt.com/images/2022/...</td>\n",
       "      <td>https://nyti.ms/3n2z8AP</td>\n",
       "    </tr>\n",
       "    <tr>\n",
       "      <th>1</th>\n",
       "      <td>https://static01.nyt.com/images/2022/01/06/us/...</td>\n",
       "      <td>superJumbo</td>\n",
       "      <td>1365</td>\n",
       "      <td>2048</td>\n",
       "      <td>image</td>\n",
       "      <td>photo</td>\n",
       "      <td>The first anniversary of the assault on the Ca...</td>\n",
       "      <td>Al Drago for The New York Times</td>\n",
       "      <td>us</td>\n",
       "      <td>politics</td>\n",
       "      <td>...</td>\n",
       "      <td>2022-01-06 03:00:15-05:00</td>\n",
       "      <td>2022-01-06 03:00:15-05:00</td>\n",
       "      <td></td>\n",
       "      <td>news analysis</td>\n",
       "      <td>[Storming of the US Capitol (Jan, 2021), Unite...</td>\n",
       "      <td>[Republican Party]</td>\n",
       "      <td>[Trump, Donald J]</td>\n",
       "      <td>[]</td>\n",
       "      <td>{'url': 'https://static01.nyt.com/images/2022/...</td>\n",
       "      <td>https://nyti.ms/3ETiFFe</td>\n",
       "    </tr>\n",
       "    <tr>\n",
       "      <th>2</th>\n",
       "      <td>https://static01.nyt.com/images/2022/01/06/us/...</td>\n",
       "      <td>superJumbo</td>\n",
       "      <td>1365</td>\n",
       "      <td>2048</td>\n",
       "      <td>image</td>\n",
       "      <td>photo</td>\n",
       "      <td>Senator Mitch McConnell will skip the ceremoni...</td>\n",
       "      <td>Al Drago for The New York Times</td>\n",
       "      <td>us</td>\n",
       "      <td>politics</td>\n",
       "      <td>...</td>\n",
       "      <td>2022-01-06 11:00:16-05:00</td>\n",
       "      <td>2022-01-06 11:00:16-05:00</td>\n",
       "      <td></td>\n",
       "      <td></td>\n",
       "      <td>[]</td>\n",
       "      <td>[]</td>\n",
       "      <td>[]</td>\n",
       "      <td>[]</td>\n",
       "      <td>{'url': 'https://static01.nyt.com/images/2022/...</td>\n",
       "      <td>https://nyti.ms/3G65It2</td>\n",
       "    </tr>\n",
       "    <tr>\n",
       "      <th>3</th>\n",
       "      <td>https://static01.nyt.com/images/2022/01/05/bus...</td>\n",
       "      <td>superJumbo</td>\n",
       "      <td>1365</td>\n",
       "      <td>2048</td>\n",
       "      <td>image</td>\n",
       "      <td>photo</td>\n",
       "      <td>Louis Shantzek got Covid but was unable to rec...</td>\n",
       "      <td>Scott McIntyre for The New York Times</td>\n",
       "      <td>business</td>\n",
       "      <td></td>\n",
       "      <td>...</td>\n",
       "      <td>2022-01-06 11:13:30-05:00</td>\n",
       "      <td>2022-01-06 11:13:30-05:00</td>\n",
       "      <td></td>\n",
       "      <td></td>\n",
       "      <td>[Coronavirus Omicron Variant, Coronavirus (201...</td>\n",
       "      <td>[GlaxoSmithKline PLC, Pfizer Inc]</td>\n",
       "      <td>[]</td>\n",
       "      <td>[]</td>\n",
       "      <td>{'url': 'https://static01.nyt.com/images/2022/...</td>\n",
       "      <td>https://nyti.ms/3pYEwXn</td>\n",
       "    </tr>\n",
       "    <tr>\n",
       "      <th>4</th>\n",
       "      <td>https://static01.nyt.com/images/2022/01/06/tra...</td>\n",
       "      <td>superJumbo</td>\n",
       "      <td>1365</td>\n",
       "      <td>2048</td>\n",
       "      <td>image</td>\n",
       "      <td>photo</td>\n",
       "      <td>The German cruise ship AIDAnova, docked in Lis...</td>\n",
       "      <td>Armando Franca/Associated Press</td>\n",
       "      <td>travel</td>\n",
       "      <td></td>\n",
       "      <td>...</td>\n",
       "      <td>2022-01-06 05:00:16-05:00</td>\n",
       "      <td>2022-01-06 05:00:16-05:00</td>\n",
       "      <td></td>\n",
       "      <td></td>\n",
       "      <td>[Coronavirus Risks and Safety Concerns, Quaran...</td>\n",
       "      <td>[Carnival Cruise Lines, Celebrity Cruises Inc,...</td>\n",
       "      <td>[]</td>\n",
       "      <td>[]</td>\n",
       "      <td>{'url': 'https://static01.nyt.com/images/2022/...</td>\n",
       "      <td>https://nyti.ms/332GRYu</td>\n",
       "    </tr>\n",
       "  </tbody>\n",
       "</table>\n",
       "<p>5 rows × 27 columns</p>\n",
       "</div>"
      ],
      "text/plain": [
       "                                      multimedia_url multimedia_format  \\\n",
       "0  https://static01.nyt.com/images/2022/01/06/mul...        superJumbo   \n",
       "1  https://static01.nyt.com/images/2022/01/06/us/...        superJumbo   \n",
       "2  https://static01.nyt.com/images/2022/01/06/us/...        superJumbo   \n",
       "3  https://static01.nyt.com/images/2022/01/05/bus...        superJumbo   \n",
       "4  https://static01.nyt.com/images/2022/01/06/tra...        superJumbo   \n",
       "\n",
       "   multimedia_height  multimedia_width multimedia_type multimedia_subtype  \\\n",
       "0               1365              2048           image              photo   \n",
       "1               1365              2048           image              photo   \n",
       "2               1365              2048           image              photo   \n",
       "3               1365              2048           image              photo   \n",
       "4               1365              2048           image              photo   \n",
       "\n",
       "                                  multimedia_caption  \\\n",
       "0                                                      \n",
       "1  The first anniversary of the assault on the Ca...   \n",
       "2  Senator Mitch McConnell will skip the ceremoni...   \n",
       "3  Louis Shantzek got Covid but was unable to rec...   \n",
       "4  The German cruise ship AIDAnova, docked in Lis...   \n",
       "\n",
       "                    multimedia_copyright   section subsection  ...  \\\n",
       "0                        Christopher Lee        us   politics  ...   \n",
       "1        Al Drago for The New York Times        us   politics  ...   \n",
       "2        Al Drago for The New York Times        us   politics  ...   \n",
       "3  Scott McIntyre for The New York Times  business             ...   \n",
       "4        Armando Franca/Associated Press    travel             ...   \n",
       "\n",
       "                created_date             published_date material_type_facet  \\\n",
       "0  2022-01-06 12:56:11-05:00  2022-01-06 12:56:11-05:00                       \n",
       "1  2022-01-06 03:00:15-05:00  2022-01-06 03:00:15-05:00                       \n",
       "2  2022-01-06 11:00:16-05:00  2022-01-06 11:00:16-05:00                       \n",
       "3  2022-01-06 11:13:30-05:00  2022-01-06 11:13:30-05:00                       \n",
       "4  2022-01-06 05:00:16-05:00  2022-01-06 05:00:16-05:00                       \n",
       "\n",
       "          kicker                                          des_facet  \\\n",
       "0                 [Storming of the US Capitol (Jan, 2021), Rumor...   \n",
       "1  news analysis  [Storming of the US Capitol (Jan, 2021), Unite...   \n",
       "2                                                                []   \n",
       "3                 [Coronavirus Omicron Variant, Coronavirus (201...   \n",
       "4                 [Coronavirus Risks and Safety Concerns, Quaran...   \n",
       "\n",
       "                                           org_facet          per_facet  \\\n",
       "0                                                 []  [Trump, Donald J]   \n",
       "1                                 [Republican Party]  [Trump, Donald J]   \n",
       "2                                                 []                 []   \n",
       "3                  [GlaxoSmithKline PLC, Pfizer Inc]                 []   \n",
       "4  [Carnival Cruise Lines, Celebrity Cruises Inc,...                 []   \n",
       "\n",
       "  geo_facet                                         multimedia  \\\n",
       "0        []  {'url': 'https://static01.nyt.com/images/2022/...   \n",
       "1        []  {'url': 'https://static01.nyt.com/images/2022/...   \n",
       "2        []  {'url': 'https://static01.nyt.com/images/2022/...   \n",
       "3        []  {'url': 'https://static01.nyt.com/images/2022/...   \n",
       "4        []  {'url': 'https://static01.nyt.com/images/2022/...   \n",
       "\n",
       "                 short_url  \n",
       "0  https://nyti.ms/3n2z8AP  \n",
       "1  https://nyti.ms/3ETiFFe  \n",
       "2  https://nyti.ms/3G65It2  \n",
       "3  https://nyti.ms/3pYEwXn  \n",
       "4  https://nyti.ms/332GRYu  \n",
       "\n",
       "[5 rows x 27 columns]"
      ]
     },
     "execution_count": 47,
     "metadata": {},
     "output_type": "execute_result"
    }
   ],
   "source": [
    "#Call the json_normalize method by setting record_path to multimedia\n",
    "#Set record_prefix to \"multimedia_\" to identify the data under multimedia\n",
    "#Set meta to a list of columns from the original dataframe cols\n",
    "cols = df.columns.tolist()\n",
    "df = pd.json_normalize(top_stories, record_path = \"multimedia\", record_prefix= \"multimedia_\", meta=cols)\n",
    "df.head()"
   ]
  },
  {
   "cell_type": "markdown",
   "id": "51468d82-aaa9-44a7-91fb-9000d2a73769",
   "metadata": {},
   "source": [
    "All the information from multimedias has been restructed to be on the same level as the rest of the data."
   ]
  },
  {
   "cell_type": "code",
   "execution_count": 48,
   "id": "667ecda9-5d63-4f6d-a56e-26e389f66ecd",
   "metadata": {},
   "outputs": [],
   "source": [
    "#save data to csv file\n",
    "df.to_csv(\"top_nyt_articles.csv\")"
   ]
  },
  {
   "cell_type": "markdown",
   "id": "741048f9-1f01-434a-b5e8-fc51583c8d8e",
   "metadata": {},
   "source": [
    "#### Most viewed and shared articles"
   ]
  },
  {
   "cell_type": "markdown",
   "id": "4e8b137d-4365-4994-beee-04b8e06cc9cf",
   "metadata": {},
   "source": [
    "Retrieving the most viewed and shared articles is also quite simple. The `days` parameter returns the most popular articles based on the last N days, only allowed to pass in 1, 7, or 30."
   ]
  },
  {
   "cell_type": "code",
   "execution_count": 49,
   "id": "959dc92b-c33f-41b5-b271-15eb17a5a669",
   "metadata": {},
   "outputs": [
    {
     "data": {
      "text/plain": [
       "{'uri': 'nyt://article/3f5582aa-f227-5c65-a7a0-c7720a69d8ca',\n",
       " 'url': 'https://www.nytimes.com/2022/01/05/sports/tennis/novak-djokovic-australia-visa.html',\n",
       " 'id': 100000008146569,\n",
       " 'asset_id': 100000008146569,\n",
       " 'source': 'New York Times',\n",
       " 'published_date': datetime.date(2022, 1, 5),\n",
       " 'updated': datetime.datetime(2022, 1, 6, 11, 21, 4),\n",
       " 'section': 'Sports',\n",
       " 'subsection': 'Tennis',\n",
       " 'nytdsection': 'sports',\n",
       " 'adx_keywords': 'Tennis;Australian Open (Tennis);Visas;Politics and Government;Coronavirus (2019-nCoV);Vaccination and Immunization;Djokovic, Novak;Australia',\n",
       " 'column': None,\n",
       " 'byline': 'By Matthew Futterman',\n",
       " 'type': 'Article',\n",
       " 'title': 'Novak Djokovic Is Refused Entry Into Australia Over Vaccine Exemption',\n",
       " 'abstract': 'The No. 1 men’s tennis player was told to leave the country after a 10-hour standoff at a Melbourne airport. He remained in the country as he waited out a legal appeal.',\n",
       " 'des_facet': ['Tennis',\n",
       "  'Australian Open (Tennis)',\n",
       "  'Visas',\n",
       "  'Politics and Government',\n",
       "  'Coronavirus (2019-nCoV)',\n",
       "  'Vaccination and Immunization'],\n",
       " 'org_facet': [],\n",
       " 'per_facet': ['Djokovic, Novak'],\n",
       " 'geo_facet': ['Australia'],\n",
       " 'media': [{'type': 'image',\n",
       "   'subtype': 'photo',\n",
       "   'caption': \"Novak Djokovic after winning last year's Australian Open. He had received a medical exemption to play this year.\",\n",
       "   'copyright': 'David Gray/Agence France-Presse — Getty Images',\n",
       "   'approved_for_syndication': 1,\n",
       "   'media-metadata': [{'url': 'https://static01.nyt.com/images/2022/01/06/multimedia/06djokovic-changenew/06djokovic-changenew-thumbStandard.jpg',\n",
       "     'format': 'Standard Thumbnail',\n",
       "     'height': 75,\n",
       "     'width': 75},\n",
       "    {'url': 'https://static01.nyt.com/images/2022/01/06/multimedia/06djokovic-changenew/06djokovic-changenew-mediumThreeByTwo210.jpg',\n",
       "     'format': 'mediumThreeByTwo210',\n",
       "     'height': 140,\n",
       "     'width': 210},\n",
       "    {'url': 'https://static01.nyt.com/images/2022/01/06/multimedia/06djokovic-changenew/06djokovic-changenew-mediumThreeByTwo440.jpg',\n",
       "     'format': 'mediumThreeByTwo440',\n",
       "     'height': 293,\n",
       "     'width': 440}]}],\n",
       " 'eta_id': 0}"
      ]
     },
     "execution_count": 49,
     "metadata": {},
     "output_type": "execute_result"
    }
   ],
   "source": [
    "#Retrieve the most viewed articles for today. Days defaults to 1\n",
    "most_viewed_today = nyt.most_viewed()\n",
    "most_viewed_today[0]"
   ]
  },
  {
   "cell_type": "code",
   "execution_count": 50,
   "id": "358187a6-420d-4317-9429-5a021edb1e6f",
   "metadata": {},
   "outputs": [
    {
     "data": {
      "text/plain": [
       "20"
      ]
     },
     "execution_count": 50,
     "metadata": {},
     "output_type": "execute_result"
    }
   ],
   "source": [
    "len(most_viewed_today)"
   ]
  },
  {
   "cell_type": "markdown",
   "id": "684faea3-9fab-499c-8869-b99747b04d86",
   "metadata": {},
   "source": [
    "For this piece of data, we can consult a guide or what's known as a schema to understand the information at our finger tips.\n",
    "\n",
    "The [Most Viewed Schema](https://developer.nytimes.com/docs/most-popular-product/1/types/ViewedArticle) can answer any questions we may have about this article's data."
   ]
  },
  {
   "cell_type": "markdown",
   "id": "210bc5f1-037d-4c49-85e1-186bfbc946b1",
   "metadata": {},
   "source": [
    "| Attribute      | Data Type | Definition      |\n",
    "| ----------- | ----------- | ----------- |\n",
    "| url      | string       | Article's URL.       |\n",
    "| adx_keywords   | string        | Semicolon separated list of keywords.        |\n",
    "| column   | string        | Deprecated. Set to null.        |\n",
    "| section   | string        | Article's section (e.g. Sports).        |\n",
    "| byline   | string        | Article's byline (e.g. By Thomas L. Friedman).        |\n",
    "| type   | string        | Asset type (e.g. Article, Interactive, ...).        |\n",
    "| title   | string        | Article's headline (e.g. When the Cellos Play, the Cows Come Home).        |\n",
    "| abstract   | string        | Brief summary of the article.|\n",
    "| published_date   | string        | When the article was published on the web (e.g. 2021-04-19).        |\n",
    "| source   | string        | Publisher (e.g. New York Times).        |\n",
    "| id   | integer        | Asset ID number (e.g. 100000007772696).        |\n",
    "| asset_id   | integer        | Asset ID number (e.g. 100000007772696).        |\n",
    "| des_facet   | array        | Array of description facets (e.g. Quarantine (Life and Culture)).        |\n",
    "| org_facet   | array        | Array of organization facets (e.g. Sullivan Street Bakery).        |\n",
    "| per_facet   | array        | Array of person facets (e.g. Bittman, Mark).        |\n",
    "| geo_facet   | array        | Array of geographic facets (e.g. Canada).        |\n",
    "| media   | array        | Array of images.        |\n",
    "| media.type   | string        | Asset type (e.g. image).        |\n",
    "| media.subtype   | string        | Asset subtype (e.g. photo).        |\n",
    "| media.caption   | string        | Media caption        |\n",
    "| media.copyright   | string        | Media credit        |\n",
    "| media.approved_for_syndication   | boolean        | Whether media is approved for syndication.        |\n",
    "| media.media-metadata   | array        | Media metadata (url, width, height, ...).        |\n",
    "| media.media-metadata.url   | string        | Image's URL.        |\n",
    "| media.media-metadata.format   | string        | Image's crop name     |\n",
    "| media.media-metadata.height   | integer        | Image's height |\n",
    "| media.media-metadata.width   | integer        | Image's width      |"
   ]
  },
  {
   "cell_type": "code",
   "execution_count": null,
   "id": "d3b65dde-5314-44a2-80af-a4a0c6be9101",
   "metadata": {},
   "outputs": [],
   "source": []
  },
  {
   "cell_type": "code",
   "execution_count": null,
   "id": "37d24892-9ea3-4ebc-8a68-d113d75032d8",
   "metadata": {},
   "outputs": [],
   "source": []
  },
  {
   "cell_type": "markdown",
   "id": "fc33ce38-daf3-494a-9f0f-12d089321297",
   "metadata": {},
   "source": [
    "To pull most popular articles for the past weekend and month, we pass the numbers 7 or 30 into `days`"
   ]
  },
  {
   "cell_type": "code",
   "execution_count": 53,
   "id": "cf701a93-68c4-4c0c-ab6d-30487b4da504",
   "metadata": {},
   "outputs": [],
   "source": [
    "most_viewed_week = nyt.most_viewed(days=7)\n",
    "most_viewed_month = nyt.most_viewed(days=30)"
   ]
  },
  {
   "cell_type": "markdown",
   "id": "64a14916-a9fc-4826-a459-787780e26a41",
   "metadata": {},
   "source": [
    "Most viewed article of the last week"
   ]
  },
  {
   "cell_type": "code",
   "execution_count": 54,
   "id": "e3e2f679-4660-4c03-84b8-5f9257473165",
   "metadata": {},
   "outputs": [
    {
     "data": {
      "text/plain": [
       "{'uri': 'nyt://article/79808d50-9271-5eee-abde-4f125c172853',\n",
       " 'url': 'https://www.nytimes.com/2021/12/31/arts/television/betty-white-dead.html',\n",
       " 'id': 100000006684002,\n",
       " 'asset_id': 100000006684002,\n",
       " 'source': 'New York Times',\n",
       " 'published_date': datetime.date(2021, 12, 31),\n",
       " 'updated': datetime.datetime(2022, 1, 1, 8, 38, 6),\n",
       " 'section': 'Arts',\n",
       " 'subsection': 'Television',\n",
       " 'nytdsection': 'arts',\n",
       " 'adx_keywords': 'Deaths (Obituaries);Actors and Actresses;Television;White, Betty',\n",
       " 'column': None,\n",
       " 'byline': 'By Richard Severo and Peter Keepnews',\n",
       " 'type': 'Article',\n",
       " 'title': 'Betty White, a Television Golden Girl From the Start, Is Dead at 99',\n",
       " 'abstract': 'Among the many highlights of a career that began in 1949 were star turns on “The Mary Tyler Moore Show” in the 1970s and “Saturday Night Live” in 2010.',\n",
       " 'des_facet': ['Deaths (Obituaries)', 'Actors and Actresses', 'Television'],\n",
       " 'org_facet': [],\n",
       " 'per_facet': ['White, Betty'],\n",
       " 'geo_facet': [],\n",
       " 'media': [],\n",
       " 'eta_id': 0}"
      ]
     },
     "execution_count": 54,
     "metadata": {},
     "output_type": "execute_result"
    }
   ],
   "source": [
    "most_viewed_week[0]"
   ]
  },
  {
   "cell_type": "code",
   "execution_count": null,
   "id": "494c2f7d-e420-4be4-b5ae-c3c43e7a84e6",
   "metadata": {},
   "outputs": [],
   "source": []
  },
  {
   "cell_type": "markdown",
   "id": "174a91ba-c09f-4c16-b415-15d501cbb55a",
   "metadata": {},
   "source": [
    "Most viewed article of the last month"
   ]
  },
  {
   "cell_type": "code",
   "execution_count": 55,
   "id": "74b269e1-d793-49cd-a3b5-2121eb7db26d",
   "metadata": {},
   "outputs": [
    {
     "data": {
      "text/plain": [
       "{'uri': 'nyt://article/6f45b821-a697-523e-829e-66556e55bf63',\n",
       " 'url': 'https://www.nytimes.com/2021/12/21/well/live/omicron-variant-symptoms-covid.html',\n",
       " 'id': 100000008129516,\n",
       " 'asset_id': 100000008129516,\n",
       " 'source': 'New York Times',\n",
       " 'published_date': datetime.date(2021, 12, 21),\n",
       " 'updated': datetime.datetime(2022, 1, 3, 18, 19, 36),\n",
       " 'section': 'Well',\n",
       " 'subsection': 'Live',\n",
       " 'nytdsection': 'well',\n",
       " 'adx_keywords': 'Coronavirus Omicron Variant;Coronavirus Delta Variant;Coronavirus (2019-nCoV);Disease Rates;Tests (Medical)',\n",
       " 'column': None,\n",
       " 'byline': 'By Melinda Wenner Moyer',\n",
       " 'type': 'Article',\n",
       " 'title': 'What Are the Symptoms of Omicron?',\n",
       " 'abstract': 'While there are subtle differences between the latest coronavirus strain and previous ones, so far the signs of infection look pretty similar.',\n",
       " 'des_facet': ['Coronavirus Omicron Variant',\n",
       "  'Coronavirus Delta Variant',\n",
       "  'Coronavirus (2019-nCoV)',\n",
       "  'Disease Rates',\n",
       "  'Tests (Medical)'],\n",
       " 'org_facet': [],\n",
       " 'per_facet': [],\n",
       " 'geo_facet': [],\n",
       " 'media': [{'type': 'image',\n",
       "   'subtype': 'photo',\n",
       "   'caption': '',\n",
       "   'copyright': 'Jon Han',\n",
       "   'approved_for_syndication': 1,\n",
       "   'media-metadata': [{'url': 'https://static01.nyt.com/images/2021/12/20/well/00well-omicron-symptoms/00well-omicron-symptoms-thumbStandard.jpg',\n",
       "     'format': 'Standard Thumbnail',\n",
       "     'height': 75,\n",
       "     'width': 75},\n",
       "    {'url': 'https://static01.nyt.com/images/2021/12/20/well/00well-omicron-symptoms/00well-omicron-symptoms-mediumThreeByTwo210.jpg',\n",
       "     'format': 'mediumThreeByTwo210',\n",
       "     'height': 140,\n",
       "     'width': 210},\n",
       "    {'url': 'https://static01.nyt.com/images/2021/12/20/well/00well-omicron-symptoms/00well-omicron-symptoms-mediumThreeByTwo440.jpg',\n",
       "     'format': 'mediumThreeByTwo440',\n",
       "     'height': 293,\n",
       "     'width': 440}]}],\n",
       " 'eta_id': 0}"
      ]
     },
     "execution_count": 55,
     "metadata": {},
     "output_type": "execute_result"
    }
   ],
   "source": [
    "most_viewed_month[0]"
   ]
  },
  {
   "cell_type": "markdown",
   "id": "1784d2ab-b5f0-4fb0-8507-8cee3e52e71b",
   "metadata": {},
   "source": [
    "#### Challenge 2: Find the most shared stories via email and facebook.\n",
    "\n",
    "The `most_shared` method is similiar to `most_viewed` except that has an argument called `method` which is used to show the most shared articles using 'email' or 'facebook'.\n",
    "\n",
    "- Grab the most shared articles for both methods for the past month.\n",
    "- How many articles show up in both lists? (Hint: use the 'uri' key)\n",
    "- Bonus. Use the [Shared Article](https://developer.nytimes.com/docs/most-popular-product/1/types/SharedArticle) schema table to help you answer a question you may have about the data."
   ]
  },
  {
   "cell_type": "markdown",
   "id": "224416c5-1397-458a-a3e9-30a5dcc29f94",
   "metadata": {},
   "source": [
    "| Attribute      | Data Type | Definition      |\n",
    "| ----------- | ----------- | ----------- |\n",
    "| url      | string       | Article's URL.       |\n",
    "| adx_keywords   | string        | Semicolon separated list of keywords.        |\n",
    "| subsection   | string        | Article's subsection (e.g. Politics). Can be empty |\n",
    "| column   | string        | Deprecated. Set to null.        |\n",
    "| eta_id   | integer        | Deprecated. Set to 0.|\n",
    "| section   | string        | Article's section (e.g. Sports).        |\n",
    "| id   | integer        | Asset ID number (e.g. 100000007772696).        |\n",
    "| asset_id   | integer        | Asset ID number (e.g. 100000007772696).        |\n",
    "| nytdsection   | string        | Article's section|\n",
    "| byline   | string        | Article's byline (e.g. By Thomas L. Friedman).        |\n",
    "| type   | string        | Asset type (e.g. Article, Interactive, ...).        |\n",
    "| title   | string        | Article's headline (e.g. When the Cellos Play, the Cows Come Home).        |\n",
    "| abstract   | string        | Brief summary of the article.|\n",
    "| published_date   | string        | When the article was published on the web (e.g. 2021-04-19).        |\n",
    "| source   | string        | Publisher (e.g. New York Times).        |\n",
    "| updated   | string        | When the article was last updated (e.g. 2021-05-12 06:32:03).|\n",
    "| des_facet   | array        | Array of description facets (e.g. Quarantine (Life and Culture)).        |\n",
    "| org_facet   | array        | Array of organization facets (e.g. Sullivan Street Bakery).        |\n",
    "| per_facet   | array        | Array of person facets (e.g. Bittman, Mark).        |\n",
    "| geo_facet   | array        | Array of geographic facets (e.g. Canada).        |\n",
    "| media   | array        | Array of images.        |\n",
    "| media.type   | string        | Asset type (e.g. image).        |\n",
    "| media.subtype   | string        | Asset subtype (e.g. photo).        |\n",
    "| media.caption   | string        | Media caption        |\n",
    "| media.copyright   | string        | Media credit        |\n",
    "| media.approved_for_syndication   | boolean        | Whether media is approved for syndication.        |\n",
    "| media.media-metadata   | array        | Media metadata (url, width, height, ...).        |\n",
    "| media.media-metadata.url   | string        | Image's URL.        |\n",
    "| media.media-metadata.format   | string        | Image's crop name     |\n",
    "| media.media-metadata.height   | integer        | Image's height |\n",
    "| media.media-metadata.width   | integer        | Image's width      |\n",
    "| uri   | string        | An article's globally unique identifier.      |"
   ]
  },
  {
   "cell_type": "code",
   "execution_count": null,
   "id": "f5f49694-4e4d-40b9-a19f-e873c7107b56",
   "metadata": {},
   "outputs": [],
   "source": []
  },
  {
   "cell_type": "code",
   "execution_count": 56,
   "id": "41af0f16-f672-4fd7-94cb-2664cb59a2dc",
   "metadata": {},
   "outputs": [],
   "source": [
    "email = nyt.most_shared(days = 30, method = 'email')\n",
    "facebook = nyt.most_shared(days = 30, method = 'facebook')"
   ]
  },
  {
   "cell_type": "code",
   "execution_count": 57,
   "id": "7627f62a-fc7a-4860-a31f-c057bf856dca",
   "metadata": {},
   "outputs": [],
   "source": [
    "email_ids = [i[\"uri\"] for i in email]\n",
    "facebook_ids = [i[\"uri\"] for i in facebook]"
   ]
  },
  {
   "cell_type": "code",
   "execution_count": 58,
   "id": "70ab3c75-b281-49a4-88b3-df97d9c10d41",
   "metadata": {},
   "outputs": [
    {
     "data": {
      "text/plain": [
       "2"
      ]
     },
     "execution_count": 58,
     "metadata": {},
     "output_type": "execute_result"
    }
   ],
   "source": [
    "len(set(email_ids).intersection(set(facebook_ids)))"
   ]
  },
  {
   "cell_type": "code",
   "execution_count": null,
   "id": "7a8a1946-71e7-4898-aa39-4faec2250a70",
   "metadata": {},
   "outputs": [],
   "source": []
  },
  {
   "cell_type": "markdown",
   "id": "eda97fb7-559e-4bb5-92b5-f15eb54db4b9",
   "metadata": {},
   "source": [
    "#### Article Search"
   ]
  },
  {
   "cell_type": "markdown",
   "id": "d60086e2-a79b-47f3-a480-e58339194f3f",
   "metadata": {},
   "source": [
    "Time to take it up a notch and use the search API to retrieve a set of articles about a particular topic in a chosen period of time."
   ]
  },
  {
   "cell_type": "markdown",
   "id": "763299f5-64b7-465d-89e1-b8d53ca9ae42",
   "metadata": {},
   "source": [
    "Arguments:\n",
    "\n",
    "`query`: The search query\n",
    "\n",
    "`results`: Number of articles returned. Default = 10."
   ]
  },
  {
   "cell_type": "markdown",
   "id": "f8181ba7-d805-48b5-a526-cc74fc1904e9",
   "metadata": {},
   "source": [
    "Pull the most recent 20 articles about Elon Musk."
   ]
  },
  {
   "cell_type": "code",
   "execution_count": 59,
   "id": "b15ff11f-7049-488f-9d96-f689c430a576",
   "metadata": {},
   "outputs": [],
   "source": [
    "\n",
    "articles = nyt.article_search(\n",
    "    query = \"Elon Musk\",\n",
    "    results = 20)"
   ]
  },
  {
   "cell_type": "markdown",
   "id": "b4c2f903-afb6-4f74-a542-711c5e3d149e",
   "metadata": {},
   "source": [
    "Assign the data in the first item of `articles` to a variable"
   ]
  },
  {
   "cell_type": "code",
   "execution_count": 63,
   "id": "b6bc09a2-8f8d-41d8-9cc0-ebcf1604bac7",
   "metadata": {},
   "outputs": [],
   "source": [
    "article = articles[0].copy()"
   ]
  },
  {
   "cell_type": "markdown",
   "id": "0e5dc299-9f09-4611-ac3b-f7cbbc1d4488",
   "metadata": {},
   "source": [
    "We need to drop the `multimedia` key to reduce the amount of clutter on our screens"
   ]
  },
  {
   "cell_type": "code",
   "execution_count": 64,
   "id": "f96b01de-681b-47af-be40-92bbe2e2c453",
   "metadata": {},
   "outputs": [],
   "source": [
    "del article[\"multimedia\"]"
   ]
  },
  {
   "cell_type": "code",
   "execution_count": 65,
   "id": "7dec2a41-2b5a-41e4-b6ce-940b2c950bd0",
   "metadata": {},
   "outputs": [],
   "source": [
    "#View article details"
   ]
  },
  {
   "cell_type": "code",
   "execution_count": 66,
   "id": "63a8c1de-108b-4512-b0f6-ee6fe1a0b6a6",
   "metadata": {},
   "outputs": [
    {
     "data": {
      "text/plain": [
       "{'abstract': 'Some very wealthy people give their money away in an attempt to burnish their reputations. Not the Tesla C.E.O.',\n",
       " 'web_url': 'https://www.nytimes.com/2021/12/10/business/elon-musk-philanthropy.html',\n",
       " 'snippet': 'Some very wealthy people give their money away in an attempt to burnish their reputations. Not the Tesla C.E.O.',\n",
       " 'lead_paragraph': 'The richest people on earth typically devote a share of their vast resources to charity. That is the bargain and the expectation, anyway.',\n",
       " 'print_section': 'BU',\n",
       " 'print_page': '1',\n",
       " 'source': 'The New York Times',\n",
       " 'headline': {'main': 'Elon Musk’s Latest Innovation: Troll Philanthropy',\n",
       "  'kicker': None,\n",
       "  'content_kicker': None,\n",
       "  'print_headline': 'Elon Musk, Trolling Away',\n",
       "  'name': None,\n",
       "  'seo': None,\n",
       "  'sub': None},\n",
       " 'keywords': [{'name': 'persons',\n",
       "   'value': 'Musk, Elon',\n",
       "   'rank': 1,\n",
       "   'major': 'N'},\n",
       "  {'name': 'persons', 'value': 'Bezos, Jeffrey P', 'rank': 2, 'major': 'N'},\n",
       "  {'name': 'subject', 'value': 'Philanthropy', 'rank': 3, 'major': 'N'},\n",
       "  {'name': 'subject',\n",
       "   'value': 'High Net Worth Individuals',\n",
       "   'rank': 4,\n",
       "   'major': 'N'},\n",
       "  {'name': 'subject', 'value': 'Social Media', 'rank': 5, 'major': 'N'}],\n",
       " 'pub_date': datetime.datetime(2021, 12, 10, 10, 0, 28, tzinfo=datetime.timezone.utc),\n",
       " 'document_type': 'article',\n",
       " 'news_desk': 'SundayBusiness',\n",
       " 'section_name': 'Business Day',\n",
       " 'byline': {'original': 'By Nicholas Kulish',\n",
       "  'person': [{'firstname': 'Nicholas',\n",
       "    'middlename': None,\n",
       "    'lastname': 'Kulish',\n",
       "    'qualifier': None,\n",
       "    'title': None,\n",
       "    'role': 'reported',\n",
       "    'organization': '',\n",
       "    'rank': 1}],\n",
       "  'organization': None},\n",
       " 'type_of_material': 'News',\n",
       " '_id': 'nyt://article/cd9ec226-e7a3-547a-9a22-348a3ed79b4f',\n",
       " 'word_count': 2106,\n",
       " 'uri': 'nyt://article/cd9ec226-e7a3-547a-9a22-348a3ed79b4f'}"
      ]
     },
     "execution_count": 66,
     "metadata": {},
     "output_type": "execute_result"
    }
   ],
   "source": [
    "article"
   ]
  },
  {
   "cell_type": "code",
   "execution_count": null,
   "id": "d25dd533-b471-44fa-8739-0e7e0c756255",
   "metadata": {},
   "outputs": [],
   "source": []
  },
  {
   "cell_type": "markdown",
   "id": "34559fc2-0f44-4444-a19a-28817b103628",
   "metadata": {},
   "source": [
    "You'll notice by now that not all article data comes in the same format. Data from the search API is presented differently from that of the most_viewed and top_stories APIs.\n",
    "\n",
    "There are schemas for the above data but unfortunately they do not have definitions.\n",
    "\n",
    "- [Article Schema](https://developer.nytimes.com/docs/articlesearch-product/1/types/Article)\n",
    "- [Byline](https://developer.nytimes.com/docs/articlesearch-product/1/types/Byline)\n",
    "- [Headline](https://developer.nytimes.com/docs/articlesearch-product/1/types/Headline)\n",
    "- [Keyword](https://developer.nytimes.com/docs/articlesearch-product/1/types/Keyword)\n",
    "- [Multimedia](https://developer.nytimes.com/docs/articlesearch-product/1/types/Multimedia)\n",
    "- [Person](https://developer.nytimes.com/docs/articlesearch-product/1/types/Person)"
   ]
  },
  {
   "cell_type": "code",
   "execution_count": null,
   "id": "6f2d85e3-5c21-4a36-89f4-b348ccc975e0",
   "metadata": {},
   "outputs": [],
   "source": []
  },
  {
   "cell_type": "markdown",
   "id": "cb7fb990-96de-49dd-9611-4b798884321a",
   "metadata": {},
   "source": [
    "Let's try this again but for a specific time period. \n",
    "\n",
    "**For example, how would retrieve all the articles about the first two months of the George Floyd protests?**\n",
    "\n",
    "We need to pass a dictionary to the `dates` argument which contains keys named \"begin\" and \"end\". Those two keys point to `datetime` objects that we'll use as time markers.\n",
    "\n",
    "We're also going to use the `options` to filter and sort our results.\n"
   ]
  },
  {
   "cell_type": "code",
   "execution_count": 67,
   "id": "5b86f60e-480f-4635-ba84-3dff7addfe17",
   "metadata": {},
   "outputs": [
    {
     "name": "stderr",
     "output_type": "stream",
     "text": [
      "/opt/conda/lib/python3.9/site-packages/pynytimes/helpers/article_search.py:16: UserWarning: Asking for a lot of results, because of rate limits it can take a while.\n",
      "  warnings.warn(\n"
     ]
    }
   ],
   "source": [
    "#Set up start and end date objects\n",
    "begin = datetime(2020, 5, 23)\n",
    "end = datetime(2020, 7, 23)\n",
    "#Create dictionary containing dates data\n",
    "date_dict = {\"begin\":begin, \"end\":end}\n",
    "\n",
    "#Create options dictionary\n",
    "options_dict = {\n",
    "#Sort from earliest to latest\n",
    "        \"sort\": \"oldest\",\n",
    "#Return only articles from New York Times, filters out other sources such as AP and Reuters\n",
    "        \"sources\": [\n",
    "            \"New York Times\"\n",
    "        ],\n",
    "#Return only straight-forward news in the form of articles\n",
    "        \"type_of_material\": [\n",
    "            \"News Analysis\", \"News\", \"Article\"\n",
    "        ]\n",
    "    }\n",
    "\n",
    "articles = nyt.article_search(\n",
    "    query = \"George Floyd protest\",\n",
    "    results = 100,\n",
    "    dates =date_dict,\n",
    "    options = options_dict)"
   ]
  },
  {
   "cell_type": "code",
   "execution_count": 68,
   "id": "8c39a319-9185-4740-99c0-f34c437b6e47",
   "metadata": {},
   "outputs": [],
   "source": [
    "#Grab first article and drop the multimedia key to reduce clutter\n",
    "article = articles[0]\n",
    "del article[\"multimedia\"]"
   ]
  },
  {
   "cell_type": "code",
   "execution_count": 69,
   "id": "9f69598e-f6aa-4e3d-8873-47fb5c18c79a",
   "metadata": {},
   "outputs": [
    {
     "data": {
      "text/plain": [
       "{'abstract': '“Being black in America should not be a death sentence,” the city’s mayor said as video of the arrest was widely shared.',\n",
       " 'web_url': 'https://www.nytimes.com/2020/05/26/us/minneapolis-police-man-died.html',\n",
       " 'snippet': '“Being black in America should not be a death sentence,” the city’s mayor said as video of the arrest was widely shared.',\n",
       " 'lead_paragraph': 'The F.B.I. and Minnesota law enforcement authorities are investigating the arrest of a black man who died after being handcuffed and pinned to the ground by an officer’s knee, in an episode that was recorded on video by a bystander and that sparked large protests in Minneapolis on Tuesday.',\n",
       " 'print_section': 'A',\n",
       " 'print_page': '23',\n",
       " 'source': 'The New York Times',\n",
       " 'headline': {'main': '‘I Can’t Breathe’: 4 Minneapolis Officers Fired After Black Man Dies in Custody',\n",
       "  'kicker': None,\n",
       "  'content_kicker': None,\n",
       "  'print_headline': ' F.B.I. Investigating Arrest; 4 Police Officers Lose Jobs',\n",
       "  'name': None,\n",
       "  'seo': None,\n",
       "  'sub': None},\n",
       " 'keywords': [{'name': 'organizations',\n",
       "   'value': 'Police Department (Minneapolis, Minn)',\n",
       "   'rank': 1,\n",
       "   'major': 'N'},\n",
       "  {'name': 'organizations',\n",
       "   'value': 'Federal Bureau of Investigation',\n",
       "   'rank': 2,\n",
       "   'major': 'N'},\n",
       "  {'name': 'persons',\n",
       "   'value': 'Frey, Jacob (1981- )',\n",
       "   'rank': 3,\n",
       "   'major': 'N'},\n",
       "  {'name': 'glocations',\n",
       "   'value': 'Minneapolis (Minn)',\n",
       "   'rank': 4,\n",
       "   'major': 'N'},\n",
       "  {'name': 'persons',\n",
       "   'value': 'Floyd, George (d 2020)',\n",
       "   'rank': 5,\n",
       "   'major': 'N'},\n",
       "  {'name': 'subject', 'value': 'Black People', 'rank': 6, 'major': 'N'},\n",
       "  {'name': 'subject', 'value': 'Blacks', 'rank': 7, 'major': 'N'},\n",
       "  {'name': 'subject',\n",
       "   'value': 'Police Brutality, Misconduct and Shootings',\n",
       "   'rank': 8,\n",
       "   'major': 'N'},\n",
       "  {'name': 'subject',\n",
       "   'value': 'Video Recordings, Downloads and Streaming',\n",
       "   'rank': 9,\n",
       "   'major': 'N'},\n",
       "  {'name': 'subject',\n",
       "   'value': 'Demonstrations, Protests and Riots',\n",
       "   'rank': 10,\n",
       "   'major': 'N'},\n",
       "  {'name': 'subject',\n",
       "   'value': 'George Floyd Protests (2020)',\n",
       "   'rank': 11,\n",
       "   'major': 'N'},\n",
       "  {'name': 'subject',\n",
       "   'value': 'Black Lives Matter Movement',\n",
       "   'rank': 12,\n",
       "   'major': 'N'}],\n",
       " 'pub_date': datetime.datetime(2020, 5, 26, 14, 15, 53, tzinfo=datetime.timezone.utc),\n",
       " 'document_type': 'article',\n",
       " 'news_desk': 'Express',\n",
       " 'section_name': 'U.S.',\n",
       " 'byline': {'original': 'By Christine Hauser, Derrick Bryson Taylor and Neil Vigdor',\n",
       "  'person': [{'firstname': 'Christine',\n",
       "    'middlename': None,\n",
       "    'lastname': 'Hauser',\n",
       "    'qualifier': None,\n",
       "    'title': None,\n",
       "    'role': 'reported',\n",
       "    'organization': '',\n",
       "    'rank': 1},\n",
       "   {'firstname': 'Derrick',\n",
       "    'middlename': 'Bryson',\n",
       "    'lastname': 'Taylor',\n",
       "    'qualifier': None,\n",
       "    'title': None,\n",
       "    'role': 'reported',\n",
       "    'organization': '',\n",
       "    'rank': 2},\n",
       "   {'firstname': 'Neil',\n",
       "    'middlename': None,\n",
       "    'lastname': 'Vigdor',\n",
       "    'qualifier': None,\n",
       "    'title': None,\n",
       "    'role': 'reported',\n",
       "    'organization': '',\n",
       "    'rank': 3}],\n",
       "  'organization': None},\n",
       " 'type_of_material': 'News',\n",
       " '_id': 'nyt://article/6d905f40-f7db-5716-a1c6-18d2eb62c7c6',\n",
       " 'word_count': 1590,\n",
       " 'uri': 'nyt://article/6d905f40-f7db-5716-a1c6-18d2eb62c7c6'}"
      ]
     },
     "execution_count": 69,
     "metadata": {},
     "output_type": "execute_result"
    }
   ],
   "source": [
    "#Check out results\n",
    "article"
   ]
  },
  {
   "cell_type": "code",
   "execution_count": null,
   "id": "1faa3d90-af6d-4c3c-9508-02c31f8c57df",
   "metadata": {},
   "outputs": [],
   "source": []
  },
  {
   "cell_type": "markdown",
   "id": "c33ad4d2-d283-466b-a395-b56fd9817a3a",
   "metadata": {},
   "source": [
    "#### Challenge 3: Article Searching\n",
    "\n",
    "- Retrieve a set of articles for a query of your choice.\n",
    "- Use a relevant time interval in constructing your `dates` dictionary\n",
    "- Use \"type_of_material\" and \"section_name\" as keys for your `options` dictionary.\n",
    "    - For \"type_of_material\" values refer to this [list](https://github.com/michadenheijer/pynytimes/blob/main/VALID_SEARCH_OPTIONS.md#type-of-material-values)\n",
    "    - For \"section_name\" values refer to this [list](https://github.com/michadenheijer/pynytimes/blob/main/VALID_SEARCH_OPTIONS.md#section-name-values)"
   ]
  },
  {
   "cell_type": "code",
   "execution_count": 38,
   "id": "5dce99e3-4cf1-475e-a7a2-7f545f06d6e3",
   "metadata": {},
   "outputs": [],
   "source": [
    "begin = datetime(2020, 2, 15)\n",
    "end = datetime(2020, 8, 15)\n",
    "date_dict = {\"begin\":begin, \"end\":end}\n",
    "\n",
    "options_dict = {\n",
    "        \"sort\": \"oldest\",\n",
    "        \"sources\": [\n",
    "            \"New York Times\",\n",
    "            \"AP\"\n",
    "        ],\n",
    "        \"type_of_material\": [\n",
    "            \"News Analysis\", \"News\", \"Article\", \"Column\", \"Editorial\", \"Front Page\"\n",
    "        ]\n",
    "    }\n",
    "\n",
    "articles = nyt.article_search(\n",
    "    query = \"covid virus\",\n",
    "    results = 100,\n",
    "    dates =date_dict,\n",
    "    options = options_dict)"
   ]
  },
  {
   "cell_type": "code",
   "execution_count": null,
   "id": "21e17421-147b-4ee6-baf4-9bb2187c3f95",
   "metadata": {},
   "outputs": [],
   "source": []
  },
  {
   "cell_type": "markdown",
   "id": "49f4b3b3-2b4a-4a20-9a79-ca90d90262f8",
   "metadata": {},
   "source": [
    "## 3. Data Analysis\n",
    "*****\n",
    "\n",
    "In this walk-through we will analyze articles and their data about the 2020 presidential election."
   ]
  },
  {
   "cell_type": "markdown",
   "id": "84d24acd-e050-424c-af03-67e708db4737",
   "metadata": {},
   "source": [
    "We are working with previously queried because it takes too much time actually to make the call. The code I used query and save the data can be found commented out below."
   ]
  },
  {
   "cell_type": "code",
   "execution_count": 70,
   "id": "3a4a7832-3186-45c6-8b43-e52c99486526",
   "metadata": {},
   "outputs": [],
   "source": [
    "# begin = datetime(2020, 9, 7)\n",
    "# end = datetime(2020, 11, 7)\n",
    "# date_dict = {\"begin\":begin, \"end\":end}\n",
    "\n",
    "# options_dict = {\n",
    "#         \"sort\": \"oldest\",\n",
    "#         \"sources\": [\n",
    "#             \"New York Times\",\n",
    "#         ],\n",
    "#         \"type_of_material\": [\n",
    "#             \"News Analysis\", \"News\", \"Article\", \"Editorial\"\n",
    "#         ]\n",
    "#     }\n",
    "\n",
    "# articles = nyt.article_search(\n",
    "#     query = \"presidential election\",\n",
    "#     results = 2500,\n",
    "#     dates =date_dict,\n",
    "#     options = options_dict)\n",
    "# df = pd.json_normalize(articles)\n",
    "# df.to_pickle(\"election2020_articles.pkl\")"
   ]
  },
  {
   "cell_type": "markdown",
   "id": "4561fe76-6d07-46c5-bda7-9973e7631ed7",
   "metadata": {},
   "source": [
    "Load in the previously saved data"
   ]
  },
  {
   "cell_type": "code",
   "execution_count": 3,
   "id": "cb310d22-895a-4dff-8442-247aa8b02b42",
   "metadata": {},
   "outputs": [
    {
     "data": {
      "text/html": [
       "<div>\n",
       "<style scoped>\n",
       "    .dataframe tbody tr th:only-of-type {\n",
       "        vertical-align: middle;\n",
       "    }\n",
       "\n",
       "    .dataframe tbody tr th {\n",
       "        vertical-align: top;\n",
       "    }\n",
       "\n",
       "    .dataframe thead th {\n",
       "        text-align: right;\n",
       "    }\n",
       "</style>\n",
       "<table border=\"1\" class=\"dataframe\">\n",
       "  <thead>\n",
       "    <tr style=\"text-align: right;\">\n",
       "      <th></th>\n",
       "      <th>abstract</th>\n",
       "      <th>web_url</th>\n",
       "      <th>snippet</th>\n",
       "      <th>lead_paragraph</th>\n",
       "      <th>print_section</th>\n",
       "      <th>print_page</th>\n",
       "      <th>source</th>\n",
       "      <th>multimedia</th>\n",
       "      <th>keywords</th>\n",
       "      <th>pub_date</th>\n",
       "      <th>...</th>\n",
       "      <th>headline.main</th>\n",
       "      <th>headline.kicker</th>\n",
       "      <th>headline.content_kicker</th>\n",
       "      <th>headline.print_headline</th>\n",
       "      <th>headline.name</th>\n",
       "      <th>headline.seo</th>\n",
       "      <th>headline.sub</th>\n",
       "      <th>byline.original</th>\n",
       "      <th>byline.person</th>\n",
       "      <th>byline.organization</th>\n",
       "    </tr>\n",
       "  </thead>\n",
       "  <tbody>\n",
       "    <tr>\n",
       "      <th>0</th>\n",
       "      <td>President Trump will try to put the media on t...</td>\n",
       "      <td>https://www.nytimes.com/2020/09/06/business/me...</td>\n",
       "      <td>President Trump will try to put the media on t...</td>\n",
       "      <td>The worst thing about being a reporter in the ...</td>\n",
       "      <td>B</td>\n",
       "      <td>3</td>\n",
       "      <td>The New York Times</td>\n",
       "      <td>[{'rank': 0, 'subtype': 'xlarge', 'caption': N...</td>\n",
       "      <td>[{'name': 'subject', 'value': 'News and News M...</td>\n",
       "      <td>2020-09-07 01:30:15+00:00</td>\n",
       "      <td>...</td>\n",
       "      <td>Journalists Aren’t the Enemy of the People. Bu...</td>\n",
       "      <td>the media equation</td>\n",
       "      <td>None</td>\n",
       "      <td>We Aren’t the Enemy of the People. But We’re N...</td>\n",
       "      <td>None</td>\n",
       "      <td>None</td>\n",
       "      <td>None</td>\n",
       "      <td>By Ben Smith</td>\n",
       "      <td>[{'firstname': 'Ben', 'middlename': None, 'las...</td>\n",
       "      <td>None</td>\n",
       "    </tr>\n",
       "    <tr>\n",
       "      <th>1</th>\n",
       "      <td>Forced underground in the 1990s to a life of c...</td>\n",
       "      <td>https://www.nytimes.com/2020/09/06/world/europ...</td>\n",
       "      <td>Forced underground in the 1990s to a life of c...</td>\n",
       "      <td>MINSK, Belarus — Pit Pawlaw, guitar in hand, b...</td>\n",
       "      <td>A</td>\n",
       "      <td>1</td>\n",
       "      <td>The New York Times</td>\n",
       "      <td>[{'rank': 0, 'subtype': 'xlarge', 'caption': N...</td>\n",
       "      <td>[{'name': 'subject', 'value': 'Demonstrations,...</td>\n",
       "      <td>2020-09-07 02:00:10+00:00</td>\n",
       "      <td>...</td>\n",
       "      <td>For Aging Belarus Rockers, a Late Shot at Stardom</td>\n",
       "      <td>None</td>\n",
       "      <td>None</td>\n",
       "      <td>Aging Rockers Emerge to Lead Belarus Revolt</td>\n",
       "      <td>None</td>\n",
       "      <td>None</td>\n",
       "      <td>None</td>\n",
       "      <td>By Anton Troianovski</td>\n",
       "      <td>[{'firstname': 'Anton', 'middlename': None, 'l...</td>\n",
       "      <td>None</td>\n",
       "    </tr>\n",
       "    <tr>\n",
       "      <th>2</th>\n",
       "      <td>The vice-presidential candidates will be on op...</td>\n",
       "      <td>https://www.nytimes.com/2020/09/07/us/politics...</td>\n",
       "      <td>The vice-presidential candidates will be on op...</td>\n",
       "      <td>LA CROSSE, Wis. — Labor Day is the traditional...</td>\n",
       "      <td>NaN</td>\n",
       "      <td>NaN</td>\n",
       "      <td>The New York Times</td>\n",
       "      <td>[{'rank': 0, 'subtype': 'xlarge', 'caption': N...</td>\n",
       "      <td>[{'name': 'persons', 'value': 'Harris, Kamala ...</td>\n",
       "      <td>2020-09-07 04:01:08+00:00</td>\n",
       "      <td>...</td>\n",
       "      <td>What to Watch For as Harris and Pence Visit Wi...</td>\n",
       "      <td>None</td>\n",
       "      <td>None</td>\n",
       "      <td>None</td>\n",
       "      <td>None</td>\n",
       "      <td>None</td>\n",
       "      <td>None</td>\n",
       "      <td>By Jonathan Martin</td>\n",
       "      <td>[{'firstname': 'Jonathan', 'middlename': None,...</td>\n",
       "      <td>None</td>\n",
       "    </tr>\n",
       "    <tr>\n",
       "      <th>3</th>\n",
       "      <td>Communities are running short on time to hire ...</td>\n",
       "      <td>https://www.nytimes.com/2020/09/07/us/politics...</td>\n",
       "      <td>Communities are running short on time to hire ...</td>\n",
       "      <td>PHILADELPHIA — Unnerved by the difficulties of...</td>\n",
       "      <td>A</td>\n",
       "      <td>1</td>\n",
       "      <td>The New York Times</td>\n",
       "      <td>[{'rank': 0, 'subtype': 'xlarge', 'caption': N...</td>\n",
       "      <td>[{'name': 'subject', 'value': 'Voting and Vote...</td>\n",
       "      <td>2020-09-07 07:00:09+00:00</td>\n",
       "      <td>...</td>\n",
       "      <td>In Year of Voting by Mail, a Scramble to Beef ...</td>\n",
       "      <td>None</td>\n",
       "      <td>None</td>\n",
       "      <td>Safety Shapes Plans to Fortify Voting Stations</td>\n",
       "      <td>None</td>\n",
       "      <td>None</td>\n",
       "      <td>None</td>\n",
       "      <td>By Nick Corasaniti and Michael Wines</td>\n",
       "      <td>[{'firstname': 'Nick', 'middlename': None, 'la...</td>\n",
       "      <td>None</td>\n",
       "    </tr>\n",
       "    <tr>\n",
       "      <th>4</th>\n",
       "      <td>Prime Minister Boris Johnson is threatening to...</td>\n",
       "      <td>https://www.nytimes.com/2020/09/07/world/europ...</td>\n",
       "      <td>Prime Minister Boris Johnson is threatening to...</td>\n",
       "      <td>LONDON — Bellicose threats to walk away from t...</td>\n",
       "      <td>A</td>\n",
       "      <td>9</td>\n",
       "      <td>The New York Times</td>\n",
       "      <td>[{'rank': 0, 'subtype': 'xlarge', 'caption': N...</td>\n",
       "      <td>[{'name': 'subject', 'value': 'Great Britain W...</td>\n",
       "      <td>2020-09-07 17:15:32+00:00</td>\n",
       "      <td>...</td>\n",
       "      <td>As Brexit Deadlines Loom, the Posturing and Bi...</td>\n",
       "      <td>None</td>\n",
       "      <td>None</td>\n",
       "      <td>Brinkmanship Permeates Brexit Trade Deal Sessions</td>\n",
       "      <td>None</td>\n",
       "      <td>None</td>\n",
       "      <td>None</td>\n",
       "      <td>By Mark Landler and Stephen Castle</td>\n",
       "      <td>[{'firstname': 'Mark', 'middlename': None, 'la...</td>\n",
       "      <td>None</td>\n",
       "    </tr>\n",
       "  </tbody>\n",
       "</table>\n",
       "<p>5 rows × 28 columns</p>\n",
       "</div>"
      ],
      "text/plain": [
       "                                            abstract  \\\n",
       "0  President Trump will try to put the media on t...   \n",
       "1  Forced underground in the 1990s to a life of c...   \n",
       "2  The vice-presidential candidates will be on op...   \n",
       "3  Communities are running short on time to hire ...   \n",
       "4  Prime Minister Boris Johnson is threatening to...   \n",
       "\n",
       "                                             web_url  \\\n",
       "0  https://www.nytimes.com/2020/09/06/business/me...   \n",
       "1  https://www.nytimes.com/2020/09/06/world/europ...   \n",
       "2  https://www.nytimes.com/2020/09/07/us/politics...   \n",
       "3  https://www.nytimes.com/2020/09/07/us/politics...   \n",
       "4  https://www.nytimes.com/2020/09/07/world/europ...   \n",
       "\n",
       "                                             snippet  \\\n",
       "0  President Trump will try to put the media on t...   \n",
       "1  Forced underground in the 1990s to a life of c...   \n",
       "2  The vice-presidential candidates will be on op...   \n",
       "3  Communities are running short on time to hire ...   \n",
       "4  Prime Minister Boris Johnson is threatening to...   \n",
       "\n",
       "                                      lead_paragraph print_section print_page  \\\n",
       "0  The worst thing about being a reporter in the ...             B          3   \n",
       "1  MINSK, Belarus — Pit Pawlaw, guitar in hand, b...             A          1   \n",
       "2  LA CROSSE, Wis. — Labor Day is the traditional...           NaN        NaN   \n",
       "3  PHILADELPHIA — Unnerved by the difficulties of...             A          1   \n",
       "4  LONDON — Bellicose threats to walk away from t...             A          9   \n",
       "\n",
       "               source                                         multimedia  \\\n",
       "0  The New York Times  [{'rank': 0, 'subtype': 'xlarge', 'caption': N...   \n",
       "1  The New York Times  [{'rank': 0, 'subtype': 'xlarge', 'caption': N...   \n",
       "2  The New York Times  [{'rank': 0, 'subtype': 'xlarge', 'caption': N...   \n",
       "3  The New York Times  [{'rank': 0, 'subtype': 'xlarge', 'caption': N...   \n",
       "4  The New York Times  [{'rank': 0, 'subtype': 'xlarge', 'caption': N...   \n",
       "\n",
       "                                            keywords  \\\n",
       "0  [{'name': 'subject', 'value': 'News and News M...   \n",
       "1  [{'name': 'subject', 'value': 'Demonstrations,...   \n",
       "2  [{'name': 'persons', 'value': 'Harris, Kamala ...   \n",
       "3  [{'name': 'subject', 'value': 'Voting and Vote...   \n",
       "4  [{'name': 'subject', 'value': 'Great Britain W...   \n",
       "\n",
       "                   pub_date  ...  \\\n",
       "0 2020-09-07 01:30:15+00:00  ...   \n",
       "1 2020-09-07 02:00:10+00:00  ...   \n",
       "2 2020-09-07 04:01:08+00:00  ...   \n",
       "3 2020-09-07 07:00:09+00:00  ...   \n",
       "4 2020-09-07 17:15:32+00:00  ...   \n",
       "\n",
       "                                       headline.main     headline.kicker  \\\n",
       "0  Journalists Aren’t the Enemy of the People. Bu...  the media equation   \n",
       "1  For Aging Belarus Rockers, a Late Shot at Stardom                None   \n",
       "2  What to Watch For as Harris and Pence Visit Wi...                None   \n",
       "3  In Year of Voting by Mail, a Scramble to Beef ...                None   \n",
       "4  As Brexit Deadlines Loom, the Posturing and Bi...                None   \n",
       "\n",
       "  headline.content_kicker                            headline.print_headline  \\\n",
       "0                    None  We Aren’t the Enemy of the People. But We’re N...   \n",
       "1                    None        Aging Rockers Emerge to Lead Belarus Revolt   \n",
       "2                    None                                               None   \n",
       "3                    None     Safety Shapes Plans to Fortify Voting Stations   \n",
       "4                    None  Brinkmanship Permeates Brexit Trade Deal Sessions   \n",
       "\n",
       "  headline.name headline.seo  headline.sub  \\\n",
       "0          None         None          None   \n",
       "1          None         None          None   \n",
       "2          None         None          None   \n",
       "3          None         None          None   \n",
       "4          None         None          None   \n",
       "\n",
       "                        byline.original  \\\n",
       "0                          By Ben Smith   \n",
       "1                  By Anton Troianovski   \n",
       "2                    By Jonathan Martin   \n",
       "3  By Nick Corasaniti and Michael Wines   \n",
       "4    By Mark Landler and Stephen Castle   \n",
       "\n",
       "                                       byline.person byline.organization  \n",
       "0  [{'firstname': 'Ben', 'middlename': None, 'las...                None  \n",
       "1  [{'firstname': 'Anton', 'middlename': None, 'l...                None  \n",
       "2  [{'firstname': 'Jonathan', 'middlename': None,...                None  \n",
       "3  [{'firstname': 'Nick', 'middlename': None, 'la...                None  \n",
       "4  [{'firstname': 'Mark', 'middlename': None, 'la...                None  \n",
       "\n",
       "[5 rows x 28 columns]"
      ]
     },
     "execution_count": 3,
     "metadata": {},
     "output_type": "execute_result"
    }
   ],
   "source": [
    "df = pd.read_pickle(\"election2020_articles.pkl\")\n",
    "df.head()"
   ]
  },
  {
   "cell_type": "code",
   "execution_count": 4,
   "id": "65e4aa87-5f4b-42c6-8f6a-c252e91cdc60",
   "metadata": {},
   "outputs": [
    {
     "name": "stdout",
     "output_type": "stream",
     "text": [
      "<class 'pandas.core.frame.DataFrame'>\n",
      "RangeIndex: 1803 entries, 0 to 1802\n",
      "Data columns (total 28 columns):\n",
      " #   Column                   Non-Null Count  Dtype              \n",
      "---  ------                   --------------  -----              \n",
      " 0   abstract                 1803 non-null   object             \n",
      " 1   web_url                  1803 non-null   object             \n",
      " 2   snippet                  1803 non-null   object             \n",
      " 3   lead_paragraph           1803 non-null   object             \n",
      " 4   print_section            1052 non-null   object             \n",
      " 5   print_page               1052 non-null   object             \n",
      " 6   source                   1803 non-null   object             \n",
      " 7   multimedia               1803 non-null   object             \n",
      " 8   keywords                 1803 non-null   object             \n",
      " 9   pub_date                 1803 non-null   datetime64[ns, UTC]\n",
      " 10  document_type            1803 non-null   object             \n",
      " 11  news_desk                1803 non-null   object             \n",
      " 12  section_name             1803 non-null   object             \n",
      " 13  subsection_name          1232 non-null   object             \n",
      " 14  type_of_material         1803 non-null   object             \n",
      " 15  _id                      1803 non-null   object             \n",
      " 16  word_count               1803 non-null   int64              \n",
      " 17  uri                      1803 non-null   object             \n",
      " 18  headline.main            1803 non-null   object             \n",
      " 19  headline.kicker          322 non-null    object             \n",
      " 20  headline.content_kicker  0 non-null      object             \n",
      " 21  headline.print_headline  1050 non-null   object             \n",
      " 22  headline.name            0 non-null      object             \n",
      " 23  headline.seo             0 non-null      object             \n",
      " 24  headline.sub             0 non-null      object             \n",
      " 25  byline.original          1726 non-null   object             \n",
      " 26  byline.person            1803 non-null   object             \n",
      " 27  byline.organization      32 non-null     object             \n",
      "dtypes: datetime64[ns, UTC](1), int64(1), object(26)\n",
      "memory usage: 394.5+ KB\n"
     ]
    }
   ],
   "source": [
    "#Inspect metadata\n",
    "df.info()"
   ]
  },
  {
   "cell_type": "markdown",
   "id": "3e46337e-600b-45a6-bf77-6a858efc1383",
   "metadata": {},
   "source": [
    "#### Sentiment Analysis\n",
    "\n",
    "Let's track the sentiment of articles about the election over the two month time period. Sentiment analysis is a common task for using APIs but in order to save time from signing up for another API key we'll use the vadersentiment package instead."
   ]
  },
  {
   "cell_type": "markdown",
   "id": "0cecce0e-8f5c-449e-a735-81317d2543a6",
   "metadata": {},
   "source": [
    "From the [Vader Github Repo](https://github.com/cjhutto/vaderSentiment):"
   ]
  },
  {
   "cell_type": "markdown",
   "id": "3fa88dfe-d759-43d8-b395-550cc8457a02",
   "metadata": {},
   "source": [
    "VADER (Valence Aware Dictionary and sEntiment Reasoner) is a lexicon and rule-based sentiment analysis tool that is *specifically attuned to sentiments expressed in social media*."
   ]
  },
  {
   "cell_type": "code",
   "execution_count": 5,
   "id": "b440d3fb-2ad2-4587-b395-2c862c5009aa",
   "metadata": {},
   "outputs": [
    {
     "name": "stdout",
     "output_type": "stream",
     "text": [
      "\u001b[33mWARNING: The directory '/home/jovyan/.cache/pip' or its parent directory is not owned or is not writable by the current user. The cache has been disabled. Check the permissions and owner of that directory. If executing pip with sudo, you should use sudo's -H flag.\u001b[0m\n",
      "Collecting vadersentiment\n",
      "  Downloading vaderSentiment-3.3.2-py2.py3-none-any.whl (125 kB)\n",
      "     |████████████████████████████████| 125 kB 29.0 MB/s            \n",
      "\u001b[?25hRequirement already satisfied: requests in /opt/conda/lib/python3.9/site-packages (from vadersentiment) (2.26.0)\n",
      "Requirement already satisfied: idna<4,>=2.5 in /opt/conda/lib/python3.9/site-packages (from requests->vadersentiment) (3.1)\n",
      "Requirement already satisfied: charset-normalizer~=2.0.0 in /opt/conda/lib/python3.9/site-packages (from requests->vadersentiment) (2.0.9)\n",
      "Requirement already satisfied: certifi>=2017.4.17 in /opt/conda/lib/python3.9/site-packages (from requests->vadersentiment) (2021.10.8)\n",
      "Requirement already satisfied: urllib3<1.27,>=1.21.1 in /opt/conda/lib/python3.9/site-packages (from requests->vadersentiment) (1.26.7)\n",
      "Installing collected packages: vadersentiment\n",
      "Successfully installed vadersentiment-3.3.2\n",
      "\u001b[33mWARNING: Running pip as the 'root' user can result in broken permissions and conflicting behaviour with the system package manager. It is recommended to use a virtual environment instead: https://pip.pypa.io/warnings/venv\u001b[0m\n"
     ]
    }
   ],
   "source": [
    "#Install the vadersentiment library\n",
    "!pip install vadersentiment"
   ]
  },
  {
   "cell_type": "code",
   "execution_count": 6,
   "id": "3477c354-ce11-478c-9f99-1a24c0fbc549",
   "metadata": {},
   "outputs": [],
   "source": [
    "#Import the Sentiment Analyzer object\n",
    "from vaderSentiment.vaderSentiment import SentimentIntensityAnalyzer"
   ]
  },
  {
   "cell_type": "code",
   "execution_count": 7,
   "id": "0a12840c-372b-4b5d-96cc-c8f33c6116ed",
   "metadata": {},
   "outputs": [],
   "source": [
    "#Initialize analyzer object\n",
    "analyzer = SentimentIntensityAnalyzer()\n",
    "#Calculate the polarity scores of the lead paragraph and save it in df\n",
    "df[\"sentiment\"] = df.lead_paragraph.apply(analyzer.polarity_scores)"
   ]
  },
  {
   "cell_type": "code",
   "execution_count": 8,
   "id": "f005cb19-9a18-4c99-9835-ec2801cb5519",
   "metadata": {},
   "outputs": [
    {
     "data": {
      "text/plain": [
       "0    {'neg': 0.143, 'neu': 0.738, 'pos': 0.119, 'co...\n",
       "1    {'neg': 0.108, 'neu': 0.828, 'pos': 0.063, 'co...\n",
       "2    {'neg': 0.0, 'neu': 0.924, 'pos': 0.076, 'comp...\n",
       "3    {'neg': 0.037, 'neu': 0.963, 'pos': 0.0, 'comp...\n",
       "4    {'neg': 0.202, 'neu': 0.736, 'pos': 0.062, 'co...\n",
       "Name: sentiment, dtype: object"
      ]
     },
     "execution_count": 8,
     "metadata": {},
     "output_type": "execute_result"
    }
   ],
   "source": [
    "#Inspect the sentiment column\n",
    "df.sentiment.head()"
   ]
  },
  {
   "cell_type": "code",
   "execution_count": 9,
   "id": "3bcf1b6c-b87d-40e6-a1ba-26ca80056ef8",
   "metadata": {},
   "outputs": [
    {
     "data": {
      "text/plain": [
       "{'neg': 0.143, 'neu': 0.738, 'pos': 0.119, 'compound': -0.296}"
      ]
     },
     "execution_count": 9,
     "metadata": {},
     "output_type": "execute_result"
    }
   ],
   "source": [
    "#View single row\n",
    "df.sentiment.iloc[0]"
   ]
  },
  {
   "cell_type": "markdown",
   "id": "a9fbdde8-42e1-44a4-a745-1f088517efb8",
   "metadata": {},
   "source": [
    "From Vader:"
   ]
  },
  {
   "cell_type": "markdown",
   "id": "3b774a12-732b-46a4-aabc-b4c29c8fdb3e",
   "metadata": {},
   "source": [
    "The ``compound`` score is computed by summing the valence scores of each word in the lexicon, adjusted according to the rules, and then normalized to be between -1 (most extreme negative) and +1 (most extreme positive). This is the most useful metric if you want a single unidimensional measure of sentiment for a given sentence. Calling it a 'normalized, weighted composite score' is accurate. \n",
    " \n",
    "  It is also useful for researchers who would like to set standardized thresholds for classifying sentences as either positive, neutral, or negative.  \n",
    "\n",
    "Typical threshold values are:\n",
    "\n",
    " #. **positive sentiment**: ``compound`` score >=  0.05\n",
    " \n",
    " #. **neutral  sentiment**: (``compound`` score > -0.05) and (``compound`` score < 0.05)\n",
    " \n",
    " #. **negative sentiment**: ``compound`` score <= -0.05"
   ]
  },
  {
   "cell_type": "code",
   "execution_count": 10,
   "id": "e1c52e56-1971-42fe-8fe8-88931c1a6672",
   "metadata": {},
   "outputs": [],
   "source": [
    "#Use only the compound score"
   ]
  },
  {
   "cell_type": "code",
   "execution_count": 11,
   "id": "6a4f20a8-96bc-4009-8424-d427e2b16755",
   "metadata": {},
   "outputs": [],
   "source": [
    "df[\"sentiment\"] = df[\"sentiment\"].apply(lambda x:x[\"compound\"])"
   ]
  },
  {
   "cell_type": "markdown",
   "id": "574114c9-7261-4b7e-8494-8f7e962ac6c2",
   "metadata": {},
   "source": [
    "Let's get a sense of the distribution of scores by calculating some summary stats and visualizing the histogram."
   ]
  },
  {
   "cell_type": "code",
   "execution_count": 12,
   "id": "dd45dbca-af6f-41fa-a70d-abd008b4ebbb",
   "metadata": {},
   "outputs": [
    {
     "data": {
      "text/plain": [
       "count    1803.000000\n",
       "mean        0.053598\n",
       "std         0.476783\n",
       "min        -0.984300\n",
       "25%        -0.296000\n",
       "50%         0.000000\n",
       "75%         0.458800\n",
       "max         0.980100\n",
       "Name: sentiment, dtype: float64"
      ]
     },
     "execution_count": 12,
     "metadata": {},
     "output_type": "execute_result"
    }
   ],
   "source": [
    "#Summary Stats\n",
    "df.sentiment.describe()"
   ]
  },
  {
   "cell_type": "code",
   "execution_count": 13,
   "id": "debbce8d-5e49-4b11-add9-0532b8cb2ee0",
   "metadata": {},
   "outputs": [
    {
     "data": {
      "image/png": "[encoded data removed]",
      "text/plain": [
       "<Figure size 648x504 with 1 Axes>"
      ]
     },
     "metadata": {},
     "output_type": "display_data"
    }
   ],
   "source": [
    "plt.style.use(\"ggplot\")\n",
    "df.sentiment.hist(bins = 20, figsize= (9, 7))\n",
    "plt.xlabel(\"Sentiment Score\")\n",
    "plt.ylabel(\"Frequency\");"
   ]
  },
  {
   "cell_type": "markdown",
   "id": "65a407db-1bbf-4ae4-ad07-7a10bdaf2ae9",
   "metadata": {},
   "source": [
    "#### Challenge 4. Answer questions about the data\n",
    "\n",
    "- What are the 3 most positive and negative texts?\n",
    "- Using the vader threshold for positive, neutral, and negative, how many article qualify for each of those labels?\n"
   ]
  },
  {
   "cell_type": "code",
   "execution_count": 14,
   "id": "f667a3f5-64e0-490c-bd0f-ed291f977e12",
   "metadata": {},
   "outputs": [
    {
     "data": {
      "text/plain": [
       "['In the autumn of 2008, just a few weeks after my 33rd birthday, I cast a ballot for the first time. Up to that point, serving in the military seemed like more than sufficient civic engagement and provided a ready excuse for voluntarily opting out of several elections. By the time Barack Obama won the Democratic primary, I was an officer who’d spent more than a decade in the Navy and not a second in a voting booth. This apathy does not run in the blood. My parents are products of the civil rights era and the Jim Crow South, and as such religiously exercised their hard-won right to vote. In my formative years, the basic disposition of the house politics pressed together progressive demands for racial equality with the Black conservatism of marathon church services that stretched deep into Southern Sunday afternoons. We differed in degree on any number of issues, but elections were where our politics really diverged. Like much of Black America, my mother is a lifelong Democrat, staying true even as the party vacillated in and out of her good graces. My father is a somewhat perfunctory Republican, an heirloom affiliation inherited from Black Americans’ early-20th-century preference for the party of Lincoln and consecrated in the familial name carried by my grandfather, father and me: Theodore Roosevelt Johnson.',\n",
       " 'The same year George Washington took the oath of office to become the first president of the United States, Thomas Jefferson sent a letter to the Welsh philosopher Richard Price in which he described the newly created government.  Jefferson wrote, “Wherever the people are well-informed they can be trusted with their own government.” The future third president most likely never imagined our era of disinformation, when an informed citizenry is perhaps more important than ever. Here are four podcasts to help you better understand how American democracy works and your role in keeping it alive. ',\n",
       " 'NAIROBI, Kenya — Barely a year ago Prime Minister Abiy Ahmed of Ethiopia was globally acclaimed as a peacemaker, a youthful African leader awarded the Nobel Peace Prize after just 18 months in power for introducing democratic reforms after decades of repression, and for signing a peace deal with neighboring Eritrea.']"
      ]
     },
     "execution_count": 14,
     "metadata": {},
     "output_type": "execute_result"
    }
   ],
   "source": [
    "#Most positive texts\n",
    "df.sort_values(\"sentiment\", ascending = False)[\"lead_paragraph\"].iloc[:3].tolist()"
   ]
  },
  {
   "cell_type": "code",
   "execution_count": 15,
   "id": "9a90a0d3-e481-44b3-ac08-cf5af46db142",
   "metadata": {},
   "outputs": [
    {
     "data": {
      "text/plain": [
       "['On an October morning four years ago, eight young staff members at the Indiana Voter Registration Project in Indianapolis were planning their final steps before a closely contested presidential election. In recent weeks they had registered 45,000 new voters, most of whom were Black and Latino, and they were on track to enlist 10,000 more before Election Day. Their work had gone smoothly for the most part, but several canvassers had submitted applications with names that appeared to have been made up or drawn from the phone book, most likely to create the appearance that they were doing more work than they had actually done. That was illegal — submitting a false registration is a felony under Indiana law — and also frustrating. A made-up name was not going to help anyone vote. The staff members stopped using the suspect canvassers, but they couldn’t simply trash the faulty registrations: State law required them to file every application they collected, even if they had false names or serious mistakes. So they carefully identified all the applications with potentially false names, along with several hundred more with incorrect addresses or other simple errors, so that local election clerks would know they might present a problem.',\n",
       " 'The worst fears about a chaotic end to a chaotic campaign failed to materialize on Tuesday as the final day of voting went off with little more than sporadic glitches and confrontations even as the tension over the outcome and aftermath remained undiminished.',\n",
       " 'PHILADELPHIA — There is a grim familiarity to it all. In the final days of a bitter election, it is a reprise of the terrible images that the country has come to know all too well this year: The shaky cellphone video, the abrupt death of a Black man at the hands of the police. The howls of grief at the scene. The protests that formed immediately. The looting of stores that lasted late into the night.']"
      ]
     },
     "execution_count": 15,
     "metadata": {},
     "output_type": "execute_result"
    }
   ],
   "source": [
    "#Most negative texts\n",
    "df.sort_values(\"sentiment\", ascending = True)[\"lead_paragraph\"].iloc[:3].tolist()"
   ]
  },
  {
   "cell_type": "code",
   "execution_count": 17,
   "id": "a67b4d67-6dd9-49a8-a443-a35b53587ee2",
   "metadata": {},
   "outputs": [
    {
     "data": {
      "text/plain": [
       "6     0.0\n",
       "8     0.0\n",
       "12    0.0\n",
       "15    0.0\n",
       "17    0.0\n",
       "Name: sentiment, dtype: float64"
      ]
     },
     "execution_count": 17,
     "metadata": {},
     "output_type": "execute_result"
    }
   ],
   "source": [
    "df.sentiment.abs().nsmallest()"
   ]
  },
  {
   "cell_type": "code",
   "execution_count": 19,
   "id": "6ffec001-f59b-4f95-a7fc-acd9eb012e24",
   "metadata": {},
   "outputs": [
    {
     "data": {
      "text/plain": [
       "positive    765\n",
       "negative    584\n",
       "neutral     454\n",
       "Name: sentiment, dtype: int64"
      ]
     },
     "execution_count": 19,
     "metadata": {},
     "output_type": "execute_result"
    }
   ],
   "source": [
    "#Proportion of pos, neg, and neu texts\n",
    "def bin_func(x):\n",
    "    if x > 0.05:\n",
    "        return \"positive\"\n",
    "    elif x < -.05:\n",
    "        return \"negative\"\n",
    "    else:\n",
    "        return \"neutral\"\n",
    "df.sentiment.apply(bin_func).value_counts()"
   ]
  },
  {
   "cell_type": "code",
   "execution_count": null,
   "id": "e7a2ebef-41a7-4cc1-a553-a4fc33a3cc57",
   "metadata": {},
   "outputs": [],
   "source": []
  },
  {
   "cell_type": "markdown",
   "id": "0fc1297f-70a1-48cf-bdac-5e251ee697c2",
   "metadata": {},
   "source": [
    "**How did sentiment fluctuate over the course of the campaign?**"
   ]
  },
  {
   "cell_type": "code",
   "execution_count": 21,
   "id": "cdbdbe85-27c1-40a2-9693-48955352623d",
   "metadata": {},
   "outputs": [],
   "source": [
    "#Create a panda series using the publication dates as the index and sentiment scores as the values\n",
    "sentiment_ts = pd.Series(index= df.pub_date.tolist(), data = df.sentiment.tolist())"
   ]
  },
  {
   "cell_type": "code",
   "execution_count": 22,
   "id": "8d6f9cb9-6c8d-4c6e-9596-2e7e0e2313ce",
   "metadata": {},
   "outputs": [],
   "source": [
    "#Resample aka groupby the data using d for daily and w for weekly\n",
    "daily = sentiment_ts.resample(\"d\").mean()\n",
    "weekly = sentiment_ts.resample(\"w\").mean()"
   ]
  },
  {
   "cell_type": "code",
   "execution_count": 24,
   "id": "8d4394c7-ea1d-4583-8a59-8284022ad2fb",
   "metadata": {},
   "outputs": [
    {
     "data": {
      "image/png": "[encoded data removed]",
      "text/plain": [
       "<Figure size 792x504 with 1 Axes>"
      ]
     },
     "metadata": {},
     "output_type": "display_data"
    }
   ],
   "source": [
    "#Daily average sentiment of articles.\n",
    "daily.plot(figsize = (11, 7))\n",
    "plt.xlabel(\"Dates\")\n",
    "plt.ylabel(\"Sentiment Score\");"
   ]
  },
  {
   "cell_type": "code",
   "execution_count": 25,
   "id": "c7a741f8-d9a9-47a5-bbef-9c1e629b530f",
   "metadata": {},
   "outputs": [
    {
     "data": {
      "image/png": "[encoded data removed]",
      "text/plain": [
       "<Figure size 792x504 with 1 Axes>"
      ]
     },
     "metadata": {},
     "output_type": "display_data"
    }
   ],
   "source": [
    "#Weekly average sentiment of articles.\n",
    "weekly.plot(figsize = (11, 7))\n",
    "plt.xlabel(\"Dates\")\n",
    "plt.ylabel(\"Sentiment Score\");"
   ]
  },
  {
   "cell_type": "code",
   "execution_count": null,
   "id": "08e2c3f0-14e1-4ab6-9d02-5149479a9728",
   "metadata": {},
   "outputs": [],
   "source": []
  },
  {
   "cell_type": "markdown",
   "id": "e1da9002-dfeb-4c44-bc7b-c358221ba931",
   "metadata": {},
   "source": [
    "### Bonus Section: Handling nested arrays of keywords\n"
   ]
  },
  {
   "cell_type": "markdown",
   "id": "e66e600e-927b-41c4-a39a-1cd7decb8df0",
   "metadata": {},
   "source": [
    "The Times has done us a favor in providing the named entities in the articles, thus relieveing us of having to do that task. However the data structure that it comes in can be tricky to handle. \n",
    "\n",
    "We've provided a short tutorial showing one way to cleanly extract keyword data."
   ]
  },
  {
   "cell_type": "code",
   "execution_count": 26,
   "id": "3c743c86-6522-41fa-a4ca-50109b9c1b98",
   "metadata": {},
   "outputs": [
    {
     "data": {
      "text/plain": [
       "[{'name': 'subject',\n",
       "  'value': 'Demonstrations, Protests and Riots',\n",
       "  'rank': 1,\n",
       "  'major': 'N'},\n",
       " {'name': 'subject', 'value': 'Music', 'rank': 2, 'major': 'N'},\n",
       " {'name': 'subject', 'value': 'Pop and Rock Music', 'rank': 3, 'major': 'N'},\n",
       " {'name': 'persons',\n",
       "  'value': 'Lukashenko, Aleksandr G',\n",
       "  'rank': 4,\n",
       "  'major': 'N'},\n",
       " {'name': 'glocations', 'value': 'Belarus', 'rank': 5, 'major': 'N'},\n",
       " {'name': 'glocations', 'value': 'Minsk (Belarus)', 'rank': 6, 'major': 'N'},\n",
       " {'name': 'subject',\n",
       "  'value': 'Politics and Government',\n",
       "  'rank': 7,\n",
       "  'major': 'N'},\n",
       " {'name': 'subject', 'value': 'Elections', 'rank': 8, 'major': 'N'}]"
      ]
     },
     "execution_count": 26,
     "metadata": {},
     "output_type": "execute_result"
    }
   ],
   "source": [
    "#Refer to a sample article's set of keywords\n",
    "df.keywords.iloc[1]"
   ]
  },
  {
   "cell_type": "markdown",
   "id": "ada82a2d-ab47-40e5-9425-d86342a5df10",
   "metadata": {},
   "source": [
    "We see a number of things here:\n",
    "- Each article's keywords are laid out in a list of dictionaries.\n",
    "- A dictionary tell us the name, type, ranking, and major of the keyword.\n",
    "- The five types of keywords are: subject, persons, glocations, organizations, and creative_works\n",
    "- The ordering of the list corresponds to the ranking.\n",
    "- All articles do not all have the same number of rankings, ranges from 1 - 19."
   ]
  },
  {
   "cell_type": "code",
   "execution_count": null,
   "id": "f7b6a4f6-0589-40e3-9de0-e326fe778c90",
   "metadata": {},
   "outputs": [],
   "source": []
  },
  {
   "cell_type": "markdown",
   "id": "4f8534e5-9097-427d-ba9b-1e04ce668064",
   "metadata": {},
   "source": [
    "We've created a function to extract keyword data based on the ranking. This function will be applied over the pandas series of keyword data."
   ]
  },
  {
   "cell_type": "code",
   "execution_count": 27,
   "id": "04b1fede-fd8c-432c-b1e1-2a805a1e9b87",
   "metadata": {},
   "outputs": [],
   "source": [
    "\n",
    "def rank_extractor(data, rank):\n",
    "    #Empty list return non\n",
    "    if data == []:\n",
    "        return None\n",
    "    #Iterate over the list of keywords until you reach the keyword corresponding with the ranking.\n",
    "    for i in data:\n",
    "        if i[\"rank\"] == rank:\n",
    "    #return just keyword and its type in a dictionary form\n",
    "            return {\"name\":i[\"name\"], \"value\":i[\"value\"]}"
   ]
  },
  {
   "cell_type": "code",
   "execution_count": 28,
   "id": "d701072e-8d36-4cab-9ee5-f58e8aed62b6",
   "metadata": {},
   "outputs": [],
   "source": [
    "#Extract the first, second, and third keywords\n",
    "rank1 = df.keywords.apply(lambda x: rank_extractor(x,1))\n",
    "rank2 = df.keywords.apply(lambda x: rank_extractor(x,2))\n",
    "rank3 = df.keywords.apply(lambda x: rank_extractor(x,3))"
   ]
  },
  {
   "cell_type": "code",
   "execution_count": 29,
   "id": "e3f18704-1d57-4c70-9170-04f644b915dc",
   "metadata": {},
   "outputs": [
    {
     "data": {
      "text/plain": [
       "0    {'name': 'subject', 'value': 'News and News Me...\n",
       "1    {'name': 'subject', 'value': 'Demonstrations, ...\n",
       "2     {'name': 'persons', 'value': 'Harris, Kamala D'}\n",
       "3    {'name': 'subject', 'value': 'Voting and Voters'}\n",
       "4    {'name': 'subject', 'value': 'Great Britain Wi...\n",
       "Name: keywords, dtype: object"
      ]
     },
     "execution_count": 29,
     "metadata": {},
     "output_type": "execute_result"
    }
   ],
   "source": [
    "#View results\n",
    "rank1.head()"
   ]
  },
  {
   "cell_type": "markdown",
   "id": "b7ec099e-b5d5-4e2c-b617-78043b28be1e",
   "metadata": {},
   "source": [
    "Convert the series containing dictionaries to a dataframe"
   ]
  },
  {
   "cell_type": "code",
   "execution_count": 30,
   "id": "762ed380-57f2-4dec-8f31-210567a5057b",
   "metadata": {},
   "outputs": [
    {
     "data": {
      "text/html": [
       "<div>\n",
       "<style scoped>\n",
       "    .dataframe tbody tr th:only-of-type {\n",
       "        vertical-align: middle;\n",
       "    }\n",
       "\n",
       "    .dataframe tbody tr th {\n",
       "        vertical-align: top;\n",
       "    }\n",
       "\n",
       "    .dataframe thead th {\n",
       "        text-align: right;\n",
       "    }\n",
       "</style>\n",
       "<table border=\"1\" class=\"dataframe\">\n",
       "  <thead>\n",
       "    <tr style=\"text-align: right;\">\n",
       "      <th></th>\n",
       "      <th>name</th>\n",
       "      <th>value</th>\n",
       "    </tr>\n",
       "  </thead>\n",
       "  <tbody>\n",
       "    <tr>\n",
       "      <th>0</th>\n",
       "      <td>subject</td>\n",
       "      <td>News and News Media</td>\n",
       "    </tr>\n",
       "    <tr>\n",
       "      <th>1</th>\n",
       "      <td>subject</td>\n",
       "      <td>Demonstrations, Protests and Riots</td>\n",
       "    </tr>\n",
       "    <tr>\n",
       "      <th>2</th>\n",
       "      <td>persons</td>\n",
       "      <td>Harris, Kamala D</td>\n",
       "    </tr>\n",
       "    <tr>\n",
       "      <th>3</th>\n",
       "      <td>subject</td>\n",
       "      <td>Voting and Voters</td>\n",
       "    </tr>\n",
       "    <tr>\n",
       "      <th>4</th>\n",
       "      <td>subject</td>\n",
       "      <td>Great Britain Withdrawal from EU (Brexit)</td>\n",
       "    </tr>\n",
       "  </tbody>\n",
       "</table>\n",
       "</div>"
      ],
      "text/plain": [
       "      name                                      value\n",
       "0  subject                        News and News Media\n",
       "1  subject         Demonstrations, Protests and Riots\n",
       "2  persons                           Harris, Kamala D\n",
       "3  subject                          Voting and Voters\n",
       "4  subject  Great Britain Withdrawal from EU (Brexit)"
      ]
     },
     "execution_count": 30,
     "metadata": {},
     "output_type": "execute_result"
    }
   ],
   "source": [
    "rank1 = rank1.apply(pd.Series)\n",
    "rank2 = rank2.apply(pd.Series)\n",
    "rank3 = rank3.apply(pd.Series)\n",
    "rank1.head()"
   ]
  },
  {
   "cell_type": "markdown",
   "id": "49e9b4ab-7113-4321-8e3e-82b86effeb6c",
   "metadata": {},
   "source": [
    "Voila, nice clean format. Now can we conduct some light analysis."
   ]
  },
  {
   "cell_type": "code",
   "execution_count": null,
   "id": "cdfa34d2-68e2-44da-b512-bce2553a26fa",
   "metadata": {},
   "outputs": [],
   "source": []
  },
  {
   "cell_type": "code",
   "execution_count": 31,
   "id": "311b066f-ce49-4aa4-889c-d79c919a3811",
   "metadata": {},
   "outputs": [
    {
     "data": {
      "text/plain": [
       "subject           1037\n",
       "persons            279\n",
       "glocations          87\n",
       "organizations       71\n",
       "creative_works      10\n",
       "Name: name, dtype: int64"
      ]
     },
     "execution_count": 31,
     "metadata": {},
     "output_type": "execute_result"
    }
   ],
   "source": [
    "#Most frequent type of keyword in ranking #1\n",
    "rank1.name.value_counts()\n"
   ]
  },
  {
   "cell_type": "code",
   "execution_count": 34,
   "id": "131a13f9-d941-4787-aa24-2caa650eae96",
   "metadata": {},
   "outputs": [
    {
     "data": {
      "text/plain": [
       "New York State    4\n",
       "Georgia           4\n",
       "Russia            4\n",
       "Wisconsin         4\n",
       "France            3\n",
       "Name: value, dtype: int64"
      ]
     },
     "execution_count": 34,
     "metadata": {},
     "output_type": "execute_result"
    }
   ],
   "source": [
    "#Most common glocation in rank1\n",
    "rank1.query(\"name == 'glocations'\").value.value_counts().head()"
   ]
  },
  {
   "cell_type": "code",
   "execution_count": null,
   "id": "1aa0149e-baee-49ff-87c1-3f80a3ea1dda",
   "metadata": {},
   "outputs": [],
   "source": []
  },
  {
   "cell_type": "code",
   "execution_count": null,
   "id": "6e29ef31-40ea-49f2-a32f-16804def6df5",
   "metadata": {},
   "outputs": [],
   "source": []
  },
  {
   "cell_type": "code",
   "execution_count": null,
   "id": "50cec9df-8334-4f61-a79c-fa675d4bb729",
   "metadata": {},
   "outputs": [],
   "source": []
  }
 ],
 "metadata": {
  "kernelspec": {
   "display_name": "Python 3 (ipykernel)",
   "language": "python",
   "name": "python3"
  },
  "language_info": {
   "codemirror_mode": {
    "name": "ipython",
    "version": 3
   },
   "file_extension": ".py",
   "mimetype": "text/x-python",
   "name": "python",
   "nbconvert_exporter": "python",
   "pygments_lexer": "ipython3",
   "version": "3.9.7"
  }
 },
 "nbformat": 4,
 "nbformat_minor": 5
}
