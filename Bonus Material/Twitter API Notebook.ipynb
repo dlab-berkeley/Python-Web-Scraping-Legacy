{
 "cells": [
  {
   "cell_type": "markdown",
   "id": "5f13a1dc",
   "metadata": {},
   "source": [
    "# Using Other APIs: Twitter\n",
    "* * * * *"
   ]
  },
  {
   "cell_type": "markdown",
   "id": "ccd8d6c9",
   "metadata": {},
   "source": [
    "This notebook goes over how to establish a connection to the Twitter API and how to use its REST and LIVE APIs."
   ]
  },
  {
   "cell_type": "markdown",
   "id": "74423d94",
   "metadata": {},
   "source": [
    "[This article from Twitter](https://developer.twitter.com/en/docs/tutorials/step-by-step-guide-to-making-your-first-request-to-the-twitter-api-v2) provides step-by-step instructions on how to sign up for API credentials. "
   ]
  },
  {
   "cell_type": "markdown",
   "id": "601ebee1",
   "metadata": {},
   "source": [
    "Fill in the blanks with your credentials."
   ]
  },
  {
   "cell_type": "code",
   "execution_count": 5,
   "id": "1d7dd3e0",
   "metadata": {},
   "outputs": [],
   "source": [
    "consumer_key = \""\n",
    "consumer_secret = \""\n",
    "access_token = \"250978793-TLMQWzLuc94BerarlVbFfs7gxz0tApC7jgHavHZc\"\n",
    "access_token_secret = \"ajz1MT8u99DnvRkcSk6PxxxL7p3RQnPO6Go5HRX1NdWuR\""
   ]
  },
  {
   "cell_type": "markdown",
   "id": "d64c22b2",
   "metadata": {},
   "source": [
    "Install the Python package [Tweepy](https://www.tweepy.org/) by running: `pip install tweepy` in the command line."
   ]
  },
  {
   "cell_type": "code",
   "execution_count": 3,
   "id": "e229dbbe",
   "metadata": {},
   "outputs": [],
   "source": [
    "#imports\n",
    "import tweepy \n",
    "import pandas as pd\n",
    "import numpy as np\n",
    "import matplotlib.pyplot as plt\n",
    "import json\n",
    "from tweepy import Stream\n",
    "from tweepy.streaming import StreamListener\n",
    "from time import sleep\n",
    "import os"
   ]
  },
  {
   "cell_type": "markdown",
   "id": "e886ef80",
   "metadata": {},
   "source": [
    "### Establish a connection with Twitter's servers"
   ]
  },
  {
   "cell_type": "code",
   "execution_count": 6,
   "id": "74b1a309",
   "metadata": {},
   "outputs": [],
   "source": [
    "#Setup access to API\n",
    "auth = tweepy.OAuthHandler(consumer_key, consumer_secret)\n",
    "auth.set_access_token(access_token, access_token_secret)\n",
    "\n",
    " \n",
    "#Pass in the authentication object which holds the keys\n",
    "\n",
    "api = tweepy.API(auth, \n",
    "                 wait_on_rate_limit=True,\n",
    "                 wait_on_rate_limit_notify=True,\n",
    "                 retry_count=3, retry_delay=5, retry_errors=set([401, 404, 500, 503, 443]))\n",
    "\n"
   ]
  },
  {
   "cell_type": "markdown",
   "id": "a53a6df9",
   "metadata": {},
   "source": [
    "The parameters after `auth` are used for dealing with rate-limiting. That means when Twitter's API encounters an error the connection won't break and will either pause or re-attempt to pull data.\n",
    "\n",
    "Comes very in handy when you need to set and forget. You can be confident that whatever operation you're running will work while you're focused on other things."
   ]
  },
  {
   "cell_type": "markdown",
   "id": "79605e1c",
   "metadata": {},
   "source": [
    "### Making Calls"
   ]
  },
  {
   "cell_type": "markdown",
   "id": "51c16ef9",
   "metadata": {},
   "source": [
    "Say hi to your timeline."
   ]
  },
  {
   "cell_type": "code",
   "execution_count": 23,
   "id": "c60c9471",
   "metadata": {},
   "outputs": [
    {
     "data": {
      "text/plain": [
       "Status(_api=<tweepy.api.API object at 0x1492f6a10>, _json={'created_at': 'Fri Jan 07 06:17:52 +0000 2022', 'id': 1479336464496271361, 'id_str': '1479336464496271361', 'text': 'Hi timeline, I am tweeting from the API!', 'truncated': False, 'entities': {'hashtags': [], 'symbols': [], 'user_mentions': [], 'urls': []}, 'source': '<a href=\"http://www.espn.com\" rel=\"nofollow\">Super_Data_analysis</a>', 'in_reply_to_status_id': None, 'in_reply_to_status_id_str': None, 'in_reply_to_user_id': None, 'in_reply_to_user_id_str': None, 'in_reply_to_screen_name': None, 'user': {'id': 250978793, 'id_str': '250978793', 'name': 'George McIntire', 'screen_name': 'GeorgeMcInt', 'location': 'East Bay', 'description': 'Master of information at UC Berkeley 📊📉📈.  My brand is my brand. #YNWA. Very good chance I’m the only George Seifu McIntire in the world. listen to my DJ mix', 'url': 'https://t.co/ETZwForZg2', 'entities': {'url': {'urls': [{'url': 'https://t.co/ETZwForZg2', 'expanded_url': 'https://www.mixcloud.com/jorgemack/dj_perco_promo/', 'display_url': 'mixcloud.com/jorgemack/dj_p…', 'indices': [0, 23]}]}, 'description': {'urls': []}}, 'protected': False, 'followers_count': 1226, 'friends_count': 3979, 'listed_count': 30, 'created_at': 'Sat Feb 12 05:34:00 +0000 2011', 'favourites_count': 35175, 'utc_offset': None, 'time_zone': None, 'geo_enabled': True, 'verified': False, 'statuses_count': 5313, 'lang': None, 'contributors_enabled': False, 'is_translator': False, 'is_translation_enabled': False, 'profile_background_color': 'C0DEED', 'profile_background_image_url': 'http://abs.twimg.com/images/themes/theme1/bg.png', 'profile_background_image_url_https': 'https://abs.twimg.com/images/themes/theme1/bg.png', 'profile_background_tile': True, 'profile_image_url': 'http://pbs.twimg.com/profile_images/1438304027469619206/jMpQUgu8_normal.jpg', 'profile_image_url_https': 'https://pbs.twimg.com/profile_images/1438304027469619206/jMpQUgu8_normal.jpg', 'profile_banner_url': 'https://pbs.twimg.com/profile_banners/250978793/1639188153', 'profile_link_color': '0084B4', 'profile_sidebar_border_color': 'FFFFFF', 'profile_sidebar_fill_color': 'DDEEF6', 'profile_text_color': '333333', 'profile_use_background_image': True, 'has_extended_profile': True, 'default_profile': False, 'default_profile_image': False, 'following': False, 'follow_request_sent': False, 'notifications': False, 'translator_type': 'regular', 'withheld_in_countries': []}, 'geo': None, 'coordinates': None, 'place': None, 'contributors': None, 'is_quote_status': False, 'retweet_count': 0, 'favorite_count': 0, 'favorited': False, 'retweeted': False, 'lang': 'en'}, created_at=datetime.datetime(2022, 1, 7, 6, 17, 52), id=1479336464496271361, id_str='1479336464496271361', text='Hi timeline, I am tweeting from the API!', truncated=False, entities={'hashtags': [], 'symbols': [], 'user_mentions': [], 'urls': []}, source='Super_Data_analysis', source_url='http://www.espn.com', in_reply_to_status_id=None, in_reply_to_status_id_str=None, in_reply_to_user_id=None, in_reply_to_user_id_str=None, in_reply_to_screen_name=None, author=User(_api=<tweepy.api.API object at 0x1492f6a10>, _json={'id': 250978793, 'id_str': '250978793', 'name': 'George McIntire', 'screen_name': 'GeorgeMcInt', 'location': 'East Bay', 'description': 'Master of information at UC Berkeley 📊📉📈.  My brand is my brand. #YNWA. Very good chance I’m the only George Seifu McIntire in the world. listen to my DJ mix', 'url': 'https://t.co/ETZwForZg2', 'entities': {'url': {'urls': [{'url': 'https://t.co/ETZwForZg2', 'expanded_url': 'https://www.mixcloud.com/jorgemack/dj_perco_promo/', 'display_url': 'mixcloud.com/jorgemack/dj_p…', 'indices': [0, 23]}]}, 'description': {'urls': []}}, 'protected': False, 'followers_count': 1226, 'friends_count': 3979, 'listed_count': 30, 'created_at': 'Sat Feb 12 05:34:00 +0000 2011', 'favourites_count': 35175, 'utc_offset': None, 'time_zone': None, 'geo_enabled': True, 'verified': False, 'statuses_count': 5313, 'lang': None, 'contributors_enabled': False, 'is_translator': False, 'is_translation_enabled': False, 'profile_background_color': 'C0DEED', 'profile_background_image_url': 'http://abs.twimg.com/images/themes/theme1/bg.png', 'profile_background_image_url_https': 'https://abs.twimg.com/images/themes/theme1/bg.png', 'profile_background_tile': True, 'profile_image_url': 'http://pbs.twimg.com/profile_images/1438304027469619206/jMpQUgu8_normal.jpg', 'profile_image_url_https': 'https://pbs.twimg.com/profile_images/1438304027469619206/jMpQUgu8_normal.jpg', 'profile_banner_url': 'https://pbs.twimg.com/profile_banners/250978793/1639188153', 'profile_link_color': '0084B4', 'profile_sidebar_border_color': 'FFFFFF', 'profile_sidebar_fill_color': 'DDEEF6', 'profile_text_color': '333333', 'profile_use_background_image': True, 'has_extended_profile': True, 'default_profile': False, 'default_profile_image': False, 'following': False, 'follow_request_sent': False, 'notifications': False, 'translator_type': 'regular', 'withheld_in_countries': []}, id=250978793, id_str='250978793', name='George McIntire', screen_name='GeorgeMcInt', location='East Bay', description='Master of information at UC Berkeley 📊📉📈.  My brand is my brand. #YNWA. Very good chance I’m the only George Seifu McIntire in the world. listen to my DJ mix', url='https://t.co/ETZwForZg2', entities={'url': {'urls': [{'url': 'https://t.co/ETZwForZg2', 'expanded_url': 'https://www.mixcloud.com/jorgemack/dj_perco_promo/', 'display_url': 'mixcloud.com/jorgemack/dj_p…', 'indices': [0, 23]}]}, 'description': {'urls': []}}, protected=False, followers_count=1226, friends_count=3979, listed_count=30, created_at=datetime.datetime(2011, 2, 12, 5, 34), favourites_count=35175, utc_offset=None, time_zone=None, geo_enabled=True, verified=False, statuses_count=5313, lang=None, contributors_enabled=False, is_translator=False, is_translation_enabled=False, profile_background_color='C0DEED', profile_background_image_url='http://abs.twimg.com/images/themes/theme1/bg.png', profile_background_image_url_https='https://abs.twimg.com/images/themes/theme1/bg.png', profile_background_tile=True, profile_image_url='http://pbs.twimg.com/profile_images/1438304027469619206/jMpQUgu8_normal.jpg', profile_image_url_https='https://pbs.twimg.com/profile_images/1438304027469619206/jMpQUgu8_normal.jpg', profile_banner_url='https://pbs.twimg.com/profile_banners/250978793/1639188153', profile_link_color='0084B4', profile_sidebar_border_color='FFFFFF', profile_sidebar_fill_color='DDEEF6', profile_text_color='333333', profile_use_background_image=True, has_extended_profile=True, default_profile=False, default_profile_image=False, following=False, follow_request_sent=False, notifications=False, translator_type='regular', withheld_in_countries=[]), user=User(_api=<tweepy.api.API object at 0x1492f6a10>, _json={'id': 250978793, 'id_str': '250978793', 'name': 'George McIntire', 'screen_name': 'GeorgeMcInt', 'location': 'East Bay', 'description': 'Master of information at UC Berkeley 📊📉📈.  My brand is my brand. #YNWA. Very good chance I’m the only George Seifu McIntire in the world. listen to my DJ mix', 'url': 'https://t.co/ETZwForZg2', 'entities': {'url': {'urls': [{'url': 'https://t.co/ETZwForZg2', 'expanded_url': 'https://www.mixcloud.com/jorgemack/dj_perco_promo/', 'display_url': 'mixcloud.com/jorgemack/dj_p…', 'indices': [0, 23]}]}, 'description': {'urls': []}}, 'protected': False, 'followers_count': 1226, 'friends_count': 3979, 'listed_count': 30, 'created_at': 'Sat Feb 12 05:34:00 +0000 2011', 'favourites_count': 35175, 'utc_offset': None, 'time_zone': None, 'geo_enabled': True, 'verified': False, 'statuses_count': 5313, 'lang': None, 'contributors_enabled': False, 'is_translator': False, 'is_translation_enabled': False, 'profile_background_color': 'C0DEED', 'profile_background_image_url': 'http://abs.twimg.com/images/themes/theme1/bg.png', 'profile_background_image_url_https': 'https://abs.twimg.com/images/themes/theme1/bg.png', 'profile_background_tile': True, 'profile_image_url': 'http://pbs.twimg.com/profile_images/1438304027469619206/jMpQUgu8_normal.jpg', 'profile_image_url_https': 'https://pbs.twimg.com/profile_images/1438304027469619206/jMpQUgu8_normal.jpg', 'profile_banner_url': 'https://pbs.twimg.com/profile_banners/250978793/1639188153', 'profile_link_color': '0084B4', 'profile_sidebar_border_color': 'FFFFFF', 'profile_sidebar_fill_color': 'DDEEF6', 'profile_text_color': '333333', 'profile_use_background_image': True, 'has_extended_profile': True, 'default_profile': False, 'default_profile_image': False, 'following': False, 'follow_request_sent': False, 'notifications': False, 'translator_type': 'regular', 'withheld_in_countries': []}, id=250978793, id_str='250978793', name='George McIntire', screen_name='GeorgeMcInt', location='East Bay', description='Master of information at UC Berkeley 📊📉📈.  My brand is my brand. #YNWA. Very good chance I’m the only George Seifu McIntire in the world. listen to my DJ mix', url='https://t.co/ETZwForZg2', entities={'url': {'urls': [{'url': 'https://t.co/ETZwForZg2', 'expanded_url': 'https://www.mixcloud.com/jorgemack/dj_perco_promo/', 'display_url': 'mixcloud.com/jorgemack/dj_p…', 'indices': [0, 23]}]}, 'description': {'urls': []}}, protected=False, followers_count=1226, friends_count=3979, listed_count=30, created_at=datetime.datetime(2011, 2, 12, 5, 34), favourites_count=35175, utc_offset=None, time_zone=None, geo_enabled=True, verified=False, statuses_count=5313, lang=None, contributors_enabled=False, is_translator=False, is_translation_enabled=False, profile_background_color='C0DEED', profile_background_image_url='http://abs.twimg.com/images/themes/theme1/bg.png', profile_background_image_url_https='https://abs.twimg.com/images/themes/theme1/bg.png', profile_background_tile=True, profile_image_url='http://pbs.twimg.com/profile_images/1438304027469619206/jMpQUgu8_normal.jpg', profile_image_url_https='https://pbs.twimg.com/profile_images/1438304027469619206/jMpQUgu8_normal.jpg', profile_banner_url='https://pbs.twimg.com/profile_banners/250978793/1639188153', profile_link_color='0084B4', profile_sidebar_border_color='FFFFFF', profile_sidebar_fill_color='DDEEF6', profile_text_color='333333', profile_use_background_image=True, has_extended_profile=True, default_profile=False, default_profile_image=False, following=False, follow_request_sent=False, notifications=False, translator_type='regular', withheld_in_countries=[]), geo=None, coordinates=None, place=None, contributors=None, is_quote_status=False, retweet_count=0, favorite_count=0, favorited=False, retweeted=False, lang='en')"
      ]
     },
     "execution_count": 23,
     "metadata": {},
     "output_type": "execute_result"
    }
   ],
   "source": [
    "api.update_status(\"Hi timeline, I am tweeting from the API!\")"
   ]
  },
  {
   "cell_type": "markdown",
   "id": "7119ce48",
   "metadata": {},
   "source": [
    "Pull tweets from your own timeline"
   ]
  },
  {
   "cell_type": "code",
   "execution_count": 7,
   "id": "de4528fd",
   "metadata": {},
   "outputs": [
    {
     "name": "stdout",
     "output_type": "stream",
     "text": [
      "RT @markhansontoo: How does a model have reliable features for \"democratic backsliding\" or \"social trust?\" A veneer of data science sitting…\n",
      "5% of 666 Python repos had comma typo bugs (including V8, Sentry, Tensorflow, and PyTorch) https://t.co/l6k7Z7hKPF\n",
      "Will Bitcoin outperform stocks in 2022? \n",
      "\n",
      "This analyst says there's a good case to be had. https://t.co/3VBCpJlrPZ\n",
      "@DrewFustin Get ones that come with brakes\n",
      "the weeknd couldnt clear my verse in time 🤦🏾‍♂️ my bad yall https://t.co/eSE6KzPyQn\n",
      "This is what happens when you have no actual beliefs, only teams https://t.co/uWygckIhvg\n",
      "RT @SJEarthquakes: It’s official. 🇸🇰\n",
      "\n",
      "NEWS: Earthquakes sign Slovakian midfielder Jan Gregus! Welcome to San Jose!\n",
      "Salamat thank you so much to everyone who helped us in mapping villages affected by Super Typhoon #OdettePH! 🌀🙏🏾… https://t.co/m58eEEU0mW\n",
      "RT @mansihere_: Building a personal brand is all about showing up as we are. The original version of YOU.\n",
      "RT @USMNT: ☀️ 19 players are headed to Phoenix for January Preparation Camp 🌵\n",
      "RT @EricTopol: \"For elite footballers, the effects of covid-19 linger for months\"\n",
      "https://t.co/bWGxhpUBgp https://t.co/EUbC41Xb6P\n",
      "RT @alexcoheninla: Deeply grateful to @owasow for spending time with us tonight as we look back on January 6th and ask \"Is this America?\"\n",
      "RT @911JusticeNow: @OurHiddenHistry https://t.co/curcDPBxIu\n",
      "I saw a CNN chyron today that referred to Congress as “1/6 survivors” which made me laugh. Most liberals I know at… https://t.co/IpxAlW46b5\n",
      "RT @abbyangriest: This was fun to do.\n",
      "Something strange happens when the most advanced hackers succeed in breaking in to Apple’s famous walled garden: th… https://t.co/Lx9CtSQk97\n",
      "RT @tolstoybb: It’s over.\n",
      "RT @tolstoybb: @_PeterRyan it’s over https://t.co/DKDhcdKjiy\n"
     ]
    }
   ],
   "source": [
    "public_tweets = api.home_timeline()\n",
    "for tweet in public_tweets:\n",
    "    print(tweet.text)"
   ]
  },
  {
   "cell_type": "code",
   "execution_count": 9,
   "id": "2bbca913",
   "metadata": {},
   "outputs": [
    {
     "data": {
      "text/plain": [
       "18"
      ]
     },
     "execution_count": 9,
     "metadata": {},
     "output_type": "execute_result"
    }
   ],
   "source": [
    "len(public_tweets)"
   ]
  },
  {
   "cell_type": "markdown",
   "id": "d8daf3f8",
   "metadata": {},
   "source": [
    "**Tweet Object**"
   ]
  },
  {
   "cell_type": "markdown",
   "id": "85d1f539",
   "metadata": {},
   "source": [
    "Let's inspect the data held in a single tweet"
   ]
  },
  {
   "cell_type": "code",
   "execution_count": 10,
   "id": "76651900",
   "metadata": {},
   "outputs": [
    {
     "data": {
      "text/plain": [
       "tweepy.models.Status"
      ]
     },
     "execution_count": 10,
     "metadata": {},
     "output_type": "execute_result"
    }
   ],
   "source": [
    "#Assign the first tweet in public_tweets to a variable\n",
    "tweet = public_tweets[0]\n",
    "type(tweet)"
   ]
  },
  {
   "cell_type": "markdown",
   "id": "6fa42665",
   "metadata": {},
   "source": [
    "**From Twitter**:\n",
    "\n",
    "Tweets are the basic building block of all things Twitter. The Tweet object has a long list of ‘root-level’ fields, such as id, text, and created_at. Tweet objects are also the ‘parent’ object to several child objects including user, media, poll, and place. Use the field parameter tweet.fields when requesting these root-level fields on the Tweet object.\n",
    "\n",
    "The Tweet object that can be found and expanded in the user resource. Additional Tweets related to the requested Tweet can also be found and expanded in the Tweet resource. The object is available for expansion with ?expansions=pinned_tweet_id in the user resource or ?expansions=referenced_tweets.id in the Tweet resource to get the object with only default fields. Use the expansion with the field parameter: tweet.fields when requesting additional fields to complete the object."
   ]
  },
  {
   "cell_type": "code",
   "execution_count": 11,
   "id": "460480b7",
   "metadata": {},
   "outputs": [
    {
     "data": {
      "text/plain": [
       "Status(_api=<tweepy.api.API object at 0x1492f6a10>, _json={'created_at': 'Fri Jan 07 06:07:32 +0000 2022', 'id': 1479333863360847873, 'id_str': '1479333863360847873', 'text': 'RT @markhansontoo: How does a model have reliable features for \"democratic backsliding\" or \"social trust?\" A veneer of data science sitting…', 'truncated': False, 'entities': {'hashtags': [], 'symbols': [], 'user_mentions': [{'screen_name': 'markhansontoo', 'name': 'Mark Hanson', 'id': 2393458968, 'id_str': '2393458968', 'indices': [3, 17]}], 'urls': []}, 'source': '<a href=\"http://twitter.com/download/iphone\" rel=\"nofollow\">Twitter for iPhone</a>', 'in_reply_to_status_id': None, 'in_reply_to_status_id_str': None, 'in_reply_to_user_id': None, 'in_reply_to_user_id_str': None, 'in_reply_to_screen_name': None, 'user': {'id': 2686367875, 'id_str': '2686367875', 'name': 'Ray Serrato', 'screen_name': 'raymserrato', 'location': 'Los Angeles', 'description': '👨🏾\\u200d💻 Threat Disruption @Twitter. Prev: Investigator @UNHumanRights. Veteran @USNavy.', 'url': None, 'entities': {'description': {'urls': []}}, 'protected': True, 'followers_count': 2777, 'friends_count': 1528, 'listed_count': 66, 'created_at': 'Mon Jul 28 01:40:36 +0000 2014', 'favourites_count': 10010, 'utc_offset': None, 'time_zone': None, 'geo_enabled': True, 'verified': False, 'statuses_count': 1767, 'lang': None, 'contributors_enabled': False, 'is_translator': False, 'is_translation_enabled': False, 'profile_background_color': '000000', 'profile_background_image_url': 'http://abs.twimg.com/images/themes/theme1/bg.png', 'profile_background_image_url_https': 'https://abs.twimg.com/images/themes/theme1/bg.png', 'profile_background_tile': False, 'profile_image_url': 'http://pbs.twimg.com/profile_images/1478482306679468033/hPU7tVol_normal.jpg', 'profile_image_url_https': 'https://pbs.twimg.com/profile_images/1478482306679468033/hPU7tVol_normal.jpg', 'profile_banner_url': 'https://pbs.twimg.com/profile_banners/2686367875/1613638715', 'profile_link_color': '1B95E0', 'profile_sidebar_border_color': '000000', 'profile_sidebar_fill_color': '000000', 'profile_text_color': '000000', 'profile_use_background_image': False, 'has_extended_profile': False, 'default_profile': False, 'default_profile_image': False, 'following': True, 'follow_request_sent': False, 'notifications': False, 'translator_type': 'none', 'withheld_in_countries': []}, 'geo': None, 'coordinates': None, 'place': None, 'contributors': None, 'retweeted_status': {'created_at': 'Fri Jan 07 05:35:21 +0000 2022', 'id': 1479325764373782529, 'id_str': '1479325764373782529', 'text': 'How does a model have reliable features for \"democratic backsliding\" or \"social trust?\" A veneer of data science si… https://t.co/Phrjmi86oJ', 'truncated': True, 'entities': {'hashtags': [], 'symbols': [], 'user_mentions': [], 'urls': [{'url': 'https://t.co/Phrjmi86oJ', 'expanded_url': 'https://twitter.com/i/web/status/1479325764373782529', 'display_url': 'twitter.com/i/web/status/1…', 'indices': [117, 140]}]}, 'source': '<a href=\"http://twitter.com/download/android\" rel=\"nofollow\">Twitter for Android</a>', 'in_reply_to_status_id': 1479325751585345536, 'in_reply_to_status_id_str': '1479325751585345536', 'in_reply_to_user_id': 2393458968, 'in_reply_to_user_id_str': '2393458968', 'in_reply_to_screen_name': 'markhansontoo', 'user': {'id': 2393458968, 'id_str': '2393458968', 'name': 'Mark Hanson', 'screen_name': 'markhansontoo', 'location': '', 'description': 'PM @Twitter Health. Fmr Policy @Facebook, Cyber & crypto guy @USTreasury, other #natsec work. Social media, #disinfo, and #cyber thoughts. Views my own. #AAPI', 'url': None, 'entities': {'description': {'urls': []}}, 'protected': False, 'followers_count': 180, 'friends_count': 657, 'listed_count': 3, 'created_at': 'Mon Mar 17 00:18:04 +0000 2014', 'favourites_count': 510, 'utc_offset': None, 'time_zone': None, 'geo_enabled': False, 'verified': False, 'statuses_count': 144, 'lang': None, 'contributors_enabled': False, 'is_translator': False, 'is_translation_enabled': False, 'profile_background_color': 'C0DEED', 'profile_background_image_url': 'http://abs.twimg.com/images/themes/theme1/bg.png', 'profile_background_image_url_https': 'https://abs.twimg.com/images/themes/theme1/bg.png', 'profile_background_tile': False, 'profile_image_url': 'http://pbs.twimg.com/profile_images/1442895609766113282/2cu6XWgN_normal.jpg', 'profile_image_url_https': 'https://pbs.twimg.com/profile_images/1442895609766113282/2cu6XWgN_normal.jpg', 'profile_banner_url': 'https://pbs.twimg.com/profile_banners/2393458968/1632339296', 'profile_link_color': '1DA1F2', 'profile_sidebar_border_color': 'C0DEED', 'profile_sidebar_fill_color': 'DDEEF6', 'profile_text_color': '333333', 'profile_use_background_image': True, 'has_extended_profile': False, 'default_profile': True, 'default_profile_image': False, 'following': False, 'follow_request_sent': False, 'notifications': False, 'translator_type': 'none', 'withheld_in_countries': []}, 'geo': None, 'coordinates': None, 'place': None, 'contributors': None, 'is_quote_status': False, 'retweet_count': 1, 'favorite_count': 2, 'favorited': False, 'retweeted': False, 'possibly_sensitive': False, 'possibly_sensitive_appealable': False, 'lang': 'en'}, 'is_quote_status': False, 'retweet_count': 1, 'favorite_count': 0, 'favorited': False, 'retweeted': False, 'lang': 'en'}, created_at=datetime.datetime(2022, 1, 7, 6, 7, 32), id=1479333863360847873, id_str='1479333863360847873', text='RT @markhansontoo: How does a model have reliable features for \"democratic backsliding\" or \"social trust?\" A veneer of data science sitting…', truncated=False, entities={'hashtags': [], 'symbols': [], 'user_mentions': [{'screen_name': 'markhansontoo', 'name': 'Mark Hanson', 'id': 2393458968, 'id_str': '2393458968', 'indices': [3, 17]}], 'urls': []}, source='Twitter for iPhone', source_url='http://twitter.com/download/iphone', in_reply_to_status_id=None, in_reply_to_status_id_str=None, in_reply_to_user_id=None, in_reply_to_user_id_str=None, in_reply_to_screen_name=None, author=User(_api=<tweepy.api.API object at 0x1492f6a10>, _json={'id': 2686367875, 'id_str': '2686367875', 'name': 'Ray Serrato', 'screen_name': 'raymserrato', 'location': 'Los Angeles', 'description': '👨🏾\\u200d💻 Threat Disruption @Twitter. Prev: Investigator @UNHumanRights. Veteran @USNavy.', 'url': None, 'entities': {'description': {'urls': []}}, 'protected': True, 'followers_count': 2777, 'friends_count': 1528, 'listed_count': 66, 'created_at': 'Mon Jul 28 01:40:36 +0000 2014', 'favourites_count': 10010, 'utc_offset': None, 'time_zone': None, 'geo_enabled': True, 'verified': False, 'statuses_count': 1767, 'lang': None, 'contributors_enabled': False, 'is_translator': False, 'is_translation_enabled': False, 'profile_background_color': '000000', 'profile_background_image_url': 'http://abs.twimg.com/images/themes/theme1/bg.png', 'profile_background_image_url_https': 'https://abs.twimg.com/images/themes/theme1/bg.png', 'profile_background_tile': False, 'profile_image_url': 'http://pbs.twimg.com/profile_images/1478482306679468033/hPU7tVol_normal.jpg', 'profile_image_url_https': 'https://pbs.twimg.com/profile_images/1478482306679468033/hPU7tVol_normal.jpg', 'profile_banner_url': 'https://pbs.twimg.com/profile_banners/2686367875/1613638715', 'profile_link_color': '1B95E0', 'profile_sidebar_border_color': '000000', 'profile_sidebar_fill_color': '000000', 'profile_text_color': '000000', 'profile_use_background_image': False, 'has_extended_profile': False, 'default_profile': False, 'default_profile_image': False, 'following': True, 'follow_request_sent': False, 'notifications': False, 'translator_type': 'none', 'withheld_in_countries': []}, id=2686367875, id_str='2686367875', name='Ray Serrato', screen_name='raymserrato', location='Los Angeles', description='👨🏾\\u200d💻 Threat Disruption @Twitter. Prev: Investigator @UNHumanRights. Veteran @USNavy.', url=None, entities={'description': {'urls': []}}, protected=True, followers_count=2777, friends_count=1528, listed_count=66, created_at=datetime.datetime(2014, 7, 28, 1, 40, 36), favourites_count=10010, utc_offset=None, time_zone=None, geo_enabled=True, verified=False, statuses_count=1767, lang=None, contributors_enabled=False, is_translator=False, is_translation_enabled=False, profile_background_color='000000', profile_background_image_url='http://abs.twimg.com/images/themes/theme1/bg.png', profile_background_image_url_https='https://abs.twimg.com/images/themes/theme1/bg.png', profile_background_tile=False, profile_image_url='http://pbs.twimg.com/profile_images/1478482306679468033/hPU7tVol_normal.jpg', profile_image_url_https='https://pbs.twimg.com/profile_images/1478482306679468033/hPU7tVol_normal.jpg', profile_banner_url='https://pbs.twimg.com/profile_banners/2686367875/1613638715', profile_link_color='1B95E0', profile_sidebar_border_color='000000', profile_sidebar_fill_color='000000', profile_text_color='000000', profile_use_background_image=False, has_extended_profile=False, default_profile=False, default_profile_image=False, following=True, follow_request_sent=False, notifications=False, translator_type='none', withheld_in_countries=[]), user=User(_api=<tweepy.api.API object at 0x1492f6a10>, _json={'id': 2686367875, 'id_str': '2686367875', 'name': 'Ray Serrato', 'screen_name': 'raymserrato', 'location': 'Los Angeles', 'description': '👨🏾\\u200d💻 Threat Disruption @Twitter. Prev: Investigator @UNHumanRights. Veteran @USNavy.', 'url': None, 'entities': {'description': {'urls': []}}, 'protected': True, 'followers_count': 2777, 'friends_count': 1528, 'listed_count': 66, 'created_at': 'Mon Jul 28 01:40:36 +0000 2014', 'favourites_count': 10010, 'utc_offset': None, 'time_zone': None, 'geo_enabled': True, 'verified': False, 'statuses_count': 1767, 'lang': None, 'contributors_enabled': False, 'is_translator': False, 'is_translation_enabled': False, 'profile_background_color': '000000', 'profile_background_image_url': 'http://abs.twimg.com/images/themes/theme1/bg.png', 'profile_background_image_url_https': 'https://abs.twimg.com/images/themes/theme1/bg.png', 'profile_background_tile': False, 'profile_image_url': 'http://pbs.twimg.com/profile_images/1478482306679468033/hPU7tVol_normal.jpg', 'profile_image_url_https': 'https://pbs.twimg.com/profile_images/1478482306679468033/hPU7tVol_normal.jpg', 'profile_banner_url': 'https://pbs.twimg.com/profile_banners/2686367875/1613638715', 'profile_link_color': '1B95E0', 'profile_sidebar_border_color': '000000', 'profile_sidebar_fill_color': '000000', 'profile_text_color': '000000', 'profile_use_background_image': False, 'has_extended_profile': False, 'default_profile': False, 'default_profile_image': False, 'following': True, 'follow_request_sent': False, 'notifications': False, 'translator_type': 'none', 'withheld_in_countries': []}, id=2686367875, id_str='2686367875', name='Ray Serrato', screen_name='raymserrato', location='Los Angeles', description='👨🏾\\u200d💻 Threat Disruption @Twitter. Prev: Investigator @UNHumanRights. Veteran @USNavy.', url=None, entities={'description': {'urls': []}}, protected=True, followers_count=2777, friends_count=1528, listed_count=66, created_at=datetime.datetime(2014, 7, 28, 1, 40, 36), favourites_count=10010, utc_offset=None, time_zone=None, geo_enabled=True, verified=False, statuses_count=1767, lang=None, contributors_enabled=False, is_translator=False, is_translation_enabled=False, profile_background_color='000000', profile_background_image_url='http://abs.twimg.com/images/themes/theme1/bg.png', profile_background_image_url_https='https://abs.twimg.com/images/themes/theme1/bg.png', profile_background_tile=False, profile_image_url='http://pbs.twimg.com/profile_images/1478482306679468033/hPU7tVol_normal.jpg', profile_image_url_https='https://pbs.twimg.com/profile_images/1478482306679468033/hPU7tVol_normal.jpg', profile_banner_url='https://pbs.twimg.com/profile_banners/2686367875/1613638715', profile_link_color='1B95E0', profile_sidebar_border_color='000000', profile_sidebar_fill_color='000000', profile_text_color='000000', profile_use_background_image=False, has_extended_profile=False, default_profile=False, default_profile_image=False, following=True, follow_request_sent=False, notifications=False, translator_type='none', withheld_in_countries=[]), geo=None, coordinates=None, place=None, contributors=None, retweeted_status=Status(_api=<tweepy.api.API object at 0x1492f6a10>, _json={'created_at': 'Fri Jan 07 05:35:21 +0000 2022', 'id': 1479325764373782529, 'id_str': '1479325764373782529', 'text': 'How does a model have reliable features for \"democratic backsliding\" or \"social trust?\" A veneer of data science si… https://t.co/Phrjmi86oJ', 'truncated': True, 'entities': {'hashtags': [], 'symbols': [], 'user_mentions': [], 'urls': [{'url': 'https://t.co/Phrjmi86oJ', 'expanded_url': 'https://twitter.com/i/web/status/1479325764373782529', 'display_url': 'twitter.com/i/web/status/1…', 'indices': [117, 140]}]}, 'source': '<a href=\"http://twitter.com/download/android\" rel=\"nofollow\">Twitter for Android</a>', 'in_reply_to_status_id': 1479325751585345536, 'in_reply_to_status_id_str': '1479325751585345536', 'in_reply_to_user_id': 2393458968, 'in_reply_to_user_id_str': '2393458968', 'in_reply_to_screen_name': 'markhansontoo', 'user': {'id': 2393458968, 'id_str': '2393458968', 'name': 'Mark Hanson', 'screen_name': 'markhansontoo', 'location': '', 'description': 'PM @Twitter Health. Fmr Policy @Facebook, Cyber & crypto guy @USTreasury, other #natsec work. Social media, #disinfo, and #cyber thoughts. Views my own. #AAPI', 'url': None, 'entities': {'description': {'urls': []}}, 'protected': False, 'followers_count': 180, 'friends_count': 657, 'listed_count': 3, 'created_at': 'Mon Mar 17 00:18:04 +0000 2014', 'favourites_count': 510, 'utc_offset': None, 'time_zone': None, 'geo_enabled': False, 'verified': False, 'statuses_count': 144, 'lang': None, 'contributors_enabled': False, 'is_translator': False, 'is_translation_enabled': False, 'profile_background_color': 'C0DEED', 'profile_background_image_url': 'http://abs.twimg.com/images/themes/theme1/bg.png', 'profile_background_image_url_https': 'https://abs.twimg.com/images/themes/theme1/bg.png', 'profile_background_tile': False, 'profile_image_url': 'http://pbs.twimg.com/profile_images/1442895609766113282/2cu6XWgN_normal.jpg', 'profile_image_url_https': 'https://pbs.twimg.com/profile_images/1442895609766113282/2cu6XWgN_normal.jpg', 'profile_banner_url': 'https://pbs.twimg.com/profile_banners/2393458968/1632339296', 'profile_link_color': '1DA1F2', 'profile_sidebar_border_color': 'C0DEED', 'profile_sidebar_fill_color': 'DDEEF6', 'profile_text_color': '333333', 'profile_use_background_image': True, 'has_extended_profile': False, 'default_profile': True, 'default_profile_image': False, 'following': False, 'follow_request_sent': False, 'notifications': False, 'translator_type': 'none', 'withheld_in_countries': []}, 'geo': None, 'coordinates': None, 'place': None, 'contributors': None, 'is_quote_status': False, 'retweet_count': 1, 'favorite_count': 2, 'favorited': False, 'retweeted': False, 'possibly_sensitive': False, 'possibly_sensitive_appealable': False, 'lang': 'en'}, created_at=datetime.datetime(2022, 1, 7, 5, 35, 21), id=1479325764373782529, id_str='1479325764373782529', text='How does a model have reliable features for \"democratic backsliding\" or \"social trust?\" A veneer of data science si… https://t.co/Phrjmi86oJ', truncated=True, entities={'hashtags': [], 'symbols': [], 'user_mentions': [], 'urls': [{'url': 'https://t.co/Phrjmi86oJ', 'expanded_url': 'https://twitter.com/i/web/status/1479325764373782529', 'display_url': 'twitter.com/i/web/status/1…', 'indices': [117, 140]}]}, source='Twitter for Android', source_url='http://twitter.com/download/android', in_reply_to_status_id=1479325751585345536, in_reply_to_status_id_str='1479325751585345536', in_reply_to_user_id=2393458968, in_reply_to_user_id_str='2393458968', in_reply_to_screen_name='markhansontoo', author=User(_api=<tweepy.api.API object at 0x1492f6a10>, _json={'id': 2393458968, 'id_str': '2393458968', 'name': 'Mark Hanson', 'screen_name': 'markhansontoo', 'location': '', 'description': 'PM @Twitter Health. Fmr Policy @Facebook, Cyber & crypto guy @USTreasury, other #natsec work. Social media, #disinfo, and #cyber thoughts. Views my own. #AAPI', 'url': None, 'entities': {'description': {'urls': []}}, 'protected': False, 'followers_count': 180, 'friends_count': 657, 'listed_count': 3, 'created_at': 'Mon Mar 17 00:18:04 +0000 2014', 'favourites_count': 510, 'utc_offset': None, 'time_zone': None, 'geo_enabled': False, 'verified': False, 'statuses_count': 144, 'lang': None, 'contributors_enabled': False, 'is_translator': False, 'is_translation_enabled': False, 'profile_background_color': 'C0DEED', 'profile_background_image_url': 'http://abs.twimg.com/images/themes/theme1/bg.png', 'profile_background_image_url_https': 'https://abs.twimg.com/images/themes/theme1/bg.png', 'profile_background_tile': False, 'profile_image_url': 'http://pbs.twimg.com/profile_images/1442895609766113282/2cu6XWgN_normal.jpg', 'profile_image_url_https': 'https://pbs.twimg.com/profile_images/1442895609766113282/2cu6XWgN_normal.jpg', 'profile_banner_url': 'https://pbs.twimg.com/profile_banners/2393458968/1632339296', 'profile_link_color': '1DA1F2', 'profile_sidebar_border_color': 'C0DEED', 'profile_sidebar_fill_color': 'DDEEF6', 'profile_text_color': '333333', 'profile_use_background_image': True, 'has_extended_profile': False, 'default_profile': True, 'default_profile_image': False, 'following': False, 'follow_request_sent': False, 'notifications': False, 'translator_type': 'none', 'withheld_in_countries': []}, id=2393458968, id_str='2393458968', name='Mark Hanson', screen_name='markhansontoo', location='', description='PM @Twitter Health. Fmr Policy @Facebook, Cyber & crypto guy @USTreasury, other #natsec work. Social media, #disinfo, and #cyber thoughts. Views my own. #AAPI', url=None, entities={'description': {'urls': []}}, protected=False, followers_count=180, friends_count=657, listed_count=3, created_at=datetime.datetime(2014, 3, 17, 0, 18, 4), favourites_count=510, utc_offset=None, time_zone=None, geo_enabled=False, verified=False, statuses_count=144, lang=None, contributors_enabled=False, is_translator=False, is_translation_enabled=False, profile_background_color='C0DEED', profile_background_image_url='http://abs.twimg.com/images/themes/theme1/bg.png', profile_background_image_url_https='https://abs.twimg.com/images/themes/theme1/bg.png', profile_background_tile=False, profile_image_url='http://pbs.twimg.com/profile_images/1442895609766113282/2cu6XWgN_normal.jpg', profile_image_url_https='https://pbs.twimg.com/profile_images/1442895609766113282/2cu6XWgN_normal.jpg', profile_banner_url='https://pbs.twimg.com/profile_banners/2393458968/1632339296', profile_link_color='1DA1F2', profile_sidebar_border_color='C0DEED', profile_sidebar_fill_color='DDEEF6', profile_text_color='333333', profile_use_background_image=True, has_extended_profile=False, default_profile=True, default_profile_image=False, following=False, follow_request_sent=False, notifications=False, translator_type='none', withheld_in_countries=[]), user=User(_api=<tweepy.api.API object at 0x1492f6a10>, _json={'id': 2393458968, 'id_str': '2393458968', 'name': 'Mark Hanson', 'screen_name': 'markhansontoo', 'location': '', 'description': 'PM @Twitter Health. Fmr Policy @Facebook, Cyber & crypto guy @USTreasury, other #natsec work. Social media, #disinfo, and #cyber thoughts. Views my own. #AAPI', 'url': None, 'entities': {'description': {'urls': []}}, 'protected': False, 'followers_count': 180, 'friends_count': 657, 'listed_count': 3, 'created_at': 'Mon Mar 17 00:18:04 +0000 2014', 'favourites_count': 510, 'utc_offset': None, 'time_zone': None, 'geo_enabled': False, 'verified': False, 'statuses_count': 144, 'lang': None, 'contributors_enabled': False, 'is_translator': False, 'is_translation_enabled': False, 'profile_background_color': 'C0DEED', 'profile_background_image_url': 'http://abs.twimg.com/images/themes/theme1/bg.png', 'profile_background_image_url_https': 'https://abs.twimg.com/images/themes/theme1/bg.png', 'profile_background_tile': False, 'profile_image_url': 'http://pbs.twimg.com/profile_images/1442895609766113282/2cu6XWgN_normal.jpg', 'profile_image_url_https': 'https://pbs.twimg.com/profile_images/1442895609766113282/2cu6XWgN_normal.jpg', 'profile_banner_url': 'https://pbs.twimg.com/profile_banners/2393458968/1632339296', 'profile_link_color': '1DA1F2', 'profile_sidebar_border_color': 'C0DEED', 'profile_sidebar_fill_color': 'DDEEF6', 'profile_text_color': '333333', 'profile_use_background_image': True, 'has_extended_profile': False, 'default_profile': True, 'default_profile_image': False, 'following': False, 'follow_request_sent': False, 'notifications': False, 'translator_type': 'none', 'withheld_in_countries': []}, id=2393458968, id_str='2393458968', name='Mark Hanson', screen_name='markhansontoo', location='', description='PM @Twitter Health. Fmr Policy @Facebook, Cyber & crypto guy @USTreasury, other #natsec work. Social media, #disinfo, and #cyber thoughts. Views my own. #AAPI', url=None, entities={'description': {'urls': []}}, protected=False, followers_count=180, friends_count=657, listed_count=3, created_at=datetime.datetime(2014, 3, 17, 0, 18, 4), favourites_count=510, utc_offset=None, time_zone=None, geo_enabled=False, verified=False, statuses_count=144, lang=None, contributors_enabled=False, is_translator=False, is_translation_enabled=False, profile_background_color='C0DEED', profile_background_image_url='http://abs.twimg.com/images/themes/theme1/bg.png', profile_background_image_url_https='https://abs.twimg.com/images/themes/theme1/bg.png', profile_background_tile=False, profile_image_url='http://pbs.twimg.com/profile_images/1442895609766113282/2cu6XWgN_normal.jpg', profile_image_url_https='https://pbs.twimg.com/profile_images/1442895609766113282/2cu6XWgN_normal.jpg', profile_banner_url='https://pbs.twimg.com/profile_banners/2393458968/1632339296', profile_link_color='1DA1F2', profile_sidebar_border_color='C0DEED', profile_sidebar_fill_color='DDEEF6', profile_text_color='333333', profile_use_background_image=True, has_extended_profile=False, default_profile=True, default_profile_image=False, following=False, follow_request_sent=False, notifications=False, translator_type='none', withheld_in_countries=[]), geo=None, coordinates=None, place=None, contributors=None, is_quote_status=False, retweet_count=1, favorite_count=2, favorited=False, retweeted=False, possibly_sensitive=False, possibly_sensitive_appealable=False, lang='en'), is_quote_status=False, retweet_count=1, favorite_count=0, favorited=False, retweeted=False, lang='en')"
      ]
     },
     "execution_count": 11,
     "metadata": {},
     "output_type": "execute_result"
    }
   ],
   "source": [
    "tweet\n"
   ]
  },
  {
   "cell_type": "markdown",
   "id": "9a89d360",
   "metadata": {},
   "source": [
    "Each tweet is equipped with a wealth of data, all of which is explained in the [Tweet schema page from Twitter](https://developer.twitter.com/en/docs/twitter-api/data-dictionary/object-model/tweet)"
   ]
  },
  {
   "cell_type": "markdown",
   "id": "a359c2db",
   "metadata": {},
   "source": [
    "Here are ways to access some of the relevant in a tweet."
   ]
  },
  {
   "cell_type": "code",
   "execution_count": 12,
   "id": "7d66f6f2",
   "metadata": {},
   "outputs": [
    {
     "data": {
      "text/plain": [
       "'RT @markhansontoo: How does a model have reliable features for \"democratic backsliding\" or \"social trust?\" A veneer of data science sitting…'"
      ]
     },
     "execution_count": 12,
     "metadata": {},
     "output_type": "execute_result"
    }
   ],
   "source": [
    "#Text\n",
    "tweet.text"
   ]
  },
  {
   "cell_type": "code",
   "execution_count": 18,
   "id": "55760524",
   "metadata": {},
   "outputs": [
    {
     "data": {
      "text/plain": [
       "(1, 0)"
      ]
     },
     "execution_count": 18,
     "metadata": {},
     "output_type": "execute_result"
    }
   ],
   "source": [
    "#number of retweets and likes\n",
    "tweet.retweet_count, tweet.favorite_count"
   ]
  },
  {
   "cell_type": "code",
   "execution_count": 21,
   "id": "a995d06f",
   "metadata": {},
   "outputs": [
    {
     "data": {
      "text/plain": [
       "datetime.datetime(2022, 1, 7, 6, 7, 32)"
      ]
     },
     "execution_count": 21,
     "metadata": {},
     "output_type": "execute_result"
    }
   ],
   "source": [
    "#Time created (GMT)\n",
    "tweet.created_at"
   ]
  },
  {
   "cell_type": "code",
   "execution_count": 15,
   "id": "fed0bb91",
   "metadata": {},
   "outputs": [
    {
     "data": {
      "text/plain": [
       "'raymserrato'"
      ]
     },
     "execution_count": 15,
     "metadata": {},
     "output_type": "execute_result"
    }
   ],
   "source": [
    "#user_name\n",
    "tweet.user.screen_name"
   ]
  },
  {
   "cell_type": "code",
   "execution_count": 22,
   "id": "c70f89c5",
   "metadata": {},
   "outputs": [
    {
     "name": "stdout",
     "output_type": "stream",
     "text": [
      "The user who made this tweet is @raymserrato, has 2777 number of followers, and is from Los Angeles\n"
     ]
    }
   ],
   "source": [
    "#user information\n",
    "\n",
    "handle = tweet.user.screen_name\n",
    "follower_count = tweet.user.followers_count\n",
    "location = tweet.user.location\n",
    "\n",
    "print(f\"The user who made this tweet is @{handle}, has {follower_count} number of followers, and is from {location}\")"
   ]
  },
  {
   "cell_type": "code",
   "execution_count": null,
   "id": "876eaa01",
   "metadata": {},
   "outputs": [],
   "source": []
  },
  {
   "cell_type": "markdown",
   "id": "8aeff1ff",
   "metadata": {},
   "source": [
    "#### Pulling tweets from a specific user."
   ]
  },
  {
   "cell_type": "markdown",
   "id": "287d8154",
   "metadata": {},
   "source": [
    "Download tweets from a specific user."
   ]
  },
  {
   "cell_type": "code",
   "execution_count": 32,
   "id": "7e99645f",
   "metadata": {},
   "outputs": [],
   "source": [
    "#Access the tweets of ESPN Basketball report Adrian Wojnarowski \n",
    "#Specify you want to download 300 of the most recent tweets\n",
    "woj_tweets = api.user_timeline(\"wojespn\", count = 300, full_text = True)"
   ]
  },
  {
   "cell_type": "code",
   "execution_count": 33,
   "id": "7a74635a",
   "metadata": {},
   "outputs": [
    {
     "data": {
      "text/plain": [
       "200"
      ]
     },
     "execution_count": 33,
     "metadata": {},
     "output_type": "execute_result"
    }
   ],
   "source": [
    "len(woj_tweets)"
   ]
  },
  {
   "cell_type": "markdown",
   "id": "3b60c246",
   "metadata": {},
   "source": [
    "But wait?!! Why are there only 200 tweets when I asked for 300??\n",
    "\n",
    "That's because Twitter only let's you (specific your level of API access) to grab the 200 in a single call. But that doesn't mean we can't get more than those 200, in fact we can access up to 3200 of an user's most recent tweets."
   ]
  },
  {
   "cell_type": "markdown",
   "id": "b52a9535",
   "metadata": {},
   "source": [
    "So how do we do that? Using something called **pagination**."
   ]
  },
  {
   "cell_type": "code",
   "execution_count": 35,
   "id": "ad0b8369",
   "metadata": {},
   "outputs": [],
   "source": [
    "#Initialize a list to collect tweets\n",
    "woj_tweets = []"
   ]
  },
  {
   "cell_type": "code",
   "execution_count": 36,
   "id": "b04d3c50",
   "metadata": {},
   "outputs": [],
   "source": [
    "#Initialize a variable called max_id which we set to None for now.\n",
    "max_id = None"
   ]
  },
  {
   "cell_type": "markdown",
   "id": "6ba2b1b9",
   "metadata": {},
   "source": [
    "We need to use a while loop that keeps running until we've reached our limit of 3200 tweets.\n",
    "\n",
    "After each iteration of the while loop we set max_id to the id of the earliest tweet in the most recent batch of tweets pulled.\n",
    "\n",
    "Tweet id are essentially the number of total tweets ever tweeted at that moment. That means if an id is greater than another one it means it is later than it.\n",
    "\n",
    "We're using max_id to tell twitter to not pull tweets later than the tweet the max_id represents."
   ]
  },
  {
   "cell_type": "code",
   "execution_count": null,
   "id": "04b26450",
   "metadata": {},
   "outputs": [],
   "source": []
  },
  {
   "cell_type": "code",
   "execution_count": 37,
   "id": "f8c44c58",
   "metadata": {},
   "outputs": [],
   "source": [
    "#Start while loop\n",
    "while len(woj_tweets)<3200:\n",
    "    #Pull the 200 most recent tweets that occur before max_id.\n",
    "    tweets = api.user_timeline(\"wojespn\", count = 200, full_text = True, max_id = max_id)\n",
    "    #We use extend instead of append because we do not want nested lists.\n",
    "    woj_tweets.extend(tweets)\n",
    "    #Grab the id of the earlist tweet and re-assign max_id\n",
    "    max_id =  woj_tweets[-1].id"
   ]
  },
  {
   "cell_type": "code",
   "execution_count": 38,
   "id": "125cf263",
   "metadata": {},
   "outputs": [
    {
     "data": {
      "text/plain": [
       "3200"
      ]
     },
     "execution_count": 38,
     "metadata": {},
     "output_type": "execute_result"
    }
   ],
   "source": [
    "len(woj_tweets)"
   ]
  },
  {
   "cell_type": "markdown",
   "id": "fcb822d3",
   "metadata": {},
   "source": [
    "**We have 3200 tweets!!**"
   ]
  },
  {
   "cell_type": "code",
   "execution_count": null,
   "id": "e66ce42a",
   "metadata": {},
   "outputs": [],
   "source": []
  },
  {
   "cell_type": "markdown",
   "id": "93be6112",
   "metadata": {},
   "source": [
    "### Twitter Search (Need to fix the cursor pagination issue)"
   ]
  },
  {
   "cell_type": "markdown",
   "id": "a8010a07",
   "metadata": {},
   "source": [
    "To pull pass tweets, we need to use the `Cursor` object which providers a iterator that we can loop over to access data.\n",
    "\n",
    "Here are the parameters we'll be using.\n",
    "\n",
    "`method`: Here we pass in `api.search`.\n",
    "\n",
    "`q`: Takes in a list of search terms.\n",
    "\n",
    "`since`: Earliest time marker <--- Can only go back two weeks.\n",
    "\n",
    "`until`: Latest time marker.\n",
    "\n",
    "`wait_on_rate_limit`: If we reach a rate limit, tell the API to wait instead of break\n",
    "\n",
    "`wait_on_rate_limit_notifiy`: Notify us if the rate limit has been reached.\n",
    "\n",
    "`lang`: Pull english language tweets."
   ]
  },
  {
   "cell_type": "markdown",
   "id": "4902203f",
   "metadata": {},
   "source": [
    "`.items()`: Specify number of tweets to pull"
   ]
  },
  {
   "cell_type": "code",
   "execution_count": 50,
   "id": "c73f89ff",
   "metadata": {},
   "outputs": [],
   "source": [
    "#List of search terms\n",
    "terms = [\"climate change\", \"golden state warriors\"]\n",
    "\n",
    "#List to hold tweets\n",
    "tweets = []\n",
    "\n",
    "#Iterate over the cursor object \n",
    "for tweet in tweepy.Cursor(api.search, q=terms, \n",
    "                    #Update accordingly       \n",
    "                    since=\"2021-12-26\", \n",
    "                    until=\"2022-01-06\",\n",
    "                    wait_on_rate_limit=True,\n",
    "                    wait_on_rate_limit_notify=True,\n",
    "                    lang=\"en\").items(200): #200 is the max again\n",
    "    \n",
    "    #Append each tweet to tweets\n",
    "    tweets.append(tweet)"
   ]
  },
  {
   "cell_type": "code",
   "execution_count": 51,
   "id": "a382e038",
   "metadata": {},
   "outputs": [
    {
     "data": {
      "text/plain": [
       "0"
      ]
     },
     "execution_count": 51,
     "metadata": {},
     "output_type": "execute_result"
    }
   ],
   "source": [
    "len(tweets)"
   ]
  },
  {
   "cell_type": "markdown",
   "id": "301ecfef",
   "metadata": {},
   "source": [
    "200 tweets is a rather small number. We could use pagination like we did earlier or we can use the `.pages()` method."
   ]
  },
  {
   "cell_type": "markdown",
   "id": "4c343ba4",
   "metadata": {},
   "source": [
    "By using `.pages()` we get to pull a list of tweets in each iteration instead of a single one."
   ]
  },
  {
   "cell_type": "code",
   "execution_count": 54,
   "id": "b79e0834",
   "metadata": {},
   "outputs": [],
   "source": [
    "#Repeat earlier process but with .pages()\n",
    "\n",
    "#List of search terms\n",
    "terms = [\"climate change\", \"golden state warriors\"]\n",
    "\n",
    "#List to hold tweets\n",
    "tweets = []\n",
    "\n",
    "#Iterate over the cursor object \n",
    "for page in tweepy.Cursor(api.search, q=terms, \n",
    "                    #Update accordingly       \n",
    "                    since=\"2021-12-28\", \n",
    "                    until=\"2022-01-06\",\n",
    "                    wait_on_rate_limit=True,\n",
    "                    wait_on_rate_limit_notify=True,\n",
    "                    lang=\"en\").pages(10):\n",
    "    \n",
    "    #Extend instead of append because we're dealing with lists instead of a single tweet\n",
    "    tweets.extend(page)"
   ]
  },
  {
   "cell_type": "code",
   "execution_count": 55,
   "id": "d1603a99",
   "metadata": {},
   "outputs": [
    {
     "data": {
      "text/plain": [
       "0"
      ]
     },
     "execution_count": 55,
     "metadata": {},
     "output_type": "execute_result"
    }
   ],
   "source": [
    "len(tweets)"
   ]
  },
  {
   "cell_type": "code",
   "execution_count": null,
   "id": "0c52419a",
   "metadata": {},
   "outputs": [],
   "source": []
  },
  {
   "cell_type": "markdown",
   "id": "9b057161",
   "metadata": {},
   "source": [
    "## Streaming Tweets"
   ]
  },
  {
   "cell_type": "markdown",
   "id": "885971f6",
   "metadata": {},
   "source": [
    "**Dashboard Pulling and Analyzing Live Twitter Data**\n",
    "\n",
    "![a](https://user-images.githubusercontent.com/10981310/50736060-b46dd280-11c0-11e9-835c-b9e377071f08.PNG)\n"
   ]
  },
  {
   "cell_type": "code",
   "execution_count": null,
   "id": "f639f80d",
   "metadata": {},
   "outputs": [],
   "source": []
  },
  {
   "cell_type": "markdown",
   "id": "da46d630",
   "metadata": {},
   "source": [
    "Arguably the best part about [Twitter's API is access to the \"firehouse.\"](https://developer.twitter.com/en/docs/tutorials/consuming-streaming-data) We have the ability to pull hundreds of thousands, possibly millions of tweets as soon as they come in."
   ]
  },
  {
   "cell_type": "code",
   "execution_count": null,
   "id": "7c06163b",
   "metadata": {},
   "outputs": [],
   "source": []
  },
  {
   "cell_type": "markdown",
   "id": "a79f2071",
   "metadata": {},
   "source": [
    "Let's set up our streamer.\n",
    "\n",
    "We are going to create a class for our custom streamer that will inherit tweepy's `StreamListener`.\n",
    "\n",
    "We are essentially modifying tweepy's streamer tool so that we can code our preferred way of saving the data. In this case we are going to be saving each tweet to a json file."
   ]
  },
  {
   "cell_type": "code",
   "execution_count": 56,
   "id": "f41e70d8",
   "metadata": {
    "collapsed": true
   },
   "outputs": [
    {
     "ename": "KeyboardInterrupt",
     "evalue": "",
     "output_type": "error",
     "traceback": [
      "\u001b[0;31m---------------------------------------------------------------------------\u001b[0m",
      "\u001b[0;31mKeyboardInterrupt\u001b[0m                         Traceback (most recent call last)",
      "\u001b[0;32m<ipython-input-56-3516e0a15ac9>\u001b[0m in \u001b[0;36m<module>\u001b[0;34m\u001b[0m\n\u001b[1;32m     23\u001b[0m \u001b[0;34m\u001b[0m\u001b[0m\n\u001b[1;32m     24\u001b[0m \u001b[0;31m#Run the streamer with your desired search terms\u001b[0m\u001b[0;34m\u001b[0m\u001b[0;34m\u001b[0m\u001b[0;34m\u001b[0m\u001b[0m\n\u001b[0;32m---> 25\u001b[0;31m \u001b[0mtwitter_stream\u001b[0m\u001b[0;34m.\u001b[0m\u001b[0mfilter\u001b[0m\u001b[0;34m(\u001b[0m\u001b[0mtrack\u001b[0m\u001b[0;34m=\u001b[0m\u001b[0;34m[\u001b[0m\u001b[0;34m'omicron'\u001b[0m\u001b[0;34m]\u001b[0m\u001b[0;34m)\u001b[0m\u001b[0;34m\u001b[0m\u001b[0;34m\u001b[0m\u001b[0m\n\u001b[0m",
      "\u001b[0;32m/usr/local/lib/python3.7/site-packages/tweepy/streaming.py\u001b[0m in \u001b[0;36mfilter\u001b[0;34m(self, follow, track, is_async, locations, stall_warnings, languages, encoding, filter_level)\u001b[0m\n\u001b[1;32m    472\u001b[0m             \u001b[0mself\u001b[0m\u001b[0;34m.\u001b[0m\u001b[0mbody\u001b[0m\u001b[0;34m[\u001b[0m\u001b[0;34m'filter_level'\u001b[0m\u001b[0;34m]\u001b[0m \u001b[0;34m=\u001b[0m \u001b[0mfilter_level\u001b[0m\u001b[0;34m.\u001b[0m\u001b[0mencode\u001b[0m\u001b[0;34m(\u001b[0m\u001b[0mencoding\u001b[0m\u001b[0;34m)\u001b[0m\u001b[0;34m\u001b[0m\u001b[0;34m\u001b[0m\u001b[0m\n\u001b[1;32m    473\u001b[0m         \u001b[0mself\u001b[0m\u001b[0;34m.\u001b[0m\u001b[0msession\u001b[0m\u001b[0;34m.\u001b[0m\u001b[0mparams\u001b[0m \u001b[0;34m=\u001b[0m \u001b[0;34m{\u001b[0m\u001b[0;34m'delimited'\u001b[0m\u001b[0;34m:\u001b[0m \u001b[0;34m'length'\u001b[0m\u001b[0;34m}\u001b[0m\u001b[0;34m\u001b[0m\u001b[0;34m\u001b[0m\u001b[0m\n\u001b[0;32m--> 474\u001b[0;31m         \u001b[0mself\u001b[0m\u001b[0;34m.\u001b[0m\u001b[0m_start\u001b[0m\u001b[0;34m(\u001b[0m\u001b[0mis_async\u001b[0m\u001b[0;34m)\u001b[0m\u001b[0;34m\u001b[0m\u001b[0;34m\u001b[0m\u001b[0m\n\u001b[0m\u001b[1;32m    475\u001b[0m \u001b[0;34m\u001b[0m\u001b[0m\n\u001b[1;32m    476\u001b[0m     def sitestream(self, follow, stall_warnings=False,\n",
      "\u001b[0;32m/usr/local/lib/python3.7/site-packages/tweepy/streaming.py\u001b[0m in \u001b[0;36m_start\u001b[0;34m(self, is_async)\u001b[0m\n\u001b[1;32m    387\u001b[0m             \u001b[0mself\u001b[0m\u001b[0;34m.\u001b[0m\u001b[0m_thread\u001b[0m\u001b[0;34m.\u001b[0m\u001b[0mstart\u001b[0m\u001b[0;34m(\u001b[0m\u001b[0;34m)\u001b[0m\u001b[0;34m\u001b[0m\u001b[0;34m\u001b[0m\u001b[0m\n\u001b[1;32m    388\u001b[0m         \u001b[0;32melse\u001b[0m\u001b[0;34m:\u001b[0m\u001b[0;34m\u001b[0m\u001b[0;34m\u001b[0m\u001b[0m\n\u001b[0;32m--> 389\u001b[0;31m             \u001b[0mself\u001b[0m\u001b[0;34m.\u001b[0m\u001b[0m_run\u001b[0m\u001b[0;34m(\u001b[0m\u001b[0;34m)\u001b[0m\u001b[0;34m\u001b[0m\u001b[0;34m\u001b[0m\u001b[0m\n\u001b[0m\u001b[1;32m    390\u001b[0m \u001b[0;34m\u001b[0m\u001b[0m\n\u001b[1;32m    391\u001b[0m     \u001b[0;32mdef\u001b[0m \u001b[0mon_closed\u001b[0m\u001b[0;34m(\u001b[0m\u001b[0mself\u001b[0m\u001b[0;34m,\u001b[0m \u001b[0mresp\u001b[0m\u001b[0;34m)\u001b[0m\u001b[0;34m:\u001b[0m\u001b[0;34m\u001b[0m\u001b[0;34m\u001b[0m\u001b[0m\n",
      "\u001b[0;32m/usr/local/lib/python3.7/site-packages/tweepy/streaming.py\u001b[0m in \u001b[0;36m_run\u001b[0;34m(self)\u001b[0m\n\u001b[1;32m    287\u001b[0m                     \u001b[0mself\u001b[0m\u001b[0;34m.\u001b[0m\u001b[0msnooze_time\u001b[0m \u001b[0;34m=\u001b[0m \u001b[0mself\u001b[0m\u001b[0;34m.\u001b[0m\u001b[0msnooze_time_step\u001b[0m\u001b[0;34m\u001b[0m\u001b[0;34m\u001b[0m\u001b[0m\n\u001b[1;32m    288\u001b[0m                     \u001b[0mself\u001b[0m\u001b[0;34m.\u001b[0m\u001b[0mlistener\u001b[0m\u001b[0;34m.\u001b[0m\u001b[0mon_connect\u001b[0m\u001b[0;34m(\u001b[0m\u001b[0;34m)\u001b[0m\u001b[0;34m\u001b[0m\u001b[0;34m\u001b[0m\u001b[0m\n\u001b[0;32m--> 289\u001b[0;31m                     \u001b[0mself\u001b[0m\u001b[0;34m.\u001b[0m\u001b[0m_read_loop\u001b[0m\u001b[0;34m(\u001b[0m\u001b[0mresp\u001b[0m\u001b[0;34m)\u001b[0m\u001b[0;34m\u001b[0m\u001b[0;34m\u001b[0m\u001b[0m\n\u001b[0m\u001b[1;32m    290\u001b[0m             \u001b[0;32mexcept\u001b[0m \u001b[0;34m(\u001b[0m\u001b[0mTimeout\u001b[0m\u001b[0;34m,\u001b[0m \u001b[0mssl\u001b[0m\u001b[0;34m.\u001b[0m\u001b[0mSSLError\u001b[0m\u001b[0;34m)\u001b[0m \u001b[0;32mas\u001b[0m \u001b[0mexc\u001b[0m\u001b[0;34m:\u001b[0m\u001b[0;34m\u001b[0m\u001b[0;34m\u001b[0m\u001b[0m\n\u001b[1;32m    291\u001b[0m                 \u001b[0;31m# This is still necessary, as a SSLError can actually be\u001b[0m\u001b[0;34m\u001b[0m\u001b[0;34m\u001b[0m\u001b[0;34m\u001b[0m\u001b[0m\n",
      "\u001b[0;32m/usr/local/lib/python3.7/site-packages/tweepy/streaming.py\u001b[0m in \u001b[0;36m_read_loop\u001b[0;34m(self, resp)\u001b[0m\n\u001b[1;32m    337\u001b[0m             \u001b[0mlength\u001b[0m \u001b[0;34m=\u001b[0m \u001b[0;36m0\u001b[0m\u001b[0;34m\u001b[0m\u001b[0;34m\u001b[0m\u001b[0m\n\u001b[1;32m    338\u001b[0m             \u001b[0;32mwhile\u001b[0m \u001b[0;32mnot\u001b[0m \u001b[0mresp\u001b[0m\u001b[0;34m.\u001b[0m\u001b[0mraw\u001b[0m\u001b[0;34m.\u001b[0m\u001b[0mclosed\u001b[0m\u001b[0;34m:\u001b[0m\u001b[0;34m\u001b[0m\u001b[0;34m\u001b[0m\u001b[0m\n\u001b[0;32m--> 339\u001b[0;31m                 \u001b[0mline\u001b[0m \u001b[0;34m=\u001b[0m \u001b[0mbuf\u001b[0m\u001b[0;34m.\u001b[0m\u001b[0mread_line\u001b[0m\u001b[0;34m(\u001b[0m\u001b[0;34m)\u001b[0m\u001b[0;34m\u001b[0m\u001b[0;34m\u001b[0m\u001b[0m\n\u001b[0m\u001b[1;32m    340\u001b[0m                 \u001b[0mstripped_line\u001b[0m \u001b[0;34m=\u001b[0m \u001b[0mline\u001b[0m\u001b[0;34m.\u001b[0m\u001b[0mstrip\u001b[0m\u001b[0;34m(\u001b[0m\u001b[0;34m)\u001b[0m \u001b[0;32mif\u001b[0m \u001b[0mline\u001b[0m \u001b[0;32melse\u001b[0m \u001b[0mline\u001b[0m \u001b[0;31m# line is sometimes None so we need to check here\u001b[0m\u001b[0;34m\u001b[0m\u001b[0;34m\u001b[0m\u001b[0m\n\u001b[1;32m    341\u001b[0m                 \u001b[0;32mif\u001b[0m \u001b[0;32mnot\u001b[0m \u001b[0mstripped_line\u001b[0m\u001b[0;34m:\u001b[0m\u001b[0;34m\u001b[0m\u001b[0;34m\u001b[0m\u001b[0m\n",
      "\u001b[0;32m/usr/local/lib/python3.7/site-packages/tweepy/streaming.py\u001b[0m in \u001b[0;36mread_line\u001b[0;34m(self, sep)\u001b[0m\n\u001b[1;32m    198\u001b[0m             \u001b[0;32melse\u001b[0m\u001b[0;34m:\u001b[0m\u001b[0;34m\u001b[0m\u001b[0;34m\u001b[0m\u001b[0m\n\u001b[1;32m    199\u001b[0m                 \u001b[0mstart\u001b[0m \u001b[0;34m=\u001b[0m \u001b[0mlen\u001b[0m\u001b[0;34m(\u001b[0m\u001b[0mself\u001b[0m\u001b[0;34m.\u001b[0m\u001b[0m_buffer\u001b[0m\u001b[0;34m)\u001b[0m\u001b[0;34m\u001b[0m\u001b[0;34m\u001b[0m\u001b[0m\n\u001b[0;32m--> 200\u001b[0;31m             \u001b[0mself\u001b[0m\u001b[0;34m.\u001b[0m\u001b[0m_buffer\u001b[0m \u001b[0;34m+=\u001b[0m \u001b[0mself\u001b[0m\u001b[0;34m.\u001b[0m\u001b[0m_stream\u001b[0m\u001b[0;34m.\u001b[0m\u001b[0mread\u001b[0m\u001b[0;34m(\u001b[0m\u001b[0mself\u001b[0m\u001b[0;34m.\u001b[0m\u001b[0m_chunk_size\u001b[0m\u001b[0;34m)\u001b[0m\u001b[0;34m\u001b[0m\u001b[0;34m\u001b[0m\u001b[0m\n\u001b[0m\u001b[1;32m    201\u001b[0m         \u001b[0;32mreturn\u001b[0m \u001b[0msix\u001b[0m\u001b[0;34m.\u001b[0m\u001b[0mb\u001b[0m\u001b[0;34m(\u001b[0m\u001b[0;34m''\u001b[0m\u001b[0;34m)\u001b[0m\u001b[0;34m\u001b[0m\u001b[0;34m\u001b[0m\u001b[0m\n\u001b[1;32m    202\u001b[0m \u001b[0;34m\u001b[0m\u001b[0m\n",
      "\u001b[0;32m/usr/local/lib/python3.7/site-packages/urllib3/response.py\u001b[0m in \u001b[0;36mread\u001b[0;34m(self, amt, decode_content, cache_content)\u001b[0m\n\u001b[1;32m    516\u001b[0m             \u001b[0;32melse\u001b[0m\u001b[0;34m:\u001b[0m\u001b[0;34m\u001b[0m\u001b[0;34m\u001b[0m\u001b[0m\n\u001b[1;32m    517\u001b[0m                 \u001b[0mcache_content\u001b[0m \u001b[0;34m=\u001b[0m \u001b[0;32mFalse\u001b[0m\u001b[0;34m\u001b[0m\u001b[0;34m\u001b[0m\u001b[0m\n\u001b[0;32m--> 518\u001b[0;31m                 \u001b[0mdata\u001b[0m \u001b[0;34m=\u001b[0m \u001b[0mself\u001b[0m\u001b[0;34m.\u001b[0m\u001b[0m_fp\u001b[0m\u001b[0;34m.\u001b[0m\u001b[0mread\u001b[0m\u001b[0;34m(\u001b[0m\u001b[0mamt\u001b[0m\u001b[0;34m)\u001b[0m \u001b[0;32mif\u001b[0m \u001b[0;32mnot\u001b[0m \u001b[0mfp_closed\u001b[0m \u001b[0;32melse\u001b[0m \u001b[0;34mb\"\"\u001b[0m\u001b[0;34m\u001b[0m\u001b[0;34m\u001b[0m\u001b[0m\n\u001b[0m\u001b[1;32m    519\u001b[0m                 if (\n\u001b[1;32m    520\u001b[0m                     \u001b[0mamt\u001b[0m \u001b[0;34m!=\u001b[0m \u001b[0;36m0\u001b[0m \u001b[0;32mand\u001b[0m \u001b[0;32mnot\u001b[0m \u001b[0mdata\u001b[0m\u001b[0;34m\u001b[0m\u001b[0;34m\u001b[0m\u001b[0m\n",
      "\u001b[0;32m/usr/local/Cellar/python/3.7.7/Frameworks/Python.framework/Versions/3.7/lib/python3.7/http/client.py\u001b[0m in \u001b[0;36mread\u001b[0;34m(self, amt)\u001b[0m\n\u001b[1;32m    455\u001b[0m             \u001b[0;31m# Amount is given, implement using readinto\u001b[0m\u001b[0;34m\u001b[0m\u001b[0;34m\u001b[0m\u001b[0;34m\u001b[0m\u001b[0m\n\u001b[1;32m    456\u001b[0m             \u001b[0mb\u001b[0m \u001b[0;34m=\u001b[0m \u001b[0mbytearray\u001b[0m\u001b[0;34m(\u001b[0m\u001b[0mamt\u001b[0m\u001b[0;34m)\u001b[0m\u001b[0;34m\u001b[0m\u001b[0;34m\u001b[0m\u001b[0m\n\u001b[0;32m--> 457\u001b[0;31m             \u001b[0mn\u001b[0m \u001b[0;34m=\u001b[0m \u001b[0mself\u001b[0m\u001b[0;34m.\u001b[0m\u001b[0mreadinto\u001b[0m\u001b[0;34m(\u001b[0m\u001b[0mb\u001b[0m\u001b[0;34m)\u001b[0m\u001b[0;34m\u001b[0m\u001b[0;34m\u001b[0m\u001b[0m\n\u001b[0m\u001b[1;32m    458\u001b[0m             \u001b[0;32mreturn\u001b[0m \u001b[0mmemoryview\u001b[0m\u001b[0;34m(\u001b[0m\u001b[0mb\u001b[0m\u001b[0;34m)\u001b[0m\u001b[0;34m[\u001b[0m\u001b[0;34m:\u001b[0m\u001b[0mn\u001b[0m\u001b[0;34m]\u001b[0m\u001b[0;34m.\u001b[0m\u001b[0mtobytes\u001b[0m\u001b[0;34m(\u001b[0m\u001b[0;34m)\u001b[0m\u001b[0;34m\u001b[0m\u001b[0;34m\u001b[0m\u001b[0m\n\u001b[1;32m    459\u001b[0m         \u001b[0;32melse\u001b[0m\u001b[0;34m:\u001b[0m\u001b[0;34m\u001b[0m\u001b[0;34m\u001b[0m\u001b[0m\n",
      "\u001b[0;32m/usr/local/Cellar/python/3.7.7/Frameworks/Python.framework/Versions/3.7/lib/python3.7/http/client.py\u001b[0m in \u001b[0;36mreadinto\u001b[0;34m(self, b)\u001b[0m\n\u001b[1;32m    489\u001b[0m \u001b[0;34m\u001b[0m\u001b[0m\n\u001b[1;32m    490\u001b[0m         \u001b[0;32mif\u001b[0m \u001b[0mself\u001b[0m\u001b[0;34m.\u001b[0m\u001b[0mchunked\u001b[0m\u001b[0;34m:\u001b[0m\u001b[0;34m\u001b[0m\u001b[0;34m\u001b[0m\u001b[0m\n\u001b[0;32m--> 491\u001b[0;31m             \u001b[0;32mreturn\u001b[0m \u001b[0mself\u001b[0m\u001b[0;34m.\u001b[0m\u001b[0m_readinto_chunked\u001b[0m\u001b[0;34m(\u001b[0m\u001b[0mb\u001b[0m\u001b[0;34m)\u001b[0m\u001b[0;34m\u001b[0m\u001b[0;34m\u001b[0m\u001b[0m\n\u001b[0m\u001b[1;32m    492\u001b[0m \u001b[0;34m\u001b[0m\u001b[0m\n\u001b[1;32m    493\u001b[0m         \u001b[0;32mif\u001b[0m \u001b[0mself\u001b[0m\u001b[0;34m.\u001b[0m\u001b[0mlength\u001b[0m \u001b[0;32mis\u001b[0m \u001b[0;32mnot\u001b[0m \u001b[0;32mNone\u001b[0m\u001b[0;34m:\u001b[0m\u001b[0;34m\u001b[0m\u001b[0;34m\u001b[0m\u001b[0m\n",
      "\u001b[0;32m/usr/local/Cellar/python/3.7.7/Frameworks/Python.framework/Versions/3.7/lib/python3.7/http/client.py\u001b[0m in \u001b[0;36m_readinto_chunked\u001b[0;34m(self, b)\u001b[0m\n\u001b[1;32m    584\u001b[0m         \u001b[0;32mtry\u001b[0m\u001b[0;34m:\u001b[0m\u001b[0;34m\u001b[0m\u001b[0;34m\u001b[0m\u001b[0m\n\u001b[1;32m    585\u001b[0m             \u001b[0;32mwhile\u001b[0m \u001b[0;32mTrue\u001b[0m\u001b[0;34m:\u001b[0m\u001b[0;34m\u001b[0m\u001b[0;34m\u001b[0m\u001b[0m\n\u001b[0;32m--> 586\u001b[0;31m                 \u001b[0mchunk_left\u001b[0m \u001b[0;34m=\u001b[0m \u001b[0mself\u001b[0m\u001b[0;34m.\u001b[0m\u001b[0m_get_chunk_left\u001b[0m\u001b[0;34m(\u001b[0m\u001b[0;34m)\u001b[0m\u001b[0;34m\u001b[0m\u001b[0;34m\u001b[0m\u001b[0m\n\u001b[0m\u001b[1;32m    587\u001b[0m                 \u001b[0;32mif\u001b[0m \u001b[0mchunk_left\u001b[0m \u001b[0;32mis\u001b[0m \u001b[0;32mNone\u001b[0m\u001b[0;34m:\u001b[0m\u001b[0;34m\u001b[0m\u001b[0;34m\u001b[0m\u001b[0m\n\u001b[1;32m    588\u001b[0m                     \u001b[0;32mreturn\u001b[0m \u001b[0mtotal_bytes\u001b[0m\u001b[0;34m\u001b[0m\u001b[0;34m\u001b[0m\u001b[0m\n",
      "\u001b[0;32m/usr/local/Cellar/python/3.7.7/Frameworks/Python.framework/Versions/3.7/lib/python3.7/http/client.py\u001b[0m in \u001b[0;36m_get_chunk_left\u001b[0;34m(self)\u001b[0m\n\u001b[1;32m    552\u001b[0m                 \u001b[0mself\u001b[0m\u001b[0;34m.\u001b[0m\u001b[0m_safe_read\u001b[0m\u001b[0;34m(\u001b[0m\u001b[0;36m2\u001b[0m\u001b[0;34m)\u001b[0m  \u001b[0;31m# toss the CRLF at the end of the chunk\u001b[0m\u001b[0;34m\u001b[0m\u001b[0;34m\u001b[0m\u001b[0m\n\u001b[1;32m    553\u001b[0m             \u001b[0;32mtry\u001b[0m\u001b[0;34m:\u001b[0m\u001b[0;34m\u001b[0m\u001b[0;34m\u001b[0m\u001b[0m\n\u001b[0;32m--> 554\u001b[0;31m                 \u001b[0mchunk_left\u001b[0m \u001b[0;34m=\u001b[0m \u001b[0mself\u001b[0m\u001b[0;34m.\u001b[0m\u001b[0m_read_next_chunk_size\u001b[0m\u001b[0;34m(\u001b[0m\u001b[0;34m)\u001b[0m\u001b[0;34m\u001b[0m\u001b[0;34m\u001b[0m\u001b[0m\n\u001b[0m\u001b[1;32m    555\u001b[0m             \u001b[0;32mexcept\u001b[0m \u001b[0mValueError\u001b[0m\u001b[0;34m:\u001b[0m\u001b[0;34m\u001b[0m\u001b[0;34m\u001b[0m\u001b[0m\n\u001b[1;32m    556\u001b[0m                 \u001b[0;32mraise\u001b[0m \u001b[0mIncompleteRead\u001b[0m\u001b[0;34m(\u001b[0m\u001b[0;34mb''\u001b[0m\u001b[0;34m)\u001b[0m\u001b[0;34m\u001b[0m\u001b[0;34m\u001b[0m\u001b[0m\n",
      "\u001b[0;32m/usr/local/Cellar/python/3.7.7/Frameworks/Python.framework/Versions/3.7/lib/python3.7/http/client.py\u001b[0m in \u001b[0;36m_read_next_chunk_size\u001b[0;34m(self)\u001b[0m\n\u001b[1;32m    512\u001b[0m     \u001b[0;32mdef\u001b[0m \u001b[0m_read_next_chunk_size\u001b[0m\u001b[0;34m(\u001b[0m\u001b[0mself\u001b[0m\u001b[0;34m)\u001b[0m\u001b[0;34m:\u001b[0m\u001b[0;34m\u001b[0m\u001b[0;34m\u001b[0m\u001b[0m\n\u001b[1;32m    513\u001b[0m         \u001b[0;31m# Read the next chunk size from the file\u001b[0m\u001b[0;34m\u001b[0m\u001b[0;34m\u001b[0m\u001b[0;34m\u001b[0m\u001b[0m\n\u001b[0;32m--> 514\u001b[0;31m         \u001b[0mline\u001b[0m \u001b[0;34m=\u001b[0m \u001b[0mself\u001b[0m\u001b[0;34m.\u001b[0m\u001b[0mfp\u001b[0m\u001b[0;34m.\u001b[0m\u001b[0mreadline\u001b[0m\u001b[0;34m(\u001b[0m\u001b[0m_MAXLINE\u001b[0m \u001b[0;34m+\u001b[0m \u001b[0;36m1\u001b[0m\u001b[0;34m)\u001b[0m\u001b[0;34m\u001b[0m\u001b[0;34m\u001b[0m\u001b[0m\n\u001b[0m\u001b[1;32m    515\u001b[0m         \u001b[0;32mif\u001b[0m \u001b[0mlen\u001b[0m\u001b[0;34m(\u001b[0m\u001b[0mline\u001b[0m\u001b[0;34m)\u001b[0m \u001b[0;34m>\u001b[0m \u001b[0m_MAXLINE\u001b[0m\u001b[0;34m:\u001b[0m\u001b[0;34m\u001b[0m\u001b[0;34m\u001b[0m\u001b[0m\n\u001b[1;32m    516\u001b[0m             \u001b[0;32mraise\u001b[0m \u001b[0mLineTooLong\u001b[0m\u001b[0;34m(\u001b[0m\u001b[0;34m\"chunk size\"\u001b[0m\u001b[0;34m)\u001b[0m\u001b[0;34m\u001b[0m\u001b[0;34m\u001b[0m\u001b[0m\n",
      "\u001b[0;32m/usr/local/Cellar/python/3.7.7/Frameworks/Python.framework/Versions/3.7/lib/python3.7/socket.py\u001b[0m in \u001b[0;36mreadinto\u001b[0;34m(self, b)\u001b[0m\n\u001b[1;32m    587\u001b[0m         \u001b[0;32mwhile\u001b[0m \u001b[0;32mTrue\u001b[0m\u001b[0;34m:\u001b[0m\u001b[0;34m\u001b[0m\u001b[0;34m\u001b[0m\u001b[0m\n\u001b[1;32m    588\u001b[0m             \u001b[0;32mtry\u001b[0m\u001b[0;34m:\u001b[0m\u001b[0;34m\u001b[0m\u001b[0;34m\u001b[0m\u001b[0m\n\u001b[0;32m--> 589\u001b[0;31m                 \u001b[0;32mreturn\u001b[0m \u001b[0mself\u001b[0m\u001b[0;34m.\u001b[0m\u001b[0m_sock\u001b[0m\u001b[0;34m.\u001b[0m\u001b[0mrecv_into\u001b[0m\u001b[0;34m(\u001b[0m\u001b[0mb\u001b[0m\u001b[0;34m)\u001b[0m\u001b[0;34m\u001b[0m\u001b[0;34m\u001b[0m\u001b[0m\n\u001b[0m\u001b[1;32m    590\u001b[0m             \u001b[0;32mexcept\u001b[0m \u001b[0mtimeout\u001b[0m\u001b[0;34m:\u001b[0m\u001b[0;34m\u001b[0m\u001b[0;34m\u001b[0m\u001b[0m\n\u001b[1;32m    591\u001b[0m                 \u001b[0mself\u001b[0m\u001b[0;34m.\u001b[0m\u001b[0m_timeout_occurred\u001b[0m \u001b[0;34m=\u001b[0m \u001b[0;32mTrue\u001b[0m\u001b[0;34m\u001b[0m\u001b[0;34m\u001b[0m\u001b[0m\n",
      "\u001b[0;32m/usr/local/Cellar/python/3.7.7/Frameworks/Python.framework/Versions/3.7/lib/python3.7/ssl.py\u001b[0m in \u001b[0;36mrecv_into\u001b[0;34m(self, buffer, nbytes, flags)\u001b[0m\n\u001b[1;32m   1069\u001b[0m                   \u001b[0;34m\"non-zero flags not allowed in calls to recv_into() on %s\"\u001b[0m \u001b[0;34m%\u001b[0m\u001b[0;34m\u001b[0m\u001b[0;34m\u001b[0m\u001b[0m\n\u001b[1;32m   1070\u001b[0m                   self.__class__)\n\u001b[0;32m-> 1071\u001b[0;31m             \u001b[0;32mreturn\u001b[0m \u001b[0mself\u001b[0m\u001b[0;34m.\u001b[0m\u001b[0mread\u001b[0m\u001b[0;34m(\u001b[0m\u001b[0mnbytes\u001b[0m\u001b[0;34m,\u001b[0m \u001b[0mbuffer\u001b[0m\u001b[0;34m)\u001b[0m\u001b[0;34m\u001b[0m\u001b[0;34m\u001b[0m\u001b[0m\n\u001b[0m\u001b[1;32m   1072\u001b[0m         \u001b[0;32melse\u001b[0m\u001b[0;34m:\u001b[0m\u001b[0;34m\u001b[0m\u001b[0;34m\u001b[0m\u001b[0m\n\u001b[1;32m   1073\u001b[0m             \u001b[0;32mreturn\u001b[0m \u001b[0msuper\u001b[0m\u001b[0;34m(\u001b[0m\u001b[0;34m)\u001b[0m\u001b[0;34m.\u001b[0m\u001b[0mrecv_into\u001b[0m\u001b[0;34m(\u001b[0m\u001b[0mbuffer\u001b[0m\u001b[0;34m,\u001b[0m \u001b[0mnbytes\u001b[0m\u001b[0;34m,\u001b[0m \u001b[0mflags\u001b[0m\u001b[0;34m)\u001b[0m\u001b[0;34m\u001b[0m\u001b[0;34m\u001b[0m\u001b[0m\n",
      "\u001b[0;32m/usr/local/Cellar/python/3.7.7/Frameworks/Python.framework/Versions/3.7/lib/python3.7/ssl.py\u001b[0m in \u001b[0;36mread\u001b[0;34m(self, len, buffer)\u001b[0m\n\u001b[1;32m    927\u001b[0m         \u001b[0;32mtry\u001b[0m\u001b[0;34m:\u001b[0m\u001b[0;34m\u001b[0m\u001b[0;34m\u001b[0m\u001b[0m\n\u001b[1;32m    928\u001b[0m             \u001b[0;32mif\u001b[0m \u001b[0mbuffer\u001b[0m \u001b[0;32mis\u001b[0m \u001b[0;32mnot\u001b[0m \u001b[0;32mNone\u001b[0m\u001b[0;34m:\u001b[0m\u001b[0;34m\u001b[0m\u001b[0;34m\u001b[0m\u001b[0m\n\u001b[0;32m--> 929\u001b[0;31m                 \u001b[0;32mreturn\u001b[0m \u001b[0mself\u001b[0m\u001b[0;34m.\u001b[0m\u001b[0m_sslobj\u001b[0m\u001b[0;34m.\u001b[0m\u001b[0mread\u001b[0m\u001b[0;34m(\u001b[0m\u001b[0mlen\u001b[0m\u001b[0;34m,\u001b[0m \u001b[0mbuffer\u001b[0m\u001b[0;34m)\u001b[0m\u001b[0;34m\u001b[0m\u001b[0;34m\u001b[0m\u001b[0m\n\u001b[0m\u001b[1;32m    930\u001b[0m             \u001b[0;32melse\u001b[0m\u001b[0;34m:\u001b[0m\u001b[0;34m\u001b[0m\u001b[0;34m\u001b[0m\u001b[0m\n\u001b[1;32m    931\u001b[0m                 \u001b[0;32mreturn\u001b[0m \u001b[0mself\u001b[0m\u001b[0;34m.\u001b[0m\u001b[0m_sslobj\u001b[0m\u001b[0;34m.\u001b[0m\u001b[0mread\u001b[0m\u001b[0;34m(\u001b[0m\u001b[0mlen\u001b[0m\u001b[0;34m)\u001b[0m\u001b[0;34m\u001b[0m\u001b[0;34m\u001b[0m\u001b[0m\n",
      "\u001b[0;31mKeyboardInterrupt\u001b[0m: "
     ]
    }
   ],
   "source": [
    "#Set up MyListener class that inherits StreamListener\n",
    "class MyListener(StreamListener):\n",
    "    \n",
    "    #The on_data method is where we tell the streamer to save the data.\n",
    "    #It has to be called on_data because we are overwriting StreamListener's on_data method\n",
    "    def on_data(self, data):\n",
    "        #Add try/except clause to deal with errors\n",
    "        try:\n",
    "            #Append tweets to json file\n",
    "            with open('tweet_data.json', 'a') as f:\n",
    "                f.write(data)\n",
    "            return True\n",
    "        except BaseException as e:\n",
    "            print(\"Error on_data: %s\" % str(e))\n",
    "        return True\n",
    "\n",
    "    def on_error(self, status):\n",
    "        print(status)\n",
    "        return True\n",
    "\n",
    "#Initalize streamer by passing in credientials and our MyListener object\n",
    "twitter_stream = Stream(auth, MyListener())\n",
    "\n",
    "#Run the streamer with your desired search terms\n",
    "twitter_stream.filter(track=['omicron'])"
   ]
  },
  {
   "cell_type": "markdown",
   "id": "cba3e459",
   "metadata": {},
   "source": [
    "Streamer will run until you stop it or connection fails."
   ]
  },
  {
   "cell_type": "markdown",
   "id": "d34f2518",
   "metadata": {},
   "source": [
    "Now hit the stop button and let's load in our twitter data."
   ]
  },
  {
   "cell_type": "code",
   "execution_count": 58,
   "id": "b79d940d",
   "metadata": {},
   "outputs": [],
   "source": [
    "#List for tweets\n",
    "tweets = []\n",
    "\n",
    "#Open json file\n",
    "with open('tweet_data.json', 'r') as f:\n",
    "    #Iterate over file object\n",
    "    for line in f:\n",
    "        #convert each to a json dictionary\n",
    "        tweet = json.loads(line)\n",
    "        #append to tweets\n",
    "        tweets.append(tweet)"
   ]
  },
  {
   "cell_type": "code",
   "execution_count": 60,
   "id": "ebdb954d",
   "metadata": {},
   "outputs": [
    {
     "name": "stdout",
     "output_type": "stream",
     "text": [
      "You streamed 186 number of tweets\n"
     ]
    }
   ],
   "source": [
    "print(f\"You streamed {len(tweets)} number of tweets\")"
   ]
  },
  {
   "cell_type": "markdown",
   "id": "410c2f82",
   "metadata": {},
   "source": [
    "Take a look at what you got"
   ]
  },
  {
   "cell_type": "code",
   "execution_count": 61,
   "id": "9d8d2971",
   "metadata": {},
   "outputs": [
    {
     "data": {
      "text/plain": [
       "{'created_at': 'Fri Jan 07 07:03:18 +0000 2022',\n",
       " 'id': 1479347899473575937,\n",
       " 'id_str': '1479347899473575937',\n",
       " 'text': 'As Omicron Surges, Biden Urges Individuals to Study to Reside With COVID https://t.co/kidx2ujBji https://t.co/ukwfFnMNhM',\n",
       " 'display_text_range': [0, 96],\n",
       " 'source': '<a href=\"https://mobile.twitter.com\" rel=\"nofollow\">Twitter Web App</a>',\n",
       " 'truncated': False,\n",
       " 'in_reply_to_status_id': None,\n",
       " 'in_reply_to_status_id_str': None,\n",
       " 'in_reply_to_user_id': None,\n",
       " 'in_reply_to_user_id_str': None,\n",
       " 'in_reply_to_screen_name': None,\n",
       " 'user': {'id': 1470155811834011654,\n",
       "  'id_str': '1470155811834011654',\n",
       "  'name': 'SwaveDigest',\n",
       "  'screen_name': 'SwaveDigest',\n",
       "  'location': 'Where News Is',\n",
       "  'url': 'http://swavedigest.com',\n",
       "  'description': 'We feed your brains with news!',\n",
       "  'translator_type': 'none',\n",
       "  'protected': False,\n",
       "  'verified': False,\n",
       "  'followers_count': 1,\n",
       "  'friends_count': 28,\n",
       "  'listed_count': 0,\n",
       "  'favourites_count': 5,\n",
       "  'statuses_count': 6689,\n",
       "  'created_at': 'Sun Dec 12 22:17:39 +0000 2021',\n",
       "  'utc_offset': None,\n",
       "  'time_zone': None,\n",
       "  'geo_enabled': False,\n",
       "  'lang': None,\n",
       "  'contributors_enabled': False,\n",
       "  'is_translator': False,\n",
       "  'profile_background_color': 'F5F8FA',\n",
       "  'profile_background_image_url': '',\n",
       "  'profile_background_image_url_https': '',\n",
       "  'profile_background_tile': False,\n",
       "  'profile_link_color': '1DA1F2',\n",
       "  'profile_sidebar_border_color': 'C0DEED',\n",
       "  'profile_sidebar_fill_color': 'DDEEF6',\n",
       "  'profile_text_color': '333333',\n",
       "  'profile_use_background_image': True,\n",
       "  'profile_image_url': 'http://pbs.twimg.com/profile_images/1470489134355599371/N8FkbqeO_normal.jpg',\n",
       "  'profile_image_url_https': 'https://pbs.twimg.com/profile_images/1470489134355599371/N8FkbqeO_normal.jpg',\n",
       "  'profile_banner_url': 'https://pbs.twimg.com/profile_banners/1470155811834011654/1639614948',\n",
       "  'default_profile': True,\n",
       "  'default_profile_image': False,\n",
       "  'following': None,\n",
       "  'follow_request_sent': None,\n",
       "  'notifications': None,\n",
       "  'withheld_in_countries': []},\n",
       " 'geo': None,\n",
       " 'coordinates': None,\n",
       " 'place': None,\n",
       " 'contributors': None,\n",
       " 'is_quote_status': False,\n",
       " 'quote_count': 0,\n",
       " 'reply_count': 0,\n",
       " 'retweet_count': 0,\n",
       " 'favorite_count': 0,\n",
       " 'entities': {'hashtags': [],\n",
       "  'urls': [{'url': 'https://t.co/kidx2ujBji',\n",
       "    'expanded_url': 'https://swavedigest.com/as-omicron-surges-biden-urges-individuals-to-study-to-reside-with-covid?feed_id=19362&_unique_id=61d7e5b6000d8',\n",
       "    'display_url': 'swavedigest.com/as-omicron-sur…',\n",
       "    'indices': [73, 96]}],\n",
       "  'user_mentions': [],\n",
       "  'symbols': [],\n",
       "  'media': [{'id': 1479347897565163521,\n",
       "    'id_str': '1479347897565163521',\n",
       "    'indices': [97, 120],\n",
       "    'media_url': 'http://pbs.twimg.com/media/FIezEy2XsAEZWWZ.jpg',\n",
       "    'media_url_https': 'https://pbs.twimg.com/media/FIezEy2XsAEZWWZ.jpg',\n",
       "    'url': 'https://t.co/ukwfFnMNhM',\n",
       "    'display_url': 'pic.twitter.com/ukwfFnMNhM',\n",
       "    'expanded_url': 'https://twitter.com/SwaveDigest/status/1479347899473575937/photo/1',\n",
       "    'type': 'photo',\n",
       "    'sizes': {'small': {'w': 680, 'h': 340, 'resize': 'fit'},\n",
       "     'thumb': {'w': 150, 'h': 150, 'resize': 'crop'},\n",
       "     'medium': {'w': 1200, 'h': 600, 'resize': 'fit'},\n",
       "     'large': {'w': 1200, 'h': 600, 'resize': 'fit'}}}]},\n",
       " 'extended_entities': {'media': [{'id': 1479347897565163521,\n",
       "    'id_str': '1479347897565163521',\n",
       "    'indices': [97, 120],\n",
       "    'media_url': 'http://pbs.twimg.com/media/FIezEy2XsAEZWWZ.jpg',\n",
       "    'media_url_https': 'https://pbs.twimg.com/media/FIezEy2XsAEZWWZ.jpg',\n",
       "    'url': 'https://t.co/ukwfFnMNhM',\n",
       "    'display_url': 'pic.twitter.com/ukwfFnMNhM',\n",
       "    'expanded_url': 'https://twitter.com/SwaveDigest/status/1479347899473575937/photo/1',\n",
       "    'type': 'photo',\n",
       "    'sizes': {'small': {'w': 680, 'h': 340, 'resize': 'fit'},\n",
       "     'thumb': {'w': 150, 'h': 150, 'resize': 'crop'},\n",
       "     'medium': {'w': 1200, 'h': 600, 'resize': 'fit'},\n",
       "     'large': {'w': 1200, 'h': 600, 'resize': 'fit'}}}]},\n",
       " 'favorited': False,\n",
       " 'retweeted': False,\n",
       " 'possibly_sensitive': False,\n",
       " 'filter_level': 'low',\n",
       " 'lang': 'en',\n",
       " 'timestamp_ms': '1641538998846'}"
      ]
     },
     "execution_count": 61,
     "metadata": {},
     "output_type": "execute_result"
    }
   ],
   "source": [
    "tweets[0]"
   ]
  },
  {
   "cell_type": "code",
   "execution_count": null,
   "id": "c9701f9e",
   "metadata": {},
   "outputs": [],
   "source": []
  }
 ],
 "metadata": {
  "kernelspec": {
   "display_name": "Python 3",
   "language": "python",
   "name": "python3"
  },
  "language_info": {
   "codemirror_mode": {
    "name": "ipython",
    "version": 3
   },
   "file_extension": ".py",
   "mimetype": "text/x-python",
   "name": "python",
   "nbconvert_exporter": "python",
   "pygments_lexer": "ipython3",
   "version": "3.7.7"
  }
 },
 "nbformat": 4,
 "nbformat_minor": 5
}
